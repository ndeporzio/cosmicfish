{
 "cells": [
  {
   "cell_type": "markdown",
   "metadata": {},
   "source": [
    "# Setup Your Analysis Environment\n",
    "\n",
    "1) Choose a directory to house your project in: \n",
    "```\n",
    ".../<project-directory>\n",
    "```\n",
    "\n",
    "\n",
    "2) Create and activate a fresh Python3 virtual environment (we use Python 3.6.8) there if you'd like: \n",
    "```\n",
    "$ cd .../<project-directory>\n",
    "$ python -m virtualenv env \n",
    "$ source env/bin/activate\n",
    "```\n",
    "\n",
    "3) Download the `cosmicfish` package from Git: \n",
    "```\n",
    "$ git clone git@github.com:ndeporzio/cosmicfish.git\n",
    "```\n",
    "\n",
    "4) Install the `cosmicfish` package. Note that its dependencies will install automatically.\n",
    "```\n",
    "$ cd cosmicfish\n",
    "$ pip install . \n",
    "```\n",
    "\n",
    "5) Launch Jupyter and open `tutorial.ipynb` notebook using Jupyter browser\n",
    "```\n",
    "$ jupyter notebook\n",
    "```\n",
    "\n",
    "6) Create a data folder where the analysis can store spectrum data. This can be anywhere you'd like - you'll specify the path below. \n",
    "```\n",
    "$ mkdir <project-directory>/data\n",
    "```\n",
    "\n",
    "7) Install and build CLASS (if you don't already have a build). Note the `cosmicfish` package includes a method for downloading and installing CLASS for you:\n",
    "```\n",
    "$ python \n",
    ">>> import cosmicfish as cf\n",
    ">>> cf.install_class('<project-directory>/class')\n",
    ">>> exit()\n",
    "```"
   ]
  },
  {
   "cell_type": "markdown",
   "metadata": {},
   "source": [
    "# Import & Configure _cosmicfish_"
   ]
  },
  {
   "cell_type": "markdown",
   "metadata": {},
   "source": [
    "Import the analysis package."
   ]
  },
  {
   "cell_type": "code",
   "execution_count": null,
   "metadata": {
    "scrolled": false
   },
   "outputs": [],
   "source": [
    "import cosmicfish as cf "
   ]
  },
  {
   "cell_type": "markdown",
   "metadata": {},
   "source": [
    "Import relevant python packages... "
   ]
  },
  {
   "cell_type": "code",
   "execution_count": null,
   "metadata": {
    "scrolled": false
   },
   "outputs": [],
   "source": [
    "#Import relevant packages\n",
    "import os\n",
    "import shutil\n",
    "import numpy as np\n",
    "import pandas as pd\n",
    "import seaborn as sns \n",
    "import matplotlib.pyplot as plt"
   ]
  },
  {
   "cell_type": "markdown",
   "metadata": {},
   "source": [
    "Other setup steps... "
   ]
  },
  {
   "cell_type": "code",
   "execution_count": null,
   "metadata": {
    "scrolled": false
   },
   "outputs": [],
   "source": [
    "#Instruct pyplot to use seaborn \n",
    "sns.set()"
   ]
  },
  {
   "cell_type": "markdown",
   "metadata": {},
   "source": [
    "Specify the paths from the setup of your analysis environment above.  "
   ]
  },
  {
   "cell_type": "code",
   "execution_count": null,
   "metadata": {
    "scrolled": false
   },
   "outputs": [],
   "source": [
    "#Set project, data, CLASS directories \n",
    "projectdir = cf.correct_path(\"~/Desktop/cfworkspace/\")\n",
    "datastore = cf.correct_path(\"/Volumes/SSD01/datastore/\")\n",
    "classpath = os.path.join(projectdir, \"class\")"
   ]
  },
  {
   "cell_type": "markdown",
   "metadata": {},
   "source": [
    "Specify the granularity of numerical derivatives."
   ]
  },
  {
   "cell_type": "code",
   "execution_count": null,
   "metadata": {},
   "outputs": [],
   "source": [
    "derivative_step = 0.01 #How much to vary parameter to calculate numerical derivative\n",
    "mu_integral_step = 0.05 #For calculating numerical integral wrt mu between -1 and 1 "
   ]
  },
  {
   "cell_type": "markdown",
   "metadata": {},
   "source": [
    "# Specify Fiducial Cosmology "
   ]
  },
  {
   "cell_type": "markdown",
   "metadata": {},
   "source": [
    "Here we specify the fiducial cosmology used in our forecasts. For light relic forecasts, we choose whether to vary with respect to the relic mass or the relic temperature, specified by the \"relic_fix\" parameter. Since we are interested in forecasting errors on T_chi, we choose to vary  T_ncdm. "
   ]
  },
  {
   "cell_type": "code",
   "execution_count": null,
   "metadata": {},
   "outputs": [],
   "source": [
    "relicfid = {\n",
    "        \"A_s\" : 2.22e-9, \n",
    "        \"n_s\" : 0.965,\n",
    "        \"omega_b\" : 0.02222,\n",
    "        \"omega_cdm\" : 0.1120,\n",
    "        \"tau_reio\" : 0.06,\n",
    "        \"h\" : 0.70,\n",
    "        \"T_cmb\" : 2.726, # Units [K]\n",
    "        \"N_ncdm\" : 1., \n",
    "        \"T_ncdm\" : (1.50/2.726), # Units [T_cmb]. We choose this temp, 1.5 K, because that's what our CMBS4 priors are calculated at.\n",
    "        \"m_ncdm\" : 0.03, # Units [eV]\n",
    "        \"b0\" : 1.0, \n",
    "        \"alphak2\" : 1.0,\n",
    "        \"sigma_fog_0\" : 250000, #Units [m s^-2]\n",
    "        \"N_eff\" : 3.046, #We allow relativistic neutrinos in addition to our DM relic\n",
    "        \"relic_fix\" : \"m_ncdm\" # Fix T_ncdm or m_ncdm \n",
    "        }"
   ]
  },
  {
   "cell_type": "markdown",
   "metadata": {},
   "source": [
    "# Specify Experiment Observational Parameters"
   ]
  },
  {
   "cell_type": "markdown",
   "metadata": {},
   "source": [
    "The experimental redshift configuration and noise is specified here. "
   ]
  },
  {
   "cell_type": "code",
   "execution_count": null,
   "metadata": {},
   "outputs": [],
   "source": [
    "#Specify redshift bins, noise per bin, and sky coverage\n",
    "z_table = np.arange(0.65, 1.85, 0.1)\n",
    "dNdz = np.array([309., 2269., 1923., 2094., 1441., 1353., 1337., 523., 466., 329., 126., 0., 0.])\n",
    "skycover = 14000. # Sky coverage of survey in degrees^2"
   ]
  },
  {
   "cell_type": "markdown",
   "metadata": {},
   "source": [
    "# Demonstrate Convergence at one Fiducial Mass"
   ]
  },
  {
   "cell_type": "markdown",
   "metadata": {},
   "source": [
    "Before running the forecast, we want to ensure our cosmological parameters are well converged about the points we are interested in using to calculate Fisher matrices. To do so, we can use the `convergence` class of `cosmicfish`. \n",
    "\n",
    "We pass to `convergence` some fiducial cosmology, and then it will vary the parameters of that fiducial cosmology by step sizes specified by the user and compute the corresponding power spectrum derivatives. \n",
    "\n",
    "All 'varyfactors' are computed relative to the fiducial cosmology. That is:\n",
    "\n",
    "dtheta = varyfactor * theta_fiducial\n",
    "\n",
    "**WARNING: This process takes a considerable amount of time (~5 mins per varyfactor w/o prexisting data). Only run when you need to.**"
   ]
  },
  {
   "cell_type": "code",
   "execution_count": null,
   "metadata": {},
   "outputs": [],
   "source": [
    "relicconvergencetest = cf.convergence(\n",
    "    classpath, # Path to CLASS installation\n",
    "    datastore, # Path to directory holding CLASS output data\n",
    "    'relic', # 'relic' or 'neutrino' forecasting scheme \n",
    "    relicfid, # The fiducial cosmology \n",
    "    z_table, # Redshift steps in observation\n",
    "    dNdz, # Redshift noise in observation\n",
    "    fcoverage_deg=14000, # Sky coverage in observation\n",
    "    RSD=True, # Use RSD correction to Pm\n",
    "    FOG=True, # Use FOG correction to Pm\n",
    "    AP=True, # Use AP correction to PM\n",
    "    COV=True, #Use AP Change of Variables correction to PM\n",
    "    mu_step=mu_integral_step,\n",
    "    varyfactors=[0.001, 0.003, 0.005, 0.007, 0.009] # Relative factors used to compute convergence\n",
    "    )\n",
    "relicconvergencetest.gen_all_plots() # Display convergence plots"
   ]
  },
  {
   "cell_type": "markdown",
   "metadata": {},
   "source": [
    "# Run Fisher Forecasts"
   ]
  },
  {
   "cell_type": "code",
   "execution_count": null,
   "metadata": {
    "scrolled": true
   },
   "outputs": [],
   "source": [
    "masses = np.geomspace(0.1, 10.0, 21) \n",
    "omegacdm_set = relicfid['omega_cdm'] - ((masses/cf.NEUTRINO_SCALE_FACTOR)*np.power(1.5 / 1.95, 3.))\n",
    "                                        \n",
    "fiducialset = [dict(relicfid, **{'m_ncdm' : masses[midx], 'omega_cdm' : omegacdm_set[midx]}) \n",
    "               for midx, mval in enumerate(masses)]\n",
    " \n",
    "forecastset = [cf.forecast(\n",
    "    classpath, \n",
    "    datastore, \n",
    "    'relic', \n",
    "    fidval, \n",
    "    z_table, \n",
    "    dNdz, \n",
    "    fcoverage_deg=skycover, \n",
    "    dstep=derivative_step,\n",
    "    RSD=True,\n",
    "    FOG=True,\n",
    "    AP=True,\n",
    "    COV=True) for fididx, fidval in enumerate(fiducialset)]\n",
    "\n",
    "for fidx, fcst in enumerate(forecastset): \n",
    "    fcst.gen_pm()\n",
    "    fcst.gen_fisher(\n",
    "        fisher_order=[\n",
    "            'omega_b',                                    \n",
    "            'omega_cdm',                                  \n",
    "            'n_s',                                        \n",
    "            'A_s',                                        \n",
    "            'tau_reio',                                   \n",
    "            'h',                                          \n",
    "            #'M_ncdm',                                    \n",
    "            'T_ncdm',                                 \n",
    "            'sigma_fog',                                   \n",
    "            'b0',                                         \n",
    "            'alpha_k2'],\n",
    "        mu_step=mu_integral_step, \n",
    "        skipgen=False)\n",
    "    print(\"Relic Forecast \", fidx, \" complete...\")"
   ]
  },
  {
   "cell_type": "code",
   "execution_count": null,
   "metadata": {},
   "outputs": [],
   "source": [
    "inpath = \"/Users/nicholasdeporzio/Documents/Academic/Research/Projects/cosmicfish/cosmicfish/priors/CMBS4_Fisher_Relic_\"\n",
    "outpath = \"/Users/nicholasdeporzio/Desktop/cfworkspace/results/scienceresults_1K/covariances/\"\n",
    "\n",
    "for fidx, fval in enumerate(forecastset):\n",
    "    fval.load_cmb_fisher(\n",
    "        fisher_order=[\n",
    "            'omega_b',                                    \n",
    "            'omega_cdm',                                  \n",
    "            'n_s',                                        \n",
    "            'A_s',                                        \n",
    "            'tau_reio',                                   \n",
    "            'h',                                                                             \n",
    "            'T_ncdm'],\n",
    "        fisherpath=inpath+str(fidx+1)+\".dat\")\n",
    "    print(\"CMB Fisher information loaded to forecast \" + str(fidx) + \"...\")\n",
    "    fval.export_matrices(\"~/Desktop\")\n",
    "    shutil.move(\"/Users/nicholasdeporzio/Desktop/inv_cmbfisher.mat\", outpath+\"cmb/\"+\"inv_cmbfisher_\"+str(fidx+1)+\".mat\")\n",
    "    shutil.move(\"/Users/nicholasdeporzio/Desktop/inv_lssfisher.mat\", outpath+\"lss/\"+\"inv_lssfisher_\"+str(fidx+1)+\".mat\")\n",
    "    shutil.move(\"/Users/nicholasdeporzio/Desktop/inv_fullfisher.mat\", outpath+\"full/\"+\"inv_fullfisher_\"+str(fidx+1)+\".mat\")"
   ]
  },
  {
   "cell_type": "code",
   "execution_count": null,
   "metadata": {},
   "outputs": [],
   "source": [
    "#Save all the LSS/CMB/Full fisher matrices  \n",
    "for fidx, fcst in enumerate(forecastset):\n",
    "    name = '/Users/nicholasdeporzio/Desktop/cfworkspace/results/scienceresults_1K/fishers/full/FULL_Fisher_' + str(fidx+1) + '.dat'\n",
    "    head = 'omega_b \\t omega_cdm \\t n_s \\t A_s \\t tau_reio \\t h \\t T_ncdm \\t sigma_fog \\t b_0 \\t alpha_k2'\n",
    "    np.savetxt(name, fcst.numpy_full_fisher, delimiter='\\t', header=head)"
   ]
  },
  {
   "cell_type": "code",
   "execution_count": null,
   "metadata": {},
   "outputs": [],
   "source": [
    "errors_Tncdm_cmb = [np.sqrt(fval.numpy_cmb_covariance[6,6]) for fidx, fval in enumerate(forecastset)]    \n",
    "errors_Tncdm_lss = [np.sqrt(fval.numpy_lss_covariance[6,6]) for fidx, fval in enumerate(forecastset)]\n",
    "errors_Tncdm_full = [np.sqrt(fval.numpy_full_covariance[6,6]) for fidx, fval in enumerate(forecastset)]\n",
    "\n",
    "plt.figure(figsize=(15,7.5))\n",
    "plt.semilogx(masses, errors_Tncdm_full, label=\"CMB+LSS\")\n",
    "plt.semilogx(masses, errors_Tncdm_lss, label=\"LSS\")\n",
    "plt.semilogx(masses, errors_Tncdm_cmb, label=\"CMB\")\n",
    "plt.title(\"Relic Temperature Uncertainty\")\n",
    "plt.xlabel(\"Relic Mass [eV]\")\n",
    "plt.ylabel(r\"$\\sigma_T ~[K]$\")\n",
    "plt.legend()\n",
    "plt.savefig(\"/Users/nicholasdeporzio/Desktop/results.png\")\n",
    "plt.show()"
   ]
  },
  {
   "cell_type": "code",
   "execution_count": null,
   "metadata": {},
   "outputs": [],
   "source": []
  },
  {
   "cell_type": "code",
   "execution_count": null,
   "metadata": {},
   "outputs": [],
   "source": []
  },
  {
   "cell_type": "code",
   "execution_count": null,
   "metadata": {},
   "outputs": [],
   "source": [
    "import dill\n",
    "dill.dump_session(\"/Users/nicholasdeporzio/Desktop/Relic_Science_Plot.db\")"
   ]
  },
  {
   "cell_type": "code",
   "execution_count": null,
   "metadata": {},
   "outputs": [],
   "source": []
  },
  {
   "cell_type": "code",
   "execution_count": null,
   "metadata": {},
   "outputs": [],
   "source": []
  },
  {
   "cell_type": "code",
   "execution_count": null,
   "metadata": {},
   "outputs": [],
   "source": []
  },
  {
   "cell_type": "code",
   "execution_count": null,
   "metadata": {},
   "outputs": [],
   "source": []
  },
  {
   "cell_type": "code",
   "execution_count": null,
   "metadata": {},
   "outputs": [],
   "source": []
  },
  {
   "cell_type": "code",
   "execution_count": null,
   "metadata": {},
   "outputs": [],
   "source": []
  }
 ],
 "metadata": {
  "kernelspec": {
   "display_name": "Python 3",
   "language": "python",
   "name": "python3"
  },
  "language_info": {
   "codemirror_mode": {
    "name": "ipython",
    "version": 3
   },
   "file_extension": ".py",
   "mimetype": "text/x-python",
   "name": "python",
   "nbconvert_exporter": "python",
   "pygments_lexer": "ipython3",
   "version": "3.6.8"
  }
 },
 "nbformat": 4,
 "nbformat_minor": 2
}
