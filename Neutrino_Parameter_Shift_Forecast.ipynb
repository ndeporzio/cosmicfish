{
 "cells": [
  {
   "cell_type": "markdown",
   "metadata": {},
   "source": [
    "# Goal\n",
    "\n",
    "Forecast the amplitude for turning the relic step on/off in the RSD term for a degenerate neutrino cosmology. We want to see if this matches or disagrees with the result given by Linda's MCMCs w/, w/o  relicfast. "
   ]
  },
  {
   "cell_type": "markdown",
   "metadata": {},
   "source": [
    "# Logistics\n",
    "\n",
    "None"
   ]
  },
  {
   "cell_type": "markdown",
   "metadata": {},
   "source": [
    "# Setup Analysis Environment\n",
    "\n",
    "1) Choose a directory to house your project in: \n",
    "```\n",
    ".../<project-directory>\n",
    "```\n",
    "\n",
    "\n",
    "2) Create and activate a fresh Python3 virtual environment (we use Python 3.6.8) there if you'd like: \n",
    "```\n",
    "$ cd .../<project-directory>\n",
    "$ python -m virtualenv env \n",
    "$ source env/bin/activate\n",
    "```\n",
    "\n",
    "3) Download the `cosmicfish` package from Git: \n",
    "```\n",
    "$ git clone git@github.com:ndeporzio/cosmicfish.git\n",
    "```\n",
    "\n",
    "4) Install the `cosmicfish` package. Note that its dependencies will install automatically.\n",
    "```\n",
    "$ cd cosmicfish\n",
    "$ pip install . \n",
    "```\n",
    "\n",
    "5) Launch Jupyter and open `tutorial.ipynb` notebook using Jupyter browser\n",
    "```\n",
    "$ jupyter notebook\n",
    "```\n",
    "\n",
    "6) Create a data folder where the analysis can store spectrum data. This can be anywhere you'd like - you'll specify the path below. \n",
    "```\n",
    "$ mkdir <project-directory>/data\n",
    "```\n",
    "\n",
    "7) Install and build CLASS (if you don't already have a build). Note the `cosmicfish` package includes a method for downloading and installing CLASS for you:\n",
    "```\n",
    "$ python \n",
    ">>> import cosmicfish as cf\n",
    ">>> cf.install_class('<project-directory>/class')\n",
    ">>> exit()\n",
    "```"
   ]
  },
  {
   "cell_type": "markdown",
   "metadata": {},
   "source": [
    "# Import & Configure _cosmicfish_"
   ]
  },
  {
   "cell_type": "markdown",
   "metadata": {},
   "source": [
    "Import the analysis package."
   ]
  },
  {
   "cell_type": "code",
   "execution_count": null,
   "metadata": {},
   "outputs": [],
   "source": [
    "import cosmicfish as cf "
   ]
  },
  {
   "cell_type": "markdown",
   "metadata": {},
   "source": [
    "Import relevant python packages... "
   ]
  },
  {
   "cell_type": "code",
   "execution_count": null,
   "metadata": {},
   "outputs": [],
   "source": [
    "import os\n",
    "import shutil\n",
    "import scipy\n",
    "import numpy as np\n",
    "import pandas as pd\n",
    "import seaborn as sns \n",
    "import matplotlib.pyplot as plt"
   ]
  },
  {
   "cell_type": "markdown",
   "metadata": {},
   "source": [
    "Other setup steps... "
   ]
  },
  {
   "cell_type": "code",
   "execution_count": null,
   "metadata": {},
   "outputs": [],
   "source": [
    "#Instruct pyplot to use seaborn \n",
    "sns.set()"
   ]
  },
  {
   "cell_type": "markdown",
   "metadata": {},
   "source": [
    "Specify the paths from the setup of your analysis environment above.  "
   ]
  },
  {
   "cell_type": "code",
   "execution_count": null,
   "metadata": {},
   "outputs": [],
   "source": [
    "#Set project, data, CLASS directories \n",
    "projectdir = cf.correct_path(\"~/Desktop/cfworkspace/\")\n",
    "datastore = cf.correct_path(\"~/Desktop/datastore/\")\n",
    "classpath = os.path.join(projectdir, \"class\")"
   ]
  },
  {
   "cell_type": "markdown",
   "metadata": {},
   "source": [
    "Specify the granularity of numerical derivatives."
   ]
  },
  {
   "cell_type": "code",
   "execution_count": null,
   "metadata": {},
   "outputs": [],
   "source": [
    "derivative_step = 0.01 #How much to vary parameter to calculate numerical derivative\n",
    "mu_integral_step = 0.05 #For calculating numerical integral wrt mu between -1 and 1 "
   ]
  },
  {
   "cell_type": "markdown",
   "metadata": {},
   "source": [
    "# Specify Fiducial Cosmologies"
   ]
  },
  {
   "cell_type": "code",
   "execution_count": null,
   "metadata": {},
   "outputs": [],
   "source": [
    "#Linda Fiducial\n",
    "#neutrinofid = {\n",
    "#        \"A_s\" : 2.2321e-9, \n",
    "#        \"n_s\" : 0.96659,\n",
    "#        \"omega_b\" : 0.02226,\n",
    "#        \"omega_cdm\" : 0.11271,\n",
    "#        \"tau_reio\" : 0.059888,\n",
    "#        \"h\" : 0.70148,\n",
    "#        \"T_cmb\" : 2.726, # Units [K]\n",
    "#        \"N_ncdm\" : 3., \n",
    "#        \"T_ncdm\" : 1.95/2.726, \n",
    "#        \"m_ncdm\" : 0.03, # Units [eV]\n",
    "#        \"b0\" : 1.0, \n",
    "#        \"alphak2\" : 1.0,\n",
    "#        \"sigma_fog_0\" : 250000, #Units [m s^-2]\n",
    "#        \"N_eff\" : 3.046 - (3 * 1.0132), \n",
    "#        \"relic_fix\" : None #Not used for neutrino forecasts\n",
    "#        } \n",
    "\n",
    "# DESI No Relic Steps MCMC Bestfit Values\n",
    "neutrinofid = { #Applying forecast shift from no step \n",
    "        \"A_s\" : 2.231027e-09, \n",
    "        \"n_s\" : 9.662029e-01,\n",
    "        \"omega_b\" : 2.226660e-02,\n",
    "        \"omega_cdm\" : 1.126965e-01,\n",
    "        \"tau_reio\" : 5.944537e-02,\n",
    "        \"h\" : 7.008683e-01,\n",
    "        \"T_cmb\" : 2.726, # Units [K]\n",
    "        \"N_ncdm\" : 3., \n",
    "        \"T_ncdm\" : 1.95/2.726, \n",
    "        \"m_ncdm\" : 0.0364634, # Units [eV]\n",
    "        \"b0\" : 1.004659e+00, \n",
    "        \"alphak2\" : 9.794683e-01,\n",
    "        \"sigma_fog_0\" : 2.496839e+05, #Units [m s^-2]\n",
    "        \"N_eff\" : 3.046 - (3 * 1.0132), \n",
    "        \"relic_fix\" : None #Not used for neutrino forecasts\n",
    "        } \n",
    "\n",
    "# DESI Shift Forecast Applied to Above No Relic Steps Fiducials\n",
    "#neutrinofid = { #Applying forecast shift from no step \n",
    "#        \"A_s\" : (2.231027e-09 + 6.483268e-12), \n",
    "#        \"n_s\" : (9.662029e-01 + 5.847986e-05),\n",
    "#        \"omega_b\" : (2.226660e-02 - 1.092514e-07),\n",
    "#        \"omega_cdm\" : (1.126965e-01 - 2.240456e-05),\n",
    "#        \"tau_reio\" : (5.944537e-02 + 1.525700e-03),\n",
    "#        \"h\" : (7.008683e-01 - 7.350068e-04),\n",
    "#        \"T_cmb\" : 2.726, # Units [K]\n",
    "#        \"N_ncdm\" : 3., \n",
    "#        \"T_ncdm\" : 1.95/2.726, \n",
    "#        \"m_ncdm\" : (0.0364634 + 0.002999569333), # Units [eV]\n",
    "#        \"b0\" : (1.004659e+00 + 4.432180e-03), \n",
    "#        \"alphak2\" : (9.794683e-01 - 3.124481e-02),\n",
    "#        \"sigma_fog_0\" : (2.496839e+05 - 9.316495e+01), #Units [m s^-2]\n",
    "#        \"N_eff\" : 3.046 - (3 * 1.0132), \n",
    "#        \"relic_fix\" : None #Not used for neutrino forecasts\n",
    "#        } \n"
   ]
  },
  {
   "cell_type": "markdown",
   "metadata": {},
   "source": [
    "# Specify Experiment Observational Parameters"
   ]
  },
  {
   "cell_type": "code",
   "execution_count": null,
   "metadata": {},
   "outputs": [],
   "source": [
    "#Specify redshift bins, noise per bin, and sky coverage\n",
    "z_table = np.arange(0.65, 1.85, 0.1)\n",
    "dNdz = np.array([309., 2269., 1923., 2094., 1441., 1353., 1337., 523., 466., 329., 126., 0., 0.])\n",
    "skycover = 14000. # Sky coverage of survey in degrees^2"
   ]
  },
  {
   "cell_type": "markdown",
   "metadata": {},
   "source": [
    "# Demonstrate Convergence\n",
    "\n",
    "Before running the forecast, we want to ensure our cosmological parameters are well converged about the points we are interested in using to calculate Fisher matrices. To do so, we can use the `convergence` class of `cosmicfish`. \n",
    "\n",
    "We pass to `convergence` some fiducial cosmology, and then it will vary the parameters of that fiducial cosmology by step sizes specified by the user and compute the corresponding power spectrum derivatives. \n",
    "\n",
    "All 'varyfactors' are computed relative to the fiducial cosmology. That is:\n",
    "\n",
    "dtheta = varyfactor * theta_fiducial\n",
    "\n",
    "**WARNING: This process takes a considerable amount of time (~5 mins per varyfactor w/o prexisting data). Only run when you need to.**"
   ]
  },
  {
   "cell_type": "code",
   "execution_count": null,
   "metadata": {},
   "outputs": [],
   "source": [
    "neutrinoconvergencetest = cf.convergence(\n",
    "    classpath, # Path to CLASS installation\n",
    "    datastore, # Path to directory holding CLASS output data\n",
    "    'neutrino', # 'relic' or 'neutrino' forecasting scheme \n",
    "    neutrinofid, # The fiducial cosmology \n",
    "    z_table, # Redshift steps in observation\n",
    "    dNdz, # Redshift noise in observation\n",
    "    fcoverage_deg=14000, # Sky coverage in observation\n",
    "    RSD=True, # Use RSD correction to Pm\n",
    "    FOG=True, # Use FOG correction to Pm\n",
    "    AP=True, # Use AP correction to PM\n",
    "    COV=True, #Use AP Change of Variables correction to PM\n",
    "    mu_step=mu_integral_step,\n",
    "    varyfactors=[0.003, 0.004, 0.005, 0.006, 0.007] # Relative factors used to compute convergence\n",
    "    )\n",
    "neutrinoconvergencetest.gen_all_plots() # Display convergence plots"
   ]
  },
  {
   "cell_type": "markdown",
   "metadata": {},
   "source": [
    "# Run Forecasts"
   ]
  },
  {
   "cell_type": "code",
   "execution_count": null,
   "metadata": {
    "scrolled": true
   },
   "outputs": [],
   "source": [
    "neutrinoforecast = cf.forecast(\n",
    "    classpath, \n",
    "    datastore, \n",
    "    'neutrino', \n",
    "    neutrinofid, \n",
    "    z_table, \n",
    "    dNdz, \n",
    "    fcoverage_deg=skycover, \n",
    "    dstep=derivative_step,\n",
    "    RSD=True,\n",
    "    FOG=True,\n",
    "    AP=True,\n",
    "    COV=True)\n",
    "\n",
    "neutrinoforecast.gen_pm()\n",
    "\n",
    "neutrinoforecast.gen_fisher(\n",
    "    fisher_order=[\n",
    "        'omega_b',                                    \n",
    "        'omega_cdm',                                  \n",
    "        'n_s',                                        \n",
    "        'A_s',                                        \n",
    "        'tau_reio',                          \n",
    "        'h',                                          \n",
    "        'M_ncdm',                                    \n",
    "        #'omega_ncdm',                                 \n",
    "        'sigma_fog',                                   \n",
    "        'b0',                                         \n",
    "        'alpha_k2',\n",
    "        #'D_Amp'\n",
    "    ],\n",
    "    mu_step=mu_integral_step, \n",
    "    skipgen=False)"
   ]
  },
  {
   "cell_type": "code",
   "execution_count": null,
   "metadata": {},
   "outputs": [],
   "source": [
    "pd.DataFrame(neutrinoforecast.fisher, columns=[\n",
    "        'omega_b',                                    \n",
    "        'omega_cdm',                                  \n",
    "        'n_s',                                        \n",
    "        'A_s',                                        \n",
    "        'tau_reio',                          \n",
    "        'h',                                          \n",
    "        'M_ncdm',                                                                    \n",
    "        'sigma_fog',                                   \n",
    "        'b0',                                         \n",
    "        'alpha_k2'\n",
    "        #'D_Amp'\n",
    "    ]).to_csv(\"/Users/nicholasdeporzio/Desktop/extendedlssfisher.csv\", sep='\\t')\n",
    "pd.DataFrame(neutrinoforecast.fisher)"
   ]
  },
  {
   "cell_type": "code",
   "execution_count": null,
   "metadata": {},
   "outputs": [],
   "source": [
    "DD = np.array(neutrinoforecast.fisher[10, 10])\n",
    "Dj = np.array(neutrinoforecast.fisher[0:10, 10])\n",
    "#pd.DataFrame(Dj)\n",
    "print(np.sqrt(DD))"
   ]
  },
  {
   "cell_type": "code",
   "execution_count": null,
   "metadata": {},
   "outputs": [],
   "source": [
    "Extended_Fisher = np.array(neutrinoforecast.fisher)\n",
    "neutrinoforecast.fisher = np.array(neutrinoforecast.fisher[0:10, 0:10])\n",
    "neutrinoforecast.fisher_order.remove('D_Amp')"
   ]
  },
  {
   "cell_type": "code",
   "execution_count": null,
   "metadata": {},
   "outputs": [],
   "source": [
    "#pd.DataFrame(neutrinoforecast.fisher)"
   ]
  },
  {
   "cell_type": "code",
   "execution_count": null,
   "metadata": {},
   "outputs": [],
   "source": [
    "# Set LSS information on tau_reio to zero \n",
    "#neutrinoforecast.fisher[:,4] = 0.\n",
    "#neutrinoforecast.fisher[4,:] = 0."
   ]
  },
  {
   "cell_type": "markdown",
   "metadata": {},
   "source": [
    "# Add CMB Data"
   ]
  },
  {
   "cell_type": "code",
   "execution_count": null,
   "metadata": {},
   "outputs": [],
   "source": [
    "neutrinoforecast.load_cmb_fisher(\n",
    "    fisher_order=[\n",
    "        'omega_b',                                    \n",
    "        'omega_cdm',                                  \n",
    "        'n_s',                                        \n",
    "        'A_s',                                        \n",
    "        'tau_reio',                                   \n",
    "        'h',                                                                             \n",
    "        'M_ncdm'],\n",
    "    fisherpath=os.path.join(cf.priors_directory(), \"CMBS4_Fisher_Neutrinos.dat\"))"
   ]
  },
  {
   "cell_type": "markdown",
   "metadata": {},
   "source": [
    "# Save Fisher Matrices"
   ]
  },
  {
   "cell_type": "code",
   "execution_count": null,
   "metadata": {},
   "outputs": [],
   "source": [
    "neutrinoforecast.export_matrices(\"~/Desktop\")"
   ]
  },
  {
   "cell_type": "code",
   "execution_count": null,
   "metadata": {},
   "outputs": [],
   "source": [
    "pd.DataFrame(neutrinoforecast.numpy_full_fisher, columns=[\n",
    "        'omega_b',                                    \n",
    "        'omega_cdm',                                  \n",
    "        'n_s',                                        \n",
    "        'A_s',                                        \n",
    "        'tau_reio',                          \n",
    "        'h',                                          \n",
    "        'M_ncdm',                                                                    \n",
    "        'sigma_fog',                                   \n",
    "        'b0',                                         \n",
    "        'alpha_k2'\n",
    "    ]).to_csv(\"/Users/nicholasdeporzio/Desktop/yescmbfisher.csv\", sep='\\t')\n",
    "pd.DataFrame(neutrinoforecast.numpy_full_fisher)"
   ]
  },
  {
   "cell_type": "code",
   "execution_count": null,
   "metadata": {},
   "outputs": [],
   "source": [
    "pd.DataFrame(neutrinoforecast.numpy_lss_fisher, columns=[\n",
    "        'omega_b',                                    \n",
    "        'omega_cdm',                                  \n",
    "        'n_s',                                        \n",
    "        'A_s',                                        \n",
    "        'tau_reio',                          \n",
    "        'h',                                          \n",
    "        'M_ncdm',                                                                    \n",
    "        'sigma_fog',                                   \n",
    "        'b0',                                         \n",
    "        'alpha_k2'\n",
    "    ]).to_csv(\"/Users/nicholasdeporzio/Desktop/nocmbfisher.csv\", sep='\\t')\n",
    "pd.DataFrame(neutrinoforecast.fisher)"
   ]
  },
  {
   "cell_type": "code",
   "execution_count": null,
   "metadata": {},
   "outputs": [],
   "source": []
  },
  {
   "cell_type": "markdown",
   "metadata": {},
   "source": [
    "# Compute Shift Vector"
   ]
  },
  {
   "cell_type": "code",
   "execution_count": null,
   "metadata": {},
   "outputs": [],
   "source": [
    "# Print the uncertainty in the P_g shift amplitude\n",
    "D_spread = np.sqrt(DD)\n",
    "print(r\"Uncertainty in P_g shift amplitude: \", D_spread)"
   ]
  },
  {
   "cell_type": "code",
   "execution_count": null,
   "metadata": {},
   "outputs": [],
   "source": [
    "#Djvec1=(neutrinoforecast.numpy_full_fisher[8,:]  *  0.001)"
   ]
  },
  {
   "cell_type": "code",
   "execution_count": null,
   "metadata": {},
   "outputs": [],
   "source": [
    "#neutrinoforecast.pandas_full_covariance"
   ]
  },
  {
   "cell_type": "code",
   "execution_count": null,
   "metadata": {},
   "outputs": [],
   "source": [
    "for i in range(10): \n",
    "    print(np.sqrt(neutrinoforecast.numpy_full_covariance[i, i]), '\\n')"
   ]
  },
  {
   "cell_type": "code",
   "execution_count": null,
   "metadata": {},
   "outputs": [],
   "source": [
    "#Amp_Projection[4] = 0.\n",
    "print(\"Amplitude vector, <D, g_i>:\")\n",
    "pd.DataFrame(np.array(Dj))"
   ]
  },
  {
   "cell_type": "code",
   "execution_count": null,
   "metadata": {},
   "outputs": [],
   "source": [
    "Delta_A = np.matmul(np.linalg.inv(np.array(neutrinoforecast.numpy_full_fisher)), Dj)\n",
    "#Delta_A = np.matmul(neutrinoforecast.numpy_full_covariance, Djvec1)\n",
    "\n",
    "print('Parameter shift vector, delta a_i: ')\n",
    "pd.DataFrame(np.array(Delta_A))"
   ]
  },
  {
   "cell_type": "code",
   "execution_count": null,
   "metadata": {},
   "outputs": [],
   "source": [
    "print(\"Parameter shift/error vector, (delta a_i / sigma_i): \")\n",
    "params = [\n",
    "        'omega_b',                                    \n",
    "        'omega_cdm',                                  \n",
    "        'n_s',                                        \n",
    "        'A_s',                                        \n",
    "        'tau_reio',                                   \n",
    "        'h',                                          \n",
    "        'M_ncdm',                                                                    \n",
    "        'sigma_fog',                                   \n",
    "        'b0',                                         \n",
    "        'alpha_k2'\n",
    "    ]\n",
    "for i in range(10): \n",
    "    print(\"delta a_i / sigma_i for\", params[i], \": \", (Delta_A[i]\n",
    "                                                       /np.sqrt(np.linalg.inv(np.array(neutrinoforecast.numpy_full_fisher))[i,i])))"
   ]
  },
  {
   "cell_type": "code",
   "execution_count": null,
   "metadata": {},
   "outputs": [],
   "source": [
    "print(\"Fisher Matrix: \")\n",
    "pd.DataFrame(np.array(neutrinoforecast.fisher), columns=[\n",
    "        'omega_b',                                    \n",
    "        'omega_cdm',                                  \n",
    "        'n_s',                                        \n",
    "        'A_s',                                        \n",
    "        'tau_reio',                                   \n",
    "        'h',                                          \n",
    "        'M_ncdm',                                                                    \n",
    "        'sigma_fog',                                   \n",
    "        'b0',                                         \n",
    "        'alpha_k2'\n",
    "    ])"
   ]
  },
  {
   "cell_type": "code",
   "execution_count": null,
   "metadata": {},
   "outputs": [],
   "source": []
  },
  {
   "cell_type": "code",
   "execution_count": null,
   "metadata": {},
   "outputs": [],
   "source": []
  },
  {
   "cell_type": "code",
   "execution_count": null,
   "metadata": {},
   "outputs": [],
   "source": []
  },
  {
   "cell_type": "code",
   "execution_count": null,
   "metadata": {},
   "outputs": [],
   "source": []
  },
  {
   "cell_type": "code",
   "execution_count": null,
   "metadata": {},
   "outputs": [],
   "source": []
  },
  {
   "cell_type": "markdown",
   "metadata": {},
   "source": [
    "# Plot Fisher Ellipses on MCMC Contour\n",
    "\n",
    "In the last step, we exported three Fisher matrices. The next steps are performed using MontePython outside this notebook:\n",
    "\n",
    "```\n",
    "$ mv ~/Desktop/inv_fullfisher.dat <project-directory>/chains/inv_fisher.dat\n",
    "$ cd <project-directory>\n",
    "$ ./montepython_public/montepython/MontePython.py info chain/ --plot-fisher --center-fisher\n",
    "```\n",
    "\n",
    "Then, the desired triangle plot is located in <project-directory>/chains/plots/triangle.pdf"
   ]
  },
  {
   "cell_type": "code",
   "execution_count": null,
   "metadata": {},
   "outputs": [],
   "source": [
    "neutrinoforecast.psterms"
   ]
  },
  {
   "cell_type": "code",
   "execution_count": null,
   "metadata": {},
   "outputs": [],
   "source": []
  },
  {
   "cell_type": "code",
   "execution_count": null,
   "metadata": {},
   "outputs": [],
   "source": []
  },
  {
   "cell_type": "code",
   "execution_count": null,
   "metadata": {},
   "outputs": [],
   "source": []
  },
  {
   "cell_type": "code",
   "execution_count": null,
   "metadata": {},
   "outputs": [],
   "source": []
  },
  {
   "cell_type": "code",
   "execution_count": null,
   "metadata": {},
   "outputs": [],
   "source": []
  },
  {
   "cell_type": "markdown",
   "metadata": {},
   "source": [
    "# Compare Pg with MCMC Values"
   ]
  },
  {
   "cell_type": "code",
   "execution_count": null,
   "metadata": {},
   "outputs": [],
   "source": [
    "Linda_yes_relicfast = np.loadtxt(\"/Users/nicholasdeporzio/Desktop/cfworkspace/other/Pg_90meV_DH_yes_Relicfast.dat\", skiprows=1, usecols=(0, 3, 5))\n",
    "Linda_no_relicfast = np.loadtxt(\"/Users/nicholasdeporzio/Desktop/cfworkspace/other/Pg_90meV_DH_no_Relicfast.dat\", skiprows=1, usecols=(0, 3, 5))\n",
    "\n",
    "Linda_Pg_nostep_ktable = Linda_no_relicfast[0:100, 0] * 0.70148\n",
    "Linda_Pg_nostep = Linda_no_relicfast[0:100, 1]\n",
    "Linda_bias_nostep = Linda_no_relicfast[0:100, 2]\n",
    "\n",
    "Linda_Pg_yesstep_ktable = Linda_yes_relicfast[0:100, 0] * 0.70148\n",
    "Linda_Pg_yesstep = Linda_yes_relicfast[0:100, 1]\n",
    "Linda_bias_yesstep = Linda_yes_relicfast[0:100, 2]\n",
    "\n",
    "ktab = np.geomspace(np.min(Linda_Pg_yesstep_ktable), np.max(neutrinoforecast.k_table[0]), 100)\n",
    "\n",
    "Linda_yes_interp = np.interp(ktab, Linda_Pg_yesstep_ktable, Linda_Pg_yesstep)\n",
    "Nick_yes_interp = np.interp(ktab, neutrinoforecast.k_table[0], neutrinoforecast.Pg[0, :, 20])\n",
    "\n",
    "Linda_no_interp = np.interp(ktab, Linda_Pg_nostep_ktable, Linda_Pg_nostep)\n",
    "Nick_no_interp = np.interp(ktab, neutrinoforecast.k_table[0], neutrinoforecast.Pg_norelicstep[0, :, 20])\n",
    "\n",
    "Linda_yes_bias_interp = np.interp(ktab, Linda_Pg_yesstep_ktable, Linda_bias_yesstep)\n",
    "Nick_yes_bias_interp = np.interp(ktab, neutrinoforecast.k_table[0], np.sqrt(neutrinoforecast.RSD[0, :, 20]))\n",
    "\n",
    "Linda_no_bias_interp = np.interp(ktab, Linda_Pg_nostep_ktable, Linda_bias_nostep)\n",
    "Nick_no_bias_interp = np.interp(ktab, neutrinoforecast.k_table[0], np.sqrt(neutrinoforecast.RSD_norelicstep[0, :, 20]))\n",
    "\n",
    "Linda_Delta_P = ((Linda_yes_interp - Linda_no_interp)/Linda_yes_interp)\n",
    "Nick_Delta_P = ((Nick_yes_interp - Nick_no_interp)/Nick_no_interp)"
   ]
  },
  {
   "cell_type": "code",
   "execution_count": null,
   "metadata": {
    "scrolled": false
   },
   "outputs": [],
   "source": [
    "# Plot D amplitude \n",
    "plt.figure(figsize=(15,7.5))\n",
    "plt.semilogx(ktab, Nick_Delta_P, Label=\"Fisher Forecast\")\n",
    "plt.semilogx(ktab, Linda_Delta_P, Label=\"MCMC Analysis\")\n",
    "plt.title(r\"Normalized $P_g$ Shift\")\n",
    "plt.xlabel(\"k [Mpc^-1]\")\n",
    "plt.ylabel(r\"$(P_g(\\Delta L=0.6) - P_g(\\Delta L=0)) / P_g(\\Delta L =0.6)$\")\n",
    "plt.legend()\n",
    "plt.savefig(\"/Users/nicholasdeporzio/Desktop/D_shift.png\")\n",
    "plt.show()\n",
    "\n",
    "# Plot D amplitude difference\n",
    "plt.figure(figsize=(15,7.5))\n",
    "plt.semilogx(ktab, Linda_Delta_P-Nick_Delta_P)\n",
    "plt.title(r\"Difference in Normalized $P_g$ Shift ,MCMC-Forecast \")\n",
    "plt.xlabel(\"k [Mpc^-1]\")\n",
    "plt.ylabel(r\"Normalized $P_g$ Step Difference\")\n",
    "plt.savefig(\"/Users/nicholasdeporzio/Desktop/D_shift_Difference.png\")\n",
    "plt.show()\n",
    "\n",
    "# Plot D amplitude relative difference\n",
    "plt.figure(figsize=(15,7.5))\n",
    "plt.semilogx(ktab, (Linda_Delta_P-Nick_Delta_P)/Linda_Delta_P)\n",
    "plt.title(r\"Normalized Difference in Normalized $P_g$ Shift ,(MCMC-Forecast)/MCMC \")\n",
    "plt.xlabel(\"k [Mpc^-1]\")\n",
    "plt.ylabel(r\"Normalized $P_g$ Step Difference\")\n",
    "plt.savefig(\"/Users/nicholasdeporzio/Desktop/D_shift_Relative_Difference.png\")\n",
    "plt.show()\n",
    "\n",
    "# Plot Pg no relic step\n",
    "plt.figure(figsize=(15,7.5))\n",
    "plt.loglog(ktab, Nick_no_interp, Label=\"Fisher Forecast\")\n",
    "plt.loglog(ktab, Linda_no_interp, Label=\"MCMC Analysis\")\n",
    "plt.title(r\"$P_g$ No Relic Step\")\n",
    "plt.xlabel(\"k [Mpc^-1]\")\n",
    "plt.ylabel(r\"$P_g(\\Delta L=0)$\")\n",
    "plt.legend()\n",
    "plt.savefig(\"/Users/nicholasdeporzio/Desktop/Pg_nostep.png\")\n",
    "plt.show()\n",
    "\n",
    "# Plot Pg no relic step ratio\n",
    "plt.figure(figsize=(15,7.5))\n",
    "plt.loglog(ktab,  Linda_no_interp/Nick_no_interp)\n",
    "plt.title(r\"$P_g$ No Relic Step Ratio, MCMC/Forecast\")\n",
    "plt.xlabel(\"k [Mpc^-1]\")\n",
    "plt.ylabel(r\"P_g (MCMC/Forecast)\")\n",
    "plt.savefig(\"/Users/nicholasdeporzio/Desktop/Pg_nostep_ratio.png\")\n",
    "plt.show()\n",
    "\n",
    "# Plot Pg yes relic step\n",
    "plt.figure(figsize=(15,7.5))\n",
    "plt.loglog(ktab, Nick_yes_interp, Label=\"Fisher Forecast\")\n",
    "plt.loglog(ktab, Linda_yes_interp, Label=\"MCMC Analysis\")\n",
    "plt.title(r\"$P_g$ Yes Relic Step\")\n",
    "plt.xlabel(\"k [Mpc^-1]\")\n",
    "plt.ylabel(r\"$P_g(\\Delta L=0.6)$\")\n",
    "plt.legend()\n",
    "plt.savefig(\"/Users/nicholasdeporzio/Desktop/Pg_yesstep.png\")\n",
    "plt.show()\n",
    "\n",
    "# Plot Pg yes relic step ratio\n",
    "plt.figure(figsize=(15,7.5))\n",
    "plt.loglog(ktab,  Linda_yes_interp/Nick_no_interp)\n",
    "plt.title(r\"$P_g$ Yes Relic Step Ratio, MCMC/Forecast\")\n",
    "plt.xlabel(\"k [Mpc^-1]\")\n",
    "plt.ylabel(r\"$P_g (MCMC/Forecast)$\")\n",
    "plt.savefig(\"/Users/nicholasdeporzio/Desktop/Pg_yesstep_ratio.png\")\n",
    "plt.show()\n",
    "\n",
    "\n",
    "#Compare bias terms with step\n",
    "plt.figure(figsize=(15,7.5))\n",
    "plt.loglog(ktab, Nick_yes_bias_interp, label=\"Fisher Bias\")\n",
    "plt.loglog(ktab,  Linda_yes_bias_interp, label=\"MCMC Bias\")\n",
    "plt.title(r\"Bias Term Comparison, Yes Relic Step\")\n",
    "plt.xlabel(\"k [Mpc^-1]\")\n",
    "plt.ylabel(r\"Bias\")\n",
    "plt.legend()\n",
    "plt.savefig(\"/Users/nicholasdeporzio/Desktop/bias_comparison_yesstep.png\")\n",
    "plt.show()\n",
    "\n",
    "#Compare bias terms with no step\n",
    "plt.figure(figsize=(15,7.5))\n",
    "plt.loglog(ktab, Nick_no_bias_interp, label=\"Fisher Bias\")\n",
    "plt.loglog(ktab,  Linda_no_bias_interp, label=\"MCMC Bias\")\n",
    "plt.title(r\"Bias Term Comparison, No Relic Step\")\n",
    "plt.xlabel(\"k [Mpc^-1]\")\n",
    "plt.ylabel(r\"Bias\")\n",
    "plt.legend()\n",
    "plt.savefig(\"/Users/nicholasdeporzio/Desktop/bias_comparison_nostep.png\")\n",
    "plt.show()"
   ]
  },
  {
   "cell_type": "code",
   "execution_count": null,
   "metadata": {},
   "outputs": [],
   "source": [
    "print(neutrinoforecast.spectra_mid[0].D)\n",
    "print(neutrinoforecast.b0_fid)\n",
    "print(cf.bL(neutrinoforecast.b0_fid, neutrinoforecast.spectra_mid[0].D))\n",
    "print(np.power(neutrinoforecast.k_table[0][50], 2))\n",
    "print(neutrinoforecast.Pm[0][50])\n",
    "print(neutrinoforecast.alphak2_fid)"
   ]
  },
  {
   "cell_type": "code",
   "execution_count": null,
   "metadata": {},
   "outputs": [],
   "source": []
  },
  {
   "cell_type": "code",
   "execution_count": null,
   "metadata": {},
   "outputs": [],
   "source": []
  },
  {
   "cell_type": "code",
   "execution_count": null,
   "metadata": {},
   "outputs": [],
   "source": [
    "import dill\n",
    "dill.dump_session('/Users/nicholasdeporzio/Desktop/relicfast_shift_forecast.db')"
   ]
  },
  {
   "cell_type": "code",
   "execution_count": null,
   "metadata": {},
   "outputs": [],
   "source": [
    "dill.load_session('relicfast_shift_forecast.db')"
   ]
  }
 ],
 "metadata": {
  "kernelspec": {
   "display_name": "3.7.4",
   "language": "python",
   "name": "3.7.4"
  },
  "language_info": {
   "codemirror_mode": {
    "name": "ipython",
    "version": 3
   },
   "file_extension": ".py",
   "mimetype": "text/x-python",
   "name": "python",
   "nbconvert_exporter": "python",
   "pygments_lexer": "ipython3",
   "version": "3.7.4"
  }
 },
 "nbformat": 4,
 "nbformat_minor": 2
}
