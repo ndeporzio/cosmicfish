{
 "cells": [
  {
   "cell_type": "markdown",
   "metadata": {},
   "source": [
    "# Load Analysis"
   ]
  },
  {
   "cell_type": "code",
   "execution_count": null,
   "metadata": {
    "ExecuteTime": {
     "end_time": "2020-04-25T01:41:59.525396Z",
     "start_time": "2020-04-25T01:41:58.677403Z"
    }
   },
   "outputs": [],
   "source": [
    "import dill\n",
    "dill.load_session('/Volumes/SSD01/results/test1/test1.db')\n",
    "sns.set()"
   ]
  },
  {
   "cell_type": "markdown",
   "metadata": {
    "heading_collapsed": true
   },
   "source": [
    "# Plot Errors in g"
   ]
  },
  {
   "cell_type": "code",
   "execution_count": null,
   "metadata": {
    "ExecuteTime": {
     "end_time": "2020-04-23T15:25:49.736127Z",
     "start_time": "2020-04-23T15:25:49.733480Z"
    },
    "hidden": true
   },
   "outputs": [],
   "source": [
    "tidx=1\n",
    "midx=0"
   ]
  },
  {
   "cell_type": "code",
   "execution_count": null,
   "metadata": {
    "ExecuteTime": {
     "end_time": "2020-04-23T15:25:54.160351Z",
     "start_time": "2020-04-23T15:25:51.850685Z"
    },
    "hidden": true
   },
   "outputs": [],
   "source": [
    "data = np.array([[np.sqrt(                                                      \n",
    "            (np.linalg.inv(                                                      \n",
    "                np.delete(np.delete(fval.fisher, 4, axis=0), 4, axis=1))[5,5]))  \n",
    "                               for fidx, fval in enumerate(frowval)]            \n",
    "                               for frowidx, frowval in enumerate(ps18_forecastset)])\n",
    "                                                                                \n",
    "flatdata = data.flatten()                                                       \n",
    "flatnsigmas = 1./flatdata                                                       \n",
    "logflatdata = np.log10(flatdata)                                                \n",
    "logflatnsigmas = np.log10(flatnsigmas)                                          \n",
    "                                                                                \n",
    "                                                                                \n",
    "plt.figure(figsize=(15,7.5))                                                    \n",
    "plt.semilogx(masses, data[tidx], 'o', label=r\"$\\sigma_{g_\\chi}$, DESI, 0.91K\", linestyle='solid')\n",
    "plt.xlabel(r\"$M_\\chi$ [eV]\", fontsize=24)                                       \n",
    "plt.ylabel(r\"$\\sigma_{g_\\chi}$\", fontsize=24)                                   \n",
    "plt.legend(fontsize=18, loc='lower left')                                       \n",
    "plt.tick_params(axis='x', which='minttor')                                      \n",
    "plt.grid(True, which='minor')                                                   \n",
    "plt.show()                               \n",
    "                                                                                \n",
    "plt.figure(figsize=(15,7.5))                                                    \n",
    "plt.loglog(masses, 1./data[tidx], label=r\"$\\sigma_{g_\\chi}$, DESI, 0.91K\", linestyle='solid')\n",
    "plt.xlabel(r\"$M_\\chi$ [eV]\", fontsize=24)                                       \n",
    "plt.ylabel(r\"$1/\\sigma_{g_\\chi}$\", fontsize=24)                                 \n",
    "plt.legend(fontsize=18, loc='lower left')                                       \n",
    "plt.tick_params(axis='x', which='minttor')                                      \n",
    "plt.grid(True, which='minor')                                                   \n",
    "plt.show()"
   ]
  },
  {
   "cell_type": "markdown",
   "metadata": {},
   "source": [
    "# Plot Diagnostic Quantities"
   ]
  },
  {
   "cell_type": "code",
   "execution_count": null,
   "metadata": {
    "ExecuteTime": {
     "end_time": "2020-04-25T01:42:02.373912Z",
     "start_time": "2020-04-25T01:42:01.391751Z"
    }
   },
   "outputs": [],
   "source": [
    "plt.figure(figsize=(15,7.5))                                                    \n",
    "plt.loglog(ps2_forecast.k_table[0], ps2_forecast.RSD[0, :, -1], label=r\"DESI, 0.91K\", linestyle='solid')\n",
    "plt.xlabel(r\"$k$\", fontsize=24)                                       \n",
    "plt.ylabel(r\"$RSD$\", fontsize=24)                                   \n",
    "plt.legend(fontsize=18, loc='lower left')                                       \n",
    "plt.tick_params(axis='x', which='minttor')                                      \n",
    "plt.grid(True, which='minor')  \n",
    "plt.title(r\"Relic $g_\\chi$ forecast only\")\n",
    "#plt.savefig('/Users/nicholasdeporzio/Desktop/diagnostics/p2_g.png')\n",
    "plt.show()"
   ]
  },
  {
   "cell_type": "code",
   "execution_count": null,
   "metadata": {
    "ExecuteTime": {
     "end_time": "2020-04-25T01:43:42.415857Z",
     "start_time": "2020-04-25T01:43:31.173561Z"
    },
    "scrolled": false
   },
   "outputs": [],
   "source": [
    "plt.figure(figsize=(15,7.5))                                                    \n",
    "plt.loglog(ps2_forecast.k_table[0], ps2_forecast.spectra_mid[0].ps_table, label=r\"DESI, 0.91K\", linestyle='solid')\n",
    "plt.xlabel(r\"$k$\", fontsize=24)                                       \n",
    "plt.ylabel(r\"$P_m$\", fontsize=24)                                   \n",
    "plt.legend(fontsize=18, loc='lower left')                                       \n",
    "plt.tick_params(axis='x', which='minttor')                                      \n",
    "plt.grid(True, which='minor')  \n",
    "plt.title(r\"Relic $g_\\chi$ forecast only\")\n",
    "plt.savefig('/Users/nicholasdeporzio/Desktop/diagnostics/p1_g.png')\n",
    "plt.show()\n",
    "\n",
    "\n",
    "plt.figure(figsize=(15,7.5))                                                    \n",
    "plt.loglog(ps2_forecast.k_table[0], ps2_forecast.RSD[0, :, -1], label=r\"DESI, 0.91K\", linestyle='solid')\n",
    "plt.xlabel(r\"$k$\", fontsize=24)                                       \n",
    "plt.ylabel(r\"$RSD$\", fontsize=24)                                   \n",
    "plt.legend(fontsize=18, loc='lower left')                                       \n",
    "plt.tick_params(axis='x', which='minttor')                                      \n",
    "plt.grid(True, which='minor')  \n",
    "plt.title(r\"Relic $g_\\chi$ forecast only\")\n",
    "plt.savefig('/Users/nicholasdeporzio/Desktop/diagnostics/p2_g.png')\n",
    "plt.show()\n",
    "\n",
    "\n",
    "plt.figure(figsize=(15,7.5))                                                    \n",
    "plt.loglog(ps2_forecast.k_table[0], ps2_forecast.FOG[0, :, -1], label=r\"DESI, 0.91K\", linestyle='solid')\n",
    "plt.xlabel(r\"$k$\", fontsize=24)                                       \n",
    "plt.ylabel(r\"$FOG$\", fontsize=24)                                   \n",
    "plt.legend(fontsize=18, loc='lower left')                                       \n",
    "plt.tick_params(axis='x', which='minttor')                                      \n",
    "plt.grid(True, which='minor')  \n",
    "plt.title(r\"Relic $g_\\chi$ forecast only\")\n",
    "plt.savefig('/Users/nicholasdeporzio/Desktop/diagnostics/p3_g.png')\n",
    "plt.show()\n",
    "\n",
    "\n",
    "\n",
    "plt.figure(figsize=(15,7.5))                                                    \n",
    "plt.loglog(ps2_forecast.k_table[0], ps2_forecast.Pg[0, :, -1], label=r\"DESI, 0.91K\", linestyle='solid')\n",
    "plt.xlabel(r\"$k$\", fontsize=24)                                       \n",
    "plt.ylabel(r\"$P_g$\", fontsize=24)                                   \n",
    "plt.legend(fontsize=18, loc='lower left')                                       \n",
    "plt.tick_params(axis='x', which='minttor')                                      \n",
    "plt.grid(True, which='minor')  \n",
    "plt.title(r\"Relic $g_\\chi$ forecast only\")\n",
    "plt.savefig('/Users/nicholasdeporzio/Desktop/diagnostics/p4_g.png')\n",
    "plt.show()\n",
    "\n",
    "plt.figure(figsize=(15,7.5))                                                    \n",
    "plt.semilogx(ps2_forecast.k_table[0], ps2_forecast.dlogPgdN_ncdm[0, :, -1], label=r\"DESI, 0.91K\", linestyle='solid')\n",
    "plt.xlabel(r\"$k$\", fontsize=24)                                       \n",
    "plt.ylabel(r\"$dlogP_g/dg$\", fontsize=24)                                   \n",
    "plt.legend(fontsize=18, loc='lower left')                                       \n",
    "plt.tick_params(axis='x', which='minttor')                                      \n",
    "plt.grid(True, which='minor')  \n",
    "plt.title(r\"Relic $g_\\chi$ forecast only\")\n",
    "plt.savefig('/Users/nicholasdeporzio/Desktop/diagnostics/p5_g.png')\n",
    "plt.show()\n",
    "\n",
    "plt.figure(figsize=(15,7.5))                                                    \n",
    "plt.semilogx(ps2_forecast.k_table[0], ps2_forecast.dlogPdN_ncdm[0, :], label=r\"DESI, 0.91K\", linestyle='solid')\n",
    "plt.xlabel(r\"$k$\", fontsize=24)                                       \n",
    "plt.ylabel(r\"$dlogP_m/dg$\", fontsize=24)                                   \n",
    "plt.legend(fontsize=18, loc='lower left')                                       \n",
    "plt.tick_params(axis='x', which='minttor')                                      \n",
    "plt.grid(True, which='minor')  \n",
    "plt.title(r\"Relic $g_\\chi$ forecast only\")\n",
    "plt.savefig('/Users/nicholasdeporzio/Desktop/diagnostics/p6_g.png')\n",
    "plt.show()\n",
    "\n",
    "plt.figure(figsize=(15,7.5))                                                    \n",
    "plt.semilogx(ps2_forecast.k_table[0], ps2_forecast.dlogRSDdN_ncdm[0, :], label=r\"DESI, 0.91K\", linestyle='solid')\n",
    "plt.xlabel(r\"$k$\", fontsize=24)                                       \n",
    "plt.ylabel(r\"$dlogRSD/dg$\", fontsize=24)                                   \n",
    "plt.legend(fontsize=18, loc='lower left')                                       \n",
    "plt.tick_params(axis='x', which='minttor')                                      \n",
    "plt.grid(True, which='minor')  \n",
    "plt.title(r\"Relic $g_\\chi$ forecast only\")\n",
    "plt.savefig('/Users/nicholasdeporzio/Desktop/diagnostics/p7_g.png')\n",
    "plt.show()\n",
    "\n",
    "plt.figure(figsize=(15,7.5))                                                    \n",
    "plt.semilogx(ps2_forecast.k_table[0], ps2_forecast.dlogFOGdN_ncdm[0, :], label=r\"DESI, 0.91K\", linestyle='solid')\n",
    "plt.xlabel(r\"$k$\", fontsize=24)                                       \n",
    "plt.ylabel(r\"$dlogFOG/dg$\", fontsize=24)                                   \n",
    "plt.legend(fontsize=18, loc='lower left')                                       \n",
    "plt.tick_params(axis='x', which='minttor')                                      \n",
    "plt.grid(True, which='minor')  \n",
    "plt.title(r\"Relic $g_\\chi$ forecast only\")\n",
    "plt.savefig('/Users/nicholasdeporzio/Desktop/diagnostics/p8_g.png')\n",
    "plt.show()\n",
    "\n",
    "plt.figure(figsize=(15,7.5))                                                    \n",
    "plt.semilogx(ps2_forecast.k_table[0], ps2_forecast.dlogAPdN_ncdm[0, :], label=r\"DESI, 0.91K\", linestyle='solid')\n",
    "plt.xlabel(r\"$k$\", fontsize=24)                                       \n",
    "plt.ylabel(r\"$dlogAP/dg$\", fontsize=24)                                   \n",
    "plt.legend(fontsize=18, loc='lower left')                                       \n",
    "plt.tick_params(axis='x', which='minttor')                                      \n",
    "plt.grid(True, which='minor')  \n",
    "plt.title(r\"Relic $g_\\chi$ forecast only\")\n",
    "plt.savefig('/Users/nicholasdeporzio/Desktop/diagnostics/p9_g.png')\n",
    "plt.show()\n",
    "\n",
    "plt.figure(figsize=(15,7.5))                                                    \n",
    "plt.semilogx(ps2_forecast.k_table[0], ps2_forecast.dlogCOVdN_ncdm[0, :], label=r\"DESI, 0.91K\", linestyle='solid')\n",
    "plt.xlabel(r\"$k$\", fontsize=24)                                       \n",
    "plt.ylabel(r\"$dlogCOV/dg$\", fontsize=24)                                   \n",
    "plt.legend(fontsize=18, loc='lower left')                                       \n",
    "plt.tick_params(axis='x', which='minttor')                                      \n",
    "plt.grid(True, which='minor')  \n",
    "plt.title(r\"Relic $g_\\chi$ forecast only\")\n",
    "plt.savefig('/Users/nicholasdeporzio/Desktop/diagnostics/p10_g.png')\n",
    "plt.show()\n",
    "\n",
    "plt.figure(figsize=(15,7.5))                                                    \n",
    "plt.semilogx(ps2_forecast.k_table[0], ps2_forecast.dlogPdN_ncdm[0, :], label=r\"DESI, 0.91K\", linestyle='solid')\n",
    "plt.xlabel(r\"$k$\", fontsize=24)                                       \n",
    "plt.ylabel(r\"$dlogP_m/dg$\", fontsize=24)                                   \n",
    "plt.legend(fontsize=18, loc='lower left')                                       \n",
    "plt.tick_params(axis='x', which='minttor')                                      \n",
    "plt.grid(True, which='minor')  \n",
    "plt.title(r\"Relic $g_\\chi$ forecast only\")\n",
    "plt.savefig('/Users/nicholasdeporzio/Desktop/diagnostics/p11_g.png')\n",
    "plt.show()\n",
    "   "
   ]
  },
  {
   "cell_type": "code",
   "execution_count": null,
   "metadata": {},
   "outputs": [],
   "source": []
  },
  {
   "cell_type": "code",
   "execution_count": null,
   "metadata": {},
   "outputs": [],
   "source": []
  }
 ],
 "metadata": {
  "kernelspec": {
   "display_name": "3.8.0",
   "language": "python",
   "name": "3.8.0"
  },
  "language_info": {
   "codemirror_mode": {
    "name": "ipython",
    "version": 3
   },
   "file_extension": ".py",
   "mimetype": "text/x-python",
   "name": "python",
   "nbconvert_exporter": "python",
   "pygments_lexer": "ipython3",
   "version": "3.8.0"
  }
 },
 "nbformat": 4,
 "nbformat_minor": 4
}
