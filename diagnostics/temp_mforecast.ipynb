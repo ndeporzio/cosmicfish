{
 "cells": [
  {
   "cell_type": "code",
   "execution_count": null,
   "metadata": {
    "ExecuteTime": {
     "end_time": "2020-04-25T07:27:14.110061Z",
     "start_time": "2020-04-25T07:27:12.867689Z"
    }
   },
   "outputs": [],
   "source": [
    "import dill\n",
    "dill.load_session('/Volumes/SSD01/results/test2/test2.db')\n",
    "sns.set()"
   ]
  },
  {
   "cell_type": "markdown",
   "metadata": {
    "heading_collapsed": true
   },
   "source": [
    "# Plot errors in M_nu"
   ]
  },
  {
   "cell_type": "code",
   "execution_count": null,
   "metadata": {
    "ExecuteTime": {
     "end_time": "2020-04-23T15:10:48.585052Z",
     "start_time": "2020-04-23T15:10:47.230474Z"
    },
    "hidden": true
   },
   "outputs": [],
   "source": [
    "data = np.array(np.sqrt(                                                      \n",
    "            (np.linalg.inv(                                                      \n",
    "                np.delete(np.delete(ps2_forecast.fisher, 4, axis=0), 4, axis=1))[5,5])))\n",
    "                                                                                \n",
    "flatdata = data.flatten()                                                       \n",
    "flatnsigmas = 1./flatdata                                                       \n",
    "logflatdata = np.log10(flatdata)                                                \n",
    "logflatnsigmas = np.log10(flatnsigmas)                                          \n",
    "                                                                                \n",
    "                                                                                \n",
    "plt.figure(figsize=(15,7.5))                                                    \n",
    "plt.semilogx(np.array([0.06]), data, 'o', label=r\"$\\sigma_{M_\\nu}$, DESI\", linestyle='solid')\n",
    "plt.xlabel(r\"$M_\\chi$ [eV]\", fontsize=24)                                       \n",
    "plt.ylabel(r\"$\\sigma_{M_\\nu}$\", fontsize=24)                                   \n",
    "plt.legend(fontsize=18, loc='lower left')                                       \n",
    "plt.tick_params(axis='x', which='minttor')                                      \n",
    "plt.grid(True, which='minor')                                                   \n",
    "plt.show()                               \n",
    "                                                                                \n",
    "plt.figure(figsize=(15,7.5))                                                    \n",
    "plt.loglog(np.array([0.06]), 1./data, label=r\"$\\sigma_{M_\\nu}$, DESI\", linestyle='solid')\n",
    "plt.xlabel(r\"$M_\\chi$ [eV]\", fontsize=24)                                       \n",
    "plt.ylabel(r\"$1/\\sigma_{M_\\nu}$\", fontsize=24)                                 \n",
    "plt.legend(fontsize=18, loc='lower left')                                       \n",
    "plt.tick_params(axis='x', which='minttor')                                      \n",
    "plt.grid(True, which='minor')                                                   \n",
    "plt.show()"
   ]
  },
  {
   "cell_type": "markdown",
   "metadata": {},
   "source": [
    "# Diagnostic Plots"
   ]
  },
  {
   "cell_type": "code",
   "execution_count": null,
   "metadata": {
    "ExecuteTime": {
     "end_time": "2020-04-25T07:32:50.287379Z",
     "start_time": "2020-04-25T07:32:49.589517Z"
    }
   },
   "outputs": [],
   "source": [
    "plt.figure(figsize=(15,7.5))                                                    \n",
    "plt.semilogx(ps2_forecast.k_table[0], ps2_forecast.dlogCOVdomega_ncdm[0], label=r\"DESI, 0.91K\", linestyle='solid')\n",
    "plt.xlabel(r\"$k$\", fontsize=24)                                       \n",
    "plt.ylabel(r\"$dlogP_g/d\\omega_{ncdm}$\", fontsize=24)                                   \n",
    "plt.legend(fontsize=18, loc='lower left')                                       \n",
    "plt.tick_params(axis='x', which='minttor')                                      \n",
    "plt.grid(True, which='minor')  \n",
    "plt.title(r'Neutrino $M_\\nu$ forecast only')\n",
    "#plt.savefig('/Users/nicholasdeporzio/Desktop/diagnostics/p2_m.png')\n",
    "plt.show()"
   ]
  },
  {
   "cell_type": "code",
   "execution_count": null,
   "metadata": {
    "ExecuteTime": {
     "end_time": "2020-04-25T01:43:56.898567Z",
     "start_time": "2020-04-25T01:43:45.517555Z"
    },
    "scrolled": false
   },
   "outputs": [],
   "source": [
    "plt.figure(figsize=(15,7.5))                                                    \n",
    "plt.loglog(ps2_forecast.k_table[0], ps2_forecast.spectra_mid[0].ps_table, label=r\"DESI, 0.91K\", linestyle='solid')\n",
    "plt.xlabel(r\"$k$\", fontsize=24)                                       \n",
    "plt.ylabel(r\"$P_m$\", fontsize=24)                                   \n",
    "plt.legend(fontsize=18, loc='lower left')                                       \n",
    "plt.tick_params(axis='x', which='minttor')                                      \n",
    "plt.grid(True, which='minor')  \n",
    "plt.title(r'Neutrino $M_\\nu$ forecast only')\n",
    "plt.savefig('/Users/nicholasdeporzio/Desktop/diagnostics/p1_m.png')\n",
    "plt.show()\n",
    "\n",
    "\n",
    "plt.figure(figsize=(15,7.5))                                                    \n",
    "plt.loglog(ps2_forecast.k_table[0], ps2_forecast.RSD[0, :, -1], label=r\"DESI, 0.91K\", linestyle='solid')\n",
    "plt.xlabel(r\"$k$\", fontsize=24)                                       \n",
    "plt.ylabel(r\"$RSD$\", fontsize=24)                                   \n",
    "plt.legend(fontsize=18, loc='lower left')                                       \n",
    "plt.tick_params(axis='x', which='minttor')                                      \n",
    "plt.grid(True, which='minor')  \n",
    "plt.title(r'Neutrino $M_\\nu$ forecast only')\n",
    "plt.savefig('/Users/nicholasdeporzio/Desktop/diagnostics/p2_m.png')\n",
    "plt.show()\n",
    "\n",
    "\n",
    "plt.figure(figsize=(15,7.5))                                                    \n",
    "plt.loglog(ps2_forecast.k_table[0], ps2_forecast.FOG[0, :, -1], label=r\"DESI, 0.91K\", linestyle='solid')\n",
    "plt.xlabel(r\"$k$\", fontsize=24)                                       \n",
    "plt.ylabel(r\"$FOG$\", fontsize=24)                                   \n",
    "plt.legend(fontsize=18, loc='lower left')                                       \n",
    "plt.tick_params(axis='x', which='minttor')                                      \n",
    "plt.grid(True, which='minor')  \n",
    "plt.title(r'Neutrino $M_\\nu$ forecast only')\n",
    "plt.savefig('/Users/nicholasdeporzio/Desktop/diagnostics/p3_m.png')\n",
    "plt.show()\n",
    "\n",
    "\n",
    "\n",
    "plt.figure(figsize=(15,7.5))                                                    \n",
    "plt.loglog(ps2_forecast.k_table[0], ps2_forecast.Pg[0, :, -1], label=r\"DESI, 0.91K\", linestyle='solid')\n",
    "plt.xlabel(r\"$k$\", fontsize=24)                                       \n",
    "plt.ylabel(r\"$P_g$\", fontsize=24)                                   \n",
    "plt.legend(fontsize=18, loc='lower left')                                       \n",
    "plt.tick_params(axis='x', which='minttor')                                      \n",
    "plt.grid(True, which='minor')  \n",
    "plt.title(r'Neutrino $M_\\nu$ forecast only')\n",
    "plt.savefig('/Users/nicholasdeporzio/Desktop/diagnostics/p4_m.png')\n",
    "plt.show()\n",
    "\n",
    "plt.figure(figsize=(15,7.5))                                                    \n",
    "plt.semilogx(ps2_forecast.k_table[0], ps2_forecast.dlogPgdM_ncdm[0, :, -1], label=r\"DESI, 0.91K\", linestyle='solid')\n",
    "plt.xlabel(r\"$k$\", fontsize=24)                                       \n",
    "plt.ylabel(r\"$dlogP_g/dM_\\nu$\", fontsize=24)                                   \n",
    "plt.legend(fontsize=18, loc='lower left')                                       \n",
    "plt.tick_params(axis='x', which='minttor')                                      \n",
    "plt.grid(True, which='minor')  \n",
    "plt.title(r'Neutrino $M_\\nu$ forecast only')\n",
    "plt.savefig('/Users/nicholasdeporzio/Desktop/diagnostics/p5_m.png')\n",
    "plt.show()\n",
    "\n",
    "plt.figure(figsize=(15,7.5))                                                    \n",
    "plt.semilogx(ps2_forecast.k_table[0], ps2_forecast.dlogPdM_ncdm[0, :], label=r\"DESI, 0.91K\", linestyle='solid')\n",
    "plt.xlabel(r\"$k$\", fontsize=24)                                       \n",
    "plt.ylabel(r\"$dlogP_m/dM_\\nu$\", fontsize=24)                                   \n",
    "plt.legend(fontsize=18, loc='lower left')                                       \n",
    "plt.tick_params(axis='x', which='minttor')                                      \n",
    "plt.grid(True, which='minor')  \n",
    "plt.title(r'Neutrino $M_\\nu$ forecast only')\n",
    "plt.savefig('/Users/nicholasdeporzio/Desktop/diagnostics/p6_m.png')\n",
    "plt.show()\n",
    "\n",
    "plt.figure(figsize=(15,7.5))                                                    \n",
    "plt.semilogx(ps2_forecast.k_table[0], np.array(ps2_forecast.dlogRSDdomega_ncdm[0])/93.14, label=r\"DESI, 0.91K\", linestyle='solid')\n",
    "plt.xlabel(r\"$k$\", fontsize=24)                                       \n",
    "plt.ylabel(r\"$dlogRSD/dM_\\nu$\", fontsize=24)                                   \n",
    "plt.legend(fontsize=18, loc='lower left')                                       \n",
    "plt.tick_params(axis='x', which='minttor')                                      \n",
    "plt.grid(True, which='minor')  \n",
    "plt.title(r'Neutrino $M_\\nu$ forecast only')\n",
    "plt.savefig('/Users/nicholasdeporzio/Desktop/diagnostics/p7_m.png')\n",
    "plt.show()\n",
    "\n",
    "plt.figure(figsize=(15,7.5))                                                    \n",
    "plt.semilogx(ps2_forecast.k_table[0], np.array(ps2_forecast.dlogFOGdomega_ncdm[0])/93.14, label=r\"DESI, 0.91K\", linestyle='solid')\n",
    "plt.xlabel(r\"$k$\", fontsize=24)                                       \n",
    "plt.ylabel(r\"$dlogFOG/dM_\\nu$\", fontsize=24)                                   \n",
    "plt.legend(fontsize=18, loc='lower left')                                       \n",
    "plt.tick_params(axis='x', which='minttor')                                      \n",
    "plt.grid(True, which='minor')  \n",
    "plt.title(r'Neutrino $M_\\nu$ forecast only')\n",
    "plt.savefig('/Users/nicholasdeporzio/Desktop/diagnostics/p8_m.png')\n",
    "plt.show()\n",
    "\n",
    "plt.figure(figsize=(15,7.5))                                                    \n",
    "plt.semilogx(ps2_forecast.k_table[0], np.array(ps2_forecast.dlogAPdomega_ncdm[0])/93.14, label=r\"DESI, 0.91K\", linestyle='solid')\n",
    "plt.xlabel(r\"$k$\", fontsize=24)                                       \n",
    "plt.ylabel(r\"$dlogAP/dM_\\nu$\", fontsize=24)                                   \n",
    "plt.legend(fontsize=18, loc='lower left')                                       \n",
    "plt.tick_params(axis='x', which='minttor')                                      \n",
    "plt.grid(True, which='minor')  \n",
    "plt.title(r'Neutrino $M_\\nu$ forecast only')\n",
    "plt.savefig('/Users/nicholasdeporzio/Desktop/diagnostics/p9_m.png')\n",
    "plt.show()\n",
    "\n",
    "plt.figure(figsize=(15,7.5))                                                    \n",
    "plt.semilogx(ps2_forecast.k_table[0], np.array(ps2_forecast.dlogCOVdomega_ncdm[0])/93.14, label=r\"DESI, 0.91K\", linestyle='solid')\n",
    "plt.xlabel(r\"$k$\", fontsize=24)                                       \n",
    "plt.ylabel(r\"$dlogCOV/dM_\\nu$\", fontsize=24)                                   \n",
    "plt.legend(fontsize=18, loc='lower left')                                       \n",
    "plt.tick_params(axis='x', which='minttor')                                      \n",
    "plt.grid(True, which='minor')  \n",
    "plt.title(r'Neutrino $M_\\nu$ forecast only')\n",
    "plt.savefig('/Users/nicholasdeporzio/Desktop/diagnostics/p10_m.png')\n",
    "plt.show()\n",
    "\n",
    "\n",
    "plt.figure(figsize=(15,7.5))                                                    \n",
    "plt.semilogx(ps2_forecast.k_table[0], ps2_forecast.dlogPdM_ncdm[0, :], label=r\"DESI, 0.91K\", linestyle='solid')\n",
    "plt.xlabel(r\"$k$\", fontsize=24)                                       \n",
    "plt.ylabel(r\"$dlogP_m/dM_\\nu$\", fontsize=24)                                   \n",
    "plt.legend(fontsize=18, loc='lower left')                                       \n",
    "plt.tick_params(axis='x', which='minttor')                                      \n",
    "plt.grid(True, which='minor')  \n",
    "plt.title(r'Neutrino $M_\\nu$ forecast only')\n",
    "plt.savefig('/Users/nicholasdeporzio/Desktop/diagnostics/p11_m.png')\n",
    "plt.show()\n",
    "   "
   ]
  },
  {
   "cell_type": "code",
   "execution_count": null,
   "metadata": {},
   "outputs": [],
   "source": []
  }
 ],
 "metadata": {
  "kernelspec": {
   "display_name": "3.8.0",
   "language": "python",
   "name": "3.8.0"
  },
  "language_info": {
   "codemirror_mode": {
    "name": "ipython",
    "version": 3
   },
   "file_extension": ".py",
   "mimetype": "text/x-python",
   "name": "python",
   "nbconvert_exporter": "python",
   "pygments_lexer": "ipython3",
   "version": "3.8.0"
  }
 },
 "nbformat": 4,
 "nbformat_minor": 4
}
