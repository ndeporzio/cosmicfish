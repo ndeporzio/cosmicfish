{
 "cells": [
  {
   "cell_type": "code",
   "execution_count": null,
   "metadata": {
    "ExecuteTime": {
     "end_time": "2020-04-11T07:49:10.247579Z",
     "start_time": "2020-04-11T07:49:02.105110Z"
    },
    "scrolled": false
   },
   "outputs": [],
   "source": [
    "import os\n",
    "import shutil\n",
    "import numpy as np\n",
    "import pandas as pd\n",
    "import seaborn as sns \n",
    "import cosmicfish as cf \n",
    "import matplotlib.pyplot as plt\n",
    "import dill\n",
    "\n",
    "sns.set()\n",
    "\n",
    "k_0 = np.loadtxt(\"/Users/nicholasdeporzio/Desktop/loginterp/k_0.txt\", delimiter='\\t')\n",
    "k_1 = np.loadtxt(\"/Users/nicholasdeporzio/Desktop/loginterp/k_1.txt\", delimiter='\\t')\n",
    "k_2 = np.loadtxt(\"/Users/nicholasdeporzio/Desktop/loginterp/k_2.txt\", delimiter='\\t')\n",
    "k_3 = np.loadtxt(\"/Users/nicholasdeporzio/Desktop/loginterp/k_3.txt\", delimiter='\\t')\n",
    "\n",
    "db_0 = np.loadtxt(\"/Users/nicholasdeporzio/Desktop/loginterp/db_0.txt\", delimiter='\\t')\n",
    "db_1 = np.loadtxt(\"/Users/nicholasdeporzio/Desktop/loginterp/db_1.txt\", delimiter='\\t')\n",
    "db_2 = np.loadtxt(\"/Users/nicholasdeporzio/Desktop/loginterp/db_2.txt\", delimiter='\\t')\n",
    "db_3 = np.loadtxt(\"/Users/nicholasdeporzio/Desktop/loginterp/db_3.txt\", delimiter='\\t')\n",
    "\n",
    "dcdm_0 = np.loadtxt(\"/Users/nicholasdeporzio/Desktop/loginterp/dcdm_0.txt\", delimiter='\\t')\n",
    "dcdm_1 = np.loadtxt(\"/Users/nicholasdeporzio/Desktop/loginterp/dcdm_1.txt\", delimiter='\\t')\n",
    "dcdm_2 = np.loadtxt(\"/Users/nicholasdeporzio/Desktop/loginterp/dcdm_2.txt\", delimiter='\\t')\n",
    "dcdm_3 = np.loadtxt(\"/Users/nicholasdeporzio/Desktop/loginterp/dcdm_3.txt\", delimiter='\\t')\n",
    "\n",
    "Pg_0 = np.loadtxt(\"/Users/nicholasdeporzio/Desktop/loginterp/Pg_0.txt\", delimiter='\\t')\n",
    "Pg_1 = np.loadtxt(\"/Users/nicholasdeporzio/Desktop/loginterp/Pg_1.txt\", delimiter='\\t')\n",
    "Pg_2 = np.loadtxt(\"/Users/nicholasdeporzio/Desktop/loginterp/Pg_2.txt\", delimiter='\\t')\n",
    "Pg_3 = np.loadtxt(\"/Users/nicholasdeporzio/Desktop/loginterp/Pg_3.txt\", delimiter='\\t')\n",
    "\n",
    "Pm_0 = np.loadtxt(\"/Users/nicholasdeporzio/Desktop/loginterp/Pm_0.txt\", delimiter='\\t')\n",
    "Pm_1 = np.loadtxt(\"/Users/nicholasdeporzio/Desktop/loginterp/Pm_1.txt\", delimiter='\\t')\n",
    "Pm_2 = np.loadtxt(\"/Users/nicholasdeporzio/Desktop/loginterp/Pm_2.txt\", delimiter='\\t')\n",
    "Pm_3 = np.loadtxt(\"/Users/nicholasdeporzio/Desktop/loginterp/Pm_3.txt\", delimiter='\\t')\n",
    "\n",
    "#dlogPgdA_s_0 = np.loadtxt(\"/Users/nicholasdeporzio/Desktop/loginterp/dlogPgdA_s_0.txt\", delimiter='\\t')\n",
    "#dlogPgdA_s_1 = np.loadtxt(\"/Users/nicholasdeporzio/Desktop/loginterp/dlogPgdA_s_1.txt\", delimiter='\\t')\n",
    "#dlogPgdA_s_2 = np.loadtxt(\"/Users/nicholasdeporzio/Desktop/loginterp/dlogPgdA_s_2.txt\", delimiter='\\t')\n",
    "#dlogPgdA_s_3 = np.loadtxt(\"/Users/nicholasdeporzio/Desktop/loginterp/dlogPgdA_s_3.txt\", delimiter='\\t')\n",
    "\n",
    "#dlogPgdn_s_0 = np.loadtxt(\"/Users/nicholasdeporzio/Desktop/loginterp/dlogPgdn_s_0.txt\", delimiter='\\t')\n",
    "#dlogPgdn_s_1 = np.loadtxt(\"/Users/nicholasdeporzio/Desktop/loginterp/dlogPgdn_s_1.txt\", delimiter='\\t')\n",
    "#dlogPgdn_s_2 = np.loadtxt(\"/Users/nicholasdeporzio/Desktop/loginterp/dlogPgdn_s_2.txt\", delimiter='\\t')\n",
    "#dlogPgdn_s_3 = np.loadtxt(\"/Users/nicholasdeporzio/Desktop/loginterp/dlogPgdn_s_3.txt\", delimiter='\\t')\n",
    "\n",
    "#dlogPgdomega_b_0 = np.loadtxt(\"/Users/nicholasdeporzio/Desktop/loginterp/dlogPgdomega_b_0.txt\", delimiter='\\t')\n",
    "#dlogPgdomega_b_1 = np.loadtxt(\"/Users/nicholasdeporzio/Desktop/loginterp/dlogPgdomega_b_1.txt\", delimiter='\\t')\n",
    "#dlogPgdomega_b_2 = np.loadtxt(\"/Users/nicholasdeporzio/Desktop/loginterp/dlogPgdomega_b_2.txt\", delimiter='\\t')\n",
    "#dlogPgdomega_b_3 = np.loadtxt(\"/Users/nicholasdeporzio/Desktop/loginterp/dlogPgdomega_b_3.txt\", delimiter='\\t')\n",
    "\n",
    "#dlogPgdomega_cdm_0 = np.loadtxt(\"/Users/nicholasdeporzio/Desktop/loginterp/dlogPgdomega_cdm_0.txt\", delimiter='\\t')\n",
    "#dlogPgdomega_cdm_1 = np.loadtxt(\"/Users/nicholasdeporzio/Desktop/loginterp/dlogPgdomega_cdm_1.txt\", delimiter='\\t')\n",
    "#dlogPgdomega_cdm_2 = np.loadtxt(\"/Users/nicholasdeporzio/Desktop/loginterp/dlogPgdomega_cdm_2.txt\", delimiter='\\t')\n",
    "#dlogPgdomega_cdm_3 = np.loadtxt(\"/Users/nicholasdeporzio/Desktop/loginterp/dlogPgdomega_cdm_3.txt\", delimiter='\\t')\n",
    "\n",
    "#dlogPgdh_0 = np.loadtxt(\"/Users/nicholasdeporzio/Desktop/loginterp/dlogPgdh_0.txt\", delimiter='\\t')\n",
    "#dlogPgdh_1 = np.loadtxt(\"/Users/nicholasdeporzio/Desktop/loginterp/dlogPgdh_1.txt\", delimiter='\\t')\n",
    "#dlogPgdh_2 = np.loadtxt(\"/Users/nicholasdeporzio/Desktop/loginterp/dlogPgdh_2.txt\", delimiter='\\t')\n",
    "#dlogPgdh_3 = np.loadtxt(\"/Users/nicholasdeporzio/Desktop/loginterp/dlogPgdh_3.txt\", delimiter='\\t')\n",
    "\n",
    "#dlogPgdN_ncdm_0 = np.loadtxt(\"/Users/nicholasdeporzio/Desktop/loginterp/dlogPgdN_ncdm_0.txt\", delimiter='\\t')\n",
    "#dlogPgdN_ncdm_1 = np.loadtxt(\"/Users/nicholasdeporzio/Desktop/loginterp/dlogPgdN_ncdm_1.txt\", delimiter='\\t')\n",
    "#dlogPgdN_ncdm_2 = np.loadtxt(\"/Users/nicholasdeporzio/Desktop/loginterp/dlogPgdN_ncdm_2.txt\", delimiter='\\t')\n",
    "#dlogPgdN_ncdm_3 = np.loadtxt(\"/Users/nicholasdeporzio/Desktop/loginterp/dlogPgdN_ncdm_3.txt\", delimiter='\\t')\n",
    "\n",
    "plt.figure(figsize=(15,7.5))\n",
    "plt.semilogx(k_0, db_0, label=r\"$d_b$, $g_\\chi$=1.0\", linestyle='solid')\n",
    "plt.semilogx(k_1, db_1, label=r\"$d_b$, $g_\\chi$=1.1\", linestyle='solid')\n",
    "plt.semilogx(k_2, db_2, label=r\"$d_b$, $g_\\chi$=1.5\", linestyle='solid')\n",
    "plt.semilogx(k_3, db_3, label=r\"$d_b$, $g_\\chi$=2.0\", linestyle='solid')\n",
    "plt.title(r\"EUCLID, z=0.65, $\\mu=0$, m=0.2[eV]\")\n",
    "plt.xlabel(r\"$k$ [Mpc$^{-1}$]\", fontsize=24)\n",
    "plt.ylabel(r\"$d_b$\", fontsize=24)\n",
    "plt.legend(fontsize=18, loc='lower left')\n",
    "plt.tick_params(axis='x', which='minttor')\n",
    "plt.grid(True, which='minor')\n",
    "plt.savefig(\"/Users/nicholasdeporzio/Desktop/testing/plotA19f.png\")\n",
    "plt.show()\n",
    "\n",
    "plt.figure(figsize=(15,7.5))\n",
    "plt.semilogx(k_0, dcdm_0, label=r\"$d_cdm$, $g_\\chi$=1.0\", linestyle='solid')\n",
    "plt.semilogx(k_1, dcdm_1, label=r\"$d_cdm$, $g_\\chi$=1.1\", linestyle='solid')\n",
    "plt.semilogx(k_2, dcdm_2, label=r\"$d_cdm$, $g_\\chi$=1.5\", linestyle='solid')\n",
    "plt.semilogx(k_3, dcdm_3, label=r\"$d_cdm$, $g_\\chi$=2.0\", linestyle='solid')\n",
    "plt.title(r\"EUCLID, z=0.65, $\\mu=0$, m=0.2[eV]\")\n",
    "plt.xlabel(r\"$k$ [Mpc$^{-1}$]\", fontsize=24)\n",
    "plt.ylabel(r\"$d_cdm$\", fontsize=24)\n",
    "plt.legend(fontsize=18, loc='lower left')\n",
    "plt.tick_params(axis='x', which='minttor')\n",
    "plt.grid(True, which='minor')\n",
    "plt.savefig(\"/Users/nicholasdeporzio/Desktop/testing/plotA19g.png\")\n",
    "plt.show()\n",
    "\n",
    "plt.figure(figsize=(15,7.5))\n",
    "plt.semilogx(k_1, db_1-db_0, label=r\"$\\Delta d_b$, $g_\\chi$=1.1\", linestyle='solid')\n",
    "plt.semilogx(k_2, db_2-db_0, label=r\"$\\Delta d_b$, $g_\\chi$=1.5\", linestyle='solid')\n",
    "plt.semilogx(k_3, db_3-db_0, label=r\"$\\Delta d_b$, $g_\\chi$=2.0\", linestyle='solid')\n",
    "plt.title(r\"EUCLID, z=0.65, $\\mu=0$, m=0.2[eV]\")\n",
    "plt.xlabel(r\"$k$ [Mpc$^{-1}$]\", fontsize=24)\n",
    "plt.ylabel(r\"$d_b(g_\\chi) - d_b(g_\\chi=1)$\", fontsize=24)\n",
    "plt.legend(fontsize=18, loc='lower left')\n",
    "plt.tick_params(axis='x', which='minttor')\n",
    "plt.grid(True, which='minor')\n",
    "plt.savefig(\"/Users/nicholasdeporzio/Desktop/testing/plotA19h.png\")\n",
    "plt.show()\n",
    "\n",
    "plt.figure(figsize=(15,7.5))\n",
    "plt.semilogx(k_1, dcdm_1-dcdm_0, label=r\"$\\Delta d_{cdm}$, $g_\\chi$=1.1\", linestyle='solid')\n",
    "plt.semilogx(k_2, dcdm_2-dcdm_0, label=r\"$\\Delta d_{cdm}$, $g_\\chi$=1.5\", linestyle='solid')\n",
    "plt.semilogx(k_3, dcdm_3-dcdm_0, label=r\"$\\Delta d_{cdm}$, $g_\\chi$=2.0\", linestyle='solid')\n",
    "plt.title(r\"EUCLID, z=0.65, $\\mu=0$, m=0.2[eV]\")\n",
    "plt.xlabel(r\"$k$ [Mpc$^{-1}$]\", fontsize=24)\n",
    "plt.ylabel(r\"$d_{cdm}(g_\\chi) - d_{cdm}(g_\\chi=1)$\", fontsize=24)\n",
    "plt.legend(fontsize=18, loc='lower left')\n",
    "plt.tick_params(axis='x', which='minttor')\n",
    "plt.grid(True, which='minor')\n",
    "plt.savefig(\"/Users/nicholasdeporzio/Desktop/testing/plotA19i.png\")\n",
    "plt.show()\n",
    "\n",
    "plt.figure(figsize=(15,7.5))\n",
    "plt.semilogx(k_1, (Pg_1-Pg_0)/Pg_0, label=r\"$\\Delta P_g$, $g_\\chi$=1.1\", linestyle='solid')\n",
    "plt.semilogx(k_2, (Pg_2-Pg_0)/Pg_0, label=r\"$\\Delta P_g$, $g_\\chi$=1.5\", linestyle='solid')\n",
    "plt.semilogx(k_3, (Pg_3-Pg_0)/Pg_0, label=r\"$\\Delta P_g$, $g_\\chi$=2.0\", linestyle='solid')\n",
    "plt.title(r\"EUCLID, z=0.65, $\\mu=0$, m=0.2[eV]\")\n",
    "plt.xlabel(r\"$k$ [Mpc$^{-1}$]\", fontsize=24)\n",
    "plt.ylabel(r\"$(P_g(g_\\chi) - P_g(g_\\chi=0))/P_g(g_\\chi=0)$\", fontsize=24)\n",
    "plt.legend(fontsize=18, loc='lower left')\n",
    "plt.tick_params(axis='x', which='minttor')\n",
    "plt.grid(True, which='minor')\n",
    "plt.savefig(\"/Users/nicholasdeporzio/Desktop/testing/plotA19j.png\")\n",
    "plt.show()\n",
    "\n",
    "plt.figure(figsize=(15,7.5))\n",
    "plt.semilogx(k_1, (Pm_1-Pm_0)/Pm_0, label=r\"$\\Delta P_m$, $g_\\chi$=1.1\", linestyle='solid')\n",
    "plt.semilogx(k_2, (Pm_2-Pm_0)/Pm_0, label=r\"$\\Delta P_m$, $g_\\chi$=1.5\", linestyle='solid')\n",
    "plt.semilogx(k_3, (Pm_3-Pm_0)/Pm_0, label=r\"$\\Delta P_m$, $g_\\chi$=2.0\", linestyle='solid')\n",
    "plt.title(r\"EUCLID, z=0.65, $\\mu=0$, m=0.2[eV]\")\n",
    "plt.xlabel(r\"$k$ [Mpc$^{-1}$]\", fontsize=24)\n",
    "plt.ylabel(r\"$(P_m(g_\\chi) - P_m(g_\\chi=0))/P_m(g_\\chi=0)$\", fontsize=24)\n",
    "plt.legend(fontsize=18, loc='lower left')\n",
    "plt.tick_params(axis='x', which='minttor')\n",
    "plt.grid(True, which='minor')\n",
    "plt.savefig(\"/Users/nicholasdeporzio/Desktop/testing/plotA19k.png\")\n",
    "plt.show()\n",
    "\n",
    "\n",
    "plt.figure(figsize=(15,7.5))\n",
    "plt.semilogx(k_0, Pm_0, label=r\"$P_m$, $g_\\chi$=1.0\", linestyle='solid')\n",
    "plt.semilogx(k_1, Pm_1, label=r\"$P_m$, $g_\\chi$=1.1\", linestyle='solid')\n",
    "plt.semilogx(k_2, Pm_2, label=r\"$P_m$, $g_\\chi$=1.5\", linestyle='solid')\n",
    "plt.semilogx(k_3, Pm_3, label=r\"$P_m$, $g_\\chi$=2.0\", linestyle='solid')\n",
    "plt.title(r\"EUCLID, z=0.65, $\\mu=0$, m=0.2[eV]\")\n",
    "plt.xlabel(r\"$k$ [Mpc$^{-1}$]\", fontsize=24)\n",
    "plt.ylabel(r\"$P_m(g_\\chi)$\", fontsize=24)\n",
    "plt.legend(fontsize=18, loc='lower left')\n",
    "plt.tick_params(axis='x', which='minttor')\n",
    "plt.grid(True, which='minor')\n",
    "plt.savefig(\"/Users/nicholasdeporzio/Desktop/testing/plotA19l.png\")\n",
    "plt.show()\n",
    "\n"
   ]
  },
  {
   "cell_type": "code",
   "execution_count": null,
   "metadata": {
    "ExecuteTime": {
     "end_time": "2020-04-06T08:06:53.053276Z",
     "start_time": "2020-04-06T08:06:41.834629Z"
    }
   },
   "outputs": [],
   "source": [
    "plt.figure(figsize=(15,7.5))\n",
    "plt.semilogx(k_0, dlogPgdA_s_0, label=r\"$g_\\chi$=1.0\", linestyle='solid')\n",
    "plt.semilogx(k_1, dlogPgdA_s_1, label=r\"$g_\\chi$=1.1\", linestyle='solid')\n",
    "plt.semilogx(k_2, dlogPgdA_s_2, label=r\"$g_\\chi$=1.5\", linestyle='solid')\n",
    "plt.semilogx(k_3, dlogPgdA_s_3, label=r\"$g_\\chi$=2.0\", linestyle='solid')\n",
    "plt.title(r\"EUCLID, z=0.65, $\\mu=0$, m=0.2[eV]\")\n",
    "plt.xlabel(r\"$k$ [Mpc$^{-1}$]\", fontsize=24)\n",
    "plt.ylabel(r\"$dlogP_g/dA_s$\", fontsize=24)\n",
    "plt.legend(fontsize=18, loc='lower left')\n",
    "plt.tick_params(axis='x', which='minttor')\n",
    "plt.grid(True, which='minor')\n",
    "plt.savefig(\"/Users/nicholasdeporzio/Desktop/testing/plotA19m.png\")\n",
    "plt.show()\n",
    "\n",
    "plt.figure(figsize=(15,7.5))\n",
    "plt.semilogx(k_0, dlogPgdn_s_0, label=r\"$g_\\chi$=1.0\", linestyle='solid')\n",
    "plt.semilogx(k_1, dlogPgdn_s_1, label=r\"$g_\\chi$=1.1\", linestyle='solid')\n",
    "plt.semilogx(k_2, dlogPgdn_s_2, label=r\"$g_\\chi$=1.5\", linestyle='solid')\n",
    "plt.semilogx(k_3, dlogPgdn_s_3, label=r\"$g_\\chi$=2.0\", linestyle='solid')\n",
    "plt.title(r\"EUCLID, z=0.65, $\\mu=0$, m=0.2[eV]\")\n",
    "plt.xlabel(r\"$k$ [Mpc$^{-1}$]\", fontsize=24)\n",
    "plt.ylabel(r\"$dlogP_g/dn_s$\", fontsize=24)\n",
    "plt.legend(fontsize=18, loc='lower left')\n",
    "plt.tick_params(axis='x', which='minttor')\n",
    "plt.grid(True, which='minor')\n",
    "plt.savefig(\"/Users/nicholasdeporzio/Desktop/testing/plotA19n.png\")\n",
    "plt.show()\n",
    "\n",
    "plt.figure(figsize=(15,7.5))\n",
    "plt.semilogx(k_0, dlogPgdomega_b_0, label=r\"$g_\\chi$=1.0\", linestyle='solid')\n",
    "plt.semilogx(k_1, dlogPgdomega_b_1, label=r\"$g_\\chi$=1.1\", linestyle='solid')\n",
    "plt.semilogx(k_2, dlogPgdomega_b_2, label=r\"$g_\\chi$=1.5\", linestyle='solid')\n",
    "plt.semilogx(k_3, dlogPgdomega_b_3, label=r\"$g_\\chi$=2.0\", linestyle='solid')\n",
    "plt.title(r\"EUCLID, z=0.65, $\\mu=0$, m=0.2[eV]\")\n",
    "plt.xlabel(r\"$k$ [Mpc$^{-1}$]\", fontsize=24)\n",
    "plt.ylabel(r\"$dlogP_g/domega_b$\", fontsize=24)\n",
    "plt.legend(fontsize=18, loc='lower left')\n",
    "plt.tick_params(axis='x', which='minttor')\n",
    "plt.grid(True, which='minor')\n",
    "plt.savefig(\"/Users/nicholasdeporzio/Desktop/testing/plotA19o.png\")\n",
    "plt.show()\n",
    "\n",
    "plt.figure(figsize=(15,7.5))\n",
    "plt.semilogx(k_0, dlogPgdomega_cdm_0, label=r\"$g_\\chi$=1.0\", linestyle='solid')\n",
    "plt.semilogx(k_1, dlogPgdomega_cdm_1, label=r\"$g_\\chi$=1.1\", linestyle='solid')\n",
    "plt.semilogx(k_2, dlogPgdomega_cdm_2, label=r\"$g_\\chi$=1.5\", linestyle='solid')\n",
    "plt.semilogx(k_3, dlogPgdomega_cdm_3, label=r\"$g_\\chi$=2.0\", linestyle='solid')\n",
    "plt.title(r\"EUCLID, z=0.65, $\\mu=0$, m=0.2[eV]\")\n",
    "plt.xlabel(r\"$k$ [Mpc$^{-1}$]\", fontsize=24)\n",
    "plt.ylabel(r\"$dlogP_g/domega_{cdm}$\", fontsize=24)\n",
    "plt.legend(fontsize=18, loc='lower left')\n",
    "plt.tick_params(axis='x', which='minttor')\n",
    "plt.grid(True, which='minor')\n",
    "plt.savefig(\"/Users/nicholasdeporzio/Desktop/testing/plotA19p.png\")\n",
    "plt.show()\n",
    "\n",
    "plt.figure(figsize=(15,7.5))\n",
    "plt.semilogx(k_0, dlogPgdh_0, label=r\"$g_\\chi$=1.0\", linestyle='solid')\n",
    "plt.semilogx(k_1, dlogPgdh_1, label=r\"$g_\\chi$=1.1\", linestyle='solid')\n",
    "plt.semilogx(k_2, dlogPgdh_2, label=r\"$g_\\chi$=1.5\", linestyle='solid')\n",
    "plt.semilogx(k_3, dlogPgdh_3, label=r\"$g_\\chi$=2.0\", linestyle='solid')\n",
    "plt.title(r\"EUCLID, z=0.65, $\\mu=0$, m=0.2[eV]\")\n",
    "plt.xlabel(r\"$k$ [Mpc$^{-1}$]\", fontsize=24)\n",
    "plt.ylabel(r\"$dlogP_g/dh$\", fontsize=24)\n",
    "plt.legend(fontsize=18, loc='lower left')\n",
    "plt.tick_params(axis='x', which='minttor')\n",
    "plt.grid(True, which='minor')\n",
    "plt.savefig(\"/Users/nicholasdeporzio/Desktop/testing/plotA19q.png\")\n",
    "plt.show()\n",
    "\n",
    "plt.figure(figsize=(15,7.5))\n",
    "plt.semilogx(k_0, dlogPgdN_ncdm_0, label=r\"$g_\\chi$=1.0\", linestyle='solid')\n",
    "plt.semilogx(k_1, dlogPgdN_ncdm_1, label=r\"$g_\\chi$=1.1\", linestyle='solid')\n",
    "plt.semilogx(k_2, dlogPgdN_ncdm_2, label=r\"$g_\\chi$=1.5\", linestyle='solid')\n",
    "plt.semilogx(k_3, dlogPgdN_ncdm_3, label=r\"$g_\\chi$=2.0\", linestyle='solid')\n",
    "plt.title(r\"EUCLID, z=0.65, $\\mu=0$, m=0.2[eV]\")\n",
    "plt.xlabel(r\"$k$ [Mpc$^{-1}$]\", fontsize=24)\n",
    "plt.ylabel(r\"$dlogP_g/dN_{ncdm}$\", fontsize=24)\n",
    "plt.legend(fontsize=18, loc='lower left')\n",
    "plt.tick_params(axis='x', which='minttor')\n",
    "plt.grid(True, which='minor')\n",
    "plt.savefig(\"/Users/nicholasdeporzio/Desktop/testing/plotA19r.png\")\n",
    "plt.show()"
   ]
  },
  {
   "cell_type": "code",
   "execution_count": null,
   "metadata": {},
   "outputs": [],
   "source": []
  },
  {
   "cell_type": "code",
   "execution_count": null,
   "metadata": {},
   "outputs": [],
   "source": []
  },
  {
   "cell_type": "code",
   "execution_count": null,
   "metadata": {},
   "outputs": [],
   "source": []
  },
  {
   "cell_type": "code",
   "execution_count": null,
   "metadata": {},
   "outputs": [],
   "source": []
  },
  {
   "cell_type": "code",
   "execution_count": null,
   "metadata": {
    "ExecuteTime": {
     "end_time": "2020-04-07T15:14:34.317346Z",
     "start_time": "2020-04-07T15:14:33.438875Z"
    }
   },
   "outputs": [],
   "source": [
    "import dill\n",
    "dill.load_session(\"/Users/nicholasdeporzio/Desktop/lininterp/ps16c.db\")\n",
    "\n",
    "np.savetxt(\"/Users/nicholasdeporzio/Desktop/lininterp/dlogPgdA_s_3.txt\", ps16_forecastset[0].dlogPgdA_s[0, :, 20], delimiter='\\t')\n",
    "np.savetxt(\"/Users/nicholasdeporzio/Desktop/lininterp/dlogPgdn_s_3.txt\", ps16_forecastset[0].dlogPgdn_s[0, :, 20], delimiter='\\t')\n",
    "np.savetxt(\"/Users/nicholasdeporzio/Desktop/lininterp/dlogPgdomega_b_3.txt\", ps16_forecastset[0].dlogPgdomega_b[0, :, 20], delimiter='\\t')\n",
    "np.savetxt(\"/Users/nicholasdeporzio/Desktop/lininterp/dlogPgdomega_cdm_3.txt\", ps16_forecastset[0].dlogPgdomega_cdm[0, :, 20], delimiter='\\t')\n",
    "np.savetxt(\"/Users/nicholasdeporzio/Desktop/lininterp/dlogPgdh_3.txt\", ps16_forecastset[0].dlogPgdh[0, :, 20], delimiter='\\t')\n",
    "np.savetxt(\"/Users/nicholasdeporzio/Desktop/lininterp/dlogPgdN_ncdm_3.txt\", ps16_forecastset[0].dlogPgdN_ncdm[0, :, 20], delimiter='\\t')\n",
    "\n"
   ]
  },
  {
   "cell_type": "code",
   "execution_count": null,
   "metadata": {
    "ExecuteTime": {
     "end_time": "2020-04-07T15:14:40.085889Z",
     "start_time": "2020-04-07T15:14:39.199349Z"
    }
   },
   "outputs": [],
   "source": [
    "import dill\n",
    "dill.load_session(\"/Users/nicholasdeporzio/Desktop/loginterp/ps16c.db\")\n",
    "\n",
    "np.savetxt(\"/Users/nicholasdeporzio/Desktop/loginterp/dlogPgdA_s_3.txt\", ps16_forecastset[0].dlogPgdA_s[0, :, 20], delimiter='\\t')\n",
    "np.savetxt(\"/Users/nicholasdeporzio/Desktop/loginterp/dlogPgdn_s_3.txt\", ps16_forecastset[0].dlogPgdn_s[0, :, 20], delimiter='\\t')\n",
    "np.savetxt(\"/Users/nicholasdeporzio/Desktop/loginterp/dlogPgdomega_b_3.txt\", ps16_forecastset[0].dlogPgdomega_b[0, :, 20], delimiter='\\t')\n",
    "np.savetxt(\"/Users/nicholasdeporzio/Desktop/loginterp/dlogPgdomega_cdm_3.txt\", ps16_forecastset[0].dlogPgdomega_cdm[0, :, 20], delimiter='\\t')\n",
    "np.savetxt(\"/Users/nicholasdeporzio/Desktop/loginterp/dlogPgdh_3.txt\", ps16_forecastset[0].dlogPgdh[0, :, 20], delimiter='\\t')\n",
    "np.savetxt(\"/Users/nicholasdeporzio/Desktop/loginterp/dlogPgdN_ncdm_3.txt\", ps16_forecastset[0].dlogPgdN_ncdm[0, :, 20], delimiter='\\t')"
   ]
  },
  {
   "cell_type": "code",
   "execution_count": null,
   "metadata": {},
   "outputs": [],
   "source": []
  },
  {
   "cell_type": "code",
   "execution_count": null,
   "metadata": {
    "ExecuteTime": {
     "end_time": "2020-04-08T01:24:13.001239Z",
     "start_time": "2020-04-08T01:23:58.578104Z"
    }
   },
   "outputs": [],
   "source": [
    "import dill \n",
    "dill.load_session('/Users/nicholasdeporzio/Desktop/cfworkspace/results/ps17/R6_ps17.db')\n",
    "\n",
    "#for fidx, fval in enumerate(ps17_forecastset): \n",
    "#    for fi, fv in enumerate(fval):\n",
    "#        print(type(fcst.fisher))\n",
    "        \n",
    "        # Instruct pyplot to use seaborn \n",
    "sns.set()\n",
    "\n",
    "masses = np.geomspace(0.01, 10., 10)\n",
    "temps = np.linspace(0.79, 1.5, 12)\n",
    "\n",
    "data = np.array([[np.sqrt(\n",
    "            np.linalg.inv(\n",
    "                np.delete(np.delete(fval.fisher, 4, axis=0), 4, axis=1))[5,5])\n",
    "                               for fidx, fval in enumerate(frowval)] \n",
    "                               for frowidx, frowval in enumerate(ps17_forecastset)]) \n",
    "\n",
    "flatdata = data.flatten()\n",
    "flatnsigmas = 1./flatdata\n",
    "logflatdata = np.log10(flatdata)\n",
    "logflatnsigmas = np.log10(flatnsigmas)\n",
    "\n",
    "\n",
    "plt.figure(figsize=(15,7.5))\n",
    "for tidx, tval in enumerate(temps): \n",
    "    plt.semilogx(masses, data[tidx, :], label=r\"$\\sigma_{g_\\chi}$, DESI, \" + str(tval), linestyle='solid')\n",
    "\n",
    "plt.xlabel(r\"$M_\\chi$ [eV]\", fontsize=24)\n",
    "plt.ylabel(r\"$\\sigma_{g_\\chi}$\", fontsize=24)\n",
    "plt.legend(fontsize=18, loc='lower left')\n",
    "plt.tick_params(axis='x', which='minttor')\n",
    "plt.grid(True, which='minor')\n",
    "#plt.savefig(\"/Users/nicholasdeporzio/Desktop/testing/plotA17a.png\")\n",
    "plt.show()\n",
    "\n",
    " \n",
    "plt.figure(figsize=(15,15))    \n",
    "# Create long format\n",
    "people = np.repeat(np.flip(temps), 10)\n",
    "feature = list(masses) * 12\n",
    "df=pd.DataFrame({'Mass [eV]': feature, 'Temperature [K]': people, 'value': flatdata })\n",
    "# plot it\n",
    "df_wide=df.pivot_table( index='Temperature [K]', columns='Mass [eV]', values='value' )\n",
    "p2=sns.heatmap(df_wide, \n",
    "               yticklabels=(np.flip(temps)),\n",
    "               #xticklabels=(np.flip(masses)),\n",
    "               cbar_kws={'label': r'$\\sigma_{g_\\chi}$'}, \n",
    "               #vmin=0.2, \n",
    "               #vmax=1.5,\n",
    "               annot=True\n",
    "              )\n",
    "#plt.savefig(\"/Users/nicholasdeporzio/Desktop/testing/plotA17b.png\")\n",
    "plt.show()"
   ]
  },
  {
   "cell_type": "code",
   "execution_count": null,
   "metadata": {
    "ExecuteTime": {
     "end_time": "2020-04-08T14:48:52.279455Z",
     "start_time": "2020-04-08T14:48:43.970276Z"
    }
   },
   "outputs": [],
   "source": [
    "import dill \n",
    "#dill.load_session('/Users/nicholasdeporzio/Desktop/cfworkspace/results/ps18/ps18_24MAR2020.db')\n",
    "dill.load_session('/Volumes/SSD01/results/ps18/2_7_ps18.db')\n",
    "\n",
    "# Instruct pyplot to use seaborn \n",
    "sns.set()\n",
    "\n",
    "data = np.array([[np.sqrt(\n",
    "            np.linalg.inv(\n",
    "                np.delete(np.delete(fval.fisher, 4, axis=0), 4, axis=1))[5,5])\n",
    "                               for fidx, fval in enumerate(frowval)] \n",
    "                               for frowidx, frowval in enumerate(ps18_forecastset[0:1])]) \n",
    "\n",
    "flatdata = data.flatten()\n",
    "flatnsigmas = 1./flatdata\n",
    "logflatdata = np.log10(flatdata)\n",
    "logflatnsigmas = np.log10(flatnsigmas)\n",
    "\n",
    "\n",
    "plt.figure(figsize=(15,7.5))\n",
    "\n",
    "plt.semilogx(masses, data[0, :], label=r\"$\\sigma_{g_\\chi}$, DESI, 0.79K\", linestyle='solid')\n",
    "#plt.semilogx(masses, data[1, :], label=r\"$\\sigma_{g_\\chi}$, DESI, 0.91K\", linestyle='solid')\n",
    "#plt.semilogx(masses, data[2, :], label=r\"$\\sigma_{g_\\chi}$, DESI, 0.94K\", linestyle='solid')\n",
    "#plt.semilogx(masses, data[3, :], label=r\"$\\sigma_{g_\\chi}$, DESI, 1.08K\", linestyle='solid')\n",
    "\n",
    "plt.xlabel(r\"$M_\\chi$ [eV]\", fontsize=24)\n",
    "plt.ylabel(r\"$\\sigma_{g_\\chi}$\", fontsize=24)\n",
    "plt.legend(fontsize=18, loc='lower left')\n",
    "plt.tick_params(axis='x', which='minttor')\n",
    "plt.grid(True, which='minor')\n",
    "#plt.savefig(\"/Users/nicholasdeporzio/Desktop/testing/plotA18a.png\")\n",
    "plt.show()\n",
    "\n",
    "\n",
    "plt.figure(figsize=(15,7.5))\n",
    "\n",
    "plt.loglog(masses, 1./data[0, :], label=r\"$\\sigma_{g_\\chi}$, DESI, 0.79K\", linestyle='solid')\n",
    "#plt.loglog(masses, 1./data[1, :], label=r\"$\\sigma_{g_\\chi}$, DESI, 0.91K\", linestyle='solid')\n",
    "#plt.loglog(masses, 1./data[2, :], label=r\"$\\sigma_{g_\\chi}$, DESI, 0.94K\", linestyle='solid')#\n",
    "#plt.loglog(masses, 1./data[3, :], label=r\"$\\sigma_{g_\\chi}$, DESI, 1.08K\", linestyle='solid')\n",
    "\n",
    "plt.xlabel(r\"$M_\\chi$ [eV]\", fontsize=24)\n",
    "plt.ylabel(r\"$1/\\sigma_{g_\\chi}$\", fontsize=24)\n",
    "plt.legend(fontsize=18, loc='lower left')\n",
    "plt.tick_params(axis='x', which='minttor')\n",
    "plt.grid(True, which='minor')\n",
    "#plt.savefig(\"/Users/nicholasdeporzio/Desktop/testing/plotA18b.png\")\n",
    "plt.show()"
   ]
  },
  {
   "cell_type": "code",
   "execution_count": null,
   "metadata": {},
   "outputs": [],
   "source": []
  },
  {
   "cell_type": "code",
   "execution_count": null,
   "metadata": {
    "ExecuteTime": {
     "end_time": "2020-04-08T15:18:03.557821Z",
     "start_time": "2020-04-08T15:17:57.826689Z"
    }
   },
   "outputs": [],
   "source": [
    "import dill\n",
    "dill.load_session('/Volumes/SSD01/results/ps18/2_6_ps18.db')\n",
    "\n",
    "np.sqrt(np.linalg.inv(ps18_forecastset[0][0].fisher)[6,6])"
   ]
  },
  {
   "cell_type": "code",
   "execution_count": null,
   "metadata": {
    "ExecuteTime": {
     "end_time": "2020-04-08T14:36:42.216665Z",
     "start_time": "2020-04-08T14:36:40.811466Z"
    }
   },
   "outputs": [],
   "source": [
    "import dill\n",
    "dill.load_session('/Volumes/SSD01/results/ps20/loginterp/1_1_ps20.db')\n",
    "\n",
    "\n",
    "np.sqrt(np.linalg.inv(ps20_forecastset[0][0].fisher)[6,6])"
   ]
  },
  {
   "cell_type": "code",
   "execution_count": null,
   "metadata": {
    "ExecuteTime": {
     "end_time": "2020-04-08T14:36:42.339030Z",
     "start_time": "2020-04-08T14:36:42.219220Z"
    }
   },
   "outputs": [],
   "source": [
    "import dill\n",
    "dill.load_session('/Volumes/SSD01/results/ps22/loginterp/1_0_ps22.db')\n",
    "\n",
    "np.sqrt(np.linalg.inv(ps22_forecastset[0][0].fisher)[6,6])"
   ]
  },
  {
   "cell_type": "code",
   "execution_count": null,
   "metadata": {},
   "outputs": [],
   "source": []
  },
  {
   "cell_type": "code",
   "execution_count": null,
   "metadata": {},
   "outputs": [],
   "source": []
  },
  {
   "cell_type": "code",
   "execution_count": null,
   "metadata": {},
   "outputs": [],
   "source": [
    "\n",
    "\n",
    "\n",
    "\n"
   ]
  },
  {
   "cell_type": "code",
   "execution_count": null,
   "metadata": {},
   "outputs": [],
   "source": []
  },
  {
   "cell_type": "code",
   "execution_count": null,
   "metadata": {},
   "outputs": [],
   "source": []
  },
  {
   "cell_type": "markdown",
   "metadata": {},
   "source": [
    " # TO RENAME PRIOR MATRIX HEADER ROW"
   ]
  },
  {
   "cell_type": "code",
   "execution_count": null,
   "metadata": {
    "ExecuteTime": {
     "end_time": "2020-04-14T05:17:59.496890Z",
     "start_time": "2020-04-14T05:17:59.382802Z"
    }
   },
   "outputs": [],
   "source": [
    "import os\n",
    "for root, dirs, files in os.walk(\"/Users/nicholasdeporzio/Documents/Academic/Research/Projects/cosmicfish/cosmicfish/priors/Relic_Fine_Priors\"):\n",
    "    for file in files:\n",
    "        if file.endswith(\".txt\"):\n",
    "            with open(os.path.join(root, file), 'r') as original: \n",
    "                data = original.readlines()\n",
    "                data[0]='A_s\\th\\tn_s\\tomega_b\\tomega_cdm\\ttau_reio\\tN_ncdm\\n'\n",
    "            with open(os.path.join(root, file), 'w') as modified: \n",
    "                modified.writelines(data)\n",
    "\n"
   ]
  },
  {
   "cell_type": "code",
   "execution_count": null,
   "metadata": {
    "ExecuteTime": {
     "end_time": "2020-04-13T21:20:20.441822Z",
     "start_time": "2020-04-13T21:20:20.416611Z"
    }
   },
   "outputs": [],
   "source": [
    "import os \n",
    "tempval = '1.08'\n",
    "oldval = '1.1'\n",
    "rootdir = (\n",
    "    \"/Users/nicholasdeporzio/Documents/Academic/Research/Projects/cosmicfish/\" \n",
    "    + \"cosmicfish/priors/Relic_Fine_Priors/Fisher_T0.79K/FisherCMBS4_bin1_T0.79K.txt\")\n",
    "for idx in range(21): \n",
    "    os.rename(rootdir+'FisherCMBS4_bin'+str(idx+1)+'_T'+str(oldval)+'K.txt', rootdir+'FisherCMBS4_bin'+str(idx+1)+'_T'+str(tempval)+'K.txt')\n",
    "    os.rename(rootdir+'FisherPlanck_bin'+str(idx+1)+'_T'+str(oldval)+'K.txt', rootdir+'FisherPlanck_bin'+str(idx+1)+'_T'+str(tempval)+'K.txt')\n",
    "    \n",
    "    \n",
    "    "
   ]
  },
  {
   "cell_type": "code",
   "execution_count": null,
   "metadata": {
    "ExecuteTime": {
     "end_time": "2020-04-14T21:00:51.801755Z",
     "start_time": "2020-04-14T21:00:51.774021Z"
    }
   },
   "outputs": [],
   "source": [
    "import numpy as np\n",
    "import pandas as pd \n",
    "\n",
    "cmbs4_fish = pd.read_csv(\n",
    "    ('/Users/nicholasdeporzio/Documents/Academic/Research/Projects/cosmicfish/cosmicfish/priors/Relic_Fine_Priors/Fisher_T0.91K/FisherCMBS4_bin1_T0.91K.txt'),\n",
    "    header=0, \n",
    "    sep='\\t')\n",
    "\n",
    "planck_fish = pd.read_csv(\n",
    "    ('/Users/nicholasdeporzio/Documents/Academic/Research/Projects/cosmicfish/cosmicfish/priors/Relic_Fine_Priors/Fisher_T0.91K/FisherPlanck_bin1_T0.91K.txt'),\n",
    "    header=0, \n",
    "    sep='\\t')\n",
    "\n",
    "cmbs4_cov = pd.DataFrame(\n",
    "    np.linalg.inv(cmbs4_fish), \n",
    "    columns=cmbs4_fish.columns)\n",
    "\n",
    "planck_cov = pd.DataFrame(\n",
    "    np.linalg.inv(planck_fish), \n",
    "    columns=planck_fish.columns)\n",
    "\n",
    "cmbs4_fish"
   ]
  },
  {
   "cell_type": "code",
   "execution_count": null,
   "metadata": {
    "ExecuteTime": {
     "end_time": "2020-04-14T21:01:29.625234Z",
     "start_time": "2020-04-14T21:01:29.618329Z"
    }
   },
   "outputs": [],
   "source": [
    "\n",
    "for param in range(7):\n",
    "    print('CMBS4 Error on ' + cmbs4_cov.columns[param] + ' : ' + str(np.sqrt(cmbs4_cov.iloc[param, param])))\n",
    "    print('Planck Error on ' + planck_cov.columns[param] + ' : ' + str(np.sqrt(planck_cov.iloc[param, param])))"
   ]
  },
  {
   "cell_type": "markdown",
   "metadata": {
    "ExecuteTime": {
     "end_time": "2020-04-14T20:50:13.530567Z",
     "start_time": "2020-04-14T20:50:13.517301Z"
    }
   },
   "source": [
    "# Does marginalizing over beta1 matter for DESI?"
   ]
  },
  {
   "cell_type": "code",
   "execution_count": null,
   "metadata": {
    "ExecuteTime": {
     "end_time": "2020-04-15T22:11:03.589759Z",
     "start_time": "2020-04-15T22:11:01.831523Z"
    }
   },
   "outputs": [],
   "source": [
    "import os\n",
    "import shutil\n",
    "import numpy as np\n",
    "import pandas as pd\n",
    "import seaborn as sns \n",
    "import cosmicfish as cf \n",
    "import matplotlib.pyplot as plt\n",
    "import dill"
   ]
  },
  {
   "cell_type": "code",
   "execution_count": null,
   "metadata": {
    "ExecuteTime": {
     "end_time": "2020-04-15T22:11:07.045377Z",
     "start_time": "2020-04-15T22:11:03.592390Z"
    },
    "scrolled": false
   },
   "outputs": [],
   "source": [
    "masses = np.geomspace(0.01, 10., 21)\n",
    "\n",
    "beta1_idx=9\n",
    "param_err_idx=6\n",
    "cmbsurvey='Planck'\n",
    "temp='0.91'\n",
    "\n",
    "data_beta1_fixed = np.array([\n",
    "    np.sqrt(\n",
    "        np.linalg.inv(\n",
    "            np.delete(\n",
    "                np.delete(\n",
    "                    np.loadtxt('/Volumes/SSD01/results/ps22/'+cmbsurvey+'/T'+temp+'/M'+str(midx+1)+'_Full_Fisher.dat', delimiter='\\t', skiprows=1), \n",
    "                    beta1_idx, axis=0), \n",
    "                beta1_idx, axis=1)\n",
    "        )[param_err_idx, param_err_idx]\n",
    "    )\n",
    "    for midx, mval in enumerate(masses)]) \n",
    "\n",
    "data_beta1_marginalized = np.array([\n",
    "    np.sqrt(\n",
    "            np.loadtxt('/Volumes/SSD01/results/ps22/'+cmbsurvey+'/T'+temp+'/M'+str(midx+1)+'/inv_fullfisher.mat', delimiter='\\t', skiprows=1)[param_err_idx, param_err_idx] \n",
    "    )\n",
    "    for midx, mval in enumerate(masses)])\n",
    "\n",
    "plt.figure(figsize=(15,7.5))\n",
    "plt.semilogx(masses, data_beta1_fixed, label=r\"$\\beta_1$ Fixed\", linestyle='solid')\n",
    "plt.semilogx(masses, data_beta1_marginalized, label=r\"$\\beta_1$ Marginalized\", linestyle='solid')\n",
    "plt.xlabel(r\"$M_\\chi$ [eV]\", fontsize=24)\n",
    "plt.ylabel(r\"$\\sigma_{g_\\chi}$\", fontsize=24)\n",
    "plt.legend(fontsize=18, loc='lower left')\n",
    "plt.tick_params(axis='x', which='minttor')\n",
    "plt.grid(True, which='minor')\n",
    "plt.title('BOSS + '+cmbsurvey+', T='+temp+'K')\n",
    "#plt.savefig(\"/Users/nicholasdeporzio/Desktop/testing/plotA18a.png\")\n",
    "plt.show()\n",
    "\n",
    "plt.figure(figsize=(15,7.5))\n",
    "plt.semilogx(masses, data_beta1_fixed-data_beta1_marginalized, label=r\"$\\beta_1$ Fixed\", linestyle='solid')\n",
    "plt.xlabel(r\"$M_\\chi$ [eV]\", fontsize=24)\n",
    "plt.ylabel(r\"$\\sigma_{g_\\chi}(\\beta_1 ~~Fixed) - \\sigma_{g_\\chi}(\\beta_1 ~~Marginalized)$\", fontsize=24)\n",
    "plt.legend(fontsize=18, loc='lower left')\n",
    "plt.tick_params(axis='x', which='minttor')\n",
    "plt.grid(True, which='minor')\n",
    "plt.title('BOSS + '+cmbsurvey+', T='+temp+'K')\n",
    "#plt.savefig(\"/Users/nicholasdeporzio/Desktop/testing/plotA18a.png\")\n",
    "plt.show()\n",
    "\n",
    "plt.figure(figsize=(15,7.5))\n",
    "plt.semilogx(masses, (data_beta1_fixed-data_beta1_marginalized)/data_beta1_marginalized, label=r\"$\\beta_1$ Fixed\", linestyle='solid')\n",
    "plt.xlabel(r\"$M_\\chi$ [eV]\", fontsize=24)\n",
    "plt.ylabel(r\"$(\\sigma_{g_\\chi}(\\beta_1 ~~Fixed) - \\sigma_{g_\\chi}(\\beta_1 ~~Marginalized))/\\sigma_{g_\\chi}(\\beta_1 ~~Marginalized)$\", fontsize=24)\n",
    "plt.legend(fontsize=18, loc='lower left')\n",
    "plt.tick_params(axis='x', which='minttor')\n",
    "plt.grid(True, which='minor')\n",
    "plt.title('BOSS + '+cmbsurvey+', T='+temp+'K')\n",
    "#plt.savefig(\"/Users/nicholasdeporzio/Desktop/testing/plotA18a.png\")\n",
    "plt.show()\n"
   ]
  },
  {
   "cell_type": "code",
   "execution_count": null,
   "metadata": {},
   "outputs": [],
   "source": []
  },
  {
   "cell_type": "code",
   "execution_count": null,
   "metadata": {},
   "outputs": [],
   "source": []
  },
  {
   "cell_type": "code",
   "execution_count": null,
   "metadata": {},
   "outputs": [],
   "source": []
  },
  {
   "cell_type": "code",
   "execution_count": null,
   "metadata": {},
   "outputs": [],
   "source": []
  },
  {
   "cell_type": "code",
   "execution_count": null,
   "metadata": {},
   "outputs": [],
   "source": []
  },
  {
   "cell_type": "code",
   "execution_count": null,
   "metadata": {},
   "outputs": [],
   "source": []
  },
  {
   "cell_type": "code",
   "execution_count": null,
   "metadata": {},
   "outputs": [],
   "source": []
  },
  {
   "cell_type": "code",
   "execution_count": null,
   "metadata": {},
   "outputs": [],
   "source": []
  }
 ],
 "metadata": {
  "kernelspec": {
   "display_name": "3.8.0",
   "language": "python",
   "name": "3.8.0"
  },
  "language_info": {
   "codemirror_mode": {
    "name": "ipython",
    "version": 3
   },
   "file_extension": ".py",
   "mimetype": "text/x-python",
   "name": "python",
   "nbconvert_exporter": "python",
   "pygments_lexer": "ipython3",
   "version": "3.8.0"
  },
  "notify_time": "10"
 },
 "nbformat": 4,
 "nbformat_minor": 4
}
