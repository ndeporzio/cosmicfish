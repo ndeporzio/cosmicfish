{
 "cells": [
  {
   "cell_type": "code",
   "execution_count": null,
   "metadata": {
    "ExecuteTime": {
     "end_time": "2020-04-11T05:12:31.116656Z",
     "start_time": "2020-04-11T05:12:29.981039Z"
    }
   },
   "outputs": [],
   "source": [
    "import os\n",
    "import shutil\n",
    "import numpy as np\n",
    "import pandas as pd\n",
    "import seaborn as sns \n",
    "import cosmicfish as cf \n",
    "import matplotlib.pyplot as plt\n",
    "import dill\n",
    "\n",
    "\n",
    "# Instruct pyplot to use seaborn \n",
    "sns.set()\n",
    "\n",
    "# Set project, data, CLASS directories \n",
    "projectdir = cf.correct_path(\"/Volumes/SSD01/\")\n",
    "datastore = cf.correct_path(\"/Volumes/SSD01/data.nosync16b/\")\n",
    "classpath = os.path.join(\"/Users/nicholasdeporzio/Desktop/cfworkspace/class3\")\n",
    "\n",
    "# Specify resolution of numerical integrals\n",
    "derivative_step = 0.008 # How much to vary parameter to calculate numerical derivative\n",
    "mu_integral_step = 0.05 # For calculating numerical integral wrt mu between -1 and 1 \n",
    "\n",
    "# Generate output paths  \n",
    "ps16_resultsdir = os.path.join(projectdir, 'results', 'ps16b')\n",
    "cf.makedirectory(ps16_resultsdir)\n",
    "\n",
    "# Linda Fiducial Cosmology \n",
    "ps16_fid = {\n",
    "        \"A_s\" : 2.2321e-9, \n",
    "        \"n_s\" : 0.967,\n",
    "        \"omega_b\" : 0.02226,\n",
    "        \"omega_cdm\" : 0.1127,\n",
    "        \"tau_reio\" : 0.0598,\n",
    "        \"h\" : 0.701,\n",
    "        \"T_cmb\" : 2.726, # Units [K]\n",
    "        \"N_ncdm\" : 1., \n",
    "        \"deg_ncdm\" : 1.5,\n",
    "        \"T_ncdm\" : (0.9052/2.726), # Units [T_cmb]. \n",
    "        \"m_ncdm\" : 0.0328, # Units [eV]\n",
    "        \"b0\" : 1.0, \n",
    "        \"beta0\" : 1.7, \n",
    "        \"beta1\" : 1.0,\n",
    "        \"alphak2\" : 1.0,\n",
    "        \"sigma_fog_0\" : 250000, #Units [m s^-2]\n",
    "        \"N_eff\" : 3.046, #We allow relativistic neutrinos in addition to our DM relic\n",
    "        \"relic_vary\" : \"N_ncdm\" # Fix T_ncdm or m_ncdm \n",
    "        }\n",
    "\n",
    "# EUCLID Parameters\n",
    "z_table = np.array([0.65, 0.75, 0.85, 0.95, 1.05, 1.15, 1.25, 1.35, 1.45, 1.55, 1.65, 1.75, 1.85, 1.95])\n",
    "dNdz = np.array([2434.280, 4364.812, 4728.559, 4825.798, 4728.797, 4507.625, 4269.851, 3720.657, 3104.309, \n",
    "    2308.975, 1514.831, 1474.707, 893.716, 497.613])\n",
    "skycover = 0.3636 # Sky coverage of survey in fraction\n",
    "\n",
    "# Run Fisher Forecast\n",
    "#masses = np.append(np.array([0.001, 0.01]), np.geomspace(0.1, 22.0, 25))\n",
    "masses = np.array([0.2])\n",
    "\n",
    "omegacdm_set = ps16_fid['omega_cdm'] - ps16_fid[\"N_ncdm\"]*((masses/cf.NEUTRINO_SCALE_FACTOR)*np.power(ps16_fid['T_ncdm']*2.726 / 1.95, 3.))                                     \n",
    "ps16_fiducialset = [dict(ps16_fid, **{'m_ncdm' : masses[midx], 'omega_cdm' : omegacdm_set[midx]}) \n",
    "               for midx, mval in enumerate(masses)]\n"
   ]
  },
  {
   "cell_type": "code",
   "execution_count": null,
   "metadata": {
    "ExecuteTime": {
     "end_time": "2020-04-11T05:27:53.147603Z",
     "start_time": "2020-04-11T05:12:33.390505Z"
    }
   },
   "outputs": [],
   "source": [
    "ps16_forecastset = [cf.forecast(\n",
    "    classpath, \n",
    "    datastore, \n",
    "    'relic', \n",
    "    fidval, \n",
    "    z_table, \n",
    "    \"EUCLID\",\n",
    "    dNdz, \n",
    "    fsky=skycover, \n",
    "    dstep=derivative_step,\n",
    "    RSD=True,\n",
    "    FOG=True,\n",
    "    AP=True,\n",
    "    COV=True) for fididx, fidval in enumerate(ps16_fiducialset)]\n",
    "for fidx, fcst in enumerate(ps16_forecastset): \n",
    "    fcst.gen_pm()\n",
    "    fcst.gen_fisher(\n",
    "        fisher_order=[\n",
    "            'omega_b',                                    \n",
    "            'omega_cdm',                                  \n",
    "            'n_s',                                        \n",
    "            'A_s',                                        \n",
    "            'tau_reio',                                   \n",
    "            'h',                                                                             \n",
    "            'N_ncdm',                                 \n",
    "            'sigma_fog',                                   \n",
    "            'beta0',\n",
    "            'beta1',\n",
    "            'alpha_k2'],\n",
    "        mu_step=mu_integral_step, \n",
    "        skipgen=False)\n",
    "    print(\"Relic Forecast \", fidx, \" complete...\")\n",
    "    dill.dump_session(os.path.join(ps16_resultsdir, 'ps16b.db'))"
   ]
  },
  {
   "cell_type": "code",
   "execution_count": null,
   "metadata": {
    "ExecuteTime": {
     "end_time": "2020-03-30T15:53:52.812634Z",
     "start_time": "2020-03-30T15:53:52.659832Z"
    }
   },
   "outputs": [],
   "source": [
    "dill.load_session(os.path.join(ps16_resultsdir, 'ps16b.db'))"
   ]
  },
  {
   "cell_type": "code",
   "execution_count": null,
   "metadata": {
    "ExecuteTime": {
     "end_time": "2020-03-30T21:14:16.724416Z",
     "start_time": "2020-03-30T21:14:16.720244Z"
    }
   },
   "outputs": [],
   "source": [
    "ps16_forecastset[0].spectra_mid[0].datadirectory"
   ]
  },
  {
   "cell_type": "code",
   "execution_count": null,
   "metadata": {
    "ExecuteTime": {
     "end_time": "2020-04-11T07:43:42.689635Z",
     "start_time": "2020-04-11T07:43:42.630463Z"
    }
   },
   "outputs": [],
   "source": [
    "np.savetxt(\"/Users/nicholasdeporzio/Desktop/k_2.txt\", ps16_forecastset[0].k_table[0], delimiter='\\t')\n",
    "np.savetxt(\"/Users/nicholasdeporzio/Desktop/db_2.txt\", ps16_forecastset[0].spectra_mid[0].b_interp_table, delimiter='\\t')\n",
    "np.savetxt(\"/Users/nicholasdeporzio/Desktop/dcdm_2.txt\", ps16_forecastset[0].spectra_mid[0].cdm_interp_table, delimiter='\\t')\n",
    "np.savetxt(\"/Users/nicholasdeporzio/Desktop/Pg_2.txt\", ps16_forecastset[0].Pg[0, :, 20], delimiter='\\t')\n",
    "np.savetxt(\"/Users/nicholasdeporzio/Desktop/Pm_2.txt\", ps16_forecastset[0].Pm[0], delimiter='\\t')"
   ]
  },
  {
   "cell_type": "code",
   "execution_count": null,
   "metadata": {
    "ExecuteTime": {
     "end_time": "2020-04-07T14:29:22.958047Z",
     "start_time": "2020-04-07T14:29:21.382690Z"
    }
   },
   "outputs": [],
   "source": [
    "plt.figure(figsize=(15,7.5))\n",
    "\n",
    "plt.loglog(ps16_forecastset[0].k_table[0], ps16_forecastset[0].Pg[0, :, 20], label=r\"$P_g$, $g_\\chi$=1.5\", linestyle='solid')\n",
    "\n",
    "\n",
    "\n",
    "\n",
    "\n",
    "\n",
    "\n",
    "plt.title(r\"DESI, z=0.65, $\\mu=0$, m=0.2[eV]\")\n",
    "plt.xlabel(r\"$k$ [Mpc$^{-1}$]\", fontsize=24)\n",
    "plt.ylabel(r\"$P_g$\", fontsize=24)\n",
    "plt.legend(fontsize=18, loc='lower left')\n",
    "plt.tick_params(axis='x', which='minttor')\n",
    "plt.grid(True, which='minor')\n",
    "plt.savefig(\"/Users/nicholasdeporzio/Desktop/testing/plotA19b.png\")\n",
    "plt.show()"
   ]
  },
  {
   "cell_type": "code",
   "execution_count": null,
   "metadata": {},
   "outputs": [],
   "source": []
  }
 ],
 "metadata": {
  "kernelspec": {
   "display_name": "3.8.0",
   "language": "python",
   "name": "3.8.0"
  },
  "language_info": {
   "codemirror_mode": {
    "name": "ipython",
    "version": 3
   },
   "file_extension": ".py",
   "mimetype": "text/x-python",
   "name": "python",
   "nbconvert_exporter": "python",
   "pygments_lexer": "ipython3",
   "version": "3.8.0"
  },
  "notify_time": "10"
 },
 "nbformat": 4,
 "nbformat_minor": 4
}
