{
 "cells": [
  {
   "cell_type": "code",
   "execution_count": null,
   "metadata": {
    "ExecuteTime": {
     "end_time": "2020-04-25T07:25:05.545475Z",
     "start_time": "2020-04-25T07:25:02.304199Z"
    }
   },
   "outputs": [],
   "source": [
    "import dill\n",
    "dill.load_session('/Volumes/SSD01/results/ps23/0_17_ps23.db')\n",
    "sns.set()"
   ]
  },
  {
   "cell_type": "code",
   "execution_count": null,
   "metadata": {
    "ExecuteTime": {
     "end_time": "2020-04-23T15:24:58.750032Z",
     "start_time": "2020-04-23T15:24:56.788063Z"
    }
   },
   "outputs": [],
   "source": [
    "data = np.array([[np.sqrt(                                                      \n",
    "            (np.linalg.inv(                                                      \n",
    "                np.delete(np.delete(fval.fisher, 4, axis=0), 4, axis=1))[5,5]))  \n",
    "                               for fidx, fval in enumerate(frowval[0:17])]            \n",
    "                               for frowidx, frowval in enumerate(ps23_forecastset)])\n",
    "                                                                                \n",
    "flatdata = data.flatten()                                                       \n",
    "flatnsigmas = 1./flatdata                                                       \n",
    "logflatdata = np.log10(flatdata)                                                \n",
    "logflatnsigmas = np.log10(flatnsigmas)                                          \n",
    "                                                                                \n",
    "                                                                                \n",
    "plt.figure(figsize=(15,7.5))                                                    \n",
    "plt.semilogx(masses[0:17], data[0], 'o', label=r\"$\\sigma_{g_\\chi}$, DESI, 0.91K\", linestyle='solid')\n",
    "plt.xlabel(r\"$M_\\chi$ [eV]\", fontsize=24)                                       \n",
    "plt.ylabel(r\"$\\sigma_{g_\\chi}$\", fontsize=24)                                   \n",
    "plt.legend(fontsize=18, loc='lower left')                                       \n",
    "plt.tick_params(axis='x', which='minttor')                                      \n",
    "plt.grid(True, which='minor')                                                   \n",
    "plt.show()                                 \n",
    "                                                                                \n",
    "plt.figure(figsize=(15,7.5))                                                    \n",
    "plt.loglog(masses[0:17], 1./data[0], label=r\"$\\sigma_{g_\\chi}$, DESI, 0.91K\", linestyle='solid')\n",
    "plt.xlabel(r\"$M_\\chi$ [eV]\", fontsize=24)                                       \n",
    "plt.ylabel(r\"$1/\\sigma_{g_\\chi}$\", fontsize=24)                                 \n",
    "plt.legend(fontsize=18, loc='lower left')                                       \n",
    "plt.tick_params(axis='x', which='minttor')                                      \n",
    "plt.grid(True, which='minor')                                                   \n",
    "plt.show()"
   ]
  },
  {
   "cell_type": "code",
   "execution_count": null,
   "metadata": {
    "ExecuteTime": {
     "end_time": "2020-04-25T07:32:40.959766Z",
     "start_time": "2020-04-25T07:32:40.309143Z"
    }
   },
   "outputs": [],
   "source": [
    "plt.figure(figsize=(15,7.5))                                                    \n",
    "plt.semilogx(ps23_forecastset[0][0].k_table[0], ps23_forecastset[0][0].dlogCOVdomega_ncdm[0], label=r\"DESI, 0.91K\", linestyle='solid')\n",
    "plt.xlabel(r\"$k$\", fontsize=24)                                       \n",
    "plt.ylabel(r\"$dP_g/d\\omega_{ncdm}$\", fontsize=24)                                   \n",
    "plt.legend(fontsize=18, loc='lower left')                                       \n",
    "plt.tick_params(axis='x', which='minttor')                                      \n",
    "plt.grid(True, which='minor')  \n",
    "plt.title(r\"Simultaneous relic $g_\\chi$ and neutrino $M_\\nu$ forecast\")\n",
    "#plt.savefig('/Users/nicholasdeporzio/Desktop/diagnostics/p1_gm.png')\n",
    "plt.show()"
   ]
  },
  {
   "cell_type": "code",
   "execution_count": null,
   "metadata": {
    "ExecuteTime": {
     "end_time": "2020-04-25T01:48:02.990117Z",
     "start_time": "2020-04-25T01:47:45.145465Z"
    },
    "scrolled": false
   },
   "outputs": [],
   "source": [
    "plt.figure(figsize=(15,7.5))                                                    \n",
    "plt.loglog(ps23_forecastset[0][0].k_table[0], ps23_forecastset[0][0].spectra_mid[0].ps_table, label=r\"DESI, 0.91K\", linestyle='solid')\n",
    "plt.xlabel(r\"$k$\", fontsize=24)                                       \n",
    "plt.ylabel(r\"$P_m$\", fontsize=24)                                   \n",
    "plt.legend(fontsize=18, loc='lower left')                                       \n",
    "plt.tick_params(axis='x', which='minttor')                                      \n",
    "plt.grid(True, which='minor')  \n",
    "plt.title(r\"Simultaneous relic $g_\\chi$ and neutrino $M_\\nu$ forecast\")\n",
    "plt.savefig('/Users/nicholasdeporzio/Desktop/diagnostics/p1_gm.png')\n",
    "plt.show()\n",
    "\n",
    "\n",
    "plt.figure(figsize=(15,7.5))                                                    \n",
    "plt.loglog(ps23_forecastset[0][0].k_table[0], ps23_forecastset[0][0].RSD[0, :, -1], label=r\"DESI, 0.91K\", linestyle='solid')\n",
    "plt.xlabel(r\"$k$\", fontsize=24)                                       \n",
    "plt.ylabel(r\"$RSD$\", fontsize=24)                                   \n",
    "plt.legend(fontsize=18, loc='lower left')                                       \n",
    "plt.tick_params(axis='x', which='minttor')                                      \n",
    "plt.grid(True, which='minor')  \n",
    "plt.title(r\"Simultaneous relic $g_\\chi$ and neutrino $M_\\nu$ forecast\")\n",
    "plt.savefig('/Users/nicholasdeporzio/Desktop/diagnostics/p2_gm.png')\n",
    "plt.show()\n",
    "\n",
    "\n",
    "plt.figure(figsize=(15,7.5))                                                    \n",
    "plt.loglog(ps23_forecastset[0][0].k_table[0], ps23_forecastset[0][0].FOG[0, :, -1], label=r\"DESI, 0.91K\", linestyle='solid')\n",
    "plt.xlabel(r\"$k$\", fontsize=24)                                       \n",
    "plt.ylabel(r\"$FOG$\", fontsize=24)                                   \n",
    "plt.legend(fontsize=18, loc='lower left')                                       \n",
    "plt.tick_params(axis='x', which='minttor')                                      \n",
    "plt.grid(True, which='minor')  \n",
    "plt.title(r\"Simultaneous relic $g_\\chi$ and neutrino $M_\\nu$ forecast\")\n",
    "plt.savefig('/Users/nicholasdeporzio/Desktop/diagnostics/p3_gm.png')\n",
    "plt.show()\n",
    "\n",
    "\n",
    "\n",
    "plt.figure(figsize=(15,7.5))                                                    \n",
    "plt.loglog(ps23_forecastset[0][0].k_table[0], ps23_forecastset[0][0].Pg[0, :, -1], label=r\"DESI, 0.91K\", linestyle='solid')\n",
    "plt.xlabel(r\"$k$\", fontsize=24)                                       \n",
    "plt.ylabel(r\"$P_g$\", fontsize=24)                                   \n",
    "plt.legend(fontsize=18, loc='lower left')                                       \n",
    "plt.tick_params(axis='x', which='minttor')                                      \n",
    "plt.grid(True, which='minor')  \n",
    "plt.title(r\"Simultaneous relic $g_\\chi$ and neutrino $M_\\nu$ forecast\")\n",
    "plt.savefig('/Users/nicholasdeporzio/Desktop/diagnostics/p4_gm.png')\n",
    "plt.show()\n",
    "\n",
    "plt.figure(figsize=(15,7.5))                                                    \n",
    "plt.semilogx(ps23_forecastset[0][0].k_table[0], ps23_forecastset[0][0].dlogPgdN_ncdm[0, :, -1], label=r\"DESI, 0.91K\", linestyle='solid')\n",
    "plt.xlabel(r\"$k$\", fontsize=24)                                       \n",
    "plt.ylabel(r\"$dlogP_g/dg$\", fontsize=24)                                   \n",
    "plt.legend(fontsize=18, loc='lower left')                                       \n",
    "plt.tick_params(axis='x', which='minttor')                                      \n",
    "plt.grid(True, which='minor')  \n",
    "plt.title(r\"Simultaneous relic $g_\\chi$ and neutrino $M_\\nu$ forecast\")\n",
    "plt.savefig('/Users/nicholasdeporzio/Desktop/diagnostics/p5a_gm.png')\n",
    "plt.show()\n",
    "\n",
    "plt.figure(figsize=(15,7.5))                                                    \n",
    "plt.semilogx(ps23_forecastset[0][0].k_table[0], ps23_forecastset[0][0].dlogPgdM_ncdm[0, :, -1], label=r\"DESI, 0.91K\", linestyle='solid')\n",
    "plt.xlabel(r\"$k$\", fontsize=24)                                       \n",
    "plt.ylabel(r\"$dlogP_g/dM_\\nu$\", fontsize=24)                                   \n",
    "plt.legend(fontsize=18, loc='lower left')                                       \n",
    "plt.tick_params(axis='x', which='minttor')                                      \n",
    "plt.grid(True, which='minor')  \n",
    "plt.title(r\"Simultaneous relic $g_\\chi$ and neutrino $M_\\nu$ forecast\")\n",
    "plt.savefig('/Users/nicholasdeporzio/Desktop/diagnostics/p5b_gm.png')\n",
    "plt.show()\n",
    "\n",
    "plt.figure(figsize=(15,7.5))                                                    \n",
    "plt.semilogx(ps23_forecastset[0][0].k_table[0], ps23_forecastset[0][0].dlogPdN_ncdm[0, :], label=r\"DESI, 0.91K\", linestyle='solid')\n",
    "plt.xlabel(r\"$k$\", fontsize=24)                                       \n",
    "plt.ylabel(r\"$dlogP_m/dg$\", fontsize=24)                                   \n",
    "plt.legend(fontsize=18, loc='lower left')                                       \n",
    "plt.tick_params(axis='x', which='minttor')                                      \n",
    "plt.grid(True, which='minor')  \n",
    "plt.title(r\"Simultaneous relic $g_\\chi$ and neutrino $M_\\nu$ forecast\")\n",
    "plt.savefig('/Users/nicholasdeporzio/Desktop/diagnostics/p6a_gm.png')\n",
    "plt.show()\n",
    "\n",
    "plt.figure(figsize=(15,7.5))                                                    \n",
    "plt.semilogx(ps23_forecastset[0][0].k_table[0], ps23_forecastset[0][0].dlogPdM_ncdm[0, :], label=r\"DESI, 0.91K\", linestyle='solid')\n",
    "plt.xlabel(r\"$k$\", fontsize=24)                                       \n",
    "plt.ylabel(r\"$dlogP_m/dM_\\nu$\", fontsize=24)                                   \n",
    "plt.legend(fontsize=18, loc='lower left')                                       \n",
    "plt.tick_params(axis='x', which='minttor')                                      \n",
    "plt.grid(True, which='minor')  \n",
    "plt.title(r\"Simultaneous relic $g_\\chi$ and neutrino $M_\\nu$ forecast\")\n",
    "plt.savefig('/Users/nicholasdeporzio/Desktop/diagnostics/p6b_gm.png')\n",
    "plt.show()\n",
    "\n",
    "plt.figure(figsize=(15,7.5))                                                    \n",
    "plt.semilogx(ps23_forecastset[0][0].k_table[0], ps23_forecastset[0][0].dlogRSDdN_ncdm[0, :], label=r\"DESI, 0.91K\", linestyle='solid')\n",
    "plt.xlabel(r\"$k$\", fontsize=24)                                       \n",
    "plt.ylabel(r\"$dlogRSD/dg$\", fontsize=24)                                   \n",
    "plt.legend(fontsize=18, loc='lower left')                                       \n",
    "plt.tick_params(axis='x', which='minttor')                                      \n",
    "plt.grid(True, which='minor')  \n",
    "plt.title(r\"Simultaneous relic $g_\\chi$ and neutrino $M_\\nu$ forecast\")\n",
    "plt.savefig('/Users/nicholasdeporzio/Desktop/diagnostics/p7a_gm.png')\n",
    "plt.show()\n",
    "\n",
    "plt.figure(figsize=(15,7.5))                                                    \n",
    "plt.semilogx(ps23_forecastset[0][0].k_table[0], ps23_forecastset[0][0].dlogRSDdM_ncdm[0, :], label=r\"DESI, 0.91K\", linestyle='solid')\n",
    "plt.xlabel(r\"$k$\", fontsize=24)                                       \n",
    "plt.ylabel(r\"$dlogRSD/dM_\\nu$\", fontsize=24)                                   \n",
    "plt.legend(fontsize=18, loc='lower left')                                       \n",
    "plt.tick_params(axis='x', which='minttor')                                      \n",
    "plt.grid(True, which='minor')  \n",
    "plt.title(r\"Simultaneous relic $g_\\chi$ and neutrino $M_\\nu$ forecast\")\n",
    "plt.savefig('/Users/nicholasdeporzio/Desktop/diagnostics/p7b_gm.png')\n",
    "plt.show()\n",
    "\n",
    "plt.figure(figsize=(15,7.5))                                                    \n",
    "plt.semilogx(ps23_forecastset[0][0].k_table[0], ps23_forecastset[0][0].dlogFOGdN_ncdm[0, :], label=r\"DESI, 0.91K\", linestyle='solid')\n",
    "plt.xlabel(r\"$k$\", fontsize=24)                                       \n",
    "plt.ylabel(r\"$dlogFOG/dg$\", fontsize=24)                                   \n",
    "plt.legend(fontsize=18, loc='lower left')                                       \n",
    "plt.tick_params(axis='x', which='minttor')                                      \n",
    "plt.grid(True, which='minor')  \n",
    "plt.title(r\"Simultaneous relic $g_\\chi$ and neutrino $M_\\nu$ forecast\")\n",
    "plt.savefig('/Users/nicholasdeporzio/Desktop/diagnostics/p8a_gm.png')\n",
    "plt.show()\n",
    "\n",
    "plt.figure(figsize=(15,7.5))                                                    \n",
    "plt.semilogx(ps23_forecastset[0][0].k_table[0], ps23_forecastset[0][0].dlogFOGdM_ncdm[0, :], label=r\"DESI, 0.91K\", linestyle='solid')\n",
    "plt.xlabel(r\"$k$\", fontsize=24)                                       \n",
    "plt.ylabel(r\"$dlogFOG/dM_\\nu$\", fontsize=24)                                   \n",
    "plt.legend(fontsize=18, loc='lower left')                                       \n",
    "plt.tick_params(axis='x', which='minttor')                                      \n",
    "plt.grid(True, which='minor')  \n",
    "plt.title(r\"Simultaneous relic $g_\\chi$ and neutrino $M_\\nu$ forecast\")\n",
    "plt.savefig('/Users/nicholasdeporzio/Desktop/diagnostics/p8b_gm.png')\n",
    "plt.show()\n",
    "\n",
    "plt.figure(figsize=(15,7.5))                                                    \n",
    "plt.semilogx(ps23_forecastset[0][0].k_table[0], ps23_forecastset[0][0].dlogAPdN_ncdm[0, :], label=r\"DESI, 0.91K\", linestyle='solid')\n",
    "plt.xlabel(r\"$k$\", fontsize=24)                                       \n",
    "plt.ylabel(r\"$dlogAP/dg$\", fontsize=24)                                   \n",
    "plt.legend(fontsize=18, loc='lower left')                                       \n",
    "plt.tick_params(axis='x', which='minttor')                                      \n",
    "plt.grid(True, which='minor')  \n",
    "plt.title(r\"Simultaneous relic $g_\\chi$ and neutrino $M_\\nu$ forecast\")\n",
    "plt.savefig('/Users/nicholasdeporzio/Desktop/diagnostics/p9a_gm.png')\n",
    "plt.show()\n",
    "\n",
    "plt.figure(figsize=(15,7.5))                                                    \n",
    "plt.semilogx(ps23_forecastset[0][0].k_table[0], ps23_forecastset[0][0].dlogAPdM_ncdm[0, :], label=r\"DESI, 0.91K\", linestyle='solid')\n",
    "plt.xlabel(r\"$k$\", fontsize=24)                                       \n",
    "plt.ylabel(r\"$dlogAP/dM_\\nu$\", fontsize=24)                                   \n",
    "plt.legend(fontsize=18, loc='lower left')                                       \n",
    "plt.tick_params(axis='x', which='minttor')                                      \n",
    "plt.grid(True, which='minor')  \n",
    "plt.title(r\"Simultaneous relic $g_\\chi$ and neutrino $M_\\nu$ forecast\")\n",
    "plt.savefig('/Users/nicholasdeporzio/Desktop/diagnostics/p9b_gm.png')\n",
    "plt.show()\n",
    "\n",
    "plt.figure(figsize=(15,7.5))                                                    \n",
    "plt.semilogx(ps23_forecastset[0][0].k_table[0], ps23_forecastset[0][0].dlogCOVdN_ncdm[0, :], label=r\"DESI, 0.91K\", linestyle='solid')\n",
    "plt.xlabel(r\"$k$\", fontsize=24)                                       \n",
    "plt.ylabel(r\"$dlogCOV/dg$\", fontsize=24)                                   \n",
    "plt.legend(fontsize=18, loc='lower left')                                       \n",
    "plt.tick_params(axis='x', which='minttor')                                      \n",
    "plt.grid(True, which='minor')  \n",
    "plt.title(r\"Simultaneous relic $g_\\chi$ and neutrino $M_\\nu$ forecast\")\n",
    "plt.savefig('/Users/nicholasdeporzio/Desktop/diagnostics/p10a_gm.png')\n",
    "plt.show()\n",
    "\n",
    "plt.figure(figsize=(15,7.5))                                                    \n",
    "plt.semilogx(ps23_forecastset[0][0].k_table[0], ps23_forecastset[0][0].dlogCOVdM_ncdm[0, :], label=r\"DESI, 0.91K\", linestyle='solid')\n",
    "plt.xlabel(r\"$k$\", fontsize=24)                                       \n",
    "plt.ylabel(r\"$dlogCOV/dM_\\nu$\", fontsize=24)                                   \n",
    "plt.legend(fontsize=18, loc='lower left')                                       \n",
    "plt.tick_params(axis='x', which='minttor')                                      \n",
    "plt.grid(True, which='minor')  \n",
    "plt.title(r\"Simultaneous relic $g_\\chi$ and neutrino $M_\\nu$ forecast\")\n",
    "plt.savefig('/Users/nicholasdeporzio/Desktop/diagnostics/p10b_gm.png')\n",
    "plt.show()\n",
    "\n",
    "plt.figure(figsize=(15,7.5))                                                    \n",
    "plt.semilogx(ps23_forecastset[0][0].k_table[0], ps23_forecastset[0][0].dlogPdN_ncdm[0, :], label=r\"DESI, 0.91K\", linestyle='solid')\n",
    "plt.xlabel(r\"$k$\", fontsize=24)                                       \n",
    "plt.ylabel(r\"$dlogP_m/dg$\", fontsize=24)                                   \n",
    "plt.legend(fontsize=18, loc='lower left')                                       \n",
    "plt.tick_params(axis='x', which='minttor')                                      \n",
    "plt.grid(True, which='minor')  \n",
    "plt.title(r\"Simultaneous relic $g_\\chi$ and neutrino $M_\\nu$ forecast\")\n",
    "plt.savefig('/Users/nicholasdeporzio/Desktop/diagnostics/p11a_gm.png')\n",
    "plt.show()\n",
    "\n",
    "plt.figure(figsize=(15,7.5))                                                    \n",
    "plt.semilogx(ps23_forecastset[0][0].k_table[0], ps23_forecastset[0][0].dlogPdM_ncdm[0, :], label=r\"DESI, 0.91K\", linestyle='solid')\n",
    "plt.xlabel(r\"$k$\", fontsize=24)                                       \n",
    "plt.ylabel(r\"$dlogP_m/dM_\\nu$\", fontsize=24)                                   \n",
    "plt.legend(fontsize=18, loc='lower left')                                       \n",
    "plt.tick_params(axis='x', which='minttor')                                      \n",
    "plt.grid(True, which='minor')  \n",
    "plt.title(r\"Simultaneous relic $g_\\chi$ and neutrino $M_\\nu$ forecast\")\n",
    "plt.savefig('/Users/nicholasdeporzio/Desktop/diagnostics/p11b_gm.png')\n",
    "plt.show()\n",
    "   "
   ]
  },
  {
   "cell_type": "code",
   "execution_count": null,
   "metadata": {
    "ExecuteTime": {
     "end_time": "2020-04-21T17:25:48.751546Z",
     "start_time": "2020-04-21T17:25:48.746311Z"
    }
   },
   "outputs": [],
   "source": [
    "print(ps23_forecastset[0][0].spectra_mid[0].D)\n",
    "print(ps23_forecastset[0][0].spectra_mid[0].datapath)\n",
    "print(ps23_forecastset[0][0].M_ncdm_high[0].datapath)\n",
    "print(ps23_forecastset[0][0].N_ncdm_high[0].datapath)"
   ]
  },
  {
   "cell_type": "code",
   "execution_count": null,
   "metadata": {},
   "outputs": [],
   "source": []
  },
  {
   "cell_type": "code",
   "execution_count": null,
   "metadata": {},
   "outputs": [],
   "source": []
  },
  {
   "cell_type": "code",
   "execution_count": null,
   "metadata": {
    "ExecuteTime": {
     "end_time": "2020-04-21T04:12:51.392313Z",
     "start_time": "2020-04-21T04:12:51.363218Z"
    }
   },
   "outputs": [],
   "source": []
  },
  {
   "cell_type": "code",
   "execution_count": null,
   "metadata": {
    "ExecuteTime": {
     "end_time": "2020-04-21T04:16:08.399617Z",
     "start_time": "2020-04-21T04:16:08.394722Z"
    }
   },
   "outputs": [],
   "source": [
    "np.linalg.inv(np.delete(np.delete(ps23_forecastset[0][2].fisher, 4, axis=0), 4, axis=1))[5,5]"
   ]
  },
  {
   "cell_type": "code",
   "execution_count": null,
   "metadata": {
    "ExecuteTime": {
     "end_time": "2020-04-21T18:21:48.467859Z",
     "start_time": "2020-04-21T18:21:48.458982Z"
    }
   },
   "outputs": [],
   "source": [
    "test=None\n",
    "test==None"
   ]
  },
  {
   "cell_type": "code",
   "execution_count": null,
   "metadata": {},
   "outputs": [],
   "source": []
  }
 ],
 "metadata": {
  "kernelspec": {
   "display_name": "3.8.0",
   "language": "python",
   "name": "3.8.0"
  },
  "language_info": {
   "codemirror_mode": {
    "name": "ipython",
    "version": 3
   },
   "file_extension": ".py",
   "mimetype": "text/x-python",
   "name": "python",
   "nbconvert_exporter": "python",
   "pygments_lexer": "ipython3",
   "version": "3.8.0"
  }
 },
 "nbformat": 4,
 "nbformat_minor": 4
}
