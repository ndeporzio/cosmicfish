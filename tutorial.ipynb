{
 "cells": [
  {
   "cell_type": "markdown",
   "metadata": {},
   "source": [
    "Import relevant python packages... "
   ]
  },
  {
   "cell_type": "code",
   "execution_count": null,
   "metadata": {},
   "outputs": [],
   "source": [
    "import os\n",
    "import numpy as np\n",
    "import pandas as pd\n",
    "import matplotlib.pyplot as plt"
   ]
  },
  {
   "cell_type": "markdown",
   "metadata": {},
   "source": [
    "Import the analysis package."
   ]
  },
  {
   "cell_type": "code",
   "execution_count": null,
   "metadata": {},
   "outputs": [],
   "source": [
    "import cosmicfish as cf "
   ]
  },
  {
   "cell_type": "markdown",
   "metadata": {},
   "source": [
    "Specify the values of your fiducial cosmology and other physical constants."
   ]
  },
  {
   "cell_type": "code",
   "execution_count": null,
   "metadata": {},
   "outputs": [],
   "source": [
    "fid = {\"A_s\" : 2.2321e-9, \n",
    "        \"n_s\" : 0.96659,\n",
    "        \"omega_b\" : 0.02226,\n",
    "        \"omega_cdm\" : 0.11271,\n",
    "        \"tau_reio\" : 0.059888,\n",
    "        \"h\" : 0.70148} #Not necessary, but helps neatness later on\n",
    "\n",
    "A_s = 2.2321e-9\n",
    "n_s = 0.96659\n",
    "omega_b = 0.02226\n",
    "omega_cdm = 0.11271\n",
    "tau_reio = 0.059888\n",
    "h = 0.70148\n",
    "\n",
    "c = 2.9979e8 #Units of m/s\n",
    "H = 1000. * 100. * fid['h'] #Units of m/s/Mpc\n",
    "kp = 0.05 * fid['h'] #Units of 1/Mpc"
   ]
  },
  {
   "cell_type": "markdown",
   "metadata": {},
   "source": [
    "Specify points of interest to accumulate power spectra at... "
   ]
  },
  {
   "cell_type": "code",
   "execution_count": null,
   "metadata": {},
   "outputs": [],
   "source": [
    "z_table = np.arange(0.7, 2.1, 0.1)\n",
    "m_chi_table = np.logspace(-1.0, 1.0, num=21, endpoint=True)"
   ]
  },
  {
   "cell_type": "markdown",
   "metadata": {},
   "source": [
    "Determine derived quantities... Here, we assume the following relations: \n",
    "\n",
    "$$ \\omega_\\chi = \\Big(\\frac{T_\\chi}{1.95 \\textrm{[K]} }\\Big)^3 \\Big( \\frac{m_\\chi}{94 \\textrm{[eV]}}\\Big) $$\n",
    "\n",
    "$$ \\omega_m = \\omega_b + \\omega_{cdm} + \\omega_\\chi $$\n",
    "\n",
    "$$ \\omega_\\lambda = h^2 - \\omega_m$$\n",
    "\n",
    "$$ V_{eff} = \\Big(\\frac{4 \\pi}{3}\\Big)\\Big(\\frac{c}{H}\\Big)^3\\Big( \\int_{0.7}^{2.0} \\frac{h}{\\sqrt{\\omega_m (1+z)^3 + \\omega_\\lambda}}  ~dz\\Big)^3 $$"
   ]
  },
  {
   "cell_type": "code",
   "execution_count": null,
   "metadata": {},
   "outputs": [],
   "source": [
    "T_chi = 0.5 #CAUTION! USING A SINGLE T VALUE TO CALCULATE THIS BLOCK!\n",
    "omega_chi_table = np.power((T_chi / 1.95), 3.) * (m_chi_table / 94.)\n",
    "omega_m_table = fid[\"omega_b\"] + fid[\"omega_cdm\"] + omega_chi_table\n",
    "omega_lambda_table = np.power(h, 2.) - omega_m_table\n",
    "v_eff_table = cf.v_effective_table_generator(z_table, omega_m_table, omega_lambda_table, c, h, H)\n",
    "k_table = cf.k_table_generator(v_eff_table, h, 0.1, 100)"
   ]
  },
  {
   "cell_type": "markdown",
   "metadata": {},
   "source": [
    "At this point, we have $\\omega_m$, $\\omega_{\\lambda}$, $\\omega_{\\chi}$, $V_{eff}$ for several values of $m_\\chi$ assuming a particular value of $T_\\chi$. For transparency, let's show what these all look like... "
   ]
  },
  {
   "cell_type": "code",
   "execution_count": null,
   "metadata": {},
   "outputs": [],
   "source": [
    "fig, ax = plt.subplots(1,4, figsize=(20, 5))\n",
    "ax[0].plot(m_chi_table, omega_chi_table)\n",
    "ax[0].set_title(r'$\\omega_\\chi$')\n",
    "ax[0].set_xlabel(r'$m_\\chi$ [eV]')\n",
    "ax[1].plot(m_chi_table, omega_lambda_table, label=r'$\\omega_\\lambda$')\n",
    "ax[1].set_title(r'$\\omega_\\lambda$')\n",
    "ax[1].set_xlabel(r'$m_\\chi$ [eV]')\n",
    "ax[2].plot(m_chi_table, omega_m_table, label=r'$\\omega_m$')\n",
    "ax[2].set_title(r'$\\omega_m$')\n",
    "ax[2].set_xlabel(r'$m_\\chi$ [eV]')\n",
    "ax[3].plot(m_chi_table, v_eff_table)\n",
    "ax[3].set_title(r'$V_{eff}$ [Mpc$^3$]')\n",
    "ax[3].set_xlabel(r'$m_\\chi$ [eV]')\n",
    "plt.show()"
   ]
  },
  {
   "cell_type": "markdown",
   "metadata": {},
   "source": [
    "These all behave in an obvious way. Notice also that our k_table, which spans 100 points at each choice of $m_\\chi$, has the first few values of k given by: "
   ]
  },
  {
   "cell_type": "code",
   "execution_count": null,
   "metadata": {},
   "outputs": [],
   "source": [
    "pd.DataFrame(k_table).head()"
   ]
  },
  {
   "cell_type": "markdown",
   "metadata": {},
   "source": [
    "Define path where all data runs are stored. Anytime we require spectrum data from CLASS, the code will first check whether such data has already been calculated. If so, it will just import that data rather than re-run CLASS. We also specify a path to the CLASS install directory. "
   ]
  },
  {
   "cell_type": "code",
   "execution_count": null,
   "metadata": {},
   "outputs": [],
   "source": [
    "datastore = cf.correct_path(\"~/Desktop/test/data/\")\n",
    "classpath = cf.correct_path(\"~/Desktop/test/lib/class/\")"
   ]
  },
  {
   "cell_type": "markdown",
   "metadata": {},
   "source": [
    "If you'd like to test convergence, specify the details of your convergence tests... "
   ]
  },
  {
   "cell_type": "code",
   "execution_count": null,
   "metadata": {},
   "outputs": [],
   "source": [
    "test_convergence = True\n",
    "non_chi_vary_relative = [1.01, 1.02, 1.03, 1.04, 1.05]\n",
    "t_chi_vary_absolute = [0.50, 1.00, 1.50, 2.00, 2.50, 10.00]\n",
    "\n",
    "omega_b_gen_data = non_chi_vary_relative * omega_b\n",
    "omega_cdm_gen_data = non_chi_vary_relative * omega_cdm\n",
    "tau_reio_gen_data = non_chi_vary_relative * tau_reio\n",
    "h_gen_data = non_chi_vary_relative * h\n",
    "t_chi_gen_data = t_chi_vary_absolute"
   ]
  },
  {
   "cell_type": "markdown",
   "metadata": {},
   "source": [
    "Import and/or generate relevant datasets... "
   ]
  },
  {
   "cell_type": "code",
   "execution_count": null,
   "metadata": {},
   "outputs": [],
   "source": []
  },
  {
   "cell_type": "markdown",
   "metadata": {},
   "source": [
    "Interpolate and calculate numerical derivatives..."
   ]
  },
  {
   "cell_type": "code",
   "execution_count": null,
   "metadata": {},
   "outputs": [],
   "source": []
  },
  {
   "cell_type": "markdown",
   "metadata": {},
   "source": [
    "See how things look... "
   ]
  },
  {
   "cell_type": "code",
   "execution_count": null,
   "metadata": {},
   "outputs": [],
   "source": []
  },
  {
   "cell_type": "code",
   "execution_count": null,
   "metadata": {},
   "outputs": [],
   "source": []
  },
  {
   "cell_type": "code",
   "execution_count": null,
   "metadata": {},
   "outputs": [],
   "source": []
  },
  {
   "cell_type": "code",
   "execution_count": null,
   "metadata": {},
   "outputs": [],
   "source": [
    "for _, e, _ in os.walk(\"/Users/nicholasdeporzio/Desktop/test/data/\"): \n",
    "    print(e)"
   ]
  },
  {
   "cell_type": "code",
   "execution_count": null,
   "metadata": {},
   "outputs": [],
   "source": [
    "for e in next(os.walk(\"/Users/nicholasdeporzio/Desktop/test/data/\"))[1]: \n",
    "    print(int(e))"
   ]
  },
  {
   "cell_type": "code",
   "execution_count": null,
   "metadata": {},
   "outputs": [],
   "source": [
    "s1 = cf.spectrum(\"~/Desktop/test/data/1/\")"
   ]
  },
  {
   "cell_type": "code",
   "execution_count": null,
   "metadata": {},
   "outputs": [],
   "source": [
    "s1.rawdata.head()"
   ]
  },
  {
   "cell_type": "code",
   "execution_count": null,
   "metadata": {},
   "outputs": [],
   "source": []
  },
  {
   "cell_type": "code",
   "execution_count": null,
   "metadata": {},
   "outputs": [],
   "source": [
    "help(cf.generate_data)"
   ]
  },
  {
   "cell_type": "code",
   "execution_count": null,
   "metadata": {},
   "outputs": [],
   "source": [
    "cf.generate_data(fid, \"~/Desktop/test/lib/class\", \"~/Desktop/test/data\", n_s=0.9)"
   ]
  },
  {
   "cell_type": "code",
   "execution_count": null,
   "metadata": {},
   "outputs": [],
   "source": [
    "os.getcwd()"
   ]
  },
  {
   "cell_type": "code",
   "execution_count": null,
   "metadata": {},
   "outputs": [],
   "source": []
  },
  {
   "cell_type": "code",
   "execution_count": null,
   "metadata": {},
   "outputs": [],
   "source": []
  },
  {
   "cell_type": "code",
   "execution_count": null,
   "metadata": {},
   "outputs": [],
   "source": []
  },
  {
   "cell_type": "code",
   "execution_count": null,
   "metadata": {},
   "outputs": [],
   "source": []
  },
  {
   "cell_type": "code",
   "execution_count": null,
   "metadata": {},
   "outputs": [],
   "source": []
  },
  {
   "cell_type": "code",
   "execution_count": null,
   "metadata": {},
   "outputs": [],
   "source": []
  },
  {
   "cell_type": "code",
   "execution_count": null,
   "metadata": {},
   "outputs": [],
   "source": []
  }
 ],
 "metadata": {
  "kernelspec": {
   "display_name": "Python 3",
   "language": "python",
   "name": "python3"
  },
  "language_info": {
   "codemirror_mode": {
    "name": "ipython",
    "version": 3
   },
   "file_extension": ".py",
   "mimetype": "text/x-python",
   "name": "python",
   "nbconvert_exporter": "python",
   "pygments_lexer": "ipython3",
   "version": "3.6.8"
  }
 },
 "nbformat": 4,
 "nbformat_minor": 2
}
