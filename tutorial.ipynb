{
 "cells": [
  {
   "cell_type": "code",
   "execution_count": null,
   "metadata": {},
   "outputs": [],
   "source": [
    "import dill"
   ]
  },
  {
   "cell_type": "code",
   "execution_count": null,
   "metadata": {},
   "outputs": [],
   "source": [
    "dill.dump_session('notebook_env.db')"
   ]
  },
  {
   "cell_type": "code",
   "execution_count": null,
   "metadata": {},
   "outputs": [],
   "source": [
    "dill.load_session('notebook_env.db')"
   ]
  },
  {
   "cell_type": "markdown",
   "metadata": {},
   "source": [
    "# Setup Your Analysis Environment\n",
    "\n",
    "1) Choose a directory to house your project in: \n",
    "```\n",
    ".../<project-directory>\n",
    "```\n",
    "\n",
    "\n",
    "2) Create and activate a fresh Python3 virtual environment (we use Python 3.6.8) there if you'd like: \n",
    "```\n",
    "$ cd .../<project-directory>\n",
    "$ python -m virtualenv env \n",
    "$ source env/bin/activate\n",
    "```\n",
    "\n",
    "3) Download the `cosmicfish` package from Git: \n",
    "```\n",
    "$ git clone git@github.com:ndeporzio/cosmicfish.git\n",
    "```\n",
    "\n",
    "4) Install the `cosmicfish` package. Note that its dependencies will install automatically.\n",
    "```\n",
    "$ cd cosmicfish\n",
    "$ pip install . \n",
    "```\n",
    "\n",
    "5) Launch Jupyter and open `tutorial.ipynb` notebook using Jupyter browser\n",
    "```\n",
    "$ jupyter notebook\n",
    "```\n",
    "\n",
    "6) Create a data folder where the analysis can store spectrum data. This can be anywhere you'd like - you'll specify the path below. \n",
    "```\n",
    "$ mkdir <project-directory>/data\n",
    "```\n",
    "\n",
    "7) Install and build CLASS (if you don't already have a build). Note the `cosmicfish` package includes a method for downloading and installing CLASS for you:\n",
    "```\n",
    "$ python \n",
    ">>> import cosmicfish as cf\n",
    ">>> cf.install_class('<project-directory>/class')\n",
    ">>> exit()\n",
    "```"
   ]
  },
  {
   "cell_type": "markdown",
   "metadata": {},
   "source": [
    "# Import & Configure _cosmicfish_"
   ]
  },
  {
   "cell_type": "markdown",
   "metadata": {},
   "source": [
    "Import the analysis package."
   ]
  },
  {
   "cell_type": "code",
   "execution_count": null,
   "metadata": {
    "scrolled": false
   },
   "outputs": [],
   "source": [
    "import cosmicfish as cf "
   ]
  },
  {
   "cell_type": "markdown",
   "metadata": {},
   "source": [
    "Import relevant python packages... "
   ]
  },
  {
   "cell_type": "code",
   "execution_count": null,
   "metadata": {
    "scrolled": false
   },
   "outputs": [],
   "source": [
    "#Import relevant packages\n",
    "import os\n",
    "import shutil\n",
    "import numpy as np\n",
    "import pandas as pd\n",
    "import seaborn as sns \n",
    "import matplotlib.pyplot as plt"
   ]
  },
  {
   "cell_type": "markdown",
   "metadata": {},
   "source": [
    "Other setup steps... "
   ]
  },
  {
   "cell_type": "code",
   "execution_count": null,
   "metadata": {
    "scrolled": false
   },
   "outputs": [],
   "source": [
    "#Instruct pyplot to use seaborn \n",
    "sns.set()"
   ]
  },
  {
   "cell_type": "markdown",
   "metadata": {},
   "source": [
    "Specify the paths from the setup of your analysis environment above.  "
   ]
  },
  {
   "cell_type": "code",
   "execution_count": null,
   "metadata": {
    "scrolled": false
   },
   "outputs": [],
   "source": [
    "#Set project, data, CLASS directories \n",
    "projectdir = cf.correct_path(\"~/Desktop/cfworkspace/\")\n",
    "datastore = cf.correct_path(\"/Volumes/SSD01/datastore/\")\n",
    "classpath = os.path.join(projectdir, \"class\")"
   ]
  },
  {
   "cell_type": "markdown",
   "metadata": {},
   "source": [
    "Specify the granularity of numerical derivatives."
   ]
  },
  {
   "cell_type": "code",
   "execution_count": null,
   "metadata": {},
   "outputs": [],
   "source": [
    "derivative_step = 0.005 #How much to vary parameter to calculate numerical derivative\n",
    "mu_integral_step = 0.01 #For calculating numerical integral wrt mu between -1 and 1 "
   ]
  },
  {
   "cell_type": "markdown",
   "metadata": {},
   "source": [
    "# Specify Example Fiducial Cosmology "
   ]
  },
  {
   "cell_type": "markdown",
   "metadata": {},
   "source": [
    "Here we specify the fiducial cosmology used in our forecasts. For the case of the degenerate neutrino forecast, we specify the mass of single neutrino. "
   ]
  },
  {
   "cell_type": "code",
   "execution_count": null,
   "metadata": {
    "scrolled": false
   },
   "outputs": [],
   "source": [
    "#Setup fiducial cosmology\n",
    "neutrinofid = {\n",
    "        \"A_s\" : 2.22e-9, \n",
    "        \"n_s\" : 0.965,\n",
    "        \"omega_b\" : 0.02222,\n",
    "        \"omega_cdm\" : 0.1120,\n",
    "        \"tau_reio\" : 0.06,\n",
    "        \"h\" : 0.70,\n",
    "        \"T_cmb\" : 2.726, # Units [K]\n",
    "        \"N_ncdm\" : 3., \n",
    "        \"T_ncdm\" : 1.95/2.726, \n",
    "        \"m_ncdm\" : 0.03, # Units [eV]\n",
    "        \"b0\" : 1.0, \n",
    "        \"alphak2\" : 1.0,\n",
    "        \"sigma_fog_0\" : 250000, #Units [m s^-2]\n",
    "        \"N_eff\" : 3.046 - (3 * 1.0132), \n",
    "        \"relic_fix\" : None #Not used for neutrino forecasts\n",
    "        } \n"
   ]
  },
  {
   "cell_type": "markdown",
   "metadata": {},
   "source": [
    "For light relic forecasts, we choose whether to vary with respect to the relic mass or the relic temperature, specified by the \"relic_fix\" parameter."
   ]
  },
  {
   "cell_type": "code",
   "execution_count": null,
   "metadata": {},
   "outputs": [],
   "source": [
    "# For matching the neutrino/relic forecasts, we must modify temp/mass according to equation 44 \n",
    "# of the Cora/Julian paper. That is: \n",
    "# m_chi = m_nu * 3^(1/4) ***where m_nu is the mass of a single neutrino in the degenerate hierarchy\n",
    "# T_chi = 1.95 * 3^(1/4)\n",
    "\n",
    "relicfid = {\n",
    "        \"A_s\" : 2.2321e-9, \n",
    "        \"n_s\" : 0.96659,\n",
    "        \"omega_b\" : 0.02226,\n",
    "        \"omega_cdm\" : 0.11271,\n",
    "        \"tau_reio\" : 0.059888,\n",
    "        \"h\" : 0.70148,\n",
    "        \"T_cmb\" : 2.726, # Units [K]\n",
    "        \"N_ncdm\" : 1., \n",
    "        \"T_ncdm\" : (1.95 * np.power(3., 1./4.))/2.726, # Units [T_cmb]  Are Julian's matrices at 1.64 K? \n",
    "        \"m_ncdm\" : 0.02 * np.power(3., 1./4.), # Units [eV]\n",
    "        \"b0\" : 1.0, \n",
    "        \"alphak2\" : 1.0,\n",
    "        \"sigma_fog_0\" : 250000, #Units [m s^-2]\n",
    "        \"N_eff\" : 3.046 - (3 * 1.0132), \n",
    "        \"relic_fix\" : \"T_ncdm\" # Fix T_ncdm or M_ncdm \n",
    "        }\n",
    "\n",
    "relicfid2 = dict(relicfid, **{\"relic_fix\" : \"m_ncdm\"})"
   ]
  },
  {
   "cell_type": "markdown",
   "metadata": {},
   "source": [
    "# Specify Experiment Observational Parameters"
   ]
  },
  {
   "cell_type": "markdown",
   "metadata": {},
   "source": [
    "The experimental redshift configuration and noise is specified here. "
   ]
  },
  {
   "cell_type": "code",
   "execution_count": null,
   "metadata": {},
   "outputs": [],
   "source": [
    "#Setup redshift bins, fiducial relica masses, relic temps to sample\n",
    "z_table = np.arange(0.65, 1.85, 0.1)\n",
    "dNdz = np.array([309., 2269., 1923., 2094., 1441., 1353., 1337., 523., 466., 329., 126., 0., 0.])\n",
    "skycover = 14000. # Sky coverage of survey in degrees^2"
   ]
  },
  {
   "cell_type": "markdown",
   "metadata": {},
   "source": [
    "# Demonstrate Convergence "
   ]
  },
  {
   "cell_type": "markdown",
   "metadata": {},
   "source": [
    "Before running the forecast, we want to ensure our cosmological parameters are well converged about the points we are interested in using to calculate Fisher matrices. To do so, we can use the `convergence` class of `cosmicfish`. \n",
    "\n",
    "We pass to `convergence` some fiducial cosmology, and then it will vary the parameters of that fiducial cosmology by step sizes specified by the user and compute the corresponding power spectrum derivatives. \n",
    "\n",
    "All 'varyfactors' are computed relative to the fiducial cosmology. That is:\n",
    "\n",
    "dtheta = varyfactor * theta_fiducial\n",
    "\n",
    "**WARNING: This process takes a considerable amount of time (~5 mins per varyfactor w/o prexisting data). Only run when you need to.**"
   ]
  },
  {
   "cell_type": "code",
   "execution_count": null,
   "metadata": {
    "scrolled": false
   },
   "outputs": [],
   "source": [
    "neutrinoconvergencetest = cf.convergence(\n",
    "    classpath, # Path to CLASS installation\n",
    "    datastore, # Path to directory holding CLASS output data\n",
    "    'neutrino', # 'relic' or 'neutrino' forecasting scheme \n",
    "    neutrinofid, # The fiducial cosmology \n",
    "    z_table, # Redshift steps in observation\n",
    "    dNdz, # Redshift noise in observation\n",
    "    fcoverage_deg=14000, # Sky coverage in observation\n",
    "    RSD=True, # Use RSD correction to Pm\n",
    "    FOG=True, # Use FOG correction to Pm\n",
    "    AP=True, # Use AP correction to PM\n",
    "    COV=True, #Use AP Change of Variables correction to PM\n",
    "    mu_step=mu_integral_step,\n",
    "    varyfactors=[0.003, 0.005, 0.007] # Relative factors used to compute convergence\n",
    "    )\n",
    "neutrinoconvergencetest.gen_all_plots() # Display convergence plots"
   ]
  },
  {
   "cell_type": "code",
   "execution_count": null,
   "metadata": {},
   "outputs": [],
   "source": [
    "relicconvergencetest = cf.convergence(\n",
    "    classpath, # Path to CLASS installation\n",
    "    datastore, # Path to directory holding CLASS output data\n",
    "    'relic', # 'relic' or 'neutrino' forecasting scheme \n",
    "    relicfid, # The fiducial cosmology \n",
    "    z_table, # Redshift steps in observation\n",
    "    dNdz, # Redshift noise in observation\n",
    "    fcoverage_deg=14000, # Sky coverage in observation\n",
    "    RSD=True, # Use RSD correction to Pm\n",
    "    FOG=True, # Use FOG correction to Pm\n",
    "    AP=True, # Use AP correction to PM\n",
    "    COV=True, #Use AP Change of Variables correction to PM\n",
    "    mu_step=mu_integral_step,\n",
    "    varyfactors=[0.003, 0.005, 0.007] # Relative factors used to compute convergence\n",
    "    )\n",
    "relicconvergencetest.gen_all_plots() # Display convergence plots"
   ]
  },
  {
   "cell_type": "markdown",
   "metadata": {},
   "source": [
    "# Run Fisher Forecast"
   ]
  },
  {
   "cell_type": "code",
   "execution_count": null,
   "metadata": {},
   "outputs": [],
   "source": [
    "neutrinoforecast = cf.forecast(\n",
    "    classpath, \n",
    "    datastore, \n",
    "    'neutrino', \n",
    "    neutrinofid, \n",
    "    z_table, \n",
    "    dNdz, \n",
    "    fcoverage_deg=skycover, \n",
    "    dstep=derivative_step,\n",
    "    RSD=True,\n",
    "    FOG=True,\n",
    "    AP=True,\n",
    "    COV=True)\n",
    "\n",
    "neutrinoforecast.gen_pm()\n",
    "neutrinoforecast.gen_fisher(\n",
    "    fisher_order=[\n",
    "        'omega_b',                                    \n",
    "        'omega_cdm',                                  \n",
    "        'n_s',                                        \n",
    "        'A_s',                                        \n",
    "        'tau_reio',                                   \n",
    "        'h',                                          \n",
    "        #'M_ncdm',                                    \n",
    "        'omega_ncdm',                                 \n",
    "        'sigma_fog',                                   \n",
    "        'b0',                                         \n",
    "        'alpha_k2'],\n",
    "    mu_step=mu_integral_step, \n",
    "    skipgen=False)"
   ]
  },
  {
   "cell_type": "code",
   "execution_count": null,
   "metadata": {},
   "outputs": [],
   "source": [
    "relicforecast = cf.forecast(\n",
    "    classpath, \n",
    "    datastore, \n",
    "    'relic', \n",
    "    relicfid, \n",
    "    z_table, \n",
    "    dNdz, \n",
    "    fcoverage_deg=skycover, \n",
    "    dstep=derivative_step,\n",
    "    RSD=True,\n",
    "    FOG=True,\n",
    "    AP=True,\n",
    "    COV=True)\n",
    "\n",
    "relicforecast.gen_pm()\n",
    "relicforecast.gen_fisher(\n",
    "    fisher_order=[\n",
    "        'omega_b',                                    \n",
    "        'omega_cdm',                                  \n",
    "        'n_s',                                        \n",
    "        'A_s',                                        \n",
    "        'tau_reio',                                   \n",
    "        'h',                                          \n",
    "        #'M_ncdm',                                    \n",
    "        'omega_ncdm',\n",
    "        #'T_ncdm',\n",
    "        'sigma_fog',                                   \n",
    "        'b0',                                         \n",
    "        'alpha_k2'],\n",
    "    mu_step=mu_integral_step, \n",
    "    skipgen=False)"
   ]
  },
  {
   "cell_type": "code",
   "execution_count": null,
   "metadata": {},
   "outputs": [],
   "source": [
    "relicforecast2 = cf.forecast(\n",
    "    classpath, \n",
    "    datastore, \n",
    "    'relic', \n",
    "    relicfid2, \n",
    "    z_table, \n",
    "    dNdz, \n",
    "    fcoverage_deg=skycover, \n",
    "    dstep=derivative_step,\n",
    "    RSD=True,\n",
    "    FOG=True,\n",
    "    AP=True,\n",
    "    COV=True)\n",
    "\n",
    "relicforecast2.gen_pm()\n",
    "relicforecast2.gen_fisher(\n",
    "    fisher_order=[\n",
    "        'omega_b',                                    \n",
    "        'omega_cdm',                                  \n",
    "        'n_s',                                        \n",
    "        'A_s',                                        \n",
    "        'tau_reio',                                   \n",
    "        'h',                                          \n",
    "        #'M_ncdm',                                    \n",
    "        'omega_ncdm',\n",
    "        #'T_ncdm',\n",
    "        'sigma_fog',                                   \n",
    "        'b0',                                         \n",
    "        'alpha_k2'],\n",
    "    mu_step=mu_integral_step, \n",
    "    skipgen=False)"
   ]
  },
  {
   "cell_type": "markdown",
   "metadata": {},
   "source": [
    "### Add CMB Data"
   ]
  },
  {
   "cell_type": "markdown",
   "metadata": {},
   "source": [
    "Add CMB prior information to forecast. "
   ]
  },
  {
   "cell_type": "code",
   "execution_count": null,
   "metadata": {},
   "outputs": [],
   "source": [
    "neutrinoforecast.load_cmb_fisher(\n",
    "    fisher_order=[\n",
    "        'omega_b',                                    \n",
    "        'omega_cdm',                                  \n",
    "        'n_s',                                        \n",
    "        'A_s',                                        \n",
    "        'tau_reio',                                   \n",
    "        'h',                                                                             \n",
    "        'omega_ncdm'],\n",
    "    fisherpath=os.path.join(cf.priors_directory(), \"CMBS4_Fisher_Neutrinos.dat\"))"
   ]
  },
  {
   "cell_type": "code",
   "execution_count": null,
   "metadata": {},
   "outputs": [],
   "source": [
    "relicforecast.load_cmb_fisher(\n",
    "    fisher_order=[\n",
    "        'omega_b',                                    \n",
    "        'omega_cdm',                                  \n",
    "        'n_s',                                        \n",
    "        'A_s',                                        \n",
    "        'tau_reio',                                   \n",
    "        'h',                                                                             \n",
    "        'omega_ncdm'],\n",
    "    os.path.join(cf.priors_directory(), \"CMBS4_Fisher_Neutrinos.dat\"))\n",
    "\n",
    "relicforecast2.load_cmb_fisher(\n",
    "    fisher_order=[\n",
    "        'omega_b',                                    \n",
    "        'omega_cdm',                                  \n",
    "        'n_s',                                        \n",
    "        'A_s',                                        \n",
    "        'tau_reio',                                   \n",
    "        'h',                                                                             \n",
    "        'omega_ncdm'],\n",
    "    os.path.join(cf.priors_directory(), \"CMBS4_Fisher_Neutrinos.dat\"))"
   ]
  },
  {
   "cell_type": "markdown",
   "metadata": {},
   "source": [
    "### Export Fisher Matrices"
   ]
  },
  {
   "cell_type": "markdown",
   "metadata": {},
   "source": [
    "Export the CMB, LSS, and combined covariance matrices. "
   ]
  },
  {
   "cell_type": "code",
   "execution_count": null,
   "metadata": {},
   "outputs": [],
   "source": [
    "neutrinoforecast.export_matrices(\"~/Desktop\")"
   ]
  },
  {
   "cell_type": "code",
   "execution_count": null,
   "metadata": {},
   "outputs": [],
   "source": [
    "pd.DataFrame(neutrinoforecast.pandas_full_fisher)"
   ]
  },
  {
   "cell_type": "code",
   "execution_count": null,
   "metadata": {},
   "outputs": [],
   "source": [
    "relicforecast.export_matrices(\"~/Desktop\")\n",
    "relicforecast2.export_matrices(\"~/Desktop\")"
   ]
  },
  {
   "cell_type": "markdown",
   "metadata": {},
   "source": [
    "# Light Relic/Degenerate Neutrino Validation Plot"
   ]
  },
  {
   "cell_type": "markdown",
   "metadata": {},
   "source": [
    "We now want to see how the error in non-cold dark matter abundance varies with fiducial mass.  To do this, we will generate a forecast at each fiducial mass of interest. We would like to ensure that the light relic forecast produces identical results as an equivalent degenerate neutrino forecast. To do this, we will: \n",
    "\n",
    "(1) Set T_relic = 3^(1/4) T_neutrino = 3^(1/4) * 1.95 [K]\n",
    "\n",
    "(2) Set m_relic = 3^(1/4) m_neutrino\n",
    "\n",
    "(3) In both cases, we will reduce the LCDM value of N_eff (3.046) by 1.0132 for each neutrino, and three times this value for the case of the relic. "
   ]
  },
  {
   "cell_type": "code",
   "execution_count": null,
   "metadata": {},
   "outputs": [],
   "source": [
    "relicmasses = np.geomspace(0.1, 10.0, 21) * (1./3.) * np.power(3., 1./4.)\n",
    "relicfiducialset = [dict(relicfid, **{'m_ncdm': relicmasses[midx]}) for midx, mval in enumerate(relicmasses)]\n",
    "\n",
    "neutrinomasses = np.geomspace(0.1, 10.0, 21) * (1./3.)\n",
    "neutrinofiducialset = [dict(neutrinofid, **{'m_ncdm': neutrinomasses[midx]}) \n",
    "                       for midx, mval in enumerate(neutrinomasses)]"
   ]
  },
  {
   "cell_type": "code",
   "execution_count": null,
   "metadata": {},
   "outputs": [],
   "source": [
    "relicforecastset = [cf.forecast(\n",
    "    classpath, \n",
    "    datastore, \n",
    "    'relic', \n",
    "    fidval, \n",
    "    z_table, \n",
    "    dNdz, \n",
    "    fcoverage_deg=skycover, \n",
    "    dstep=derivative_step,\n",
    "    RSD=True,\n",
    "    FOG=True,\n",
    "    AP=True,\n",
    "    COV=True) for fididx, fidval in enumerate(relicfiducialset)]\n",
    "\n",
    "neutrinoforecastset = [cf.forecast(\n",
    "    classpath, \n",
    "    datastore, \n",
    "    'neutrino', \n",
    "    fidval, \n",
    "    z_table, \n",
    "    dNdz, \n",
    "    fcoverage_deg=skycover, \n",
    "    dstep=derivative_step,\n",
    "    RSD=True,\n",
    "    FOG=True,\n",
    "    AP=True,\n",
    "    COV=True) for fididx, fidval in enumerate(neutrinofiducialset)]"
   ]
  },
  {
   "cell_type": "code",
   "execution_count": null,
   "metadata": {},
   "outputs": [],
   "source": [
    "for fcst in relicforecastset: \n",
    "    fcst.gen_pm()\n",
    "    fcst.gen_fisher(mu_integral_step, skipgen=False)\n",
    "    print(\"Relic Forecast \", fidx, \" complete...\")\n",
    "    \n",
    "for fidx, fcst in enumerate(neutrinoforecastset): \n",
    "    fcst.gen_pm()\n",
    "    fcst.gen_fisher(mu_integral_step, skipgen=False)\n",
    "    print(\"Neutrino Forecast \", fidx, \" complete...\")"
   ]
  },
  {
   "cell_type": "code",
   "execution_count": null,
   "metadata": {},
   "outputs": [],
   "source": [
    "#inpath = \"/Users/nicholasdeporzio/Documents/Academic/Research/Projects/cosmicfish/cosmicfish/priors/CMBS4_Fisher_Relic_\"\n",
    "relic_outpath = \"/Users/nicholasdeporzio/Desktop/cfworkspace/results/relic/relicneutrinomatch/omega_ncdm/\"\n",
    "\n",
    "for fidx, fval in enumerate(relicforecastset):\n",
    "    #relicforecastset[fidx].load_cmb_fisher(inpath+str(fidx+1)+\".dat\")\n",
    "    relicforecastset[fidx].load_cmb_fisher(fisherpath=\"/Users/nicholasdeporzio/Documents/Academic/Research/Projects/cosmicfish/cosmicfish/priors/CMBS4_Fisher_Neutrinos.dat\")\n",
    "    relicforecastset[fidx].export_matrices()\n",
    "    shutil.move(\"/Users/nicholasdeporzio/Desktop/inv_cmbfisher.mat\", relic_outpath+str(fidx+1)+\"/inv_cmbfisher.mat\")\n",
    "    shutil.move(\"/Users/nicholasdeporzio/Desktop/inv_lssfisher.mat\", relic_outpath+str(fidx+1)+\"/inv_lssfisher.mat\")\n",
    "    shutil.move(\"/Users/nicholasdeporzio/Desktop/inv_fullfisher.mat\", relic_outpath+str(fidx+1)+\"/inv_fullfisher.mat\")\n",
    "    \n",
    "neutrino_inpath = \"/Users/nicholasdeporzio/Documents/Academic/Research/Projects/cosmicfish/cosmicfish/priors/CMBS4_Fisher_Neutrinos.dat\"\n",
    "neutrino_outpath = \"/Users/nicholasdeporzio/Desktop/cfworkspace/results/neutrino/relicneutrinomatch/omega_ncdm/\"\n",
    "\n",
    "for fidx, fval in enumerate(neutrinoforecastset):\n",
    "    neutrinoforecastset[fidx].load_cmb_fisher(neutrino_inpath)\n",
    "    neutrinoforecastset[fidx].export_matrices()\n",
    "    shutil.move(\"/Users/nicholasdeporzio/Desktop/inv_cmbfisher.mat\", neutrino_outpath+str(fidx+1)+\"/inv_cmbfisher.mat\")\n",
    "    shutil.move(\"/Users/nicholasdeporzio/Desktop/inv_lssfisher.mat\", neutrino_outpath+str(fidx+1)+\"/inv_lssfisher.mat\")\n",
    "    shutil.move(\"/Users/nicholasdeporzio/Desktop/inv_fullfisher.mat\", neutrino_outpath+str(fidx+1)+\"/inv_fullfisher.mat\")"
   ]
  },
  {
   "cell_type": "code",
   "execution_count": null,
   "metadata": {},
   "outputs": [],
   "source": [
    "relicerromegancdmlss = [np.sqrt(fval.fisher[6,6]) for fidx, fval in enumerate(relicforecastset)]\n",
    "neutrinoerromegancdmlss = [np.sqrt(fval.fisher[6,6]) for fidx, fval in enumerate(neutrinoforecastset)]"
   ]
  },
  {
   "cell_type": "code",
   "execution_count": null,
   "metadata": {},
   "outputs": [],
   "source": [
    "masses = np.geomspace(0.1, 10.0, 21) \n",
    "\n",
    "plt.figure(figsize=(15,7.5))\n",
    "plt.semilogx(masses, relicerromegancdmfull, label=\"CMB+LSS\")\n",
    "plt.semilogx(masses, relicerromegancdmlss, label=\"LSS\")\n",
    "plt.semilogx(masses, relicerromegancdmcmb, label=\"CMB\")\n",
    "plt.title(\"Relic Mass Uncertainty\")\n",
    "plt.xlabel(\"Equivalent Neutrino Mass [eV]\")\n",
    "plt.ylabel(r\"$\\sigma_M$\")\n",
    "plt.legend()\n",
    "plt.show()\n",
    "\n",
    "plt.figure(figsize=(15,7.5))\n",
    "plt.semilogx(masses, neutrinoerrMncdmfull, label=\"CMB+LSS\")\n",
    "plt.semilogx(masses, neutrinoerrMncdmlss, label=\"LSS\")\n",
    "plt.semilogx(masses, neutrinoerrMncdmcmb, label=\"CMB\")\n",
    "plt.title(\"Neutrino Mass Uncertainty\")\n",
    "plt.xlabel(\"Sum of Neutrino Masses [eV]\")\n",
    "plt.ylabel(r\"$\\sigma_M$\")\n",
    "plt.legend()\n",
    "plt.show()"
   ]
  },
  {
   "cell_type": "markdown",
   "metadata": {},
   "source": [
    "# Load Pre-Existing Results"
   ]
  },
  {
   "cell_type": "code",
   "execution_count": null,
   "metadata": {},
   "outputs": [],
   "source": [
    "inpath = \"/Users/nicholasdeporzio/Desktop/cfworkspace/results/relic/neff_reduced_for_neutrino_forecast_comparison/\"\n",
    "\n",
    "relicmasses = np.geomspace(0.1, 10.0, 21) * np.power(3., 1./4.)\n",
    "\n",
    "relic_lss_fishers = [pd.read_csv(inpath+str(midx+1)+\"/inv_lssfisher.mat\", sep='\\t', header=None, skiprows=1) \n",
    "    for midx, mval in enumerate(relicmasses)]\n",
    "relic_cmb_fishers = [pd.read_csv(inpath+str(midx+1)+\"/inv_cmbfisher.mat\", sep='\\t', header=None, skiprows=1) \n",
    "    for midx, mval in enumerate(relicmasses)]\n",
    "relic_full_fishers = [pd.read_csv(inpath+str(midx+1)+\"/inv_fullfisher.mat\", sep='\\t', header=None, skiprows=1) \n",
    "    for midx, mval in enumerate(relicmasses)]\n",
    "\n",
    "relicerromegancdmlss = [np.sqrt(fval.iloc[6,6]) for fidx, fval in enumerate(relic_lss_fishers)]\n",
    "relicerromegancdmcmb = [np.sqrt(fval.iloc[6,6]) for fidx, fval in enumerate(relic_cmb_fishers)]\n",
    "relicerromegancdm = [np.sqrt(fval.iloc[6,6]) for fidx, fval in enumerate(relic_full_fishers)]"
   ]
  },
  {
   "cell_type": "code",
   "execution_count": null,
   "metadata": {},
   "outputs": [],
   "source": [
    "inpath = \"/Users/nicholasdeporzio/Desktop/cfworkspace/results/neutrino/\"\n",
    "\n",
    "neutrinomasses = np.geomspace(0.1, 10.0, 21) * (1./3.)\n",
    "\n",
    "neutrino_lss_fishers = [pd.read_csv(inpath+str(midx+1)+\"/inv_lssfisher.mat\", sep='\\t', header=None, skiprows=1) \n",
    "    for midx, mval in enumerate(neutrinomasses)]\n",
    "neutrino_cmb_fishers = [pd.read_csv(inpath+str(midx+1)+\"/inv_cmbfisher.mat\", sep='\\t', header=None, skiprows=1) \n",
    "    for midx, mval in enumerate(neutrinomasses)]\n",
    "neutrino_full_fishers = [pd.read_csv(inpath+str(midx+1)+\"/inv_fullfisher.mat\", sep='\\t', header=None, skiprows=1) \n",
    "    for midx, mval in enumerate(neutrinomasses)]\n",
    "\n",
    "neutrinoerrmncdmlss = [np.sqrt(fval.iloc[6,6]) for fidx, fval in enumerate(neutrino_lss_fishers)]\n",
    "neutrinoerrmncdmcmb = [np.sqrt(fval.iloc[6,6]) for fidx, fval in enumerate(neutrino_cmb_fishers)]\n",
    "neutrinoerrmncdm = [np.sqrt(fval.iloc[6,6]) for fidx, fval in enumerate(neutrino_full_fishers)]\n",
    "\n",
    "neutrinoerromegancdmlss = 3. * np.array(neutrinoerrmncdmlss) / 94.\n",
    "neutrinoerromegancdmcmb = 3.* np.array(neutrinoerrmncdmcmb) / 94.\n",
    "neutrinoerromegancdm = 3. * np.array(neutrinoerrmncdm) / 94."
   ]
  },
  {
   "cell_type": "markdown",
   "metadata": {},
   "source": [
    "# Other Diagnostics"
   ]
  },
  {
   "cell_type": "markdown",
   "metadata": {},
   "source": [
    "### Print power spectra and related values at benchmark k, mu"
   ]
  },
  {
   "cell_type": "code",
   "execution_count": null,
   "metadata": {},
   "outputs": [],
   "source": [
    "neutrinoforecast.print_v_table(k_index=92)\n",
    "neutrinoforecast.print_P_table(k_index=92, mu_index=20)"
   ]
  },
  {
   "cell_type": "code",
   "execution_count": null,
   "metadata": {},
   "outputs": [],
   "source": [
    "relicforecast.print_v_table(k_index=92)\n",
    "relicforecast.print_P_table(k_index=92, mu_index=20)"
   ]
  },
  {
   "cell_type": "markdown",
   "metadata": {},
   "source": [
    "### Compare forecast inferred Pm to CLASS inferred Pm"
   ]
  },
  {
   "cell_type": "code",
   "execution_count": null,
   "metadata": {},
   "outputs": [],
   "source": [
    "#For each z, plot inferred spectrum vs. CLASS data\n",
    "sns.set()\n",
    "sns.set_palette(\"Blues_d\", n_colors=2*len(z_table)+1)\n",
    "plt.figure(figsize=(15, 7.5))\n",
    "for zidx, zval in enumerate(z_table[0:-1:3]): \n",
    "    ps = neutrinoforecast.spectra_mid[zidx]\n",
    "    plt.semilogx(ps.k_table, neutrinoforecast.Pm[zidx], label=(\"z = \" + str(zval)))\n",
    "    plt.semilogx(ps.class_pk['k (h/Mpc)']*fid['h'],\n",
    "             np.array(ps.class_pk['P (Mpc/h)^3'] / np.power(neutrinofid['h'],3.)),\n",
    "             label='CLASS P(k) Data',\n",
    "             marker='x',\n",
    "             linestyle=':')\n",
    "plt.xlabel(r'k [Mpc$^{-1}$]')\n",
    "plt.ylabel(r'$P_m$ [Mpc$^3$]')\n",
    "plt.legend()\n",
    "plt.show()\n",
    "#Also plot difference between the two "
   ]
  },
  {
   "cell_type": "code",
   "execution_count": null,
   "metadata": {},
   "outputs": [],
   "source": [
    "#For each z, plot inferred spectrum vs. CLASS data\n",
    "sns.set()\n",
    "sns.set_palette(\"Blues_d\", n_colors=2*len(z_table)+1)\n",
    "plt.figure(figsize=(15, 7.5))\n",
    "for zidx, zval in enumerate(z_table[0:-1:3]): \n",
    "    ps = relicforecast.spectra_mid[zidx]\n",
    "    plt.semilogx(ps.k_table, relicforecast.Pm[zidx], label=(\"z = \" + str(zval)))\n",
    "    plt.semilogx(ps.class_pk['k (h/Mpc)']*relicfid['h'],\n",
    "             np.array(ps.class_pk['P (Mpc/h)^3'] / np.power(relicfid['h'],3.)),\n",
    "             label='CLASS P(k) Data',\n",
    "             marker='x',\n",
    "             linestyle=':')\n",
    "plt.xlabel(r'k [Mpc$^{-1}$]')\n",
    "plt.ylabel(r'$P_m$ [Mpc$^3$]')\n",
    "plt.legend()\n",
    "plt.show()\n",
    "#Also plot difference between the two "
   ]
  },
  {
   "cell_type": "markdown",
   "metadata": {},
   "source": [
    "### Confirm transfer functions match"
   ]
  },
  {
   "cell_type": "code",
   "execution_count": null,
   "metadata": {},
   "outputs": [],
   "source": [
    "zidx=0\n",
    "\n",
    "sns.set()\n",
    "sns.set_palette(\"Blues_d\", n_colors=2)\n",
    "plt.figure(figsize=(15, 7.5))\n",
    "plt.semilogx(np.array(neutrinoforecast.spectra_mid[zidx].k_table), \n",
    "             neutrinoforecast.spectra_mid[zidx].b_interp_table-relicforecast.spectra_mid[zidx].b_interp_table, \n",
    "             label=\"Relic T_ncdm Fixed\")\n",
    "plt.semilogx(np.array(neutrinoforecast.spectra_mid[zidx].k_table), \n",
    "             neutrinoforecast.spectra_mid[zidx].b_interp_table-relicforecast2.spectra_mid[zidx].b_interp_table, \n",
    "             label=\"Relic m_ncdm Fixed\")\n",
    "#plt.semilogx(np.array(relicforecast.spectra_mid[zidx].k_table), \n",
    "#             relicforecast.spectra_mid[zidx].b_interp_table, \n",
    "#             label=\"Relic\")\n",
    "plt.title(r'Baryonic Matter Transfer Function, $\\Sigma m_\\nu = 0.06 eV, z=0.65$')\n",
    "plt.xlabel(r'k [Mpc$^{-1}$]')\n",
    "plt.ylabel(r'$\\Delta d_b$')\n",
    "plt.legend()\n",
    "plt.show()\n",
    "\n",
    "sns.set()\n",
    "sns.set_palette(\"Blues_d\", n_colors=2)\n",
    "plt.figure(figsize=(15, 7.5))\n",
    "plt.semilogx(np.array(neutrinoforecast.spectra_mid[zidx].k_table), \n",
    "             neutrinoforecast.spectra_mid[zidx].cdm_interp_table-relicforecast.spectra_mid[zidx].cdm_interp_table, \n",
    "             label=\"Relic T_ncdm Fixed\")\n",
    "plt.semilogx(np.array(neutrinoforecast.spectra_mid[zidx].k_table), \n",
    "             neutrinoforecast.spectra_mid[zidx].cdm_interp_table-relicforecast2.spectra_mid[zidx].cdm_interp_table, \n",
    "             label=\"Relic m_ncdm Fixed\")\n",
    "#plt.semilogx(np.array(relicforecast.spectra_mid[zidx].k_table), \n",
    "#             relicforecast.spectra_mid[zidx].cdm_interp_table, \n",
    "#             label=\"Relic\")\n",
    "plt.title(r'Cold Dark Matter Transfer Function, $\\Sigma m_\\nu = 0.06 eV, z=0.65$')\n",
    "plt.xlabel(r'k [Mpc$^{-1}$]')\n",
    "plt.ylabel(r'$\\Delta d_{cdm}$')\n",
    "plt.legend()\n",
    "plt.show()"
   ]
  },
  {
   "cell_type": "markdown",
   "metadata": {},
   "source": [
    "### Confirm growth factors match"
   ]
  },
  {
   "cell_type": "code",
   "execution_count": null,
   "metadata": {},
   "outputs": [],
   "source": [
    "for zidx, zval in enumerate(z_table):\n",
    "    print(neutrinoforecast.spectra_mid[0].D, \", \", relicforecast2.spectra_mid[0].D)"
   ]
  },
  {
   "cell_type": "markdown",
   "metadata": {},
   "source": [
    "### Confirm P_m match"
   ]
  },
  {
   "cell_type": "code",
   "execution_count": null,
   "metadata": {},
   "outputs": [],
   "source": [
    "zidx = 0\n",
    "\n",
    "sns.set()\n",
    "sns.set_palette(\"Blues_d\", n_colors=2)\n",
    "plt.figure(figsize=(15, 7.5))\n",
    "plt.semilogx(np.array(neutrinoforecast.spectra_mid[zidx].k_table), \n",
    "             neutrinoforecast.spectra_mid[zidx].ps_table-relicforecast.spectra_mid[zidx].ps_table, \n",
    "             label=\"Relic T_ncdm Fixed\")\n",
    "plt.semilogx(np.array(neutrinoforecast.spectra_mid[zidx].k_table), \n",
    "             neutrinoforecast.spectra_mid[zidx].ps_table-relicforecast2.spectra_mid[zidx].ps_table, \n",
    "             label=\"Relic m_ncdm Fixed\")\n",
    "plt.title(r'Difference in Matter Power Spectrum')\n",
    "plt.xlabel(r'k [Mpc$^{-1}$]')\n",
    "plt.ylabel(r'$\\Delta P_m$')\n",
    "plt.legend()\n",
    "plt.show()"
   ]
  },
  {
   "cell_type": "markdown",
   "metadata": {},
   "source": [
    "### Confirm P_g match"
   ]
  },
  {
   "cell_type": "code",
   "execution_count": null,
   "metadata": {},
   "outputs": [],
   "source": [
    "zidx = 10\n",
    "muidx = 10\n",
    "\n",
    "sns.set()\n",
    "sns.set_palette(\"Blues_d\", n_colors=2)\n",
    "plt.figure(figsize=(15, 7.5))\n",
    "plt.semilogx(np.array(neutrinoforecast.spectra_mid[zidx].k_table), \n",
    "             np.array(neutrinoforecast.Pg)[zidx, :, muidx] - np.array(relicforecast.Pg)[zidx, :, muidx], \n",
    "             label=\"Relic T_ncdm Fixed\")\n",
    "plt.semilogx(np.array(neutrinoforecast.spectra_mid[zidx].k_table), \n",
    "             np.array(neutrinoforecast.Pg)[zidx, :, muidx] - np.array(relicforecast2.Pg)[zidx, :, muidx], \n",
    "             label=\"Relic m_ncdm Fixed\")\n",
    "plt.title(r'Difference in Galaxy Power Spectrum')\n",
    "plt.xlabel(r'k [Mpc$^{-1}$]')\n",
    "plt.ylabel(r'$\\Delta P_g$')\n",
    "plt.legend()\n",
    "plt.show()\n",
    "\n",
    "sns.set()\n",
    "sns.set_palette(\"Blues_d\", n_colors=2)\n",
    "plt.figure(figsize=(15, 7.5))\n",
    "plt.semilogx(np.array(neutrinoforecast.spectra_mid[zidx].k_table), \n",
    "             np.array(neutrinoforecast.Pm)[zidx, :] - np.array(relicforecast.Pm)[zidx, :], \n",
    "             label=\"Relic T_ncdm Fixed\")\n",
    "plt.semilogx(np.array(neutrinoforecast.spectra_mid[zidx].k_table), \n",
    "             np.array(neutrinoforecast.Pm)[zidx, :] - np.array(relicforecast2.Pm)[zidx, :], \n",
    "             label=\"Relic m_ncdm Fixed\")\n",
    "plt.title(r'Difference in Matter Power Spectrum')\n",
    "plt.xlabel(r'k [Mpc$^{-1}$]')\n",
    "plt.ylabel(r'$\\Delta P_m$')\n",
    "plt.legend()\n",
    "plt.show()"
   ]
  },
  {
   "cell_type": "markdown",
   "metadata": {},
   "source": [
    "###  Confirm RSD, FOG, AP, COV match"
   ]
  },
  {
   "cell_type": "code",
   "execution_count": null,
   "metadata": {},
   "outputs": [],
   "source": [
    "zidx = 10\n",
    "muidx = 1\n",
    "\n",
    "sns.set()\n",
    "sns.set_palette(\"Blues_d\", n_colors=2)\n",
    "plt.figure(figsize=(15, 7.5))\n",
    "plt.semilogx(np.array(neutrinoforecast.spectra_mid[zidx].k_table), \n",
    "             np.array(neutrinoforecast.RSD)[zidx, :, muidx] - np.array(relicforecast.RSD)[zidx, :, muidx], \n",
    "             label=\"Relic T_ncdm Fixed\")\n",
    "plt.semilogx(np.array(neutrinoforecast.spectra_mid[zidx].k_table), \n",
    "             np.array(neutrinoforecast.RSD)[zidx, :, muidx] - np.array(relicforecast2.RSD)[zidx, :, muidx], \n",
    "             label=\"Relic m_ncdm Fixed\")\n",
    "plt.title(r'Difference in RSD Term')\n",
    "plt.xlabel(r'k [Mpc$^{-1}$]')\n",
    "plt.ylabel(r'$\\Delta RSD$')\n",
    "plt.legend()\n",
    "plt.show()\n",
    "\n",
    "sns.set()\n",
    "sns.set_palette(\"Blues_d\", n_colors=2)\n",
    "plt.figure(figsize=(15, 7.5))\n",
    "plt.semilogx(np.array(neutrinoforecast.spectra_mid[zidx].k_table), \n",
    "             np.array(neutrinoforecast.FOG)[zidx, :, muidx] - np.array(relicforecast.FOG)[zidx, :, muidx], \n",
    "             label=\"Relic T_ncdm Fixed\")\n",
    "plt.semilogx(np.array(neutrinoforecast.spectra_mid[zidx].k_table), \n",
    "             np.array(neutrinoforecast.FOG)[zidx, :, muidx] - np.array(relicforecast2.FOG)[zidx, :, muidx], \n",
    "             label=\"Relic m_ncdm Fixed\")\n",
    "plt.title(r'Difference in FOG Term')\n",
    "plt.xlabel(r'k [Mpc$^{-1}$]')\n",
    "plt.ylabel(r'$\\Delta FOG$')\n",
    "plt.legend()\n",
    "plt.show()\n"
   ]
  },
  {
   "cell_type": "markdown",
   "metadata": {},
   "source": [
    "### Confirm omega_ncdm derivatives match"
   ]
  },
  {
   "cell_type": "code",
   "execution_count": null,
   "metadata": {
    "scrolled": false
   },
   "outputs": [],
   "source": [
    "zidx=10\n",
    "\n",
    "sns.set()\n",
    "sns.set_palette(\"Blues_d\", n_colors=2)\n",
    "plt.figure(figsize=(15, 7.5))\n",
    "plt.semilogx(np.array(neutrinoforecast.spectra_mid[zidx].k_table), \n",
    "             np.array(neutrinoforecast.dlogRSDdomega_ncdm)[zidx, :] - np.array(relicforecast.dlogRSDdomega_ncdm)[zidx, :], \n",
    "             label=\"Relic T_ncdm Fixed\")\n",
    "plt.semilogx(np.array(neutrinoforecast.spectra_mid[zidx].k_table), \n",
    "             np.array(neutrinoforecast.dlogRSDdomega_ncdm)[zidx, :] - np.array(relicforecast2.dlogRSDdomega_ncdm)[zidx, :], \n",
    "             label=\"Relic m_ncdm Fixed\")\n",
    "plt.title(r'Difference in dlogRSD/domega_ncdm Term')\n",
    "plt.xlabel(r'k [Mpc$^{-1}$]')\n",
    "plt.ylabel(r'$\\Delta dlogRSD/domega\\_ncdm$')\n",
    "plt.legend()\n",
    "plt.show()\n",
    "\n",
    "sns.set()\n",
    "sns.set_palette(\"Blues_d\", n_colors=2)\n",
    "plt.figure(figsize=(15, 7.5))\n",
    "plt.semilogx(np.array(neutrinoforecast.spectra_mid[zidx].k_table), \n",
    "             np.array(neutrinoforecast.dlogFOGdomega_ncdm)[zidx, :] - np.array(relicforecast.dlogFOGdomega_ncdm)[zidx, :], \n",
    "             label=\"Relic T_ncdm Fixed\")\n",
    "plt.semilogx(np.array(neutrinoforecast.spectra_mid[zidx].k_table), \n",
    "             np.array(neutrinoforecast.dlogFOGdomega_ncdm)[zidx, :] - np.array(relicforecast2.dlogFOGdomega_ncdm)[zidx, :], \n",
    "             label=\"Relic m_ncdm Fixed\")\n",
    "plt.title(r'Difference in dlogFOG/domega_ncdm Term')\n",
    "plt.xlabel(r'k [Mpc$^{-1}$]')\n",
    "plt.ylabel(r'$\\Delta dlogFOG/domega\\_ncdm$')\n",
    "plt.legend()\n",
    "plt.show()\n",
    "\n",
    "sns.set()\n",
    "sns.set_palette(\"Blues_d\", n_colors=2)\n",
    "plt.figure(figsize=(15, 7.5))\n",
    "plt.semilogx(np.array(neutrinoforecast.spectra_mid[zidx].k_table), \n",
    "             np.array(neutrinoforecast.dlogAPdomega_ncdm)[zidx, :] - np.array(relicforecast.dlogAPdomega_ncdm)[zidx, :], \n",
    "             label=\"Relic T_ncdm Fixed\")\n",
    "plt.semilogx(np.array(neutrinoforecast.spectra_mid[zidx].k_table), \n",
    "             np.array(neutrinoforecast.dlogAPdomega_ncdm)[zidx, :] - np.array(relicforecast2.dlogAPdomega_ncdm)[zidx, :], \n",
    "             label=\"Relic m_ncdm Fixed\")\n",
    "plt.title(r'Difference in dlogAP/domega_ncdm Term')\n",
    "plt.xlabel(r'k [Mpc$^{-1}$]')\n",
    "plt.ylabel(r'$\\Delta dlogAP/domega\\_ncdm$')\n",
    "plt.legend()\n",
    "plt.show()\n",
    "\n",
    "sns.set()\n",
    "sns.set_palette(\"Blues_d\", n_colors=2)\n",
    "plt.figure(figsize=(15, 7.5))\n",
    "plt.semilogx(np.array(neutrinoforecast.spectra_mid[zidx].k_table), \n",
    "             np.array(neutrinoforecast.dlogCOVdomega_ncdm)[zidx, :] - np.array(relicforecast.dlogCOVdomega_ncdm)[zidx, :], \n",
    "             label=\"Relic T_ncdm Fixed\")\n",
    "plt.semilogx(np.array(neutrinoforecast.spectra_mid[zidx].k_table), \n",
    "             np.array(neutrinoforecast.dlogCOVdomega_ncdm)[zidx, :] - np.array(relicforecast2.dlogCOVdomega_ncdm)[zidx, :], \n",
    "             label=\"Relic m_ncdm Fixed\")\n",
    "plt.title(r'Difference in dlogCOV/domega_ncdm Term')\n",
    "plt.xlabel(r'k [Mpc$^{-1}$]')\n",
    "plt.ylabel(r'$\\Delta dlogCOV/domega\\_ncdm$')\n",
    "plt.legend()\n",
    "plt.show()"
   ]
  },
  {
   "cell_type": "markdown",
   "metadata": {},
   "source": [
    "### Confirm P_m derivatives match"
   ]
  },
  {
   "cell_type": "code",
   "execution_count": null,
   "metadata": {
    "scrolled": false
   },
   "outputs": [],
   "source": [
    "zidx = 12\n",
    "muidx = 5\n",
    "\n",
    "sns.set()\n",
    "sns.set_palette(\"Blues_d\", n_colors=2)\n",
    "plt.figure(figsize=(15, 7.5))\n",
    "plt.semilogx(np.array(neutrinoforecast.spectra_mid[zidx].k_table), \n",
    "             np.array(neutrinoforecast.dlogPmdA_s)[zidx, :] - np.array(relicforecast.dlogPmdA_s)[zidx, :], \n",
    "             label=\"Relic T_ncdm Fixed\")\n",
    "plt.semilogx(np.array(neutrinoforecast.spectra_mid[zidx].k_table), \n",
    "             np.array(neutrinoforecast.dlogPmdA_s)[zidx, :] - np.array(relicforecast2.dlogPmdA_s)[zidx, :], \n",
    "             label=\"Relic m_ncdm Fixed\")\n",
    "plt.title(r'Difference in dlogPm/dA_s Term')\n",
    "plt.xlabel(r'k [Mpc$^{-1}$]')\n",
    "plt.ylabel(r'$\\Delta$ dlogPm/dA_s')\n",
    "plt.legend()\n",
    "plt.show()\n",
    "\n",
    "sns.set()\n",
    "sns.set_palette(\"Blues_d\", n_colors=2)\n",
    "plt.figure(figsize=(15, 7.5))\n",
    "plt.semilogx(np.array(neutrinoforecast.spectra_mid[zidx].k_table), \n",
    "             np.array(neutrinoforecast.dlogPmdn_s)[zidx, :] - np.array(relicforecast.dlogPmdn_s)[zidx, :], \n",
    "             label=\"Relic T_ncdm Fixed\")\n",
    "plt.semilogx(np.array(neutrinoforecast.spectra_mid[zidx].k_table), \n",
    "             np.array(neutrinoforecast.dlogPmdn_s)[zidx, :] - np.array(relicforecast2.dlogPmdn_s)[zidx, :], \n",
    "             label=\"Relic m_ncdm Fixed\")\n",
    "plt.title(r'Difference in dlogPm/dn_s Term')\n",
    "plt.xlabel(r'k [Mpc$^{-1}$]')\n",
    "plt.ylabel(r'$\\Delta$ dlogPm/dn_s')\n",
    "plt.legend()\n",
    "plt.show()\n",
    "\n",
    "sns.set()\n",
    "sns.set_palette(\"Blues_d\", n_colors=2)\n",
    "plt.figure(figsize=(15, 7.5))\n",
    "plt.semilogx(np.array(neutrinoforecast.spectra_mid[zidx].k_table), \n",
    "             np.array(neutrinoforecast.dlogPmdomega_b)[zidx, :] - np.array(relicforecast.dlogPmdomega_b)[zidx, :], \n",
    "             label=\"Relic T_ncdm Fixed\")\n",
    "plt.semilogx(np.array(neutrinoforecast.spectra_mid[zidx].k_table), \n",
    "             np.array(neutrinoforecast.dlogPmdomega_b)[zidx, :] - np.array(relicforecast2.dlogPmdomega_b)[zidx, :], \n",
    "             label=\"Relic m_ncdm Fixed\")\n",
    "plt.title(r'Difference in dlogPm/domega_b Term')\n",
    "plt.xlabel(r'k [Mpc$^{-1}$]')\n",
    "plt.ylabel(r'$\\Delta$ dlogPm/domega_b')\n",
    "plt.legend()\n",
    "plt.show()\n",
    "\n",
    "sns.set()\n",
    "sns.set_palette(\"Blues_d\", n_colors=2)\n",
    "plt.figure(figsize=(15, 7.5))\n",
    "plt.semilogx(np.array(neutrinoforecast.spectra_mid[zidx].k_table), \n",
    "             np.array(neutrinoforecast.dlogPmdomega_cdm)[zidx, :] - np.array(relicforecast.dlogPmdomega_cdm)[zidx, :], \n",
    "             label=\"Relic T_ncdm Fixed\")\n",
    "plt.semilogx(np.array(neutrinoforecast.spectra_mid[zidx].k_table), \n",
    "             np.array(neutrinoforecast.dlogPmdomega_cdm)[zidx, :] - np.array(relicforecast2.dlogPmdomega_cdm)[zidx, :], \n",
    "             label=\"Relic m_ncdm Fixed\")\n",
    "plt.title(r'Difference in dlogPm/domega_cdm Term')\n",
    "plt.xlabel(r'k [Mpc$^{-1}$]')\n",
    "plt.ylabel(r'$\\Delta$ dlogPm/domega_cdm')\n",
    "plt.legend()\n",
    "plt.show()\n",
    "\n",
    "sns.set()\n",
    "sns.set_palette(\"Blues_d\", n_colors=2)\n",
    "plt.figure(figsize=(15, 7.5))\n",
    "plt.semilogx(np.array(neutrinoforecast.spectra_mid[zidx].k_table), \n",
    "             np.array(neutrinoforecast.dlogPmdh)[zidx, :] - np.array(relicforecast.dlogPmdh)[zidx, :], \n",
    "             label=\"Relic T_ncdm Fixed\")\n",
    "plt.semilogx(np.array(neutrinoforecast.spectra_mid[zidx].k_table), \n",
    "             np.array(neutrinoforecast.dlogPmdh)[zidx, :] - np.array(relicforecast2.dlogPmdh)[zidx, :], \n",
    "             label=\"Relic m_ncdm Fixed\")\n",
    "plt.title(r'Difference in dlogPm/dh Term')\n",
    "plt.xlabel(r'k [Mpc$^{-1}$]')\n",
    "plt.ylabel(r'$\\Delta$ dlogPm/dh')\n",
    "plt.legend()\n",
    "plt.show()\n",
    "\n",
    "\n",
    "sns.set()\n",
    "sns.set_palette(\"Blues_d\", n_colors=2)\n",
    "plt.figure(figsize=(15, 7.5))\n",
    "plt.semilogx(np.array(neutrinoforecast.spectra_mid[zidx].k_table), \n",
    "             np.array(neutrinoforecast.dlogPmdtau_reio)[zidx, :] - np.array(relicforecast.dlogPmdtau_reio)[zidx, :], \n",
    "             label=\"Relic T_ncdm Fixed\")\n",
    "plt.semilogx(np.array(neutrinoforecast.spectra_mid[zidx].k_table), \n",
    "             np.array(neutrinoforecast.dlogPmdtau_reio)[zidx, :] - np.array(relicforecast2.dlogPmdtau_reio)[zidx, :], \n",
    "             label=\"Relic m_ncdm Fixed\")\n",
    "plt.title(r'Difference in dlogPm/dtau_reio Term')\n",
    "plt.xlabel(r'k [Mpc$^{-1}$]')\n",
    "plt.ylabel(r'$\\Delta$ dlogPm/dtau_reio')\n",
    "plt.legend()\n",
    "plt.show()\n",
    "\n",
    "sns.set()\n",
    "sns.set_palette(\"Blues_d\", n_colors=2)\n",
    "plt.figure(figsize=(15, 7.5))\n",
    "plt.semilogx(np.array(neutrinoforecast.spectra_mid[zidx].k_table), \n",
    "             (np.array(neutrinoforecast.dlogPmdomega_ncdm)[zidx, :] - np.array(relicforecast.dlogPmdomega_ncdm)[zidx, :]), \n",
    "             label=\"Relic T_ncdm Fixed\")\n",
    "#plt.semilogx(np.array(neutrinoforecast.spectra_mid[zidx].k_table), \n",
    "#             np.array(neutrinoforecast.dlogPmdomega_ncdm)[zidx, :] - np.array(relicforecast2.dlogPmdomega_ncdm)[zidx, :], \n",
    "#             label=\"Relic m_ncdm Fixed\")\n",
    "plt.title(r'Difference in dlogPm/domega_ncdm Term')\n",
    "plt.xlabel(r'k [Mpc$^{-1}$]')\n",
    "plt.ylabel(r'$\\Delta$ dlogPm/domega_ncdm')\n",
    "plt.legend()\n",
    "plt.show()\n",
    "\n",
    "sns.set()\n",
    "sns.set_palette(\"Blues_d\", n_colors=2)\n",
    "plt.figure(figsize=(15, 7.5))\n",
    "plt.semilogx(np.array(neutrinoforecast.spectra_mid[zidx].k_table), \n",
    "             (np.array(neutrinoforecast.dlogPmdM_ncdm)[zidx, :] - np.array(relicforecast.dlogPmdM_ncdm)[zidx, :]), \n",
    "             label=\"Relic T_ncdm Fixed\")\n",
    "plt.title(r'Difference in dlogPm/dM_ncdm Term')\n",
    "plt.xlabel(r'k [Mpc$^{-1}$]')\n",
    "plt.ylabel(r'$\\Delta$ dlogPm/dM_ncdm')\n",
    "plt.legend()\n",
    "plt.show()\n",
    "\n",
    "sns.set()\n",
    "sns.set_palette(\"Blues_d\", n_colors=2)\n",
    "plt.figure(figsize=(15, 7.5))\n",
    "plt.semilogx(np.array(neutrinoforecast.spectra_mid[zidx].k_table), \n",
    "             np.array(relicforecast.dlogPmdM_ncdm)[zidx, :], \n",
    "             label=\"Relic T_ncdm Fixed\")\n",
    "plt.title(r'dlogPm/dM_ncdm Term')\n",
    "plt.xlabel(r'k [Mpc$^{-1}$]')\n",
    "plt.ylabel(r'dlogPm/dM_ncdm')\n",
    "plt.legend()\n",
    "plt.show()\n",
    "\n",
    "sns.set()\n",
    "sns.set_palette(\"Blues_d\", n_colors=2)\n",
    "plt.figure(figsize=(15, 7.5))\n",
    "plt.semilogx(np.array(neutrinoforecast.spectra_mid[zidx].k_table), \n",
    "             np.array(relicforecast2.dlogPmdT_ncdm)[zidx, :], \n",
    "             label=\"Relic M_ncdm Fixed\")\n",
    "plt.title(r'dlogPm/dT_ncdm Term')\n",
    "plt.xlabel(r'k [Mpc$^{-1}$]')\n",
    "plt.ylabel(r'dlogPm/dT_ncdm')\n",
    "plt.legend()\n",
    "plt.show()\n"
   ]
  },
  {
   "cell_type": "markdown",
   "metadata": {},
   "source": [
    "### Confirm P_g derivatives match"
   ]
  },
  {
   "cell_type": "code",
   "execution_count": null,
   "metadata": {
    "scrolled": false
   },
   "outputs": [],
   "source": [
    "zidx = 10\n",
    "muidx = 17\n",
    "\n",
    "sns.set()\n",
    "sns.set_palette(\"Blues_d\", n_colors=2)\n",
    "plt.figure(figsize=(15, 7.5))\n",
    "plt.semilogx(np.array(neutrinoforecast.spectra_mid[zidx].k_table), \n",
    "             np.array(neutrinoforecast.dlogPgdA_s)[zidx, :, muidx] - np.array(relicforecast.dlogPgdA_s)[zidx, :, muidx], \n",
    "             label=\"Relic T_ncdm Fixed\")\n",
    "plt.semilogx(np.array(neutrinoforecast.spectra_mid[zidx].k_table), \n",
    "             np.array(neutrinoforecast.dlogPgdA_s)[zidx, :, muidx] - np.array(relicforecast2.dlogPgdA_s)[zidx, :, muidx], \n",
    "             label=\"Relic m_ncdm Fixed\")\n",
    "plt.title(r'Difference in dlogPg/dA_s Term')\n",
    "plt.xlabel(r'k [Mpc$^{-1}$]')\n",
    "plt.ylabel(r'$\\Delta dlogPg/dA_s$')\n",
    "plt.legend()\n",
    "plt.show()\n",
    "\n",
    "sns.set()\n",
    "sns.set_palette(\"Blues_d\", n_colors=2)\n",
    "plt.figure(figsize=(15, 7.5))\n",
    "plt.semilogx(np.array(neutrinoforecast.spectra_mid[zidx].k_table), \n",
    "             np.array(neutrinoforecast.dlogPgdn_s)[zidx, :, muidx] - np.array(relicforecast.dlogPgdn_s)[zidx, :, muidx], \n",
    "             label=\"Relic T_ncdm Fixed\")\n",
    "plt.semilogx(np.array(neutrinoforecast.spectra_mid[zidx].k_table), \n",
    "             np.array(neutrinoforecast.dlogPgdn_s)[zidx, :, muidx] - np.array(relicforecast2.dlogPgdn_s)[zidx, :, muidx], \n",
    "             label=\"Relic m_ncdm Fixed\")\n",
    "plt.title(r'Difference in dlogPg/dn_s Term')\n",
    "plt.xlabel(r'k [Mpc$^{-1}$]')\n",
    "plt.ylabel(r'$\\Delta dlogPg/dn_s$')\n",
    "plt.legend()\n",
    "plt.show()\n",
    "\n",
    "sns.set()\n",
    "sns.set_palette(\"Blues_d\", n_colors=2)\n",
    "plt.figure(figsize=(15, 7.5))\n",
    "plt.semilogx(np.array(neutrinoforecast.spectra_mid[zidx].k_table), \n",
    "             np.array(neutrinoforecast.dlogPgdomega_b)[zidx, :, muidx] - np.array(relicforecast.dlogPgdomega_b)[zidx, :, muidx], \n",
    "             label=\"Relic T_ncdm Fixed\")\n",
    "plt.semilogx(np.array(neutrinoforecast.spectra_mid[zidx].k_table), \n",
    "             np.array(neutrinoforecast.dlogPgdomega_b)[zidx, :, muidx] - np.array(relicforecast2.dlogPgdomega_b)[zidx, :, muidx], \n",
    "             label=\"Relic m_ncdm Fixed\")\n",
    "plt.title(r'Difference in dlogPg/domega_b Term')\n",
    "plt.xlabel(r'k [Mpc$^{-1}$]')\n",
    "plt.ylabel(r'$\\Delta dlogPg/domega_b$')\n",
    "plt.legend()\n",
    "plt.show()\n",
    "\n",
    "sns.set()\n",
    "sns.set_palette(\"Blues_d\", n_colors=2)\n",
    "plt.figure(figsize=(15, 7.5))\n",
    "plt.semilogx(np.array(neutrinoforecast.spectra_mid[zidx].k_table), \n",
    "             np.array(neutrinoforecast.dlogPgdomega_cdm)[zidx, :, muidx] - np.array(relicforecast.dlogPgdomega_cdm)[zidx, :, muidx], \n",
    "             label=\"Relic T_ncdm Fixed\")\n",
    "plt.semilogx(np.array(neutrinoforecast.spectra_mid[zidx].k_table), \n",
    "             np.array(neutrinoforecast.dlogPgdomega_cdm)[zidx, :, muidx] - np.array(relicforecast2.dlogPgdomega_cdm)[zidx, :, muidx], \n",
    "             label=\"Relic m_ncdm Fixed\")\n",
    "plt.title(r'Difference in dlogPg/domega_cdm Term')\n",
    "plt.xlabel(r'k [Mpc$^{-1}$]')\n",
    "plt.ylabel(r'$\\Delta dlogPg/domega_cdm$')\n",
    "plt.legend()\n",
    "plt.show()\n",
    "\n",
    "sns.set()\n",
    "sns.set_palette(\"Blues_d\", n_colors=2)\n",
    "plt.figure(figsize=(15, 7.5))\n",
    "plt.semilogx(np.array(neutrinoforecast.spectra_mid[zidx].k_table), \n",
    "             np.array(neutrinoforecast.dlogPgdh)[zidx, :, muidx] - np.array(relicforecast.dlogPgdh)[zidx, :, muidx], \n",
    "             label=\"Relic T_ncdm Fixed\")\n",
    "plt.semilogx(np.array(neutrinoforecast.spectra_mid[zidx].k_table), \n",
    "             np.array(neutrinoforecast.dlogPgdh)[zidx, :, muidx] - np.array(relicforecast2.dlogPgdh)[zidx, :, muidx], \n",
    "             label=\"Relic m_ncdm Fixed\")\n",
    "plt.title(r'Difference in dlogPg/dh Term')\n",
    "plt.xlabel(r'k [Mpc$^{-1}$]')\n",
    "plt.ylabel(r'$\\Delta dlogPg/dh$')\n",
    "plt.legend()\n",
    "plt.show()\n",
    "\n",
    "sns.set()\n",
    "sns.set_palette(\"Blues_d\", n_colors=2)\n",
    "plt.figure(figsize=(15, 7.5))\n",
    "plt.semilogx(np.array(neutrinoforecast.spectra_mid[zidx].k_table), \n",
    "             np.array(neutrinoforecast.dlogPgdtau_reio)[zidx, :, muidx] - np.array(relicforecast.dlogPgdtau_reio)[zidx, :, muidx], \n",
    "             label=\"Relic T_ncdm Fixed\")\n",
    "plt.semilogx(np.array(neutrinoforecast.spectra_mid[zidx].k_table), \n",
    "             np.array(neutrinoforecast.dlogPgdtau_reio)[zidx, :, muidx] - np.array(relicforecast2.dlogPgdtau_reio)[zidx, :, muidx], \n",
    "             label=\"Relic m_ncdm Fixed\")\n",
    "plt.title(r'Difference in dlogPg/dtau_reio Term')\n",
    "plt.xlabel(r'k [Mpc$^{-1}$]')\n",
    "plt.ylabel(r'$\\Delta dlogPg/dtau_reio$')\n",
    "plt.legend()\n",
    "plt.show()\n",
    "\n",
    "sns.set()\n",
    "sns.set_palette(\"Blues_d\", n_colors=2)\n",
    "plt.figure(figsize=(15, 7.5))\n",
    "plt.semilogx(np.array(neutrinoforecast.spectra_mid[zidx].k_table), \n",
    "             (np.array(neutrinoforecast.dlogPgdomega_ncdm)[zidx, :, muidx] - np.array(relicforecast.dlogPgdomega_ncdm)[zidx, :, muidx]), \n",
    "             label=\"Relic T_ncdm Fixed\")\n",
    "#plt.semilogx(np.array(neutrinoforecast.spectra_mid[zidx].k_table), \n",
    "#             np.array(neutrinoforecast.dlogPgdomega_ncdm)[zidx, :, muidx] - np.array(relicforecast2.dlogPgdomega_ncdm)[zidx, :, muidx], \n",
    "#             label=\"Relic m_ncdm Fixed\")\n",
    "plt.title(r'Difference in dlogPg/domega_ncdm Term')\n",
    "plt.xlabel(r'k [Mpc$^{-1}$]')\n",
    "plt.ylabel(r'$\\Delta dlogPg/domega_ncdm$')\n",
    "plt.legend()\n",
    "plt.show()\n",
    "\n",
    "\n",
    "sns.set()\n",
    "sns.set_palette(\"Blues_d\", n_colors=2)\n",
    "plt.figure(figsize=(15, 7.5))\n",
    "plt.semilogx(np.array(neutrinoforecast.spectra_mid[zidx].k_table), \n",
    "             np.array(neutrinoforecast.dlogPgdM_ncdm)[zidx, :, muidx] - np.array(relicforecast.dlogPgdM_ncdm)[zidx, :, muidx], \n",
    "             label=\"Relic T_ncdm Fixed\")\n",
    "plt.title(r'Difference in dlogPg/dM_ncdm Term')\n",
    "plt.xlabel(r'k [Mpc$^{-1}$]')\n",
    "plt.ylabel(r'$\\Delta$ dlogPg/dM_ncdm')\n",
    "plt.legend()\n",
    "plt.show()\n",
    "\n",
    "sns.set()\n",
    "sns.set_palette(\"Blues_d\", n_colors=2)\n",
    "plt.figure(figsize=(15, 7.5))\n",
    "plt.semilogx(np.array(neutrinoforecast.spectra_mid[zidx].k_table), \n",
    "             np.array(relicforecast2.dlogPgdT_ncdm)[zidx, :, muidx], \n",
    "             label=\"Relic M_ncdm Fixed\")\n",
    "plt.title(r'dlogPg/dT_ncdm Term')\n",
    "plt.xlabel(r'k [Mpc$^{-1}$]')\n",
    "plt.ylabel(r'dlogPg/dM_ncdm')\n",
    "plt.legend()\n",
    "plt.show()\n"
   ]
  },
  {
   "cell_type": "markdown",
   "metadata": {},
   "source": [
    "# Light Relic Science Plot"
   ]
  },
  {
   "cell_type": "markdown",
   "metadata": {},
   "source": [
    "We are now interested in studying how the uncertainty in relic temperature varies with the relic mass. "
   ]
  },
  {
   "cell_type": "markdown",
   "metadata": {},
   "source": [
    "### Setup"
   ]
  },
  {
   "cell_type": "code",
   "execution_count": null,
   "metadata": {},
   "outputs": [],
   "source": [
    "#Imports \n",
    "import cosmicfish as cf \n",
    "import os\n",
    "import shutil\n",
    "import numpy as np\n",
    "import pandas as pd\n",
    "import seaborn as sns \n",
    "import matplotlib.pyplot as plt\n",
    "\n",
    "#Plotting setup\n",
    "sns.set()\n",
    "\n",
    "#Workspace setup\n",
    "projectdir = cf.correct_path(\"~/Desktop/cfworkspace/\")\n",
    "datastore = cf.correct_path(\"/Volumes/SSD01/datastore/\")\n",
    "classpath = os.path.join(projectdir, \"class\")\n",
    "\n",
    "#Analysis setup\n",
    "derivative_step = 0.005 \n",
    "mu_integral_step = 0.01 \n",
    "\n",
    "#Experiment setup\n",
    "z_table = np.arange(0.65, 1.85, 0.1)\n",
    "dNdz = np.array([309., 2269., 1923., 2094., 1441., 1353., 1337., 523., 466., 329., 126., 0., 0.])\n",
    "skycover = 14000. \n",
    "\n",
    "#Fiducial cosmology  \n",
    "fiducial = {\n",
    "        \"A_s\" : 2.2321e-9, \n",
    "        \"n_s\" : 0.96659,\n",
    "        \"omega_b\" : 0.02226,\n",
    "        \"omega_cdm\" : 0.11271,\n",
    "        \"tau_reio\" : 0.059888,\n",
    "        \"h\" : 0.70148,\n",
    "        \"T_cmb\" : 2.726, # Units [K]\n",
    "        \"N_ncdm\" : 1., \n",
    "        \"T_ncdm\" : 1.5/2.726, # Units [T_cmb]  Are Julian's matrices at 1.64 K? \n",
    "        \"m_ncdm\" : 0.1, # Units [eV]\n",
    "        \"b0\" : 1.0, \n",
    "        \"alphak2\" : 1.0,\n",
    "        \"sigma_fog_0\" : 250000, #Units [m s^-2]\n",
    "        \"N_eff\" : 3.046, \n",
    "        \"relic_fix\" : \"m_ncdm\" # Fix T_ncdm or m_ncdm \n",
    "        }"
   ]
  },
  {
   "cell_type": "markdown",
   "metadata": {},
   "source": [
    "### Convergence Testing"
   ]
  },
  {
   "cell_type": "code",
   "execution_count": null,
   "metadata": {
    "scrolled": true
   },
   "outputs": [],
   "source": [
    "#Convergence testing \n",
    "convergencetest = cf.convergence(\n",
    "    classpath, # Path to CLASS installation\n",
    "    datastore, # Path to directory holding CLASS output data\n",
    "    'relic', # 'relic' or 'neutrino' forecasting scheme \n",
    "    fiducial, # The fiducial cosmology \n",
    "    z_table, # Redshift steps in observation\n",
    "    dNdz, # Redshift noise in observation\n",
    "    fisher_order=[\n",
    "            'omega_b',                                    \n",
    "            'omega_cdm',                                  \n",
    "            'n_s',                                        \n",
    "            'A_s',                                        \n",
    "            'tau_reio',                                   \n",
    "            'h',                                          \n",
    "            #'M_ncdm',                                    \n",
    "            'T_ncdm',                                 \n",
    "            'sigma_fog',                                   \n",
    "            'b0',                                         \n",
    "            'alpha_k2'],\n",
    "    fcoverage_deg=14000, # Sky coverage in observation\n",
    "    RSD=True, # Use RSD correction to Pm\n",
    "    FOG=True, # Use FOG correction to Pm\n",
    "    AP=True, # Use AP correction to PM\n",
    "    COV=True, #Use AP Change of Variables correction to PM\n",
    "    mu_step=mu_integral_step,\n",
    "    varyfactors=[0.003, 0.005, 0.007], # Relative factors used to compute convergence\n",
    "    saveplots=True, \n",
    "    showplots=True,\n",
    "    savepath=\"/Users/nicholasdeporzio/Desktop/\",\n",
    "    plotparams=[\n",
    "            'omega_b',                                    \n",
    "            'omega_cdm',                                  \n",
    "            'n_s',                                        \n",
    "            'A_s',                                        \n",
    "            'tau_reio',                                   \n",
    "            'h',                                          \n",
    "            'omega_ncdm',                                    \n",
    "            'T_ncdm',                                 \n",
    "            'sigmafog',                                   \n",
    "            'b0',                                         \n",
    "            'alpha_k2']\n",
    "    )"
   ]
  },
  {
   "cell_type": "code",
   "execution_count": null,
   "metadata": {
    "scrolled": false
   },
   "outputs": [],
   "source": [
    "convergencetest.gen_all_plots() # Display convergence plots"
   ]
  },
  {
   "cell_type": "markdown",
   "metadata": {},
   "source": [
    "### Forecasting"
   ]
  },
  {
   "cell_type": "code",
   "execution_count": null,
   "metadata": {},
   "outputs": [],
   "source": [
    "masses = np.geomspace(0.1, 10.0, 21) \n",
    "fiducialset = [dict(fiducial, **{'m_ncdm': masses[midx]}) for midx, mval in enumerate(masses)]\n",
    "\n",
    "forecastset = [cf.forecast(\n",
    "    classpath, \n",
    "    datastore, \n",
    "    'relic', \n",
    "    fidval, \n",
    "    z_table, \n",
    "    dNdz, \n",
    "    fcoverage_deg=skycover, \n",
    "    dstep=derivative_step,\n",
    "    RSD=True,\n",
    "    FOG=True,\n",
    "    AP=True,\n",
    "    COV=True) for fididx, fidval in enumerate(fiducialset)]\n",
    "\n",
    "for fidx, fcst in enumerate(forecastset): \n",
    "    fcst.gen_pm()\n",
    "    fcst.gen_fisher(\n",
    "        fisher_order=[\n",
    "            'omega_b',                                    \n",
    "            'omega_cdm',                                  \n",
    "            'n_s',                                        \n",
    "            'A_s',                                        \n",
    "            'tau_reio',                                   \n",
    "            'h',                                          \n",
    "            #'M_ncdm',                                    \n",
    "            'T_ncdm',                                 \n",
    "            'sigma_fog',                                   \n",
    "            'b0',                                         \n",
    "            'alpha_k2'],\n",
    "        mu_step=mu_integral_step, \n",
    "        skipgen=False)\n",
    "    print(\"Relic Forecast \", fidx, \" complete...\")"
   ]
  },
  {
   "cell_type": "code",
   "execution_count": null,
   "metadata": {},
   "outputs": [],
   "source": [
    "#Save all the LSS/CMB/Full fisher matrices  \n",
    "for fidx, fcst in enumerate(forecastset):\n",
    "    name = '/Users/nicholasdeporzio/Desktop/cfworkspace/results/relic/scienceresults_temp_1.50_K/fishers/full/FULL_Fisher_' + str(fidx+1) + '.dat'\n",
    "    head = 'omega_b \\t omega_cdm \\t n_s \\t A_s \\t tau_reio \\t h \\t T_ncdm \\t sigma_fog \\t b_0 \\t alpha_k2'\n",
    "    np.savetxt(name, fcst.numpy_full_fisher, delimiter='\\t', header=head)"
   ]
  },
  {
   "cell_type": "code",
   "execution_count": null,
   "metadata": {},
   "outputs": [],
   "source": [
    "inpath = \"/Users/nicholasdeporzio/Documents/Academic/Research/Projects/cosmicfish/cosmicfish/priors/CMBS4_Fisher_Relic_\"\n",
    "outpath = \"/Users/nicholasdeporzio/Desktop/cfworkspace/results/relic/scienceresults/\"\n",
    "\n",
    "for fidx, fval in enumerate(forecastset):\n",
    "    fval.load_cmb_fisher(\n",
    "        fisher_order=[\n",
    "            'omega_b',                                    \n",
    "            'omega_cdm',                                  \n",
    "            'n_s',                                        \n",
    "            'A_s',                                        \n",
    "            'tau_reio',                                   \n",
    "            'h',                                                                             \n",
    "            'T_ncdm'],\n",
    "        fisherpath=inpath+str(fidx+1)+\".dat\")\n",
    "    print(\"CMB Fisher information loaded to forecast \" + str(fidx) + \"...\")\n",
    "    fval.export_matrices(\"~/Desktop\")\n",
    "    shutil.move(\"/Users/nicholasdeporzio/Desktop/inv_cmbfisher.mat\", outpath+str(fidx+1)+\"/inv_cmbfisher.mat\")\n",
    "    shutil.move(\"/Users/nicholasdeporzio/Desktop/inv_lssfisher.mat\", outpath+str(fidx+1)+\"/inv_lssfisher.mat\")\n",
    "    shutil.move(\"/Users/nicholasdeporzio/Desktop/inv_fullfisher.mat\", outpath+str(fidx+1)+\"/inv_fullfisher.mat\")"
   ]
  },
  {
   "cell_type": "code",
   "execution_count": null,
   "metadata": {},
   "outputs": [],
   "source": [
    "errors_Tncdm_cmb = [np.sqrt(fval.numpy_cmb_covariance[6,6]) for fidx, fval in enumerate(forecastset)]    \n",
    "errors_Tncdm_lss = [np.sqrt(fval.numpy_lss_covariance[6,6]) for fidx, fval in enumerate(forecastset)]\n",
    "errors_Tncdm_full = [np.sqrt(fval.numpy_full_covariance[6,6]) for fidx, fval in enumerate(forecastset)]\n",
    "\n",
    "plt.figure(figsize=(15,7.5))\n",
    "plt.semilogx(masses, errors_Tncdm_full, label=\"CMB+LSS\")\n",
    "#plt.semilogx(masses, errors_Tncdm_lss, label=\"LSS\")\n",
    "#plt.semilogx(masses, errors_Tncdm_cmb, label=\"CMB\")\n",
    "plt.title(\"Relic Temperature Uncertainty\")\n",
    "plt.xlabel(\"Relic Mass [eV]\")\n",
    "plt.ylabel(r\"$\\sigma_T ~[K]$\")\n",
    "plt.legend()\n",
    "plt.savefig(\"/Users/nicholasdeporzio/Desktop/results.png\")\n",
    "plt.show()"
   ]
  },
  {
   "cell_type": "code",
   "execution_count": null,
   "metadata": {},
   "outputs": [],
   "source": []
  }
 ],
 "metadata": {
  "kernelspec": {
   "display_name": "Python 3",
   "language": "python",
   "name": "python3"
  },
  "language_info": {
   "codemirror_mode": {
    "name": "ipython",
    "version": 3
   },
   "file_extension": ".py",
   "mimetype": "text/x-python",
   "name": "python",
   "nbconvert_exporter": "python",
   "pygments_lexer": "ipython3",
   "version": "3.6.8"
  }
 },
 "nbformat": 4,
 "nbformat_minor": 2
}
