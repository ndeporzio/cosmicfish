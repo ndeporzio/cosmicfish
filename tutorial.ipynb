{
 "cells": [
  {
   "cell_type": "markdown",
   "metadata": {},
   "source": [
    "# Setup Your Analysis Environment\n",
    "\n",
    "1) Choose a directory to house your project in: \n",
    "```\n",
    ".../<project-directory>\n",
    "```\n",
    "\n",
    "\n",
    "2) Create and activate a fresh Python3 virtual environment there: \n",
    "```\n",
    "$ cd .../<project-directory>\n",
    "$ python -m virtualenv env #Package tested on Python 3.6.8\n",
    "$ source env/bin/activate\n",
    "```\n",
    "\n",
    "3) Download the `cosmicfish` package from Git: \n",
    "```\n",
    "$ git clone git@github.com:ndeporzio/cosmicfish.git\n",
    "```\n",
    "\n",
    "4) Install the `cosmicfish` package. Note that its dependencies will install automatically.\n",
    "```\n",
    "$ cd cosmicfish\n",
    "$ pip install . \n",
    "```\n",
    "\n",
    "5) Launch Jupyter and open `tutorial.ipynb` notebook using Jupyter browser\n",
    "```\n",
    "$ jupyter notebook\n",
    "```"
   ]
  },
  {
   "cell_type": "markdown",
   "metadata": {},
   "source": [
    "# Setup Fiducial Cosmology"
   ]
  },
  {
   "cell_type": "markdown",
   "metadata": {},
   "source": [
    "Import the analysis package."
   ]
  },
  {
   "cell_type": "code",
   "execution_count": null,
   "metadata": {},
   "outputs": [],
   "source": [
    "import cosmicfish as cf "
   ]
  },
  {
   "cell_type": "markdown",
   "metadata": {},
   "source": [
    "Import relevant python packages... "
   ]
  },
  {
   "cell_type": "code",
   "execution_count": null,
   "metadata": {},
   "outputs": [],
   "source": [
    "#Import relevant packages\n",
    "import os\n",
    "import numpy as np\n",
    "import pandas as pd\n",
    "import seaborn as sns \n",
    "import matplotlib.pyplot as plt"
   ]
  },
  {
   "cell_type": "markdown",
   "metadata": {},
   "source": [
    "Other setup steps... "
   ]
  },
  {
   "cell_type": "code",
   "execution_count": null,
   "metadata": {},
   "outputs": [],
   "source": [
    "#Instruct pyplot to use seaborn \n",
    "sns.set()\n",
    "\n",
    "#Set project, data, CLASS directories \n",
    "projectdir = cf.correct_path(\"~/Desktop/test/\")\n",
    "datastore = os.path.join(projectdir, \"data\")\n",
    "classpath = os.path.join(projectdir, \"class\")"
   ]
  },
  {
   "cell_type": "markdown",
   "metadata": {},
   "source": [
    "Specify the values of your fiducial cosmology and other physical constants."
   ]
  },
  {
   "cell_type": "code",
   "execution_count": null,
   "metadata": {},
   "outputs": [],
   "source": [
    "#Setup fiducial cosmology, note change to N_ncdm... \n",
    "fid = {\"A_s\" : 2.2321e-9, \n",
    "        \"n_s\" : 0.96659,\n",
    "        \"omega_b\" : 0.02226,\n",
    "        \"omega_cdm\" : 0.11271,\n",
    "        \"tau_reio\" : 0.059888,\n",
    "        \"h\" : 0.70148,\n",
    "        \"N_ncdm\" : 0, #Note the change! \n",
    "        \"z_pk\" : 0.7} #Not necessary, but helps neatness later on\n",
    "\n",
    "A_s = fid['A_s']\n",
    "n_s = fid['n_s']\n",
    "omega_b = fid['omega_b']\n",
    "omega_cdm = fid['omega_cdm']\n",
    "tau_reio = fid['tau_reio']\n",
    "h = fid['h']\n",
    "z_pk = fid['z_pk']\n",
    "\n",
    "c = 2.9979e8 #Units of m/s\n",
    "H = 1000. * 100. * h #Units of m/s/Mpc\n",
    "kp = 0.05 * h #Units of 1/Mpc\n",
    "t_cmb = 2.726 #Units of K"
   ]
  },
  {
   "cell_type": "markdown",
   "metadata": {},
   "source": [
    "Specify the parameter values you'd like to use to compute the forecast..."
   ]
  },
  {
   "cell_type": "code",
   "execution_count": null,
   "metadata": {},
   "outputs": [],
   "source": [
    "#Setup redshift bins, fiducial relica masses to sample\n",
    "z_table = np.arange(0.7, 2.1, 0.1)\n",
    "m_chi = 1.0"
   ]
  },
  {
   "cell_type": "markdown",
   "metadata": {},
   "source": [
    "# Convergence Analysis"
   ]
  },
  {
   "cell_type": "markdown",
   "metadata": {},
   "source": [
    "Before running the forecast, we want to ensure our cosmological parameters are well converged about the points we are interested in using to calculate Fisher matrices. To do so, we can use the `relic_convergence_analysis` class of `cosmicfish`. \n",
    "\n",
    "We pass to `relic_convergence_analysis` some fiducial cosmology, and then it will vary the parameters of that fiducial cosmology to values specified by the user and compute the corresponding power spectrum derivatives. You can choose to pass specific values of the fiducial cosmology, or choose to vary relative to the fiducial cosmology. \n",
    "\n",
    "First, specify the points in parameter space you'd like to sample: "
   ]
  },
  {
   "cell_type": "code",
   "execution_count": null,
   "metadata": {},
   "outputs": [],
   "source": [
    "T_chi_table = np.arange(0.002, 0.072, 0.002) #We pass specific values of T_ncdm\n",
    "nonT_relvary = np.arange(1.00, 1.11, 0.01) #We pass relative values for the other parameters"
   ]
  },
  {
   "cell_type": "markdown",
   "metadata": {},
   "source": [
    "Then, we generate instances of the `relic_convergence_analysis` class. It will search for pre-existing datasets for the specified points in parameter space in the datastore directory - otherwise, it will generate the dataset and place it in datastore. "
   ]
  },
  {
   "cell_type": "code",
   "execution_count": null,
   "metadata": {},
   "outputs": [],
   "source": [
    "conv1 = cf.relic_convergence_analysis(fid, 'T_ncdm', 'abs', T_chi_table, z_table, m_chi, classpath, datastore)\n",
    "conv2 = cf.relic_convergence_analysis(fid, 'omega_b', 'rel', nonT_relvary, z_table, 0, classpath, datastore);\n",
    "conv3 = cf.relic_convergence_analysis(fid, 'omega_cdm', 'rel', nonT_relvary, z_table, 0, classpath, datastore);\n",
    "conv4 = cf.relic_convergence_analysis(fid, 'tau_reio', 'rel', nonT_relvary, z_table, 0, classpath, datastore);\n",
    "conv5 = cf.relic_convergence_analysis(fid, 'h', 'rel', nonT_relvary, z_table, 0, classpath, datastore);"
   ]
  },
  {
   "cell_type": "markdown",
   "metadata": {},
   "source": [
    "At this point, all the useful information generated in the convergence analysis is accessed through the methods of the `relic_convergence_analysis` objects. We use those methods to plot the results of the analysis...\n",
    "\n",
    "### Convergence Power Spectra"
   ]
  },
  {
   "cell_type": "code",
   "execution_count": null,
   "metadata": {},
   "outputs": [],
   "source": [
    "conv1.plot_ps(z_index=3)\n",
    "conv2.plot_ps(z_index=3)\n",
    "conv3.plot_ps(z_index=3)\n",
    "conv4.plot_ps(z_index=3)\n",
    "conv5.plot_ps(z_index=3)"
   ]
  },
  {
   "cell_type": "markdown",
   "metadata": {},
   "source": [
    "### Convergence Derivatives of Power Spectra"
   ]
  },
  {
   "cell_type": "code",
   "execution_count": null,
   "metadata": {},
   "outputs": [],
   "source": [
    "conv1.plot_dps(z_index=3)\n",
    "conv2.plot_dps(z_index=3)\n",
    "conv3.plot_dps(z_index=3)\n",
    "conv4.plot_dps(z_index=3)\n",
    "conv5.plot_dps(z_index=3)"
   ]
  },
  {
   "cell_type": "markdown",
   "metadata": {},
   "source": [
    "### Convergence Difference of Derivatives of Power Spectra"
   ]
  },
  {
   "cell_type": "code",
   "execution_count": null,
   "metadata": {},
   "outputs": [],
   "source": [
    "conv1.plot_delta_dps(z_index=3)\n",
    "conv2.plot_delta_dps(z_index=3)\n",
    "conv3.plot_delta_dps(z_index=3)\n",
    "conv4.plot_delta_dps(z_index=3)\n",
    "conv5.plot_delta_dps(z_index=3)"
   ]
  },
  {
   "cell_type": "markdown",
   "metadata": {},
   "source": [
    ".\n",
    "\n",
    ".\n",
    "\n",
    ".\n",
    "\n",
    ".\n",
    "\n",
    ".\n",
    "\n",
    ".\n",
    "\n",
    ".\n",
    "\n",
    ".\n",
    "\n",
    ".\n",
    "\n",
    ".\n",
    "\n",
    ".\n",
    "\n",
    ".\n",
    "\n",
    ".\n",
    "\n",
    ".\n",
    "\n",
    ".\n",
    "\n",
    ".\n",
    "# Analysis - No Commentary"
   ]
  },
  {
   "cell_type": "code",
   "execution_count": null,
   "metadata": {
    "scrolled": true
   },
   "outputs": [],
   "source": [
    "#Import relevant packages\n",
    "import os\n",
    "import numpy as np\n",
    "import pandas as pd\n",
    "import seaborn as sns \n",
    "import matplotlib.pyplot as plt\n",
    "import cosmicfish as cf\n",
    "\n",
    "\n",
    "#Instruct pyplot to use seaborn \n",
    "sns.set()\n",
    "\n",
    "#Set project, data, CLASS directories \n",
    "projectdir = cf.correct_path(\"~/Desktop/test/\")\n",
    "datastore = cf.correct_path(\"/Volumes/SSD01/data/\")\n",
    "classpath = os.path.join(projectdir, \"class\")\n",
    "\n",
    "#Setup fiducial cosmology, note change to N_ncdm... \n",
    "fid = {\"A_s\" : 2.2321e-9, \n",
    "        \"n_s\" : 0.96659,\n",
    "        \"omega_b\" : 0.02226,\n",
    "        \"omega_cdm\" : 0.11271,\n",
    "        \"tau_reio\" : 0.059888,\n",
    "        \"h\" : 0.70148,\n",
    "        \"N_ncdm\" : 0, #Note the change! \n",
    "        \"z_pk\" : 0.7, \n",
    "        \"T_cmb\" : 2.726} #Not necessary, but helps neatness later on\n",
    "\n",
    "A_s = fid['A_s']\n",
    "n_s = fid['n_s']\n",
    "omega_b = fid['omega_b']\n",
    "omega_cdm = fid['omega_cdm']\n",
    "tau_reio = fid['tau_reio']\n",
    "h = fid['h']\n",
    "z_pk = fid['z_pk']\n",
    "T_cmb = fid['T_cmb'] #Units of K\n",
    "\n",
    "c = 2.9979e8 #Units of m/s\n",
    "H = 1000. * 100. * h #Units of m/s/Mpc\n",
    "kp = 0.05 * h #Units of 1/Mpc\n",
    "\n",
    "\n",
    "#Setup redshift bins, fiducial relica masses, relic temps to sample\n",
    "z_table = np.arange(1.0, 1.1, 0.1)\n",
    "m_chi = 0.1\n",
    "T_chi_table = np.arange(0.1, 2.1, 0.1) / T_cmb\n",
    "nonT_relvary = np.arange(1.01, 1.11, 0.01)"
   ]
  },
  {
   "cell_type": "code",
   "execution_count": null,
   "metadata": {
    "scrolled": true
   },
   "outputs": [],
   "source": [
    "conv1 = cf.relic_convergence_analysis(fid, 'T_ncdm', 'abs', T_chi_table, z_table, m_chi, classpath, datastore)\n",
    "conv2 = cf.relic_convergence_analysis(fid, 'omega_b', 'rel', nonT_relvary, z_table, None, classpath, datastore);\n",
    "conv3 = cf.relic_convergence_analysis(fid, 'omega_cdm', 'rel', nonT_relvary, z_table, None, classpath, datastore);\n",
    "conv4 = cf.relic_convergence_analysis(fid, 'tau_reio', 'rel', nonT_relvary, z_table, None, classpath, datastore);\n",
    "conv5 = cf.relic_convergence_analysis(fid, 'h', 'rel', np.arange(1.005, 1.055, 0.005), z_table, None, classpath, datastore);"
   ]
  },
  {
   "cell_type": "code",
   "execution_count": null,
   "metadata": {
    "scrolled": false
   },
   "outputs": [],
   "source": [
    "conv1.plot_ps(z_index=0, xscale='linear', plotdata=True)\n",
    "conv2.plot_ps(z_index=0, xscale='linear', plotdata=True)\n",
    "conv3.plot_ps(z_index=0, xscale='linear', plotdata=True)\n",
    "conv4.plot_ps(z_index=0, xscale='linear', plotdata=True)\n",
    "conv5.plot_ps(z_index=0, xscale='linear', plotdata=True)\n",
    "\n",
    "print('..................................................................................')\n",
    "print('..................................................................................')\n",
    "print('..................................................................................')\n",
    "\n",
    "conv1.plot_dps(z_index=0, xscale='linear')\n",
    "conv2.plot_dps(z_index=0, xscale='linear')\n",
    "conv3.plot_dps(z_index=0, xscale='linear')\n",
    "conv4.plot_dps(z_index=0, xscale='linear')\n",
    "conv5.plot_dps(z_index=0, xscale='linear')\n",
    "\n",
    "print('..................................................................................')\n",
    "print('..................................................................................')\n",
    "print('..................................................................................')\n",
    "\n",
    "conv1.plot_delta_dps(z_index=0, xscale='linear')\n",
    "conv2.plot_delta_dps(z_index=0, xscale='linear')\n",
    "conv3.plot_delta_dps(z_index=0, xscale='linear')\n",
    "conv4.plot_delta_dps(z_index=0, xscale='linear')\n",
    "conv5.plot_delta_dps(z_index=0, xscale='linear')"
   ]
  },
  {
   "cell_type": "code",
   "execution_count": null,
   "metadata": {
    "scrolled": true
   },
   "outputs": [],
   "source": [
    "conv1a = cf.relic_convergence_analysis(fid, 'T_ncdm', 'abs', T_chi_table, z_table, 0.1, classpath, datastore)\n",
    "conv1b = cf.relic_convergence_analysis(fid, 'T_ncdm', 'abs', T_chi_table, z_table, 0.5, classpath, datastore)\n",
    "conv1c = cf.relic_convergence_analysis(fid, 'T_ncdm', 'abs', T_chi_table, z_table, 1.0, classpath, datastore)\n",
    "conv1d = cf.relic_convergence_analysis(fid, 'T_ncdm', 'abs', T_chi_table, z_table, 1.5, classpath, datastore)\n",
    "conv1e = cf.relic_convergence_analysis(fid, 'T_ncdm', 'abs', T_chi_table, z_table, 2.5, classpath, datastore)"
   ]
  },
  {
   "cell_type": "code",
   "execution_count": null,
   "metadata": {
    "scrolled": false
   },
   "outputs": [],
   "source": [
    "#conv1a.plot_ps(z_index=0, xscale='linear', plotdata=True)\n",
    "conv1a.plot_dps(z_index=0, xscale='linear')\n",
    "conv1b.plot_dps(z_index=0, xscale='linear')\n",
    "conv1c.plot_dps(z_index=0, xscale='linear')\n",
    "conv1d.plot_dps(z_index=0, xscale='linear')\n",
    "conv1e.plot_dps(z_index=0, xscale='linear')\n",
    "#conv1a.plot_delta_dps(z_index=0, xscale='linear')"
   ]
  },
  {
   "cell_type": "code",
   "execution_count": null,
   "metadata": {},
   "outputs": [],
   "source": [
    "conv1e.plot_delta_dps(z_index=0, xscale='linear')"
   ]
  },
  {
   "cell_type": "code",
   "execution_count": null,
   "metadata": {},
   "outputs": [],
   "source": []
  }
 ],
 "metadata": {
  "kernelspec": {
   "display_name": "env",
   "language": "python",
   "name": "env"
  },
  "language_info": {
   "codemirror_mode": {
    "name": "ipython",
    "version": 3
   },
   "file_extension": ".py",
   "mimetype": "text/x-python",
   "name": "python",
   "nbconvert_exporter": "python",
   "pygments_lexer": "ipython3",
   "version": "3.6.8"
  }
 },
 "nbformat": 4,
 "nbformat_minor": 2
}
