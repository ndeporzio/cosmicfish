{
 "cells": [
  {
   "cell_type": "markdown",
   "metadata": {},
   "source": [
    "# Setup Your Analysis Environment\n",
    "\n",
    "1) Choose a directory to house your project in: \n",
    "```\n",
    ".../<project-directory>\n",
    "```\n",
    "\n",
    "\n",
    "2) Create and activate a fresh Python3 virtual environment there: \n",
    "```\n",
    "$ cd .../<project-directory>\n",
    "$ python -m virtualenv env #Package tested on Python 3.6.8\n",
    "$ source env/bin/activate\n",
    "```\n",
    "\n",
    "3) Download the `cosmicfish` package from Git: \n",
    "```\n",
    "$ git clone git@github.com:ndeporzio/cosmicfish.git\n",
    "```\n",
    "\n",
    "4) Install the `cosmicfish` package. Note that its dependencies will install automatically.\n",
    "```\n",
    "$ cd cosmicfish\n",
    "$ pip install . \n",
    "```\n",
    "\n",
    "5) Launch Jupyter and open `tutorial.ipynb` notebook using Jupyter browser\n",
    "```\n",
    "$ jupyter notebook\n",
    "```\n",
    "\n",
    "6) Create a data folder where the analysis can store spectrum data. This can be anywhere you'd like - you'll specify the path below. \n",
    "```\n",
    "$ mkdir <project-directory>/data\n",
    "```\n",
    "\n",
    "7) Install and build CLASS (if you don't already have a build). Note the `cosmicfish` package includes a method for downloading and installing CLASS for you. \n",
    "```\n",
    "$ python \n",
    ">>> import cosmicfish\n",
    ">>> cosmicfish.install_class('<project-directory>/class')\n",
    ">>> exit()\n",
    "```"
   ]
  },
  {
   "cell_type": "markdown",
   "metadata": {},
   "source": [
    "# Setup Fiducial Cosmology"
   ]
  },
  {
   "cell_type": "markdown",
   "metadata": {},
   "source": [
    "Import the analysis package."
   ]
  },
  {
   "cell_type": "code",
   "execution_count": null,
   "metadata": {
    "scrolled": false
   },
   "outputs": [],
   "source": [
    "import cosmicfish as cf "
   ]
  },
  {
   "cell_type": "markdown",
   "metadata": {},
   "source": [
    "Import relevant python packages... "
   ]
  },
  {
   "cell_type": "code",
   "execution_count": null,
   "metadata": {
    "scrolled": false
   },
   "outputs": [],
   "source": [
    "#Import relevant packages\n",
    "import os\n",
    "import numpy as np\n",
    "import pandas as pd\n",
    "import seaborn as sns \n",
    "import matplotlib.pyplot as plt"
   ]
  },
  {
   "cell_type": "markdown",
   "metadata": {},
   "source": [
    "Other setup steps... "
   ]
  },
  {
   "cell_type": "code",
   "execution_count": null,
   "metadata": {
    "scrolled": false
   },
   "outputs": [],
   "source": [
    "#Instruct pyplot to use seaborn \n",
    "sns.set()"
   ]
  },
  {
   "cell_type": "markdown",
   "metadata": {},
   "source": [
    "Specify the paths from the setup of your analysis environment above.  "
   ]
  },
  {
   "cell_type": "code",
   "execution_count": null,
   "metadata": {
    "scrolled": false
   },
   "outputs": [],
   "source": [
    "#Set project, data, CLASS directories \n",
    "projectdir = cf.correct_path(\"~/Desktop/test/\")\n",
    "datastore = cf.correct_path(\"/Volumes/SSD01/data/\")\n",
    "classpath = os.path.join(projectdir, \"class\")"
   ]
  },
  {
   "cell_type": "markdown",
   "metadata": {},
   "source": [
    "Specify the values of your fiducial cosmology and other physical constants."
   ]
  },
  {
   "cell_type": "code",
   "execution_count": null,
   "metadata": {
    "scrolled": false
   },
   "outputs": [],
   "source": [
    "#Setup fiducial cosmology, note change to N_ncdm... \n",
    "fid = {\"A_s\" : 2.2321e-9, \n",
    "        \"n_s\" : 0.96659,\n",
    "        \"omega_b\" : 0.02226,\n",
    "        \"omega_cdm\" : 0.11271,\n",
    "        \"tau_reio\" : 0.059888,\n",
    "        \"h\" : 0.70148,\n",
    "        \"N_ncdm\" : 1, #Note the change! \n",
    "        \"m_ncdm\" : 0.1, #Comment out for N_ncdm=0\n",
    "        \"T_ncdm\" : 1.4/2.726, #Comment out for N_ncdm=0\n",
    "        \"z_pk\" : 0.7, \n",
    "        \"T_cmb\" : 2.726} #Not necessary, but helps neatness later on\n",
    "\n",
    "A_s = fid['A_s']\n",
    "n_s = fid['n_s']\n",
    "omega_b = fid['omega_b']\n",
    "omega_cdm = fid['omega_cdm']\n",
    "tau_reio = fid['tau_reio']\n",
    "h = fid['h']\n",
    "z_pk = fid['z_pk']\n",
    "T_cmb = fid['T_cmb'] #Units of K\n",
    "\n",
    "c = 2.9979e8 #Units of m/s\n",
    "H = 1000. * 100. * h #Units of m/s/Mpc\n",
    "kp = 0.05 * h #Units of 1/Mpc"
   ]
  },
  {
   "cell_type": "markdown",
   "metadata": {},
   "source": [
    "Specify the parameter values you'd like to use to compute the forecast..."
   ]
  },
  {
   "cell_type": "code",
   "execution_count": null,
   "metadata": {
    "scrolled": false
   },
   "outputs": [],
   "source": [
    "#Setup redshift bins, fiducial relica masses to sample\n",
    "z_table = np.arange(1.0, 1.1, 0.1)\n",
    "m_chi = 0.1"
   ]
  },
  {
   "cell_type": "markdown",
   "metadata": {},
   "source": [
    "# Convergence Analysis"
   ]
  },
  {
   "cell_type": "markdown",
   "metadata": {},
   "source": [
    "Before running the forecast, we want to ensure our cosmological parameters are well converged about the points we are interested in using to calculate Fisher matrices. To do so, we can use the `convergence_analysis` class of `cosmicfish`. \n",
    "\n",
    "We pass to `convergence_analysis` some fiducial cosmology, and then it will vary the parameters of that fiducial cosmology to values specified by the user and compute the corresponding power spectrum derivatives. You can choose to pass specific values of the fiducial cosmology, or choose to vary relative to the fiducial cosmology. \n",
    "\n",
    "First, specify the points in parameter space you'd like to sample: "
   ]
  },
  {
   "cell_type": "code",
   "execution_count": null,
   "metadata": {
    "scrolled": false
   },
   "outputs": [],
   "source": [
    "T_chi_table = np.arange(1.8, 2.1, 0.02) / T_cmb #Units of T_cmb. We specify absolute values for the T_chi parameter.\n",
    "nonT_relvary = np.arange(1.01, 1.11, 0.01) #We specify values relative to the fiducial cosmology for other parameters."
   ]
  },
  {
   "cell_type": "markdown",
   "metadata": {},
   "source": [
    "Then, we generate instances of the `convergence_analysis` class. It will search for pre-existing datasets for the specified points in parameter space in the datastore directory - otherwise, it will generate the dataset and place it in datastore. "
   ]
  },
  {
   "cell_type": "code",
   "execution_count": null,
   "metadata": {
    "scrolled": false
   },
   "outputs": [],
   "source": [
    "conv1 = cf.convergence_analysis(fid, 'T_ncdm', 'abs', T_chi_table, z_table, m_chi, classpath, datastore); \n",
    "conv2 = cf.convergence_analysis(fid, 'omega_b', 'rel', nonT_relvary, z_table, None, classpath, datastore);\n",
    "conv3 = cf.convergence_analysis(fid, 'omega_cdm', 'rel', nonT_relvary, z_table, None, classpath, datastore);\n",
    "conv4 = cf.convergence_analysis(fid, 'tau_reio', 'rel', nonT_relvary, z_table, None, classpath, datastore);\n",
    "conv5 = cf.convergence_analysis(fid, 'h', 'rel', nonT_relvary, z_table, None, classpath, datastore);"
   ]
  },
  {
   "cell_type": "markdown",
   "metadata": {},
   "source": [
    "At this point, all the useful information generated in the convergence analysis is accessed through the methods of the `convergence_analysis` objects. We use those methods to plot the results of the analysis...\n",
    "\n",
    "### Convergence Power Spectra"
   ]
  },
  {
   "cell_type": "code",
   "execution_count": null,
   "metadata": {
    "scrolled": false
   },
   "outputs": [],
   "source": [
    "conv1.plot_ps(z_index=0, xscale='linear', plotdata=True)\n",
    "conv2.plot_ps(z_index=0, xscale='linear', plotdata=True)\n",
    "conv3.plot_ps(z_index=0, xscale='linear', plotdata=True)\n",
    "conv4.plot_ps(z_index=0, xscale='linear', plotdata=True)\n",
    "conv5.plot_ps(z_index=0, xscale='linear', plotdata=True)"
   ]
  },
  {
   "cell_type": "markdown",
   "metadata": {},
   "source": [
    "### Convergence Derivatives of Power Spectra"
   ]
  },
  {
   "cell_type": "code",
   "execution_count": null,
   "metadata": {
    "scrolled": false
   },
   "outputs": [],
   "source": [
    "conv1.plot_dps(z_index=0, xscale='linear')\n",
    "conv2.plot_dps(z_index=0, xscale='linear')\n",
    "conv3.plot_dps(z_index=0, xscale='linear')\n",
    "conv4.plot_dps(z_index=0, xscale='linear')\n",
    "conv5.plot_dps(z_index=0, xscale='linear')"
   ]
  },
  {
   "cell_type": "markdown",
   "metadata": {},
   "source": [
    "### Convergence Difference of Derivatives of Power Spectra"
   ]
  },
  {
   "cell_type": "code",
   "execution_count": null,
   "metadata": {
    "scrolled": false
   },
   "outputs": [],
   "source": [
    "conv1.plot_delta_dps(z_index=0, xscale='linear')\n",
    "conv2.plot_delta_dps(z_index=0, xscale='linear')\n",
    "conv3.plot_delta_dps(z_index=0, xscale='linear')\n",
    "conv4.plot_delta_dps(z_index=0, xscale='linear')\n",
    "conv5.plot_delta_dps(z_index=0, xscale='linear')"
   ]
  },
  {
   "cell_type": "markdown",
   "metadata": {},
   "source": [
    "### Repeat for Other $m_\\chi$\n",
    "\n",
    "We can easily repeate the analysis above for other choice of $m_\\chi$. "
   ]
  },
  {
   "cell_type": "code",
   "execution_count": null,
   "metadata": {
    "scrolled": false
   },
   "outputs": [],
   "source": [
    "conv1a = cf.convergence_analysis(fid, 'T_ncdm', 'abs', T_chi_table, z_table, np.power(10., -1.0), classpath, datastore)\n",
    "conv1b = cf.convergence_analysis(fid, 'T_ncdm', 'abs', T_chi_table, z_table, np.power(10., -0.8), classpath, datastore)\n",
    "conv1c = cf.convergence_analysis(fid, 'T_ncdm', 'abs', T_chi_table, z_table, np.power(10., -0.6), classpath, datastore)\n",
    "conv1d = cf.convergence_analysis(fid, 'T_ncdm', 'abs', T_chi_table, z_table, np.power(10., -0.4), classpath, datastore)\n",
    "conv1e = cf.convergence_analysis(fid, 'T_ncdm', 'abs', T_chi_table, z_table, np.power(10., -0.2), classpath, datastore)\n",
    "conv1f = cf.convergence_analysis(fid, 'T_ncdm', 'abs', T_chi_table, z_table, np.power(10., 0.0), classpath, datastore)\n",
    "conv1g = cf.convergence_analysis(fid, 'T_ncdm', 'abs', T_chi_table, z_table, np.power(10., 0.2), classpath, datastore)\n",
    "conv1h = cf.convergence_analysis(fid, 'T_ncdm', 'abs', T_chi_table, z_table, np.power(10., 0.4), classpath, datastore)\n",
    "conv1i = cf.convergence_analysis(fid, 'T_ncdm', 'abs', T_chi_table, z_table, np.power(10., 0.6), classpath, datastore)\n",
    "conv1j = cf.convergence_analysis(fid, 'T_ncdm', 'abs', T_chi_table, z_table, np.power(10., 0.8), classpath, datastore)\n",
    "conv1k = cf.convergence_analysis(fid, 'T_ncdm', 'abs', T_chi_table, z_table, np.power(10., 1.0), classpath, datastore)\n",
    "\n",
    "conv1a.plot_dps(z_index=1, xscale='linear')\n",
    "conv1b.plot_dps(z_index=1, xscale='linear')\n",
    "conv1c.plot_dps(z_index=0, xscale='linear')\n",
    "conv1d.plot_dps(z_index=0, xscale='linear')\n",
    "conv1e.plot_dps(z_index=0, xscale='linear')\n",
    "conv1f.plot_dps(z_index=0, xscale='linear')\n",
    "conv1g.plot_dps(z_index=0, xscale='linear')\n",
    "conv1h.plot_dps(z_index=0, xscale='linear')\n",
    "conv1i.plot_dps(z_index=0, xscale='linear')\n",
    "conv1j.plot_dps(z_index=0, xscale='linear')\n",
    "conv1k.plot_dps(z_index=0, xscale='linear')"
   ]
  },
  {
   "cell_type": "markdown",
   "metadata": {},
   "source": [
    ".\n",
    "\n",
    ".\n",
    "\n",
    ".\n",
    "\n",
    ".\n",
    "\n",
    ".\n",
    "\n",
    ".\n",
    "\n",
    ".\n",
    "\n",
    ".\n",
    "\n",
    ".\n",
    "\n",
    ".\n",
    "\n",
    ".\n",
    "\n",
    ".\n",
    "\n",
    ".\n",
    "\n",
    ".\n",
    "\n",
    ".\n",
    "\n",
    ".\n",
    "# Analysis - No Commentary"
   ]
  },
  {
   "cell_type": "code",
   "execution_count": null,
   "metadata": {
    "scrolled": true
   },
   "outputs": [],
   "source": [
    "#Import relevant packages\n",
    "import os\n",
    "import numpy as np\n",
    "import pandas as pd\n",
    "import seaborn as sns \n",
    "import matplotlib.pyplot as plt\n",
    "import cosmicfish as cf\n",
    "\n",
    "\n",
    "#Instruct pyplot to use seaborn \n",
    "sns.set()\n",
    "\n",
    "#Set project, data, CLASS directories \n",
    "projectdir = cf.correct_path(\"~/Desktop/test/\")\n",
    "datastore = cf.correct_path(\"~/Desktop/test/data/\")\n",
    "classpath = os.path.join(projectdir, \"class\")\n",
    "\n",
    "#Setup fiducial cosmology, note change to N_ncdm... \n",
    "fid = {\"A_s\" : 2.2321e-9, \n",
    "        \"n_s\" : 0.96659,\n",
    "        \"omega_b\" : 0.02226,\n",
    "        \"omega_cdm\" : 0.11271,\n",
    "        \"tau_reio\" : 0.059888,\n",
    "        \"h\" : 0.70148,\n",
    "        \"N_ncdm\" : 1, #Note the change! \n",
    "        \"z_pk\" : 0.7, \n",
    "        \"T_cmb\" : 2.726,\n",
    "        \"T_ncdm\" : 1.5/2.726} #Not necessary, but helps neatness later on\n",
    "\n",
    "A_s = fid['A_s']\n",
    "n_s = fid['n_s']\n",
    "omega_b = fid['omega_b']\n",
    "omega_cdm = fid['omega_cdm']\n",
    "tau_reio = fid['tau_reio']\n",
    "h = fid['h']\n",
    "z_pk = fid['z_pk']\n",
    "T_cmb = fid['T_cmb'] #Units of K\n",
    "\n",
    "c = 2.9979e8 #Units of m/s\n",
    "H = 1000. * 100. * h #Units of m/s/Mpc\n",
    "kp = 0.05 * h #Units of 1/Mpc\n",
    "\n",
    "\n",
    "#Setup redshift bins, fiducial relica masses, relic temps to sample\n",
    "#z_table = np.arange(1.4, 1.5, 0.1)\n",
    "z_table = np.array([1.4, 1.5])\n",
    "m_chi = 1.0\n",
    "#T_chi_table = np.arange(1.0, 2.0, 0.1) / T_cmb #Units of T_cmb\n",
    "T_chi_table = np.array([1.5]) / T_cmb #Units of T_cmb\n",
    "#nonT_relvary = np.arange(1.0, 1.11, 0.01)\n",
    "nonT_relvary = np.array([1.0])"
   ]
  },
  {
   "cell_type": "code",
   "execution_count": null,
   "metadata": {
    "scrolled": true
   },
   "outputs": [],
   "source": [
    "conv1 = cf.convergence_analysis(dict(fid, **{'m_ncdm' : np.power(10., 1.0)}), 'n_s', 'rel', nonT_relvary, z_table, None, classpath, datastore, dstep=0.03)\n",
    "conv1 = cf.convergence_analysis(dict(fid, **{'m_ncdm' : np.power(10., 0.9)}), 'n_s', 'rel', nonT_relvary, z_table, None, classpath, datastore, dstep=0.03)\n",
    "conv1 = cf.convergence_analysis(dict(fid, **{'m_ncdm' : np.power(10., 0.8)}), 'n_s', 'rel', nonT_relvary, z_table, None, classpath, datastore, dstep=0.03)\n",
    "conv1 = cf.convergence_analysis(dict(fid, **{'m_ncdm' : np.power(10., 0.7)}), 'n_s', 'rel', nonT_relvary, z_table, None, classpath, datastore, dstep=0.03)\n",
    "conv1 = cf.convergence_analysis(dict(fid, **{'m_ncdm' : np.power(10., 0.6)}), 'n_s', 'rel', nonT_relvary, z_table, None, classpath, datastore, dstep=0.03)\n",
    "conv1 = cf.convergence_analysis(dict(fid, **{'m_ncdm' : np.power(10., 0.5)}), 'n_s', 'rel', nonT_relvary, z_table, None, classpath, datastore, dstep=0.03)\n",
    "conv1 = cf.convergence_analysis(dict(fid, **{'m_ncdm' : np.power(10., 0.4)}), 'n_s', 'rel', nonT_relvary, z_table, None, classpath, datastore, dstep=0.03)\n",
    "conv1 = cf.convergence_analysis(dict(fid, **{'m_ncdm' : np.power(10., 0.3)}), 'n_s', 'rel', nonT_relvary, z_table, None, classpath, datastore, dstep=0.03)\n",
    "conv1 = cf.convergence_analysis(dict(fid, **{'m_ncdm' : np.power(10., 0.2)}), 'n_s', 'rel', nonT_relvary, z_table, None, classpath, datastore, dstep=0.03)\n",
    "conv1 = cf.convergence_analysis(dict(fid, **{'m_ncdm' : np.power(10., 0.1)}), 'n_s', 'rel', nonT_relvary, z_table, None, classpath, datastore, dstep=0.03)\n",
    "conv1 = cf.convergence_analysis(dict(fid, **{'m_ncdm' : np.power(10., 0.0)}), 'n_s', 'rel', nonT_relvary, z_table, None, classpath, datastore, dstep=0.03)\n",
    "conv1 = cf.convergence_analysis(dict(fid, **{'m_ncdm' : np.power(10., -0.1)}), 'n_s', 'rel', nonT_relvary, z_table, None, classpath, datastore, dstep=0.03)\n",
    "conv1 = cf.convergence_analysis(dict(fid, **{'m_ncdm' : np.power(10., -0.2)}), 'n_s', 'rel', nonT_relvary, z_table, None, classpath, datastore, dstep=0.03)\n",
    "conv1 = cf.convergence_analysis(dict(fid, **{'m_ncdm' : np.power(10., -0.3)}), 'n_s', 'rel', nonT_relvary, z_table, None, classpath, datastore, dstep=0.03)\n",
    "conv1 = cf.convergence_analysis(dict(fid, **{'m_ncdm' : np.power(10., -0.4)}), 'n_s', 'rel', nonT_relvary, z_table, None, classpath, datastore, dstep=0.03)\n",
    "conv1 = cf.convergence_analysis(dict(fid, **{'m_ncdm' : np.power(10., -0.5)}), 'n_s', 'rel', nonT_relvary, z_table, None, classpath, datastore, dstep=0.03)\n",
    "conv1 = cf.convergence_analysis(dict(fid, **{'m_ncdm' : np.power(10., -0.6)}), 'n_s', 'rel', nonT_relvary, z_table, None, classpath, datastore, dstep=0.03)\n",
    "conv1 = cf.convergence_analysis(dict(fid, **{'m_ncdm' : np.power(10., -0.7)}), 'n_s', 'rel', nonT_relvary, z_table, None, classpath, datastore, dstep=0.03)\n",
    "conv1 = cf.convergence_analysis(dict(fid, **{'m_ncdm' : np.power(10., -0.8)}), 'n_s', 'rel', nonT_relvary, z_table, None, classpath, datastore, dstep=0.03)\n",
    "conv1 = cf.convergence_analysis(dict(fid, **{'m_ncdm' : np.power(10., -0.9)}), 'n_s', 'rel', nonT_relvary, z_table, None, classpath, datastore, dstep=0.03)"
   ]
  },
  {
   "cell_type": "code",
   "execution_count": null,
   "metadata": {
    "scrolled": false
   },
   "outputs": [],
   "source": [
    "datastore = cf.correct_path(\"~/Desktop/test/data/\")\n",
    "conv1 = cf.convergence_analysis(dict(fid, **{'m_ncdm' : np.power(10., -1.0)}), 'n_s', 'rel', nonT_relvary, z_table, None, classpath, datastore, dstep=0.03)"
   ]
  },
  {
   "cell_type": "code",
   "execution_count": null,
   "metadata": {
    "scrolled": true
   },
   "outputs": [],
   "source": [
    "conv1 = cf.convergence_analysis(fid, 'T_ncdm', 'abs', T_chi_table, z_table, m_chi, classpath, datastore, dstep=0.01, fsky=0.3394)\n",
    "#conv2 = cf.convergence_analysis(fid, 'omega_b', 'rel', nonT_relvary, z_table, None, classpath, datastore, dstep=0.01);\n",
    "#conv3 = cf.convergence_analysis(fid, 'omega_cdm', 'rel', nonT_relvary, z_table, None, classpath, datastore, dstep=0.01);\n",
    "#conv4 = cf.convergence_analysis(fid, 'tau_reio', 'rel', nonT_relvary, z_table, None, classpath, datastore, dstep=0.01);\n",
    "#conv5 = cf.convergence_analysis(fid, 'h', 'rel', nonT_relvary, z_table, None, classpath, datastore, dstep=0.01); "
   ]
  },
  {
   "cell_type": "code",
   "execution_count": null,
   "metadata": {
    "scrolled": false
   },
   "outputs": [],
   "source": [
    "conv1.plot_ps(z_index=0, xscale='linear', plotdata=True)"
   ]
  },
  {
   "cell_type": "code",
   "execution_count": null,
   "metadata": {
    "scrolled": false
   },
   "outputs": [],
   "source": [
    "print(conv1.spectra[0][0].class_pk[34:60]*np.power(0.70148, -3))"
   ]
  },
  {
   "cell_type": "code",
   "execution_count": null,
   "metadata": {
    "scrolled": false
   },
   "outputs": [],
   "source": [
    "conv1.plot_ps(z_index=0, xscale='linear', plotdata=True)\n",
    "conv2.plot_ps(z_index=0, xscale='linear', plotdata=True)\n",
    "conv3.plot_ps(z_index=0, xscale='linear', plotdata=True)\n",
    "conv4.plot_ps(z_index=0, xscale='linear', plotdata=True)\n",
    "conv5.plot_ps(z_index=0, xscale='linear', plotdata=True)\n",
    "\n",
    "print('..................................................................................')\n",
    "print('..................................................................................')\n",
    "print('..................................................................................')\n",
    "\n",
    "conv1.plot_dps(z_index=0, xscale='linear')\n",
    "conv2.plot_dps(z_index=0, xscale='linear')\n",
    "conv3.plot_dps(z_index=0, xscale='linear')\n",
    "conv4.plot_dps(z_index=0, xscale='linear')\n",
    "conv5.plot_dps(z_index=0, xscale='linear')\n",
    "\n",
    "print('..................................................................................')\n",
    "print('..................................................................................')\n",
    "print('..................................................................................')\n",
    "\n",
    "conv1.plot_delta_dps(z_index=0, xscale='linear')\n",
    "conv2.plot_delta_dps(z_index=0, xscale='linear')\n",
    "conv3.plot_delta_dps(z_index=0, xscale='linear')\n",
    "conv4.plot_delta_dps(z_index=0, xscale='linear')\n",
    "conv5.plot_delta_dps(z_index=0, xscale='linear')"
   ]
  },
  {
   "cell_type": "code",
   "execution_count": null,
   "metadata": {
    "scrolled": true
   },
   "outputs": [],
   "source": [
    "#Setup redshift bins, fiducial relica masses, relic temps to sample\n",
    "z_table = np.arange(1.0, 1.1, 0.1)\n",
    "m_chi = 0.1\n",
    "T_chi_table = np.arange(1.5, 1.6, 0.1) / T_cmb #Units of T_cmb\n",
    "\n",
    "conv1a = cf.convergence_analysis(fid, 'T_ncdm', 'abs', T_chi_table, z_table, m_chi, classpath, datastore, dstep=0.01)\n",
    "conv1b = cf.convergence_analysis(fid, 'T_ncdm', 'abs', T_chi_table, z_table, m_chi, classpath, datastore, dstep=0.02)\n",
    "conv1c = cf.convergence_analysis(fid, 'T_ncdm', 'abs', T_chi_table, z_table, m_chi, classpath, datastore, dstep=0.03)\n",
    "conv1d = cf.convergence_analysis(fid, 'T_ncdm', 'abs', T_chi_table, z_table, m_chi, classpath, datastore, dstep=0.04)\n",
    "conv1e = cf.convergence_analysis(fid, 'T_ncdm', 'abs', T_chi_table, z_table, m_chi, classpath, datastore, dstep=0.05)\n",
    "conv1f = cf.convergence_analysis(fid, 'T_ncdm', 'abs', T_chi_table, z_table, m_chi, classpath, datastore, dstep=0.06)\n",
    "conv1g = cf.convergence_analysis(fid, 'T_ncdm', 'abs', T_chi_table, z_table, m_chi, classpath, datastore, dstep=0.07)\n",
    "conv1h = cf.convergence_analysis(fid, 'T_ncdm', 'abs', T_chi_table, z_table, m_chi, classpath, datastore, dstep=0.08)\n",
    "conv1i = cf.convergence_analysis(fid, 'T_ncdm', 'abs', T_chi_table, z_table, m_chi, classpath, datastore, dstep=0.09)\n",
    "conv1j = cf.convergence_analysis(fid, 'T_ncdm', 'abs', T_chi_table, z_table, m_chi, classpath, datastore, dstep=0.10)"
   ]
  },
  {
   "cell_type": "code",
   "execution_count": null,
   "metadata": {
    "scrolled": false
   },
   "outputs": [],
   "source": [
    "sns.set()\n",
    "sns.set_palette(\"Blues_d\", n_colors=10)\n",
    "plt.figure(figsize=(15, 7.5))\n",
    "ax1 = plt.subplot(1, 2, 1)\n",
    "\n",
    "ax1.plot(conv1a.spectra[0][0].k_table, conv1a.dps[0][0], label='step=1%')\n",
    "ax1.plot(conv1b.spectra[0][0].k_table, conv1b.dps[0][0], label='step=2%')\n",
    "ax1.plot(conv1c.spectra[0][0].k_table, conv1c.dps[0][0], label='step=3%')\n",
    "ax1.plot(conv1d.spectra[0][0].k_table, conv1d.dps[0][0], label='step=4%')\n",
    "ax1.plot(conv1e.spectra[0][0].k_table, conv1e.dps[0][0], label='step=5%')\n",
    "ax1.plot(conv1f.spectra[0][0].k_table, conv1f.dps[0][0], label='step=6%')\n",
    "ax1.plot(conv1g.spectra[0][0].k_table, conv1g.dps[0][0], label='step=7%')\n",
    "ax1.plot(conv1h.spectra[0][0].k_table, conv1h.dps[0][0], label='step=8%')\n",
    "ax1.plot(conv1i.spectra[0][0].k_table, conv1i.dps[0][0], label='step=9%')\n",
    "ax1.plot(conv1j.spectra[0][0].k_table, conv1j.dps[0][0], label='step=10%')\n",
    "\n",
    "ax1.set_title(r'$\\partial P_g / \\partial$ T_ncdm for z=1.0, m_ncdm=0.1 [eV]')\n",
    "ax1.set_xlabel(r'k [Mpc$^{-1}$]')\n",
    "ax1.set_ylabel(r'[Mpc$^3$ / (units of T_ncdm)]')\n",
    "ax1.legend()\n",
    "\n",
    "ax2 = plt.subplot(1, 2, 2)\n",
    "ax2.plot(conv1a.spectra[0][0].k_table, conv1a.dlogps[0][0], label='step=1%')\n",
    "ax2.plot(conv1b.spectra[0][0].k_table, conv1b.dlogps[0][0], label='step=2%')\n",
    "ax2.plot(conv1c.spectra[0][0].k_table, conv1c.dlogps[0][0], label='step=3%')\n",
    "ax2.plot(conv1d.spectra[0][0].k_table, conv1d.dlogps[0][0], label='step=4%')\n",
    "ax2.plot(conv1e.spectra[0][0].k_table, conv1e.dlogps[0][0], label='step=5%')\n",
    "ax2.plot(conv1f.spectra[0][0].k_table, conv1f.dlogps[0][0], label='step=6%')\n",
    "ax2.plot(conv1g.spectra[0][0].k_table, conv1g.dlogps[0][0], label='step=7%')\n",
    "ax2.plot(conv1h.spectra[0][0].k_table, conv1h.dlogps[0][0], label='step=8%')\n",
    "ax2.plot(conv1i.spectra[0][0].k_table, conv1i.dlogps[0][0], label='step=9%')\n",
    "ax2.plot(conv1j.spectra[0][0].k_table, conv1j.dlogps[0][0], label='step=10%')\n",
    "ax2.set_title(r'$\\partial log(P_g) / \\partial$ T_ncdm for z=1.0, m_ncdm=0.1 [eV]')\n",
    "ax2.set_xlabel(r'k [Mpc$^{-1}$]')\n",
    "ax2.set_ylabel(r'[Mpc$^3$ / (units of T_ncdm)]')\n",
    "ax2.legend()\n",
    "        \n",
    "plt.show()\n",
    "\n",
    "\n",
    "domega_chi_dT_chi = (3* np.power(1.5, 2.) * 0.1) / (np.power(1.95, 3.) * 94.)\n",
    "\n",
    "sns.set()\n",
    "sns.set_palette(\"Blues_d\", n_colors=10)\n",
    "plt.figure(figsize=(15, 7.5))\n",
    "ax1 = plt.subplot(1, 2, 1)\n",
    "\n",
    "ax1.plot(conv1a.spectra[0][0].k_table, conv1a.dps[0][0]/domega_chi_dT_chi, label='step=1%')\n",
    "ax1.plot(conv1b.spectra[0][0].k_table, conv1b.dps[0][0]/domega_chi_dT_chi, label='step=2%')\n",
    "ax1.plot(conv1c.spectra[0][0].k_table, conv1c.dps[0][0]/domega_chi_dT_chi, label='step=3%')\n",
    "ax1.plot(conv1d.spectra[0][0].k_table, conv1d.dps[0][0]/domega_chi_dT_chi, label='step=4%')\n",
    "ax1.plot(conv1e.spectra[0][0].k_table, conv1e.dps[0][0]/domega_chi_dT_chi, label='step=5%')\n",
    "ax1.plot(conv1f.spectra[0][0].k_table, conv1f.dps[0][0]/domega_chi_dT_chi, label='step=6%')\n",
    "ax1.plot(conv1g.spectra[0][0].k_table, conv1g.dps[0][0]/domega_chi_dT_chi, label='step=7%')\n",
    "ax1.plot(conv1h.spectra[0][0].k_table, conv1h.dps[0][0]/domega_chi_dT_chi, label='step=8%')\n",
    "ax1.plot(conv1i.spectra[0][0].k_table, conv1i.dps[0][0]/domega_chi_dT_chi, label='step=9%')\n",
    "ax1.plot(conv1j.spectra[0][0].k_table, conv1j.dps[0][0]/domega_chi_dT_chi, label='step=10%')\n",
    "\n",
    "ax1.set_title(r'$\\partial P_g / \\partial$ omega_ncdm for z=1.0, m_ncdm=0.1 [eV]')\n",
    "ax1.set_xlabel(r'k [Mpc$^{-1}$]')\n",
    "ax1.set_ylabel(r'[Mpc$^3$ / (units of omega_ncdm)]')\n",
    "ax1.legend()\n",
    "\n",
    "ax2 = plt.subplot(1, 2, 2)\n",
    "ax2.plot(conv1a.spectra[0][0].k_table, conv1a.dlogps[0][0]/domega_chi_dT_chi, label='step=1%')\n",
    "ax2.plot(conv1b.spectra[0][0].k_table, conv1b.dlogps[0][0]/domega_chi_dT_chi, label='step=2%')\n",
    "ax2.plot(conv1c.spectra[0][0].k_table, conv1c.dlogps[0][0]/domega_chi_dT_chi, label='step=3%')\n",
    "ax2.plot(conv1d.spectra[0][0].k_table, conv1d.dlogps[0][0]/domega_chi_dT_chi, label='step=4%')\n",
    "ax2.plot(conv1e.spectra[0][0].k_table, conv1e.dlogps[0][0]/domega_chi_dT_chi, label='step=5%')\n",
    "ax2.plot(conv1f.spectra[0][0].k_table, conv1f.dlogps[0][0]/domega_chi_dT_chi, label='step=6%')\n",
    "ax2.plot(conv1g.spectra[0][0].k_table, conv1g.dlogps[0][0]/domega_chi_dT_chi, label='step=7%')\n",
    "ax2.plot(conv1h.spectra[0][0].k_table, conv1h.dlogps[0][0]/domega_chi_dT_chi, label='step=8%')\n",
    "ax2.plot(conv1i.spectra[0][0].k_table, conv1i.dlogps[0][0]/domega_chi_dT_chi, label='step=9%')\n",
    "ax2.plot(conv1j.spectra[0][0].k_table, conv1j.dlogps[0][0]/domega_chi_dT_chi, label='step=10%')\n",
    "ax2.set_title(r'$\\partial log(P_g) / \\partial$ omega_ncdm for z=1.0, m_ncdm=0.1 [eV]')\n",
    "ax2.set_xlabel(r'k [Mpc$^{-1}$]')\n",
    "ax2.set_ylabel(r'[Mpc$^3$ / (units of omega_ncdm)]')\n",
    "ax2.legend()\n",
    "        \n",
    "plt.show()\n",
    "\n",
    "sns.set()\n",
    "sns.set_palette(\"Blues_d\", n_colors=10)\n",
    "plt.figure(figsize=(15, 7.5))\n",
    "ax1 = plt.subplot(1, 2, 1)\n",
    "\n",
    "ax1.plot(conv1a.spectra[0][0].k_table, conv1a.dps[0][0]/domega_chi_dT_chi - conv1b.dps[0][0]/domega_chi_dT_chi, label='step=1%')\n",
    "ax1.plot(conv1b.spectra[0][0].k_table, conv1b.dps[0][0]/domega_chi_dT_chi - conv1c.dps[0][0]/domega_chi_dT_chi, label='step=2%')\n",
    "ax1.plot(conv1c.spectra[0][0].k_table, conv1c.dps[0][0]/domega_chi_dT_chi - conv1d.dps[0][0]/domega_chi_dT_chi, label='step=3%')\n",
    "ax1.plot(conv1d.spectra[0][0].k_table, conv1d.dps[0][0]/domega_chi_dT_chi - conv1e.dps[0][0]/domega_chi_dT_chi, label='step=4%')\n",
    "ax1.plot(conv1e.spectra[0][0].k_table, conv1e.dps[0][0]/domega_chi_dT_chi - conv1f.dps[0][0]/domega_chi_dT_chi, label='step=5%')\n",
    "ax1.plot(conv1f.spectra[0][0].k_table, conv1f.dps[0][0]/domega_chi_dT_chi - conv1g.dps[0][0]/domega_chi_dT_chi, label='step=6%')\n",
    "ax1.plot(conv1g.spectra[0][0].k_table, conv1g.dps[0][0]/domega_chi_dT_chi - conv1h.dps[0][0]/domega_chi_dT_chi, label='step=7%')\n",
    "ax1.plot(conv1h.spectra[0][0].k_table, conv1h.dps[0][0]/domega_chi_dT_chi - conv1i.dps[0][0]/domega_chi_dT_chi, label='step=8%')\n",
    "\n",
    "ax1.set_title(r'$\\Delta(\\partial P_g / \\partial$ omega_ncdm) for z=1.0, m_ncdm=0.1 [eV]')\n",
    "ax1.set_xlabel(r'k [Mpc$^{-1}$]')\n",
    "ax1.set_ylabel(r'[Mpc$^3$ / (units of omega_ncdm)]')\n",
    "ax1.legend()\n",
    "\n",
    "ax2 = plt.subplot(1, 2, 2)\n",
    "ax2.plot(conv1a.spectra[0][0].k_table, conv1a.dlogps[0][0]/domega_chi_dT_chi - conv1b.dlogps[0][0]/domega_chi_dT_chi, label='step=1%')\n",
    "ax2.plot(conv1b.spectra[0][0].k_table, conv1b.dlogps[0][0]/domega_chi_dT_chi - conv1c.dlogps[0][0]/domega_chi_dT_chi, label='step=2%')\n",
    "ax2.plot(conv1c.spectra[0][0].k_table, conv1c.dlogps[0][0]/domega_chi_dT_chi - conv1d.dlogps[0][0]/domega_chi_dT_chi, label='step=3%')\n",
    "ax2.plot(conv1d.spectra[0][0].k_table, conv1d.dlogps[0][0]/domega_chi_dT_chi - conv1e.dlogps[0][0]/domega_chi_dT_chi, label='step=4%')\n",
    "ax2.plot(conv1e.spectra[0][0].k_table, conv1e.dlogps[0][0]/domega_chi_dT_chi - conv1f.dlogps[0][0]/domega_chi_dT_chi, label='step=5%')\n",
    "ax2.plot(conv1f.spectra[0][0].k_table, conv1f.dlogps[0][0]/domega_chi_dT_chi - conv1g.dlogps[0][0]/domega_chi_dT_chi, label='step=6%')\n",
    "ax2.plot(conv1g.spectra[0][0].k_table, conv1g.dlogps[0][0]/domega_chi_dT_chi - conv1h.dlogps[0][0]/domega_chi_dT_chi, label='step=7%')\n",
    "ax2.plot(conv1h.spectra[0][0].k_table, conv1h.dlogps[0][0]/domega_chi_dT_chi - conv1i.dlogps[0][0]/domega_chi_dT_chi, label='step=8%')\n",
    "ax2.plot(conv1i.spectra[0][0].k_table, conv1i.dlogps[0][0]/domega_chi_dT_chi - conv1j.dlogps[0][0]/domega_chi_dT_chi, label='step=9%')\n",
    "ax2.set_title(r'$\\Delta(\\partial log(P_g) / \\partial$ omega_ncdm) for z=1.0, m_ncdm=0.1 [eV]')\n",
    "ax2.set_xlabel(r'k [Mpc$^{-1}$]')\n",
    "ax2.set_ylabel(r'[Mpc$^3$ / (units of omega_ncdm)]')\n",
    "ax2.legend()\n",
    "        \n",
    "plt.show()\n",
    "\n",
    "\n"
   ]
  },
  {
   "cell_type": "markdown",
   "metadata": {},
   "source": [
    ".\n",
    "\n",
    ".\n",
    "\n",
    ".\n",
    "\n",
    ".\n",
    "\n",
    ".\n",
    "\n",
    ".\n",
    "\n",
    ".\n",
    "\n",
    ".\n",
    "\n",
    ".\n",
    "\n",
    ".\n",
    "\n",
    ".\n",
    "\n",
    ".\n",
    "\n",
    ".\n",
    "\n",
    ".\n",
    "\n",
    ".\n",
    "\n",
    "."
   ]
  },
  {
   "cell_type": "code",
   "execution_count": null,
   "metadata": {
    "scrolled": false
   },
   "outputs": [],
   "source": [
    "#Import relevant packages\n",
    "import os\n",
    "import numpy as np\n",
    "import pandas as pd\n",
    "import seaborn as sns \n",
    "import matplotlib.pyplot as plt\n",
    "import cosmicfish as cf\n",
    "\n",
    "\n",
    "#Instruct pyplot to use seaborn \n",
    "sns.set()\n",
    "\n",
    "#Set project, data, CLASS directories \n",
    "projectdir = cf.correct_path(\"~/Desktop/test/\")\n",
    "datastore = cf.correct_path(\"~/Desktop/test/data.nosync/\")\n",
    "classpath = os.path.join(projectdir, \"class\")\n",
    "\n",
    "#Setup fiducial cosmology, note change to N_ncdm... \n",
    "fid = {\n",
    "        \"A_s\" : 2.2321e-9, \n",
    "        \"n_s\" : 0.96659,\n",
    "        \"omega_b\" : 0.02226,\n",
    "        \"omega_cdm\" : 0.11271,\n",
    "        \"tau_reio\" : 0.059888,\n",
    "        \"h\" : 0.70148,\n",
    "        \"T_cmb\" : 2.726,\n",
    "        \"N_ncdm\" : 3., \n",
    "        #\"T_ncdm\" : 1.5 / 2.726, #Only uncomment when forecasting relics\n",
    "        \"m_ncdm\" : 0.02,\n",
    "        \"b1L\" : 0.7,\n",
    "        \"alphak2\" : 1.0,\n",
    "        \"sigma_fog_0\" : 250000} \n",
    "\n",
    "#Setup redshift bins, fiducial relica masses, relic temps to sample\n",
    "z_table = np.arange(0.65, 1.85, 0.1)\n",
    "dNdz = np.array([309., 2269., 1923., 2094., 1441., 1353., 1337., 523., 466., 329., 126., 0., 0.])\n",
    "skycover = 14000. #Sky coverage of survey in degrees^2\n",
    "dstep = 0.008\n",
    "mu_step = 0.05 #For calculating numerical integral wrt mu between -1 and 1 "
   ]
  },
  {
   "cell_type": "code",
   "execution_count": null,
   "metadata": {
    "scrolled": true
   },
   "outputs": [],
   "source": [
    "lightrelic = cf.forecast(\n",
    "    classpath, \n",
    "    datastore, \n",
    "    'neutrino', \n",
    "    fid, \n",
    "    z_table, \n",
    "    dNdz, \n",
    "    fcoverage_deg=skycover, \n",
    "    dstep=0.008,\n",
    "    RSD=True,\n",
    "    FOG=True,\n",
    "    AP=True,\n",
    "    COV=True)"
   ]
  },
  {
   "cell_type": "code",
   "execution_count": null,
   "metadata": {},
   "outputs": [],
   "source": []
  },
  {
   "cell_type": "code",
   "execution_count": null,
   "metadata": {
    "scrolled": true
   },
   "outputs": [],
   "source": [
    "lightrelic.gen_pm()"
   ]
  },
  {
   "cell_type": "code",
   "execution_count": null,
   "metadata": {
    "scrolled": false
   },
   "outputs": [],
   "source": [
    "lightrelic.print_v_table(k_index=92)"
   ]
  },
  {
   "cell_type": "code",
   "execution_count": null,
   "metadata": {
    "scrolled": true
   },
   "outputs": [],
   "source": [
    "lightrelic.gen_fisher(mu_step)"
   ]
  },
  {
   "cell_type": "code",
   "execution_count": null,
   "metadata": {
    "scrolled": false
   },
   "outputs": [],
   "source": [
    "zindex = 4\n",
    "muindex = 0\n",
    "\n",
    "#Print P_g \n",
    "print(\"P_galaxy at: \")\n",
    "print(\"z = \",  lightrelic.z_steps[zindex])\n",
    "print(\"mu = \", np.arange(-1., 1., mu_step)[muindex])\n",
    "#print(np.array(lightrelic.Pg)[zindex, :, muindex])\n",
    "np.savetxt(\"k_table.csv\", np.array(lightrelic.k_table[zindex]), delimiter=\",\")\n",
    "np.savetxt(\"Pg_table.csv\", np.array(lightrelic.Pg[zindex, :, muindex]), delimiter=\",\")\n",
    "\n",
    "linda_Pm_relicfast_data = np.loadtxt(\"/Users/nicholasdeporzio/Documents/Academic/Research/Projects/cosmicfish/P_cb_z_105_mu_-1_relicfast_Nick_test.dat\",  skiprows=1, usecols=2, delimiter=\"\\t\")\n",
    "linda_k_Pm_relicfast_data = np.loadtxt(\"/Users/nicholasdeporzio/Documents/Academic/Research/Projects/cosmicfish/P_cb_z_105_mu_-1_relicfast_Nick_test.dat\",  skiprows=1, usecols=0, delimiter=\"\\t\")\n",
    "linda_Pm_norelicfast_data = np.loadtxt(\"/Users/nicholasdeporzio/Documents/Academic/Research/Projects/cosmicfish/P_cb_z_105_mu_-1_no_relicfast_Nick_test.dat\",  skiprows=1, usecols=2, delimiter=\"\\t\")\n",
    "linda_k_Pm_norelicfast_data = np.loadtxt(\"/Users/nicholasdeporzio/Documents/Academic/Research/Projects/cosmicfish/P_cb_z_105_mu_-1_no_relicfast_Nick_test.dat\",  skiprows=1, usecols=0, delimiter=\"\\t\")\n",
    "\n",
    "linda_Pg_relicfast_data = np.loadtxt(\"/Users/nicholasdeporzio/Documents/Academic/Research/Projects/cosmicfish/P_galaxy_z_105_mu_-1_relicfast_Nick_test.dat\",  skiprows=1, usecols=2, delimiter=\"\\t\")\n",
    "linda_k_Pg_relicfast_data = np.loadtxt(\"/Users/nicholasdeporzio/Documents/Academic/Research/Projects/cosmicfish/P_galaxy_z_105_mu_-1_relicfast_Nick_test.dat\",  skiprows=1, usecols=0, delimiter=\"\\t\")\n",
    "linda_Pg_norelicfast_data = np.loadtxt(\"/Users/nicholasdeporzio/Documents/Academic/Research/Projects/cosmicfish/P_galaxy_z_105_mu_-1_no_relicfast_Nick_test.dat\",  skiprows=1, usecols=2, delimiter=\"\\t\")\n",
    "linda_k_Pg_norelicfast_data = np.loadtxt(\"/Users/nicholasdeporzio/Documents/Academic/Research/Projects/cosmicfish/P_galaxy_z_105_mu_-1_no_relicfast_Nick_test.dat\",  skiprows=1, usecols=0, delimiter=\"\\t\")\n",
    "\n",
    "#Compare Pm plots\n",
    "sns.set()\n",
    "sns.set_palette(\"Blues_d\", n_colors=3)\n",
    "plt.figure(figsize=(15, 7.5))\n",
    "\n",
    "plt.loglog(np.array(lightrelic.k_table[zindex]), lightrelic.Pm[zindex], label=\"Nick/Fisher\")\n",
    "plt.loglog(linda_k_Pm_relicfast_data, linda_Pm_relicfast_data, label=\"Linda/MCMC w/RelicFast\")\n",
    "plt.loglog(linda_k_Pm_norelicfast_data, linda_Pm_norelicfast_data, label=\"Linda/MCMC wo/RelicFast\")\n",
    "\n",
    "plt.xlabel(r'k [Mpc$^{-1}$]')\n",
    "plt.ylabel(r'$P_m$ [Mpc$^3$]')\n",
    "plt.legend()\n",
    "plt.show()\n",
    "\n",
    "#Compare Pg plots\n",
    "sns.set()\n",
    "sns.set_palette(\"Blues_d\", n_colors=3)\n",
    "plt.figure(figsize=(15, 7.5))\n",
    "plt.loglog(np.array(lightrelic.k_table[zindex]), lightrelic.Pg[zindex, :, muindex], label=\"Nick/Fisher\")\n",
    "plt.loglog(linda_k_Pg_relicfast_data, linda_Pg_relicfast_data, label=\"Linda/MCMC w/RelicFast\")\n",
    "plt.loglog(linda_k_Pg_norelicfast_data, linda_Pg_norelicfast_data, label=\"Linda/MCMC wo/RelicFast\")\n",
    "plt.xlabel(r'k [Mpc$^{-1}$]')\n",
    "plt.ylabel(r'$P_g$ [Mpc$^3$]')\n",
    "plt.legend()\n",
    "plt.show()\n",
    "\n",
    "#Also plot difference between the two \n",
    "k_vals = np.array(lightrelic.k_table[zindex])\n",
    "fisher_data_pm = lightrelic.Pm[zindex]\n",
    "fisher_data_pg = lightrelic.Pg[zindex, :, muindex]\n",
    "mcmc_data_pm = np.interp(k_vals, linda_k_Pm_relicfast_data, linda_Pm_relicfast_data)\n",
    "mcmc_data_pg = np.interp(k_vals, linda_k_Pg_relicfast_data, linda_Pg_relicfast_data)\n",
    "\n",
    "sns.set()\n",
    "sns.set_palette(\"Blues_d\", n_colors=3)\n",
    "plt.figure(figsize=(15, 7.5))\n",
    "plt.semilogx(k_vals, (fisher_data_pm/mcmc_data_pm)-1.0, label=\"Pm\")\n",
    "plt.semilogx(k_vals, (fisher_data_pg/mcmc_data_pg)-1.0, label=\"Pg\")\n",
    "plt.title(r\"(Fisher/MCMC) - 1\")\n",
    "plt.xlabel(r'k [Mpc$^{-1}$]')\n",
    "plt.ylabel(r'Ratio')\n",
    "plt.legend()\n",
    "plt.show()\n",
    "\n"
   ]
  },
  {
   "cell_type": "code",
   "execution_count": null,
   "metadata": {
    "scrolled": false
   },
   "outputs": [],
   "source": [
    "#print(lightrelic.RSD[4, :, 20])\n",
    "#print(lightrelic.FOG[4, :, 20])\n",
    "#print(lightrelic.k_table[4])\n",
    "\n",
    "linda_k_Pm_relicfast_data = np.loadtxt(\"/Users/nicholasdeporzio/Documents/Academic/Research/Projects/cosmicfish/P_cb_z_105_mu_-1_relicfast_Nick_test.dat\",  skiprows=1, usecols=0, delimiter=\"\\t\")\n",
    "linda_fog_relicfast_data = np.loadtxt(\"/Users/nicholasdeporzio/Documents/Academic/Research/Projects/cosmicfish/P_cb_z_105_mu_-1_relicfast_Nick_test.dat\",  skiprows=1, usecols=3, delimiter=\"\\t\")\n",
    "linda_rsd_relicfast_data = np.loadtxt(\"/Users/nicholasdeporzio/Documents/Academic/Research/Projects/cosmicfish/P_cb_z_105_mu_-1_relicfast_Nick_test.dat\",  skiprows=1, usecols=1, delimiter=\"\\t\")\n",
    "\n",
    "sns.set()\n",
    "sns.set_palette(\"Blues_d\", n_colors=3)\n",
    "plt.figure(figsize=(15, 7.5))\n",
    "plt.semilogx(np.array(lightrelic.k_table[zindex]), lightrelic.RSD[zindex, :, muindex], label=\"Nick/Fisher\")\n",
    "plt.semilogx(linda_k_Pm_relicfast_data, linda_rsd_relicfast_data, label=\"Linda/MCMC w/RelicFast\")\n",
    "plt.title(r'RSD Comparison')\n",
    "plt.xlabel(r'k [Mpc$^{-1}$]')\n",
    "plt.ylabel(r'RSD')\n",
    "plt.legend()\n",
    "plt.show()\n",
    "\n",
    "sns.set()\n",
    "sns.set_palette(\"Blues_d\", n_colors=3)\n",
    "plt.figure(figsize=(15, 7.5))\n",
    "plt.semilogx(np.array(lightrelic.k_table[zindex]), lightrelic.FOG[zindex, :, muindex], label=\"Nick/Fisher\")\n",
    "plt.semilogx(linda_k_Pm_relicfast_data, linda_fog_relicfast_data, label=\"Linda/MCMC w/RelicFast\")\n",
    "plt.title(r'FOG Comparison')\n",
    "plt.xlabel(r'k [Mpc$^{-1}$]')\n",
    "plt.ylabel(r'FOG')\n",
    "plt.legend()\n",
    "plt.show()\n",
    "\n"
   ]
  },
  {
   "cell_type": "code",
   "execution_count": null,
   "metadata": {},
   "outputs": [],
   "source": []
  },
  {
   "cell_type": "code",
   "execution_count": null,
   "metadata": {},
   "outputs": [],
   "source": [
    "cf.H(fid['omega_b'], fid['omega_cdm'], 3*fid['m_ncdm']/93.14, fid['h'], 1.05)/1000"
   ]
  },
  {
   "cell_type": "code",
   "execution_count": null,
   "metadata": {},
   "outputs": [],
   "source": [
    "cf.sigmav(1.05, 250000)/1000"
   ]
  },
  {
   "cell_type": "code",
   "execution_count": null,
   "metadata": {
    "scrolled": false
   },
   "outputs": [],
   "source": [
    "lightrelic.print_P_table(k_index=92, mu_index=20)"
   ]
  },
  {
   "cell_type": "code",
   "execution_count": null,
   "metadata": {},
   "outputs": [],
   "source": []
  },
  {
   "cell_type": "code",
   "execution_count": null,
   "metadata": {
    "scrolled": false
   },
   "outputs": [],
   "source": [
    "lightrelic.load_cmb_fisher()"
   ]
  },
  {
   "cell_type": "code",
   "execution_count": null,
   "metadata": {},
   "outputs": [],
   "source": [
    "lightrelic.export_matrices()"
   ]
  },
  {
   "cell_type": "markdown",
   "metadata": {
    "scrolled": false
   },
   "source": [
    "#print(\"Fully Marginalized Error on A_s: \", np.sqrt(fullcovariance.iloc[0,0]))\n",
    "#print(\"Fully Marginalized Error on n_s: \", np.sqrt(fullcovariance.iloc[1,1]))\n",
    "#print(\"Fully Marginalized Error on omega_b: \", np.sqrt(fullcovariance.iloc[2,2]))\n",
    "#print(\"Fully Marginalized Error on omega_cdm: \", np.sqrt(fullcovariance.iloc[3,3]))\n",
    "#print(\"Fully Marginalized Error on h: \", np.sqrt(fullcovariance.iloc[4,4]))\n",
    "#print(\"Fully Marginalized Error on tau_reio: \", np.sqrt(fullcovariance.iloc[5,5]))\n",
    "#print(\"Fully Marginalized Error on M_ncdm: \", np.sqrt(fullcovariance.iloc[6,6]))\n",
    "#print(\"Fully Marginalized Error on sigma_fog: \", np.sqrt(fullcovariance.iloc[7,7]))\n",
    "#print(\"Fully Marginalized Error on bLbar: \", np.sqrt(fullcovariance.iloc[8,8]))\n",
    "#print(\"Fully Marginalized Error on alpha_k2: \", np.sqrt(fullcovariance.iloc[9, 9]))"
   ]
  },
  {
   "cell_type": "code",
   "execution_count": null,
   "metadata": {
    "scrolled": false
   },
   "outputs": [],
   "source": []
  },
  {
   "cell_type": "code",
   "execution_count": null,
   "metadata": {
    "scrolled": false
   },
   "outputs": [],
   "source": [
    "#For each z, plot inferred spectrum vs. CLASS data\n",
    "sns.set()\n",
    "sns.set_palette(\"Blues_d\", n_colors=2*len(z_table)+1)\n",
    "plt.figure(figsize=(15, 7.5))\n",
    "for zidx, zval in enumerate(z_table[1:2]): \n",
    "    ps = lightrelic.spectra_mid[zidx]\n",
    "    plt.loglog(ps.k_table, lightrelic.Pm[zidx], label=(\"z = \" + str(zval)))\n",
    "    plt.loglog(ps.class_pk['k (h/Mpc)']*fid['h'],\n",
    "             np.array(ps.class_pk['P (Mpc/h)^3'] / np.power(fid['h'],3.)),\n",
    "             label='CLASS P(k) Data',\n",
    "             marker='x',\n",
    "             linestyle=':')\n",
    "plt.xlabel(r'k [Mpc$^{-1}$]')\n",
    "plt.ylabel(r'$P_m$ [Mpc$^3$]')\n",
    "plt.xlim(-0.01, 0.2)\n",
    "plt.legend()\n",
    "plt.show()\n",
    "#Also plot difference between the two "
   ]
  },
  {
   "cell_type": "code",
   "execution_count": null,
   "metadata": {},
   "outputs": [],
   "source": []
  },
  {
   "cell_type": "code",
   "execution_count": null,
   "metadata": {},
   "outputs": [],
   "source": [
    "lightrelic.spectra_mid[0].b_interpolator(3.15e-3*fid['h'])"
   ]
  },
  {
   "cell_type": "code",
   "execution_count": null,
   "metadata": {},
   "outputs": [],
   "source": [
    "np.array(lightrelic.spectra_mid[0].k_table)/fid['h']"
   ]
  },
  {
   "cell_type": "code",
   "execution_count": null,
   "metadata": {},
   "outputs": [],
   "source": [
    "lightrelic.spectra_mid[0].h"
   ]
  },
  {
   "cell_type": "code",
   "execution_count": null,
   "metadata": {},
   "outputs": [],
   "source": []
  },
  {
   "cell_type": "markdown",
   "metadata": {
    "scrolled": true
   },
   "source": [
    "convergencetest = cf.convergence(\n",
    "    classpath, \n",
    "    datastore, \n",
    "    'neutrino', \n",
    "    fid, \n",
    "    z_table, \n",
    "    dNdz, \n",
    "    fcoverage_deg=14000, \n",
    "    RSD=True,\n",
    "    FOG=True,\n",
    "    AP=True,\n",
    "    COV=True,\n",
    "    varyfactors=[0.001, 0.002, 0.003, 0.004, 0.005])\n",
    "    \n",
    "convergencetest.gen_all_plots()"
   ]
  },
  {
   "cell_type": "code",
   "execution_count": null,
   "metadata": {
    "scrolled": false
   },
   "outputs": [],
   "source": []
  },
  {
   "cell_type": "code",
   "execution_count": null,
   "metadata": {},
   "outputs": [],
   "source": []
  },
  {
   "cell_type": "code",
   "execution_count": null,
   "metadata": {},
   "outputs": [],
   "source": []
  },
  {
   "cell_type": "code",
   "execution_count": null,
   "metadata": {},
   "outputs": [],
   "source": []
  },
  {
   "cell_type": "code",
   "execution_count": null,
   "metadata": {},
   "outputs": [],
   "source": []
  },
  {
   "cell_type": "code",
   "execution_count": null,
   "metadata": {},
   "outputs": [],
   "source": []
  },
  {
   "cell_type": "code",
   "execution_count": null,
   "metadata": {},
   "outputs": [],
   "source": []
  },
  {
   "cell_type": "code",
   "execution_count": null,
   "metadata": {},
   "outputs": [],
   "source": []
  },
  {
   "cell_type": "code",
   "execution_count": null,
   "metadata": {},
   "outputs": [],
   "source": []
  },
  {
   "cell_type": "code",
   "execution_count": null,
   "metadata": {},
   "outputs": [],
   "source": []
  },
  {
   "cell_type": "code",
   "execution_count": null,
   "metadata": {},
   "outputs": [],
   "source": []
  },
  {
   "cell_type": "code",
   "execution_count": null,
   "metadata": {},
   "outputs": [],
   "source": []
  },
  {
   "cell_type": "code",
   "execution_count": null,
   "metadata": {},
   "outputs": [],
   "source": [
    "linda_k_relicfast_data = np.loadtxt(\"/Users/nicholasdeporzio/Documents/Academic/Research/Projects/cosmicfish/f_and_g_z_105_mu_-1_relicfast_Nick_test.dat\",  skiprows=1, usecols=0, delimiter=\"\\t\")\n",
    "linda_f_relicfast_data = np.loadtxt(\"/Users/nicholasdeporzio/Documents/Academic/Research/Projects/cosmicfish/f_and_g_z_105_mu_-1_relicfast_Nick_test.dat\",  skiprows=1, usecols=1, delimiter=\"\\t\")\n",
    "linda_g_relicfast_data = np.loadtxt(\"/Users/nicholasdeporzio/Documents/Academic/Research/Projects/cosmicfish/f_and_g_z_105_mu_-1_relicfast_Nick_test.dat\",  skiprows=1, usecols=2, delimiter=\"\\t\")\n",
    "\n",
    "sns.set()\n",
    "sns.set_palette(\"Blues_d\", n_colors=2)\n",
    "plt.figure(figsize=(15, 7.5))\n",
    "plt.semilogx(linda_k_relicfast_data, linda_g_relicfast_data, label=\"MCMC\")\n",
    "plt.semilogx(test_k_table, gfacts, label=\"Fisher\")\n",
    "plt.xlabel(r'k [Mpc$^{-1}$]')\n",
    "plt.ylabel(r'g')\n",
    "plt.legend()\n",
    "plt.show()\n",
    "\n",
    "sns.set()\n",
    "sns.set_palette(\"Blues_d\", n_colors=2)\n",
    "plt.figure(figsize=(15, 7.5))\n",
    "plt.loglog(linda_k_relicfast_data, linda_f_relicfast_data, label=\"MCMC\")\n",
    "plt.loglog(lightrelic.k_table[zindex], ffacts, label=\"Fisher\")\n",
    "plt.xlabel(r'k [Mpc$^{-1}$]')\n",
    "plt.ylabel(r'f')\n",
    "plt.legend()\n",
    "plt.show()"
   ]
  },
  {
   "cell_type": "code",
   "execution_count": null,
   "metadata": {},
   "outputs": [],
   "source": [
    "(gfacts[-1] - gfacts[0])/gfacts[0]"
   ]
  },
  {
   "cell_type": "code",
   "execution_count": null,
   "metadata": {},
   "outputs": [],
   "source": [
    "lightrelic.k_table[0]"
   ]
  },
  {
   "cell_type": "code",
   "execution_count": null,
   "metadata": {},
   "outputs": [],
   "source": [
    "test_k_table = np.geomspace(0.000001, 0.19663801, 100)"
   ]
  },
  {
   "cell_type": "code",
   "execution_count": null,
   "metadata": {},
   "outputs": [],
   "source": [
    "gfacts = np.zeros(len(lightrelic.k_table[4]))\n",
    "ffacts = np.zeros(len(lightrelic.k_table[4]))\n",
    "for kidx, kval in enumerate(test_k_table):\n",
    "    gfacts[kidx] = ggrowth(1.05, kval, 0.70148, 0.02226, 0.11271, 0.06/93.14)\n",
    "    ffacts[kidx] = cf.fgrowth(0.02226, 0.11271, 0.70148, 1.05)"
   ]
  },
  {
   "cell_type": "code",
   "execution_count": null,
   "metadata": {},
   "outputs": [],
   "source": [
    "for k in lightrelic.k_table[4]:\n",
    "    fog(0.02226, 0.11271, 0.06/93.14, 0.70148, 1.05, k, -1.0, 250000.)"
   ]
  },
  {
   "cell_type": "code",
   "execution_count": null,
   "metadata": {},
   "outputs": [],
   "source": []
  },
  {
   "cell_type": "code",
   "execution_count": null,
   "metadata": {},
   "outputs": [],
   "source": [
    "def fog(omega_b, omega_cdm, omega_ncdm, h, z, k, mu, sigma_fog_0):              \n",
    "    sigma_z = cf.SIGMA_Z                                                        \n",
    "    sigma_fog = sigma_fog_0 * np.sqrt(1.+z)                                     \n",
    "    sigma_v = ((1. + z)                                                         \n",
    "               * np.sqrt((np.power(sigma_fog, 2.) / 2.)                         \n",
    "                         + np.power(cf.C * sigma_z, 2.)))  \n",
    "    F = np.exp(-1.                                                              \n",
    "               * np.power((k*mu*sigma_v)                                        \n",
    "               / cf.H(omega_b, omega_cdm, omega_ncdm, h, z), 2.))   \n",
    "    print(sigma_v, \",  \",  sigma_fog, \", \", F)\n",
    "    return F"
   ]
  },
  {
   "cell_type": "code",
   "execution_count": null,
   "metadata": {},
   "outputs": [],
   "source": [
    "def ggrowth(z, k, h, omega_b, omega_cdm, omega_ncdm):                           \n",
    "    \"\"\"Returns g growth factor(?).                                              \n",
    "                                                                                \n",
    "    Args:                                                                       \n",
    "        k : wave number in Mpc^-1                                               \n",
    "                                                                                \n",
    "        k_fs : free streaming scale                                             \n",
    "                                                                                \n",
    "        omega_b : little omega baryon abundance                                 \n",
    "                                                                                \n",
    "        omega_cdm : little omega cdm abunance                                   \n",
    "                                                                                \n",
    "        omega_ncdm : little omega ncdm abundance                                \n",
    "                                                                                \n",
    "    Returns:                                                                    \n",
    "        Growth factor (?) g                                                     \n",
    "    \"\"\"                                                                         \n",
    "                                                                                \n",
    "    Delta_q = cf.RSD_DELTA_Q                                                    \n",
    "    q = cf.RSD_Q_NUMERATOR_FACTOR * k / cf.kfs(omega_ncdm, h, z)                   \n",
    "    Delta_L =  (0.6 * omega_ncdm                    \n",
    "                / (omega_b + omega_cdm))                                        \n",
    "    g = 1. + (Delta_L / 2.) * np.tanh(1. + (np.log(q) / Delta_q))               \n",
    "    return g   "
   ]
  },
  {
   "cell_type": "code",
   "execution_count": null,
   "metadata": {},
   "outputs": [],
   "source": []
  }
 ],
 "metadata": {
  "kernelspec": {
   "display_name": "env.nosync",
   "language": "python",
   "name": "env.nosync"
  },
  "language_info": {
   "codemirror_mode": {
    "name": "ipython",
    "version": 3
   },
   "file_extension": ".py",
   "mimetype": "text/x-python",
   "name": "python",
   "nbconvert_exporter": "python",
   "pygments_lexer": "ipython3",
   "version": "3.6.8"
  }
 },
 "nbformat": 4,
 "nbformat_minor": 2
}
