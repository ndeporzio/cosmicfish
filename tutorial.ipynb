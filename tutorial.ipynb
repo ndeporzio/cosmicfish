{
 "cells": [
  {
   "cell_type": "markdown",
   "metadata": {},
   "source": [
    "# Setup Your Analysis Environment\n",
    "\n",
    "1) Choose a directory to house your project in: \n",
    "```\n",
    ".../<project-directory>\n",
    "```\n",
    "\n",
    "\n",
    "2) Create and activate a fresh Python3 virtual environment there: \n",
    "```\n",
    "$ cd .../<project-directory>\n",
    "$ python -m virtualenv env #Package tested on Python 3.6.8\n",
    "$ source env/bin/activate\n",
    "```\n",
    "\n",
    "3) Download the `cosmicfish` package from Git: \n",
    "```\n",
    "$ git clone git@github.com:ndeporzio/cosmicfish.git\n",
    "```\n",
    "\n",
    "4) Install the `cosmicfish` package. Note that its dependencies will install automatically.\n",
    "```\n",
    "$ cd cosmicfish\n",
    "$ pip install . \n",
    "```\n",
    "\n",
    "5) Launch Jupyter and open `tutorial.ipynb` notebook using Jupyter browser\n",
    "```\n",
    "$ jupyter notebook\n",
    "```"
   ]
  },
  {
   "cell_type": "markdown",
   "metadata": {},
   "source": [
    "# Setup Fiducial Cosmology\n",
    "\n",
    "Import relevant python packages... "
   ]
  },
  {
   "cell_type": "code",
   "execution_count": null,
   "metadata": {},
   "outputs": [],
   "source": [
    "import os\n",
    "import numpy as np\n",
    "import pandas as pd\n",
    "import seaborn as sns \n",
    "import matplotlib.pyplot as plt\n",
    "\n",
    "sns.set()"
   ]
  },
  {
   "cell_type": "markdown",
   "metadata": {},
   "source": [
    "Import the analysis package."
   ]
  },
  {
   "cell_type": "code",
   "execution_count": null,
   "metadata": {},
   "outputs": [],
   "source": [
    "import cosmicfish as cf "
   ]
  },
  {
   "cell_type": "markdown",
   "metadata": {},
   "source": [
    "Specify the values of your fiducial cosmology and other physical constants."
   ]
  },
  {
   "cell_type": "code",
   "execution_count": null,
   "metadata": {},
   "outputs": [],
   "source": [
    "fid = {\"A_s\" : 2.2321e-9, \n",
    "        \"n_s\" : 0.96659,\n",
    "        \"omega_b\" : 0.02226,\n",
    "        \"omega_cdm\" : 0.11271,\n",
    "        \"tau_reio\" : 0.059888,\n",
    "        \"h\" : 0.70148,\n",
    "        \"N_ncdm\" : 0, \n",
    "        \"z_pk\" : 0.7} #Not necessary, but helps neatness later on\n",
    "\n",
    "A_s = 2.2321e-9\n",
    "n_s = 0.96659\n",
    "omega_b = 0.02226\n",
    "omega_cdm = 0.11271\n",
    "tau_reio = 0.059888\n",
    "h = 0.70148\n",
    "z_pk = 0.7\n",
    "\n",
    "c = 2.9979e8 #Units of m/s\n",
    "H = 1000. * 100. * fid['h'] #Units of m/s/Mpc\n",
    "kp = 0.05 * fid['h'] #Units of 1/Mpc\n",
    "t_cmb = 2.726\n"
   ]
  },
  {
   "cell_type": "markdown",
   "metadata": {},
   "source": [
    "# Calculate Power Spectra\n",
    "\n",
    "Specify points of interest to accumulate power spectra at... "
   ]
  },
  {
   "cell_type": "code",
   "execution_count": null,
   "metadata": {},
   "outputs": [],
   "source": [
    "z_table = np.arange(0.7, 2.1, 0.1)\n",
    "m_chi_table = np.logspace(-1.0, 1.0, num=21, endpoint=True)"
   ]
  },
  {
   "cell_type": "markdown",
   "metadata": {},
   "source": [
    "Determine derived quantities... Here, we assume the following relations: \n",
    "\n",
    "$$ \\omega_\\chi = \\Big(\\frac{T_\\chi}{1.95 \\textrm{[K]} }\\Big)^3 \\Big( \\frac{m_\\chi}{94 \\textrm{[eV]}}\\Big) $$\n",
    "\n",
    "$$ \\omega_m = \\omega_b + \\omega_{cdm} + \\omega_\\chi $$\n",
    "\n",
    "$$ \\omega_\\lambda = h^2 - \\omega_m$$\n",
    "\n",
    "$$ V_{eff} = \\Big(\\frac{4 \\pi}{3}\\Big)\\Big(\\frac{c}{H}\\Big)^3\\Big( \\int_{0.7}^{2.0} \\frac{h}{\\sqrt{\\omega_m (1+z)^3 + \\omega_\\lambda}}  ~dz\\Big)^3 $$"
   ]
  },
  {
   "cell_type": "code",
   "execution_count": null,
   "metadata": {},
   "outputs": [],
   "source": [
    "T_chi = 0.5 #CAUTION! USING A SINGLE T VALUE TO CALCULATE THIS BLOCK!\n",
    "omega_chi_table = np.power((T_chi / 1.95), 3.) * (m_chi_table / 94.)\n",
    "omega_m_table = fid[\"omega_b\"] + fid[\"omega_cdm\"] + omega_chi_table\n",
    "omega_lambda_table = np.power(h, 2.) - omega_m_table\n",
    "v_eff_table = cf.v_effective_table_generator(z_table, omega_m_table, omega_lambda_table, c, h, H)\n",
    "k_table = cf.k_table_generator(v_eff_table, h, 0.1, 100) \n",
    "prim_table = cf.primordial_table_generator(k_table, A_s, n_s, kp)"
   ]
  },
  {
   "cell_type": "markdown",
   "metadata": {},
   "source": [
    "At this point, we have $\\omega_m$, $\\omega_{\\lambda}$, $\\omega_{\\chi}$, $V_{eff}$ for several values of $m_\\chi$ assuming a particular value of $T_\\chi$. For transparency, let's show what these all look like... "
   ]
  },
  {
   "cell_type": "code",
   "execution_count": null,
   "metadata": {},
   "outputs": [],
   "source": [
    "fig, ax = plt.subplots(1,4, figsize=(20, 5))\n",
    "ax[0].plot(m_chi_table, omega_chi_table)\n",
    "ax[0].set_title(r'$\\omega_\\chi$')\n",
    "ax[0].set_xlabel(r'$m_\\chi$ [eV]')\n",
    "ax[1].plot(m_chi_table, omega_lambda_table, label=r'$\\omega_\\lambda$')\n",
    "ax[1].set_title(r'$\\omega_\\lambda$')\n",
    "ax[1].set_xlabel(r'$m_\\chi$ [eV]')\n",
    "ax[2].plot(m_chi_table, omega_m_table, label=r'$\\omega_m$')\n",
    "ax[2].set_title(r'$\\omega_m$')\n",
    "ax[2].set_xlabel(r'$m_\\chi$ [eV]')\n",
    "ax[3].plot(m_chi_table, v_eff_table)\n",
    "ax[3].set_title(r'$V_{eff}$ [Mpc$^3$]')\n",
    "ax[3].set_xlabel(r'$m_\\chi$ [eV]')\n",
    "plt.show()"
   ]
  },
  {
   "cell_type": "markdown",
   "metadata": {},
   "source": [
    "These all behave in an obvious way. Notice also that our k_table, which spans 100 points at each choice of $m_\\chi$, has the first few values of k given by: "
   ]
  },
  {
   "cell_type": "code",
   "execution_count": null,
   "metadata": {},
   "outputs": [],
   "source": [
    "pd.DataFrame(k_table).head()"
   ]
  },
  {
   "cell_type": "markdown",
   "metadata": {},
   "source": [
    "Define path where all data runs are stored. Anytime we require spectrum data from CLASS, the code will first check whether such data has already been calculated. If so, it will just import that data rather than re-run CLASS. We also specify a path to the CLASS install directory. "
   ]
  },
  {
   "cell_type": "code",
   "execution_count": null,
   "metadata": {},
   "outputs": [],
   "source": [
    "projectdir = cf.correct_path(\"~/Desktop/test/\")\n",
    "datastore = os.path.join(projectdir, \"data\")\n",
    "classpath = os.path.join(projectdir, \"class\")"
   ]
  },
  {
   "cell_type": "markdown",
   "metadata": {},
   "source": [
    "If you need to install CLASS, you can do so using the built-in function:"
   ]
  },
  {
   "cell_type": "code",
   "execution_count": null,
   "metadata": {},
   "outputs": [],
   "source": [
    "#cf.install_class(projectdir)"
   ]
  },
  {
   "cell_type": "markdown",
   "metadata": {},
   "source": [
    "At this point, we can quickly generate datasets of interest and plot results. For instance, consider a 1 eV relic with $T = 0.1, 0.2, 0.3, 0.4, 0.5$ [K]... "
   ]
  },
  {
   "cell_type": "code",
   "execution_count": null,
   "metadata": {
    "scrolled": false
   },
   "outputs": [],
   "source": [
    "gen = []\n",
    "spectra = []\n",
    "for i in range(6): \n",
    "    sample = dict(fid)\n",
    "    sample[\"m_ncdm\"] = 1.0\n",
    "    sample[\"N_ncdm\"] = 1\n",
    "    sample[\"T_ncdm\"] = (i+1) * 0.1\n",
    "    gen.append(sample)\n",
    "    del sample\n",
    "for samp in gen: \n",
    "    p = cf.generate_data(fid, classpath, datastore, **samp)\n",
    "    spectra = np.append(spectra, cf.spectrum(p.replace('/test_parameters.ini','')))\n",
    "for el in spectra: \n",
    "    el.interpolate(k_table[:,10]/h)\n",
    "    el.generate_power_spectrum(omega_b, omega_cdm, k_table[:,10], prim_table[:,10])"
   ]
  },
  {
   "cell_type": "code",
   "execution_count": null,
   "metadata": {},
   "outputs": [],
   "source": [
    "sns.set_palette(\"Blues_d\", n_colors=len(spectra))\n",
    "plt.figure(figsize=(10, 10))\n",
    "for el in spectra: \n",
    "    plt.plot(k_table[:, 10], el.ps_table, label=\"T={0:.2f}\".format(el.T_ncdm))\n",
    "plt.xlabel(\"k [Mpc]\")\n",
    "plt.ylabel(r'$P_g$')\n",
    "plt.title(r'Power spectra for $m_\\chi=0.1$ eV, $z=0.7$, various $T_\\chi$')\n",
    "plt.legend()\n",
    "plt.show()"
   ]
  },
  {
   "cell_type": "markdown",
   "metadata": {},
   "source": [
    "# Convergence Tests\n",
    "\n",
    "\n",
    "Working only the choice of $m_\\chi = 0.1$ [eV], we wish to demonstrate convergence in some choice with which to vary the cosmological parameters of our model. To do so, we only need to specify our redshift binning and the variation on each parameter we would like to test. We repeat lines above for clarity. \n",
    "\n",
    "### Setup"
   ]
  },
  {
   "cell_type": "code",
   "execution_count": null,
   "metadata": {},
   "outputs": [],
   "source": [
    "fid = {\"A_s\" : 2.2321e-9, \n",
    "        \"n_s\" : 0.96659,\n",
    "        \"omega_b\" : 0.02226,\n",
    "        \"omega_cdm\" : 0.11271,\n",
    "        \"tau_reio\" : 0.059888,\n",
    "        \"h\" : 0.70148,\n",
    "        \"N_ncdm\" : 1, #Note this is wrong, but we leave it here to compare results to corrected version later\n",
    "        \"z_pk\" : 0.7} #Not necessary, but helps neatness later on\n",
    "\n",
    "A_s = 2.2321e-9\n",
    "n_s = 0.96659\n",
    "omega_b = 0.02226\n",
    "omega_cdm = 0.11271\n",
    "tau_reio = 0.059888\n",
    "h = 0.70148\n",
    "z_pk = 0.7\n",
    "\n",
    "c = 2.9979e8 #Units of m/s\n",
    "H = 1000. * 100. * h #Units of m/s/Mpc\n",
    "kp = 0.05 * h #Units of 1/Mpc\n",
    "t_cmb = 2.726\n",
    "\n",
    "z_table = np.arange(0.7, 2.1, 0.1)\n",
    "m_chi_table = np.array([1.0])\n",
    "\n",
    "T_chi = 0.5 #Vary our relic temperature to 0.5 K \n",
    "omega_chi_table = np.power((T_chi / 1.95), 3.) * (m_chi_table / 94.)\n",
    "omega_m_table = fid[\"omega_b\"] + fid[\"omega_cdm\"] + omega_chi_table\n",
    "omega_lambda_table = np.power(h, 2.) - omega_m_table\n",
    "v_eff_table = cf.v_effective_table_generator(z_table, omega_m_table, omega_lambda_table, c, h, H)\n",
    "k_table = cf.k_table_generator(v_eff_table, h, 0.1, 100) \n",
    "prim_table = cf.primordial_table_generator(k_table, A_s, n_s, kp)"
   ]
  },
  {
   "cell_type": "markdown",
   "metadata": {},
   "source": [
    "### Run Convergence Analysis"
   ]
  },
  {
   "cell_type": "code",
   "execution_count": null,
   "metadata": {},
   "outputs": [],
   "source": [
    "relvary = np.arange(1.01, 1.11, 0.01)\n",
    "t_vary = np.arange(0.1, 2.1, 0.1)\n",
    "\n",
    "a1 = cf.analysis('a1', z_table, k_table[:,0], classpath, datastore)\n",
    "a1.generate_fiducials(fid)\n",
    "a1.generate_non_fiducials(fid, \n",
    "                          absvary_h=relvary*h,\n",
    "                          absvary_omega_b=relvary*omega_b,\n",
    "                          absvary_omega_cdm=relvary*omega_cdm,\n",
    "                          absvary_tau_reio=relvary*tau_reio,\n",
    "                          absvary_T_ncdm=t_vary)"
   ]
  },
  {
   "cell_type": "markdown",
   "metadata": {},
   "source": [
    "Now calculate the derivatives... "
   ]
  },
  {
   "cell_type": "code",
   "execution_count": null,
   "metadata": {},
   "outputs": [],
   "source": [
    "for idx1, el1 in enumerate(a1.h_var): \n",
    "    for idx2, el2 in enumerate(el1): \n",
    "        el2.dPs(a1.fid[idx1].ps_table, (1-relvary[idx2])*h, 'h')\n",
    "for idx1, el1 in enumerate(a1.omega_b_var): \n",
    "    for idx2, el2 in enumerate(el1): \n",
    "        el2.dPs(a1.fid[idx1].ps_table, (1-relvary[idx2])*omega_b, 'omega_b')\n",
    "for idx1, el1 in enumerate(a1.omega_cdm_var): \n",
    "    for idx2, el2 in enumerate(el1): \n",
    "        el2.dPs(a1.fid[idx1].ps_table, (1-relvary[idx2])*omega_cdm, 'omega_cdm')\n",
    "for idx1, el1 in enumerate(a1.tau_reio_var): \n",
    "    for idx2, el2 in enumerate(el1): \n",
    "        el2.dPs(a1.fid[idx1].ps_table, (1-relvary[idx2])*tau_reio, 'tau_reio')\n",
    "for idx1, el1 in enumerate(a1.T_ncdm_var): \n",
    "    for idx2, el2 in enumerate(el1): \n",
    "        el2.dPs(a1.fid[idx1].ps_table, t_vary[idx2], 'T_ncdm')"
   ]
  },
  {
   "cell_type": "markdown",
   "metadata": {},
   "source": [
    "### Plot Power Spectra\n",
    "\n",
    "First, let's just review what the power spectra look like for $m_\\chi=1$ eV and $z=0.7$..."
   ]
  },
  {
   "cell_type": "code",
   "execution_count": null,
   "metadata": {
    "scrolled": false
   },
   "outputs": [],
   "source": [
    "sns.set_palette(\"Blues_d\", n_colors=len(z_table))\n",
    "plt.figure(figsize=(10,10))\n",
    "for idx, ps in enumerate(a1.fid): \n",
    "    plt.plot(k_table, ps.ps_table, label='z={0:.1f}'.format(z_table[idx]))\n",
    "plt.title(r'$P_g$ for $m_\\chi=1$ eV')\n",
    "plt.xlabel(r'k [Mpc$^{-1}$]')\n",
    "plt.legend()\n",
    "plt.show()"
   ]
  },
  {
   "cell_type": "markdown",
   "metadata": {},
   "source": [
    "### Plot derivatives of power spectra\n",
    "\n",
    "Now, we plot $\\frac{dP_g}{d\\theta}$ for $z=0.7$ in each parameter... "
   ]
  },
  {
   "cell_type": "code",
   "execution_count": null,
   "metadata": {
    "scrolled": false
   },
   "outputs": [],
   "source": [
    "sns.set_palette(\"Blues_d\", n_colors=len(relvary))\n",
    "plt.figure(figsize=(10,10))\n",
    "for idx, ps in enumerate(a1.h_var[0]): \n",
    "    plt.plot(k_table, ps.dps_table['h'], label=r'$\\delta$'+'h={0:.2f}%'.format((relvary[idx]-1)*100.))\n",
    "plt.title(r'$dP_g/dh$ for $z=0.7$')\n",
    "plt.xlabel(r'k [Mpc$^{-1}$]')\n",
    "plt.legend()\n",
    "plt.show()\n",
    "\n",
    "plt.figure(figsize=(10,10))\n",
    "for idx, ps in enumerate(a1.omega_b_var[0]): \n",
    "    plt.plot(k_table, ps.dps_table['omega_b'], label=r'$\\delta\\omega_b=$'+'{0:.2f}%'.format((relvary[idx]-1)*100.))\n",
    "plt.title(r'$dP_g/d\\omega_b$ for $z=0.7$')\n",
    "plt.xlabel(r'k [Mpc$^{-1}$]')\n",
    "plt.legend()\n",
    "plt.show()\n",
    "\n",
    "plt.figure(figsize=(10,10))\n",
    "for idx, ps in enumerate(a1.omega_cdm_var[0]): \n",
    "    plt.plot(k_table, ps.dps_table['omega_cdm'], label=r'$\\delta\\omega_{cdm}$'+'={0:.2f}%'.format((relvary[idx]-1)*100.))\n",
    "plt.title(r'$dP_g/d\\omega_{cdm}$ for $z=0.7$')\n",
    "plt.xlabel(r'k [Mpc$^{-1}$]')\n",
    "plt.legend()\n",
    "plt.show()\n",
    "\n",
    "plt.figure(figsize=(10,10))\n",
    "for idx, ps in enumerate(a1.tau_reio_var[0]): \n",
    "    plt.plot(k_table, ps.dps_table['tau_reio'], label=r'$\\delta\\tau_{reio}$'+'={0:.2f}%'.format((relvary[idx]-1)*100.))\n",
    "plt.title(r'$dP_g/d\\tau_{reio}$ for $z=0.7$')\n",
    "plt.xlabel(r'k [Mpc$^{-1}$]')\n",
    "plt.legend()\n",
    "plt.show()\n",
    "\n",
    "sns.set_palette(\"Blues_d\", n_colors=len(t_vary))\n",
    "plt.figure(figsize=(10,10))\n",
    "for idx, ps in enumerate(a1.T_ncdm_var[0]): \n",
    "    plt.plot(k_table, ps.dps_table['T_ncdm'], label=r'$\\delta T_{ncdm}=$'+'{0:.2f}'.format((t_vary[idx])))\n",
    "plt.title(r'$dP_g/dT_{ncdm}$ for $z=0.7$, $m_\\chi=1.0$ eV')\n",
    "plt.xlabel(r'k [Mpc$^{-1}$]')\n",
    "plt.legend()\n",
    "plt.show()"
   ]
  },
  {
   "cell_type": "markdown",
   "metadata": {},
   "source": [
    "### Plot difference between power spectra derivatives"
   ]
  },
  {
   "cell_type": "code",
   "execution_count": null,
   "metadata": {
    "scrolled": false
   },
   "outputs": [],
   "source": [
    "sns.set_palette(\"Blues_d\", n_colors=len(relvary))\n",
    "plt.figure(figsize=(10,10))\n",
    "for i in range(len(a1.h_var[0])-1): \n",
    "    plt.plot(k_table, a1.h_var[0][i+1].dps_table['h'] - a1.h_var[0][i].dps_table['h'], \n",
    "             label=r'$\\Delta$ h $|^{:.0f}_{:.0f}$ %'.format((relvary[i+1]-1)*100., (relvary[i]-1)*100.))\n",
    "plt.title(r'$\\Delta(dP_g/dh)$ for $z=0.7$')\n",
    "plt.xlabel(r'k [Mpc$^{-1}$]')\n",
    "plt.legend()\n",
    "plt.show()\n",
    "\n",
    "sns.set_palette(\"Blues_d\", n_colors=len(relvary))\n",
    "plt.figure(figsize=(10,10))\n",
    "for i in range(len(a1.omega_b_var[0])-1): \n",
    "    plt.plot(k_table, a1.omega_b_var[0][i+1].dps_table['omega_b'] - a1.omega_b_var[0][i].dps_table['omega_b'], \n",
    "             label=r'$\\Delta \\omega_b |^{:.0f}_{:.0f}$ %'.format((relvary[i+1]-1)*100., (relvary[i]-1)*100.))\n",
    "plt.title(r'$\\Delta(dP_g/d\\omega_b)$ for $z=0.7$')\n",
    "plt.xlabel(r'k [Mpc$^{-1}$]')\n",
    "plt.legend()\n",
    "plt.show()\n",
    "\n",
    "sns.set_palette(\"Blues_d\", n_colors=len(relvary))\n",
    "plt.figure(figsize=(10,10))\n",
    "for i in range(len(a1.omega_cdm_var[0])-1): \n",
    "    plt.plot(k_table, a1.omega_cdm_var[0][i+1].dps_table['omega_cdm'] - a1.omega_cdm_var[0][i].dps_table['omega_cdm'], \n",
    "             label=r'$\\Delta \\omega_cdm |^{:.0f}_{:.0f}$ %'.format((relvary[i+1]-1)*100., (relvary[i]-1)*100.))\n",
    "plt.title(r'$\\Delta(dP_g/d\\omega_cdm)$ for $z=0.7$')\n",
    "plt.xlabel(r'k [Mpc$^{-1}$]')\n",
    "plt.legend()\n",
    "plt.show()\n",
    "\n",
    "sns.set_palette(\"Blues_d\", n_colors=len(relvary))\n",
    "plt.figure(figsize=(10,10))\n",
    "for i in range(len(a1.tau_reio_var[0])-1): \n",
    "    plt.plot(k_table, a1.tau_reio_var[0][i+1].dps_table['tau_reio'] - a1.tau_reio_var[0][i].dps_table['tau_reio'], \n",
    "             label=r'$\\Delta \\tau_{reio}$'+' $|^{:.0f}_{:.0f}$ %'.format((relvary[i+1]-1)*100., (relvary[i]-1)*100.))\n",
    "plt.title(r'$\\Delta(dP_g/d\\tau_{reio})$ for $z=0.7$')\n",
    "plt.xlabel(r'k [Mpc$^{-1}$]')\n",
    "plt.legend()\n",
    "plt.show()\n",
    "\n",
    "sns.set_palette(\"Blues_d\", n_colors=len(relvary))\n",
    "plt.figure(figsize=(10,10))\n",
    "for i in range(len(a1.T_ncdm_var[0])-1): \n",
    "    plt.plot(k_table, a1.T_ncdm_var[0][i+1].dps_table['T_ncdm'] - a1.T_ncdm_var[0][i].dps_table['T_ncdm'], \n",
    "             label=r'$\\Delta T_{ncdm}$'+' $|^{:.1f}_{:.1f}$'.format(t_vary[i+1], t_vary[i]))\n",
    "plt.title(r'$\\Delta(dP_g/dT_{ncdm})$ for $z=0.7$')\n",
    "plt.xlabel(r'k [Mpc$^{-1}$]')\n",
    "plt.legend()\n",
    "plt.show()"
   ]
  },
  {
   "cell_type": "markdown",
   "metadata": {},
   "source": [
    "### Convergence Tests 2\n",
    "\n",
    "There are a few problems to note from our plots above... \n",
    "\n",
    "#### Problem 1: Too Difficult to See Differences without Plotting on Log Scale \n",
    "\n",
    "The low-k values of the power spectra contain significant portions of the data information. To better emphasize the features at low-k, we should plot the log of the power spectra, rather than just the power spectra. \n",
    "\n",
    "#### Problem 2: All Plots Look the Same\n",
    "\n",
    "For example, we certainly don't expect changes in $\\tau_{reio}$ to have effects on the power spectrum that are similar in scale to $\\omega_b$. Our hunch is that we cannot leave N_ncdm=1 at all times, but must turn it on/off depending on whether we are calculating a dataset with/without an $\\omega_\\chi$ species. \n",
    "\n",
    "_Ok, it seems that upon first generating data the plots look fine. Still to see if the result is invariant after already having generated the data._\n",
    "\n",
    "#### An attempt at resolving these problems... \n",
    "\n"
   ]
  },
  {
   "cell_type": "code",
   "execution_count": null,
   "metadata": {},
   "outputs": [],
   "source": [
    "import os\n",
    "import numpy as np\n",
    "import pandas as pd\n",
    "import seaborn as sns \n",
    "import matplotlib.pyplot as plt\n",
    "\n",
    "sns.set()\n",
    "\n",
    "import cosmicfish as cf\n",
    "\n",
    "projectdir = cf.correct_path(\"~/Desktop/test/\")\n",
    "datastore = os.path.join(projectdir, \"data\")\n",
    "classpath = os.path.join(projectdir, \"class\")\n",
    "\n",
    "#Setup fiducial cosmology, note change to N_ncdm... \n",
    "fid = {\"A_s\" : 2.2321e-9, \n",
    "        \"n_s\" : 0.96659,\n",
    "        \"omega_b\" : 0.02226,\n",
    "        \"omega_cdm\" : 0.11271,\n",
    "        \"tau_reio\" : 0.059888,\n",
    "        \"h\" : 0.70148,\n",
    "        \"N_ncdm\" : 0, #Note the change! \n",
    "        \"z_pk\" : 0.7} #Not necessary, but helps neatness later on\n",
    "\n",
    "A_s = 2.2321e-9\n",
    "n_s = 0.96659\n",
    "omega_b = 0.02226\n",
    "omega_cdm = 0.11271\n",
    "tau_reio = 0.059888\n",
    "h = 0.70148\n",
    "z_pk = 0.7\n",
    "\n",
    "c = 2.9979e8 #Units of m/s\n",
    "H = 1000. * 100. * h #Units of m/s/Mpc\n",
    "kp = 0.05 * h #Units of 1/Mpc\n",
    "t_cmb = 2.726\n",
    "\n",
    "z_table = np.arange(0.7, 2.1, 0.1)\n",
    "m_chi_table = np.array([1.0])\n",
    "\n",
    "\n",
    "T_chi = 0.5 #Vary our relic temperature to 0.5 K \n",
    "omega_chi_table = np.power((T_chi / 1.95), 3.) * (m_chi_table / 94.)\n",
    "omega_m_table = fid[\"omega_b\"] + fid[\"omega_cdm\"] + omega_chi_table\n",
    "omega_lambda_table = np.power(h, 2.) - omega_m_table\n",
    "v_eff_table = cf.v_effective_table_generator(z_table, omega_m_table, omega_lambda_table, c, h, H)\n",
    "k_table = cf.k_table_generator(v_eff_table, h, 0.1, 100) \n",
    "prim_table = cf.primordial_table_generator(k_table, A_s, n_s, kp)\n",
    "\n",
    "domega_chi_dT_chi = (3. * np.power(T_chi, 2.) * m_chi_table) / (np.power(1.95, 3.) * 94.)\n",
    "dT_chi_domega_chi = (1./3.) *1.95 * np.power(( 94) / m_chi_table, 1./3.) * np.power(omega_chi_table, -2./3.)\n",
    "print(1./domega_chi_dT_chi)\n",
    "print(dT_chi_domega_chi)"
   ]
  },
  {
   "cell_type": "code",
   "execution_count": null,
   "metadata": {},
   "outputs": [],
   "source": [
    "#Generate datasets\n",
    "relvary = np.arange(1.01, 1.06, 0.01)\n",
    "t_vary = np.arange(0.1, 0.6, 0.1)\n",
    "\n",
    "a1 = cf.analysis('a1', z_table, k_table[:,0], classpath, datastore)\n",
    "a1.generate_fiducials(fiducial=fid)\n",
    "a1.generate_non_fiducials(fiducial=fid, \n",
    "                          absvary_h=relvary*h,\n",
    "                          absvary_omega_b=relvary*omega_b,\n",
    "                          absvary_omega_cdm=relvary*omega_cdm,\n",
    "                          absvary_tau_reio=relvary*tau_reio,\n",
    "                          absvary_T_ncdm=t_vary)"
   ]
  },
  {
   "cell_type": "code",
   "execution_count": null,
   "metadata": {},
   "outputs": [],
   "source": [
    "#Calculate derivatives\n",
    "for idx1, el1 in enumerate(a1.h_var): \n",
    "    for idx2, el2 in enumerate(el1): \n",
    "        el2.dPs(a1.fid[idx1].ps_table, (1-relvary[idx2])*h, 'h')\n",
    "for idx1, el1 in enumerate(a1.omega_b_var): \n",
    "    for idx2, el2 in enumerate(el1): \n",
    "        el2.dPs(a1.fid[idx1].ps_table, (1-relvary[idx2])*omega_b, 'omega_b')\n",
    "for idx1, el1 in enumerate(a1.omega_cdm_var): \n",
    "    for idx2, el2 in enumerate(el1): \n",
    "        el2.dPs(a1.fid[idx1].ps_table, (1-relvary[idx2])*omega_cdm, 'omega_cdm')\n",
    "for idx1, el1 in enumerate(a1.tau_reio_var): \n",
    "    for idx2, el2 in enumerate(el1): \n",
    "        el2.dPs(a1.fid[idx1].ps_table, (1-relvary[idx2])*tau_reio, 'tau_reio')\n",
    "for idx1, el1 in enumerate(a1.T_ncdm_var): \n",
    "    for idx2, el2 in enumerate(el1): \n",
    "        el2.dPs(a1.fid[idx1].ps_table, t_vary[idx2], 'T_ncdm')"
   ]
  },
  {
   "cell_type": "code",
   "execution_count": null,
   "metadata": {},
   "outputs": [],
   "source": [
    "#Plot power spectra\n",
    "sns.set_palette(\"Blues_d\", n_colors=len(z_table))\n",
    "plt.figure(figsize=(10,10))\n",
    "for idx, ps in enumerate(a1.fid): \n",
    "    plt.plot(k_table, ps.ps_table, label='z={0:.1f}'.format(z_table[idx]))\n",
    "plt.title(r'$P_g$ for $m_\\chi=1$ eV')\n",
    "plt.xlabel(r'k [Mpc$^{-1}$]')\n",
    "plt.legend()\n",
    "plt.show()"
   ]
  },
  {
   "cell_type": "code",
   "execution_count": null,
   "metadata": {
    "scrolled": false
   },
   "outputs": [],
   "source": [
    "#Plot derivatives of power spectra\n",
    "sns.set_palette(\"Blues_d\", n_colors=len(relvary))\n",
    "plt.figure(figsize=(10,10))\n",
    "for idx, ps in enumerate(a1.h_var[0]): \n",
    "    plt.plot(k_table, ps.dps_table['h'], label=r'$\\delta$'+'h={0:.2f}%'.format((relvary[idx]-1)*100.))\n",
    "plt.title(r'$dP_g/dh$ for $z=0.7$')\n",
    "plt.xlabel(r'k [Mpc$^{-1}$]')\n",
    "plt.legend()\n",
    "plt.show()\n",
    "\n",
    "plt.figure(figsize=(10,10))\n",
    "for idx, ps in enumerate(a1.omega_b_var[0]): \n",
    "    plt.plot(k_table, ps.dps_table['omega_b'], label=r'$\\delta\\omega_b=$'+'{0:.2f}%'.format((relvary[idx]-1)*100.))\n",
    "plt.title(r'$dP_g/d\\omega_b$ for $z=0.7$')\n",
    "plt.xlabel(r'k [Mpc$^{-1}$]')\n",
    "plt.legend()\n",
    "plt.show()\n",
    "\n",
    "plt.figure(figsize=(10,10))\n",
    "for idx, ps in enumerate(a1.omega_cdm_var[0]): \n",
    "    plt.plot(k_table, ps.dps_table['omega_cdm'], label=r'$\\delta\\omega_{cdm}$'+'={0:.2f}%'.format((relvary[idx]-1)*100.))\n",
    "plt.title(r'$dP_g/d\\omega_{cdm}$ for $z=0.7$')\n",
    "plt.xlabel(r'k [Mpc$^{-1}$]')\n",
    "plt.legend()\n",
    "plt.show()\n",
    "\n",
    "plt.figure(figsize=(10,10))\n",
    "for idx, ps in enumerate(a1.tau_reio_var[0]): \n",
    "    plt.plot(k_table, ps.dps_table['tau_reio'], label=r'$\\delta\\tau_{reio}$'+'={0:.2f}%'.format((relvary[idx]-1)*100.))\n",
    "plt.title(r'$dP_g/d\\tau_{reio}$ for $z=0.7$')\n",
    "plt.xlabel(r'k [Mpc$^{-1}$]')\n",
    "plt.legend()\n",
    "plt.show()\n",
    "\n",
    "sns.set_palette(\"Blues_d\", n_colors=len(t_vary))\n",
    "plt.figure(figsize=(10,10))\n",
    "for idx, ps in enumerate(a1.T_ncdm_var[0]): \n",
    "    plt.plot(k_table, ps.dps_table['T_ncdm'], label=r'$\\delta T_{ncdm}=$'+'{0:.2f}'.format((t_vary[idx])))\n",
    "plt.title(r'$dP_g/dT_{ncdm}$ for $z=0.7$, $m_\\chi=1.0$ eV')\n",
    "plt.xlabel(r'k [Mpc$^{-1}$]')\n",
    "plt.legend()\n",
    "plt.show()\n",
    "\n",
    "sns.set_palette(\"Blues_d\", n_colors=len(t_vary))\n",
    "plt.figure(figsize=(10,10))\n",
    "for idx, ps in enumerate(a1.T_ncdm_var[0]): \n",
    "    plt.plot(k_table, ps.dps_table['T_ncdm']*dT_chi_domega_chi, label=r'$\\delta T_{ncdm}=$'+'{0:.2f}'.format((t_vary[idx])))\n",
    "plt.title(r'$dP_g/domega_{ncdm}$ for $z=0.7$, $m_\\chi=1.0$ eV')\n",
    "plt.xlabel(r'k [Mpc$^{-1}$]')\n",
    "plt.legend()\n",
    "plt.show()"
   ]
  },
  {
   "cell_type": "code",
   "execution_count": null,
   "metadata": {
    "scrolled": false
   },
   "outputs": [],
   "source": [
    "#Plot derivatives of power spectra\n",
    "sns.set_palette(\"Blues_d\", n_colors=len(relvary))\n",
    "plt.figure(figsize=(10,10))\n",
    "for idx, ps in enumerate(a1.h_var[0]): \n",
    "    plt.plot(k_table, ps.log_dps_table['h'], label=r'$\\delta$'+'h={0:.2f}%'.format((relvary[idx]-1)*100.))\n",
    "plt.title(r'$dlogP_g/dh$ for $z=0.7$')\n",
    "plt.xlabel(r'k [Mpc$^{-1}$]')\n",
    "plt.legend()\n",
    "plt.show()\n",
    "\n",
    "plt.figure(figsize=(10,10))\n",
    "for idx, ps in enumerate(a1.omega_b_var[0]): \n",
    "    plt.plot(k_table, ps.log_dps_table['omega_b'], label=r'$\\delta\\omega_b=$'+'{0:.2f}%'.format((relvary[idx]-1)*100.))\n",
    "plt.title(r'$dlogP_g/d\\omega_b$ for $z=0.7$')\n",
    "plt.xlabel(r'k [Mpc$^{-1}$]')\n",
    "plt.legend()\n",
    "plt.show()\n",
    "\n",
    "plt.figure(figsize=(10,10))\n",
    "for idx, ps in enumerate(a1.omega_cdm_var[0]): \n",
    "    plt.plot(k_table, ps.log_dps_table['omega_cdm'], label=r'$\\delta\\omega_{cdm}$'+'={0:.2f}%'.format((relvary[idx]-1)*100.))\n",
    "plt.title(r'$dlogP_g/d\\omega_{cdm}$ for $z=0.7$')\n",
    "plt.xlabel(r'k [Mpc$^{-1}$]')\n",
    "plt.legend()\n",
    "plt.show()\n",
    "\n",
    "plt.figure(figsize=(10,10))\n",
    "for idx, ps in enumerate(a1.tau_reio_var[0]): \n",
    "    plt.plot(k_table, ps.log_dps_table['tau_reio'], label=r'$\\delta\\tau_{reio}$'+'={0:.2f}%'.format((relvary[idx]-1)*100.))\n",
    "plt.title(r'$dlogP_g/d\\tau_{reio}$ for $z=0.7$')\n",
    "plt.xlabel(r'k [Mpc$^{-1}$]')\n",
    "plt.legend()\n",
    "plt.show()\n",
    "\n",
    "sns.set_palette(\"Blues_d\", n_colors=len(t_vary))\n",
    "plt.figure(figsize=(10,10))\n",
    "for idx, ps in enumerate(a1.T_ncdm_var[0]): \n",
    "    plt.plot(k_table, ps.log_dps_table['T_ncdm'], label=r'$\\delta T_{ncdm}=$'+'{0:.2f}'.format((t_vary[idx])))\n",
    "plt.title(r'$dlogP_g/dT_{ncdm}$ for $z=0.7$, $m_\\chi=1.0$ eV')\n",
    "plt.xlabel(r'k [Mpc$^{-1}$]')\n",
    "plt.legend()\n",
    "plt.show()"
   ]
  },
  {
   "cell_type": "code",
   "execution_count": null,
   "metadata": {
    "scrolled": false
   },
   "outputs": [],
   "source": [
    "#Plot differences in derivatives of power spectra\n",
    "sns.set_palette(\"Blues_d\", n_colors=len(relvary))\n",
    "plt.figure(figsize=(10,10))\n",
    "for i in range(len(a1.h_var[0])-1): \n",
    "    plt.plot(k_table, a1.h_var[0][i+1].dps_table['h'] - a1.h_var[0][i].dps_table['h'], \n",
    "             label=r'$\\Delta$ h $|^{:.0f}_{:.0f}$ %'.format((relvary[i+1]-1)*100., (relvary[i]-1)*100.))\n",
    "plt.title(r'$\\Delta(dP_g/dh)$ for $z=0.7$')\n",
    "plt.xlabel(r'k [Mpc$^{-1}$]')\n",
    "plt.legend()\n",
    "plt.show()\n",
    "\n",
    "sns.set_palette(\"Blues_d\", n_colors=len(relvary))\n",
    "plt.figure(figsize=(10,10))\n",
    "for i in range(len(a1.omega_b_var[0])-1): \n",
    "    plt.plot(k_table, a1.omega_b_var[0][i+1].dps_table['omega_b'] - a1.omega_b_var[0][i].dps_table['omega_b'], \n",
    "             label=r'$\\Delta \\omega_b |^{:.0f}_{:.0f}$ %'.format((relvary[i+1]-1)*100., (relvary[i]-1)*100.))\n",
    "plt.title(r'$\\Delta(dP_g/d\\omega_b)$ for $z=0.7$')\n",
    "plt.xlabel(r'k [Mpc$^{-1}$]')\n",
    "plt.legend()\n",
    "plt.show()\n",
    "\n",
    "sns.set_palette(\"Blues_d\", n_colors=len(relvary))\n",
    "plt.figure(figsize=(10,10))\n",
    "for i in range(len(a1.omega_cdm_var[0])-1): \n",
    "    plt.plot(k_table, a1.omega_cdm_var[0][i+1].dps_table['omega_cdm'] - a1.omega_cdm_var[0][i].dps_table['omega_cdm'], \n",
    "             label=r'$\\Delta \\omega_cdm |^{:.0f}_{:.0f}$ %'.format((relvary[i+1]-1)*100., (relvary[i]-1)*100.))\n",
    "plt.title(r'$\\Delta(dP_g/d\\omega_cdm)$ for $z=0.7$')\n",
    "plt.xlabel(r'k [Mpc$^{-1}$]')\n",
    "plt.legend()\n",
    "plt.show()\n",
    "\n",
    "sns.set_palette(\"Blues_d\", n_colors=len(relvary))\n",
    "plt.figure(figsize=(10,10))\n",
    "for i in range(len(a1.tau_reio_var[0])-1): \n",
    "    plt.plot(k_table, a1.tau_reio_var[0][i+1].dps_table['tau_reio'] - a1.tau_reio_var[0][i].dps_table['tau_reio'], \n",
    "             label=r'$\\Delta \\tau_{reio}$'+' $|^{:.0f}_{:.0f}$ %'.format((relvary[i+1]-1)*100., (relvary[i]-1)*100.))\n",
    "plt.title(r'$\\Delta(dP_g/d\\tau_{reio})$ for $z=0.7$')\n",
    "plt.xlabel(r'k [Mpc$^{-1}$]')\n",
    "plt.legend()\n",
    "plt.show()\n",
    "\n",
    "sns.set_palette(\"Blues_d\", n_colors=len(relvary))\n",
    "plt.figure(figsize=(10,10))\n",
    "for i in range(len(a1.T_ncdm_var[0])-1): \n",
    "    plt.plot(k_table, a1.T_ncdm_var[0][i+1].dps_table['T_ncdm'] - a1.T_ncdm_var[0][i].dps_table['T_ncdm'], \n",
    "             label=r'$\\Delta T_{ncdm}$'+' $|^{:.1f}_{:.1f}$'.format(t_vary[i+1], t_vary[i]))\n",
    "plt.title(r'$\\Delta(dP_g/dT_{ncdm})$ for $z=0.7$')\n",
    "plt.xlabel(r'k [Mpc$^{-1}$]')\n",
    "plt.legend()\n",
    "plt.show()"
   ]
  },
  {
   "cell_type": "code",
   "execution_count": null,
   "metadata": {
    "scrolled": false
   },
   "outputs": [],
   "source": [
    "#Plot differences in derivatives of power spectra\n",
    "sns.set_palette(\"Blues_d\", n_colors=len(relvary))\n",
    "plt.figure(figsize=(10,10))\n",
    "for i in range(len(a1.h_var[0])-1): \n",
    "    plt.plot(k_table, a1.h_var[0][i+1].log_dps_table['h'] - a1.h_var[0][i].log_dps_table['h'], \n",
    "             label=r'$\\Delta$ h $|^{:.0f}_{:.0f}$ %'.format((relvary[i+1]-1)*100., (relvary[i]-1)*100.))\n",
    "plt.title(r'$\\Delta(dlogP_g/dh)$ for $z=0.7$')\n",
    "plt.xlabel(r'k [Mpc$^{-1}$]')\n",
    "plt.legend()\n",
    "plt.show()\n",
    "\n",
    "sns.set_palette(\"Blues_d\", n_colors=len(relvary))\n",
    "plt.figure(figsize=(10,10))\n",
    "for i in range(len(a1.omega_b_var[0])-1): \n",
    "    plt.plot(k_table, a1.omega_b_var[0][i+1].log_dps_table['omega_b'] - a1.omega_b_var[0][i].log_dps_table['omega_b'], \n",
    "             label=r'$\\Delta \\omega_b |^{:.0f}_{:.0f}$ %'.format((relvary[i+1]-1)*100., (relvary[i]-1)*100.))\n",
    "plt.title(r'$\\Delta(dlogP_g/d\\omega_b)$ for $z=0.7$')\n",
    "plt.xlabel(r'k [Mpc$^{-1}$]')\n",
    "plt.legend()\n",
    "plt.show()\n",
    "\n",
    "sns.set_palette(\"Blues_d\", n_colors=len(relvary))\n",
    "plt.figure(figsize=(10,10))\n",
    "for i in range(len(a1.omega_cdm_var[0])-1): \n",
    "    plt.plot(k_table, a1.omega_cdm_var[0][i+1].log_dps_table['omega_cdm'] - a1.omega_cdm_var[0][i].log_dps_table['omega_cdm'], \n",
    "             label=r'$\\Delta \\omega_cdm |^{:.0f}_{:.0f}$ %'.format((relvary[i+1]-1)*100., (relvary[i]-1)*100.))\n",
    "plt.title(r'$\\Delta(dlogP_g/d\\omega_cdm)$ for $z=0.7$')\n",
    "plt.xlabel(r'k [Mpc$^{-1}$]')\n",
    "plt.legend()\n",
    "plt.show()\n",
    "\n",
    "sns.set_palette(\"Blues_d\", n_colors=len(relvary))\n",
    "plt.figure(figsize=(10,10))\n",
    "for i in range(len(a1.tau_reio_var[0])-1): \n",
    "    plt.plot(k_table, a1.tau_reio_var[0][i+1].log_dps_table['tau_reio'] - a1.tau_reio_var[0][i].log_dps_table['tau_reio'], \n",
    "             label=r'$\\Delta \\tau_{reio}$'+' $|^{:.0f}_{:.0f}$ %'.format((relvary[i+1]-1)*100., (relvary[i]-1)*100.))\n",
    "plt.title(r'$\\Delta(dlogP_g/d\\tau_{reio})$ for $z=0.7$')\n",
    "plt.xlabel(r'k [Mpc$^{-1}$]')\n",
    "plt.legend()\n",
    "plt.show()\n",
    "\n",
    "sns.set_palette(\"Blues_d\", n_colors=len(relvary))\n",
    "plt.figure(figsize=(10,10))\n",
    "for i in range(len(a1.T_ncdm_var[0])-1): \n",
    "    plt.plot(k_table, a1.T_ncdm_var[0][i+1].log_dps_table['T_ncdm'] - a1.T_ncdm_var[0][i].log_dps_table['T_ncdm'], \n",
    "             label=r'$\\Delta T_{ncdm}$'+' $|^{:.1f}_{:.1f}$'.format(t_vary[i+1], t_vary[i]))\n",
    "plt.title(r'$\\Delta(dlogP_g/dT_{ncdm})$ for $z=0.7$')\n",
    "plt.xlabel(r'k [Mpc$^{-1}$]')\n",
    "plt.legend()\n",
    "plt.show()"
   ]
  },
  {
   "cell_type": "code",
   "execution_count": null,
   "metadata": {},
   "outputs": [],
   "source": []
  },
  {
   "cell_type": "code",
   "execution_count": null,
   "metadata": {},
   "outputs": [],
   "source": []
  },
  {
   "cell_type": "code",
   "execution_count": null,
   "metadata": {},
   "outputs": [],
   "source": []
  },
  {
   "cell_type": "code",
   "execution_count": null,
   "metadata": {},
   "outputs": [],
   "source": []
  },
  {
   "cell_type": "code",
   "execution_count": null,
   "metadata": {},
   "outputs": [],
   "source": []
  },
  {
   "cell_type": "code",
   "execution_count": null,
   "metadata": {},
   "outputs": [],
   "source": []
  },
  {
   "cell_type": "code",
   "execution_count": null,
   "metadata": {},
   "outputs": [],
   "source": []
  },
  {
   "cell_type": "code",
   "execution_count": null,
   "metadata": {},
   "outputs": [],
   "source": []
  },
  {
   "cell_type": "code",
   "execution_count": null,
   "metadata": {},
   "outputs": [],
   "source": []
  },
  {
   "cell_type": "code",
   "execution_count": null,
   "metadata": {},
   "outputs": [],
   "source": []
  },
  {
   "cell_type": "code",
   "execution_count": null,
   "metadata": {},
   "outputs": [],
   "source": []
  },
  {
   "cell_type": "code",
   "execution_count": null,
   "metadata": {},
   "outputs": [],
   "source": []
  },
  {
   "cell_type": "code",
   "execution_count": null,
   "metadata": {},
   "outputs": [],
   "source": []
  }
 ],
 "metadata": {
  "kernelspec": {
   "display_name": "env",
   "language": "python",
   "name": "env"
  },
  "language_info": {
   "codemirror_mode": {
    "name": "ipython",
    "version": 3
   },
   "file_extension": ".py",
   "mimetype": "text/x-python",
   "name": "python",
   "nbconvert_exporter": "python",
   "pygments_lexer": "ipython3",
   "version": "3.6.8"
  }
 },
 "nbformat": 4,
 "nbformat_minor": 2
}
