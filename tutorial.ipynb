{
 "cells": [
  {
   "cell_type": "markdown",
   "metadata": {},
   "source": [
    "# Setup Your Analysis Environment\n",
    "\n",
    "1) Choose a directory to house your project in: \n",
    "```\n",
    ".../<project-directory>\n",
    "```\n",
    "\n",
    "\n",
    "2) Create and activate a fresh Python3 virtual environment (we use Python 3.6.8) there: \n",
    "```\n",
    "$ cd .../<project-directory>\n",
    "$ python -m virtualenv env \n",
    "$ source env/bin/activate\n",
    "```\n",
    "\n",
    "3) Download the `cosmicfish` package from Git: \n",
    "```\n",
    "$ git clone git@github.com:ndeporzio/cosmicfish.git\n",
    "```\n",
    "\n",
    "4) Install the `cosmicfish` package. Note that its dependencies will install automatically.\n",
    "```\n",
    "$ cd cosmicfish\n",
    "$ pip install . \n",
    "```\n",
    "\n",
    "5) Launch Jupyter and open `tutorial.ipynb` notebook using Jupyter browser\n",
    "```\n",
    "$ jupyter notebook\n",
    "```\n",
    "\n",
    "6) Create a data folder where the analysis can store spectrum data. This can be anywhere you'd like - you'll specify the path below. \n",
    "```\n",
    "$ mkdir <project-directory>/data\n",
    "```\n",
    "\n",
    "7) Install and build CLASS (if you don't already have a build). Note the `cosmicfish` package includes a method for downloading and installing CLASS for you:\n",
    "```\n",
    "$ python \n",
    ">>> import cosmicfish\n",
    ">>> cosmicfish.install_class('<project-directory>/class')\n",
    ">>> exit()\n",
    "```"
   ]
  },
  {
   "cell_type": "markdown",
   "metadata": {},
   "source": [
    "# Import & Configure _cosmicfish_"
   ]
  },
  {
   "cell_type": "markdown",
   "metadata": {},
   "source": [
    "Import the analysis package."
   ]
  },
  {
   "cell_type": "code",
   "execution_count": null,
   "metadata": {
    "scrolled": false
   },
   "outputs": [],
   "source": [
    "import cosmicfish as cf "
   ]
  },
  {
   "cell_type": "markdown",
   "metadata": {},
   "source": [
    "Import relevant python packages... "
   ]
  },
  {
   "cell_type": "code",
   "execution_count": null,
   "metadata": {
    "scrolled": false
   },
   "outputs": [],
   "source": [
    "#Import relevant packages\n",
    "import os\n",
    "import shutil\n",
    "import numpy as np\n",
    "import pandas as pd\n",
    "import seaborn as sns \n",
    "import matplotlib.pyplot as plt"
   ]
  },
  {
   "cell_type": "markdown",
   "metadata": {},
   "source": [
    "Other setup steps... "
   ]
  },
  {
   "cell_type": "code",
   "execution_count": null,
   "metadata": {
    "scrolled": false
   },
   "outputs": [],
   "source": [
    "#Instruct pyplot to use seaborn \n",
    "sns.set()"
   ]
  },
  {
   "cell_type": "markdown",
   "metadata": {},
   "source": [
    "Specify the paths from the setup of your analysis environment above.  "
   ]
  },
  {
   "cell_type": "code",
   "execution_count": null,
   "metadata": {
    "scrolled": false
   },
   "outputs": [],
   "source": [
    "#Set project, data, CLASS directories \n",
    "projectdir = cf.correct_path(\"~/Desktop/cfworkspace/\")\n",
    "datastore = cf.correct_path(\"~/Desktop/cfworkspace/data.nosync/\")\n",
    "classpath = os.path.join(projectdir, \"class\")"
   ]
  },
  {
   "cell_type": "markdown",
   "metadata": {},
   "source": [
    "Specify the granularity of numerical derivatives."
   ]
  },
  {
   "cell_type": "code",
   "execution_count": null,
   "metadata": {},
   "outputs": [],
   "source": [
    "dstep = 0.008 #How much to vary parameter to calculate numerical derivative\n",
    "mu_step = 0.05 #For calculating numerical integral wrt mu between -1 and 1 "
   ]
  },
  {
   "cell_type": "markdown",
   "metadata": {},
   "source": [
    "# Specify Fiducial Cosmology"
   ]
  },
  {
   "cell_type": "code",
   "execution_count": null,
   "metadata": {
    "scrolled": false
   },
   "outputs": [],
   "source": [
    "#Setup fiducial cosmology\n",
    "neutrinofid = {\n",
    "        \"A_s\" : 2.2321e-9, \n",
    "        \"n_s\" : 0.96659,\n",
    "        \"omega_b\" : 0.02226,\n",
    "        \"omega_cdm\" : 0.11271,\n",
    "        \"tau_reio\" : 0.059888,\n",
    "        \"h\" : 0.70148,\n",
    "        \"T_cmb\" : 2.726, # Units [K]\n",
    "        \"N_ncdm\" : 3., \n",
    "        \"m_ncdm\" : 0.02, # Units [eV]\n",
    "        \"b0\" : 1.0, \n",
    "        \"alphak2\" : 1.0,\n",
    "        \"sigma_fog_0\" : 250000, #Units [m s^-2]\n",
    "        \"relic_fix\" : None\n",
    "        } \n"
   ]
  },
  {
   "cell_type": "code",
   "execution_count": null,
   "metadata": {},
   "outputs": [],
   "source": [
    "# For matching the neutrino/relic forecasts, we must modify temp/mass according to equation 44 \n",
    "# of the Cora/Julian paper. That is: \n",
    "# m_chi = m_nu * 3^(1/4) ***where m_nu is the mass of a single neutrino in the degenerate hierarchy\n",
    "# T_chi = 1.95 * 3^(1/4)\n",
    "\n",
    "relicfid = {\n",
    "        \"A_s\" : 2.2321e-9, \n",
    "        \"n_s\" : 0.96659,\n",
    "        \"omega_b\" : 0.02226,\n",
    "        \"omega_cdm\" : 0.11271,\n",
    "        \"tau_reio\" : 0.059888,\n",
    "        \"h\" : 0.70148,\n",
    "        \"T_cmb\" : 2.726, # Units [K]\n",
    "        \"N_ncdm\" : 1., \n",
    "        \"T_ncdm\" : (1.95 * np.power(3., 1./4.))/2.726, # Units [T_cmb]  Are Julian's matrices at 1.64 K? \n",
    "        \"m_ncdm\" : 0.02 * np.power(3., 1./4.), # Units [eV]\n",
    "        \"b0\" : 1.0, \n",
    "        \"alphak2\" : 1.0,\n",
    "        \"sigma_fog_0\" : 250000, #Units [m s^-2]\n",
    "        \"relic_fix\" : \"T_ncdm\" # Fix T_ncdm or M_ncdm \n",
    "        }\n",
    "\n",
    "relicfid2 = {\n",
    "        \"A_s\" : 2.2321e-9, \n",
    "        \"n_s\" : 0.96659,\n",
    "        \"omega_b\" : 0.02226,\n",
    "        \"omega_cdm\" : 0.11271,\n",
    "        \"tau_reio\" : 0.059888,\n",
    "        \"h\" : 0.70148,\n",
    "        \"T_cmb\" : 2.726, # Units [K]\n",
    "        \"N_ncdm\" : 1., \n",
    "        \"T_ncdm\" : (1.95 * np.power(3., 1./4.))/2.726, # Units [T_cmb]  Are Julian's matrices at 1.64 K? \n",
    "        \"m_ncdm\" : 0.02 * np.power(3., 1./4.), # Units [eV]\n",
    "        \"b0\" : 1.0, \n",
    "        \"alphak2\" : 1.0,\n",
    "        \"sigma_fog_0\" : 250000, #Units [m s^-2]\n",
    "        \"relic_fix\" : \"m_ncdm\" # Fix T_ncdm or M_ncdm \n",
    "        }\n"
   ]
  },
  {
   "cell_type": "markdown",
   "metadata": {},
   "source": [
    "# Specify Experiment Observational Parameters"
   ]
  },
  {
   "cell_type": "code",
   "execution_count": null,
   "metadata": {},
   "outputs": [],
   "source": [
    "#Setup redshift bins, fiducial relica masses, relic temps to sample\n",
    "z_table = np.arange(0.65, 1.85, 0.1)\n",
    "dNdz = np.array([309., 2269., 1923., 2094., 1441., 1353., 1337., 523., 466., 329., 126., 0., 0.])\n",
    "skycover = 14000. # Sky coverage of survey in degrees^2"
   ]
  },
  {
   "cell_type": "markdown",
   "metadata": {},
   "source": [
    "# Demonstrate Convergence "
   ]
  },
  {
   "cell_type": "markdown",
   "metadata": {},
   "source": [
    "Before running the forecast, we want to ensure our cosmological parameters are well converged about the points we are interested in using to calculate Fisher matrices. To do so, we can use the `convergence` class of `cosmicfish`. \n",
    "\n",
    "We pass to `convergence` some fiducial cosmology, and then it will vary the parameters of that fiducial cosmology by step sizes specified by the user and compute the corresponding power spectrum derivatives. \n",
    "\n",
    "All 'varyfactors' are computed relative to the fiducial cosmology. That is:\n",
    "\n",
    "dtheta = varyfactor * theta_fiducial\n",
    "\n",
    "**WARNING: This process takes a considerable amount of time (~5 mins per varyfactor w/o prexisting data). Only run when you need to.**"
   ]
  },
  {
   "cell_type": "code",
   "execution_count": null,
   "metadata": {
    "scrolled": false
   },
   "outputs": [],
   "source": [
    "neutrinoconvergencetest = cf.convergence(\n",
    "    classpath, # Path to CLASS installation\n",
    "    datastore, # Path to directory holding CLASS output data\n",
    "    'neutrino', # 'relic' or 'neutrino' forecasting scheme \n",
    "    neutrinofid, # The fiducial cosmology \n",
    "    z_table, # Redshift steps in observation\n",
    "    dNdz, # Redshift noise in observation\n",
    "    fcoverage_deg=14000, # Sky coverage in observation\n",
    "    RSD=True, # Use RSD correction to Pm\n",
    "    FOG=True, # Use FOG correction to Pm\n",
    "    AP=True, # Use AP correction to PM\n",
    "    COV=True, #Use AP Change of Variables correction to PM\n",
    "    varyfactors=[0.001, 0.002, 0.003] # Relative factors used to compute convergence\n",
    "    )\n",
    "neutrinoconvergencetest.gen_all_plots() # Display convergence plots"
   ]
  },
  {
   "cell_type": "code",
   "execution_count": null,
   "metadata": {},
   "outputs": [],
   "source": [
    "relicconvergencetest = cf.convergence(\n",
    "    classpath, # Path to CLASS installation\n",
    "    datastore, # Path to directory holding CLASS output data\n",
    "    'relic', # 'relic' or 'neutrino' forecasting scheme \n",
    "    relicfid, # The fiducial cosmology \n",
    "    z_table, # Redshift steps in observation\n",
    "    dNdz, # Redshift noise in observation\n",
    "    fcoverage_deg=14000, # Sky coverage in observation\n",
    "    RSD=True, # Use RSD correction to Pm\n",
    "    FOG=True, # Use FOG correction to Pm\n",
    "    AP=True, # Use AP correction to PM\n",
    "    COV=True, #Use AP Change of Variables correction to PM\n",
    "    varyfactors=[0.001, 0.002, 0.003] # Relative factors used to compute convergence\n",
    "    )\n",
    "relicconvergencetest.gen_all_plots() # Display convergence plots"
   ]
  },
  {
   "cell_type": "markdown",
   "metadata": {},
   "source": [
    "# Run Fisher Forecast"
   ]
  },
  {
   "cell_type": "code",
   "execution_count": null,
   "metadata": {
    "scrolled": true
   },
   "outputs": [],
   "source": [
    "neutrinoforecast = cf.forecast(\n",
    "    classpath, \n",
    "    datastore, \n",
    "    'neutrino', \n",
    "    neutrinofid, \n",
    "    z_table, \n",
    "    dNdz, \n",
    "    fcoverage_deg=skycover, \n",
    "    dstep=0.008,\n",
    "    RSD=True,\n",
    "    FOG=True,\n",
    "    AP=True,\n",
    "    COV=True)\n",
    "\n",
    "neutrinoforecast.gen_pm()\n",
    "neutrinoforecast.gen_fisher(mu_step)"
   ]
  },
  {
   "cell_type": "code",
   "execution_count": null,
   "metadata": {
    "scrolled": true
   },
   "outputs": [],
   "source": [
    "relicforecast = cf.forecast(\n",
    "    classpath, \n",
    "    datastore, \n",
    "    'relic', \n",
    "    relicfid, \n",
    "    z_table, \n",
    "    dNdz, \n",
    "    fcoverage_deg=skycover, \n",
    "    dstep=0.008,\n",
    "    RSD=True,\n",
    "    FOG=True,\n",
    "    AP=True,\n",
    "    COV=True)\n",
    "\n",
    "relicforecast.gen_pm()\n",
    "relicforecast.gen_fisher(mu_step)"
   ]
  },
  {
   "cell_type": "code",
   "execution_count": null,
   "metadata": {},
   "outputs": [],
   "source": [
    "relicforecast2 = cf.forecast(\n",
    "    classpath, \n",
    "    datastore, \n",
    "    'relic', \n",
    "    relicfid2, \n",
    "    z_table, \n",
    "    dNdz, \n",
    "    fcoverage_deg=skycover, \n",
    "    dstep=0.008,\n",
    "    RSD=True,\n",
    "    FOG=True,\n",
    "    AP=True,\n",
    "    COV=True)\n",
    "\n",
    "relicforecast2.gen_pm()\n",
    "relicforecast2.gen_fisher(mu_step)"
   ]
  },
  {
   "cell_type": "markdown",
   "metadata": {},
   "source": [
    "# Add CMB Data"
   ]
  },
  {
   "cell_type": "code",
   "execution_count": null,
   "metadata": {},
   "outputs": [],
   "source": [
    "neutrinoforecast.load_cmb_fisher()"
   ]
  },
  {
   "cell_type": "code",
   "execution_count": null,
   "metadata": {},
   "outputs": [],
   "source": [
    "relicforecast.load_cmb_fisher()"
   ]
  },
  {
   "cell_type": "markdown",
   "metadata": {},
   "source": [
    "# Export Fisher Matrices"
   ]
  },
  {
   "cell_type": "code",
   "execution_count": null,
   "metadata": {},
   "outputs": [],
   "source": [
    "neutrinoforecast.export_matrices()"
   ]
  },
  {
   "cell_type": "code",
   "execution_count": null,
   "metadata": {},
   "outputs": [],
   "source": [
    "relicforecast.export_matrices()"
   ]
  },
  {
   "cell_type": "markdown",
   "metadata": {},
   "source": [
    "# Light Relic Money Plot"
   ]
  },
  {
   "cell_type": "code",
   "execution_count": null,
   "metadata": {},
   "outputs": [],
   "source": [
    "relicmasses = np.geomspace(0.1, 10.0, 21) * np.power(3., 1./4.)\n",
    "relicfiducialset = [dict(relicfid, **{'m_ncdm': relicmasses[midx]}) for midx, mval in enumerate(relicmasses)]\n",
    "relicforecastset = [cf.forecast(\n",
    "    classpath, \n",
    "    datastore, \n",
    "    'relic', \n",
    "    fidval, \n",
    "    z_table, \n",
    "    dNdz, \n",
    "    fcoverage_deg=skycover, \n",
    "    dstep=0.008,\n",
    "    RSD=True,\n",
    "    FOG=True,\n",
    "    AP=True,\n",
    "    COV=True) for fididx, fidval in enumerate(relicfiducialset)]"
   ]
  },
  {
   "cell_type": "code",
   "execution_count": null,
   "metadata": {
    "scrolled": true
   },
   "outputs": [],
   "source": [
    "for fcst in relicforecastset: \n",
    "    fcst.gen_pm()\n",
    "    fcst.gen_fisher(mu_step)"
   ]
  },
  {
   "cell_type": "code",
   "execution_count": null,
   "metadata": {},
   "outputs": [],
   "source": [
    "inpath = \"/Users/nicholasdeporzio/Documents/Academic/Research/Projects/cosmicfish/cosmicfish/priors/CMBS4_Fisher_Relic_\"\n",
    "outpath = \"/Users/nicholasdeporzio/Desktop/cfworkspace/results/relic/neff_reduced_for_neutrino_forecast_comparison/\"\n",
    "\n",
    "for fidx, fval in enumerate(relicforecastset):\n",
    "    relicforecastset[fidx].load_cmb_fisher(inpath+str(fidx+1)+\".dat\")\n",
    "    relicforecastset[fidx].export_matrices()\n",
    "    shutil.move(\"/Users/nicholasdeporzio/Desktop/inv_cmbfisher.mat\", outpath+str(fidx+1)+\"/inv_cmbfisher.mat\")\n",
    "    shutil.move(\"/Users/nicholasdeporzio/Desktop/inv_lssfisher.mat\", outpath+str(fidx+1)+\"/inv_lssfisher.mat\")\n",
    "    shutil.move(\"/Users/nicholasdeporzio/Desktop/inv_fullfisher.mat\", outpath+str(fidx+1)+\"/inv_fullfisher.mat\")"
   ]
  },
  {
   "cell_type": "code",
   "execution_count": null,
   "metadata": {},
   "outputs": [],
   "source": [
    "relicerromegancdm = [np.sqrt(fval.numpy_full_covariance[6,6]) for fidx, fval in enumerate(relicforecastset)]\n",
    "relicerromegancdmlss = [np.sqrt(fval.numpy_lss_covariance[6,6]) for fidx, fval in enumerate(relicforecastset)]\n",
    "relicerromegancdmcmb = [np.sqrt(fval.numpy_cmb_covariance[6,6]) for fidx, fval in enumerate(relicforecastset)]"
   ]
  },
  {
   "cell_type": "code",
   "execution_count": null,
   "metadata": {},
   "outputs": [],
   "source": [
    "plt.figure(figsize=(15,7.5))\n",
    "plt.semilogx(relicmasses, relicerromegancdm, label=\"CMB+LSS\")\n",
    "plt.title(\"Relic Abundance Uncertainty\")\n",
    "plt.xlabel(\"Relic Mass [eV]\")\n",
    "plt.ylabel(r\"$\\sigma_\\omega$\")\n",
    "plt.legend()\n",
    "plt.show()\n",
    "\n",
    "plt.figure(figsize=(15,7.5))\n",
    "plt.semilogx(relicmasses, relicerromegancdm, label=\"CMB+LSS\")\n",
    "plt.semilogx(relicmasses, relicerromegancdmcmb, label=\"CMB\")\n",
    "plt.title(\"Relic Abundance Uncertainty\")\n",
    "plt.xlabel(\"Relic Mass [eV]\")\n",
    "plt.ylabel(r\"$\\sigma_\\omega$\")\n",
    "plt.legend()\n",
    "plt.show()\n",
    "\n",
    "plt.figure(figsize=(15,7.5))\n",
    "plt.semilogx(relicmasses, relicerromegancdm, label=\"CMB+LSS\")\n",
    "plt.semilogx(relicmasses, relicerromegancdmlss, label=\"LSS\")\n",
    "plt.semilogx(relicmasses, relicerromegancdmcmb, label=\"CMB\")\n",
    "plt.title(\"Relic Abundance Uncertainty\")\n",
    "plt.xlabel(\"Relic Mass [eV]\")\n",
    "plt.ylabel(r\"$\\sigma_\\omega$\")\n",
    "plt.legend()\n",
    "plt.show()"
   ]
  },
  {
   "cell_type": "markdown",
   "metadata": {},
   "source": [
    "# Neutrinos Money  Plot"
   ]
  },
  {
   "cell_type": "code",
   "execution_count": null,
   "metadata": {},
   "outputs": [],
   "source": [
    "neutrinomasses = np.geomspace(0.1, 10.0, 21) * (1./3.)\n",
    "neutrinofiducialset = [dict(neutrinofid, **{'m_ncdm': neutrinomasses[midx]}) \n",
    "                       for midx, mval in enumerate(neutrinomasses)]\n",
    "neutrinoforecastset = [cf.forecast(\n",
    "    classpath, \n",
    "    datastore, \n",
    "    'neutrino', \n",
    "    fidval, \n",
    "    z_table, \n",
    "    dNdz, \n",
    "    fcoverage_deg=skycover, \n",
    "    dstep=0.008,\n",
    "    RSD=True,\n",
    "    FOG=True,\n",
    "    AP=True,\n",
    "    COV=True) for fididx, fidval in enumerate(neutrinofiducialset)]"
   ]
  },
  {
   "cell_type": "code",
   "execution_count": null,
   "metadata": {
    "scrolled": true
   },
   "outputs": [],
   "source": [
    "for fcst in neutrinoforecastset: \n",
    "    fcst.gen_pm()\n",
    "    fcst.gen_fisher(mu_step)"
   ]
  },
  {
   "cell_type": "code",
   "execution_count": null,
   "metadata": {},
   "outputs": [],
   "source": [
    "inpath = \"/Users/nicholasdeporzio/Documents/Academic/Research/Projects/cosmicfish/cosmicfish/priors/CMBS4_Fisher_Neutrinos.dat\"\n",
    "outpath = \"/Users/nicholasdeporzio/Desktop/cfworkspace/results/neutrino/\"\n",
    "\n",
    "for fidx, fval in enumerate(neutrinoforecastset):\n",
    "    neutrinoforecastset[fidx].load_cmb_fisher(inpath)\n",
    "    neutrinoforecastset[fidx].export_matrices()\n",
    "    shutil.move(\"/Users/nicholasdeporzio/Desktop/inv_cmbfisher.mat\", outpath+str(fidx+1)+\"/inv_cmbfisher.mat\")\n",
    "    shutil.move(\"/Users/nicholasdeporzio/Desktop/inv_lssfisher.mat\", outpath+str(fidx+1)+\"/inv_lssfisher.mat\")\n",
    "    shutil.move(\"/Users/nicholasdeporzio/Desktop/inv_fullfisher.mat\", outpath+str(fidx+1)+\"/inv_fullfisher.mat\")"
   ]
  },
  {
   "cell_type": "code",
   "execution_count": null,
   "metadata": {},
   "outputs": [],
   "source": [
    "neutrinoerrmncdm = [np.sqrt(fval.numpy_full_covariance[6,6]) for fidx, fval in enumerate(neutrinoforecastset)]\n",
    "neutrinoerrmncdmlss = [np.sqrt(fval.numpy_lss_covariance[6,6]) for fidx, fval in enumerate(neutrinoforecastset)]\n",
    "neutrinoerrmncdmcmb = [np.sqrt(fval.numpy_cmb_covariance[6,6]) for fidx, fval in enumerate(neutrinoforecastset)]\n",
    "\n",
    "neutrinoerromegancdm = 3. * np.array(neutrinoerrmncdm) / 94.\n",
    "neutrinoerromegancdmlss = 3. * np.array(neutrinoerrmncdmlss) / 94.\n",
    "neutrinoerromegancdmcmb = 3.* np.array(neutrinoerrmncdmcmb) / 94."
   ]
  },
  {
   "cell_type": "code",
   "execution_count": null,
   "metadata": {},
   "outputs": [],
   "source": [
    "plt.figure(figsize=(15,7.5))\n",
    "plt.semilogx(neutrinomasses, neutrinoerromegancdm, label=\"CMB+LSS\")\n",
    "plt.title(\"Neutrino Abundance Uncertainty\")\n",
    "plt.xlabel(\"Sum of Neutrino Masses [eV]\")\n",
    "plt.ylabel(r\"$\\sigma_\\omega$\")\n",
    "plt.legend()\n",
    "plt.show()\n",
    "\n",
    "plt.figure(figsize=(15,7.5))\n",
    "plt.semilogx(neutrinomasses, neutrinoerromegancdm, label=\"CMB+LSS\")\n",
    "plt.semilogx(neutrinomasses, neutrinoerromegancdmcmb, label=\"CMB\")\n",
    "plt.title(\"Neutrino Abundance Uncertainty\")\n",
    "plt.xlabel(\"Sum of Neutrino Masses [eV]\")\n",
    "plt.ylabel(r\"$\\sigma_\\omega$\")\n",
    "plt.legend()\n",
    "plt.show()\n",
    "\n",
    "plt.figure(figsize=(15,7.5))\n",
    "plt.semilogx(neutrinomasses, neutrinoerromegancdm, label=\"CMB+LSS\")\n",
    "plt.semilogx(neutrinomasses, neutrinoerromegancdmlss, label=\"LSS\")\n",
    "plt.semilogx(neutrinomasses, neutrinoerromegancdmcmb, label=\"CMB\")\n",
    "plt.title(\"Neutrino Abundance Uncertainty\")\n",
    "plt.xlabel(\"Sum of Neutrino Masses [eV]\")\n",
    "plt.ylabel(r\"$\\sigma_\\omega$\")\n",
    "plt.legend()\n",
    "plt.show()"
   ]
  },
  {
   "cell_type": "markdown",
   "metadata": {},
   "source": [
    "# Load Pre-Existing Results"
   ]
  },
  {
   "cell_type": "code",
   "execution_count": null,
   "metadata": {},
   "outputs": [],
   "source": [
    "inpath = \"/Users/nicholasdeporzio/Desktop/cfworkspace/results/relic/neff_reduced_for_neutrino_forecast_comparison/\"\n",
    "\n",
    "relicmasses = np.geomspace(0.1, 10.0, 21) * np.power(3., 1./4.)\n",
    "\n",
    "relic_lss_fishers = [pd.read_csv(inpath+str(midx+1)+\"/inv_lssfisher.mat\", sep='\\t', header=None, skiprows=1) \n",
    "    for midx, mval in enumerate(relicmasses)]\n",
    "relic_cmb_fishers = [pd.read_csv(inpath+str(midx+1)+\"/inv_cmbfisher.mat\", sep='\\t', header=None, skiprows=1) \n",
    "    for midx, mval in enumerate(relicmasses)]\n",
    "relic_full_fishers = [pd.read_csv(inpath+str(midx+1)+\"/inv_fullfisher.mat\", sep='\\t', header=None, skiprows=1) \n",
    "    for midx, mval in enumerate(relicmasses)]\n",
    "\n",
    "relicerromegancdmlss = [np.sqrt(fval.iloc[6,6]) for fidx, fval in enumerate(relic_lss_fishers)]\n",
    "relicerromegancdmcmb = [np.sqrt(fval.iloc[6,6]) for fidx, fval in enumerate(relic_cmb_fishers)]\n",
    "relicerromegancdm = [np.sqrt(fval.iloc[6,6]) for fidx, fval in enumerate(relic_full_fishers)]"
   ]
  },
  {
   "cell_type": "code",
   "execution_count": null,
   "metadata": {},
   "outputs": [],
   "source": [
    "inpath = \"/Users/nicholasdeporzio/Desktop/cfworkspace/results/neutrino/\"\n",
    "\n",
    "neutrinomasses = np.geomspace(0.1, 10.0, 21) * (1./3.)\n",
    "\n",
    "neutrino_lss_fishers = [pd.read_csv(inpath+str(midx+1)+\"/inv_lssfisher.mat\", sep='\\t', header=None, skiprows=1) \n",
    "    for midx, mval in enumerate(neutrinomasses)]\n",
    "neutrino_cmb_fishers = [pd.read_csv(inpath+str(midx+1)+\"/inv_cmbfisher.mat\", sep='\\t', header=None, skiprows=1) \n",
    "    for midx, mval in enumerate(neutrinomasses)]\n",
    "neutrino_full_fishers = [pd.read_csv(inpath+str(midx+1)+\"/inv_fullfisher.mat\", sep='\\t', header=None, skiprows=1) \n",
    "    for midx, mval in enumerate(neutrinomasses)]\n",
    "\n",
    "neutrinoerrmncdmlss = [np.sqrt(fval.iloc[6,6]) for fidx, fval in enumerate(neutrino_lss_fishers)]\n",
    "neutrinoerrmncdmcmb = [np.sqrt(fval.iloc[6,6]) for fidx, fval in enumerate(neutrino_cmb_fishers)]\n",
    "neutrinoerrmncdm = [np.sqrt(fval.iloc[6,6]) for fidx, fval in enumerate(neutrino_full_fishers)]\n",
    "\n",
    "neutrinoerromegancdmlss = 3. * np.array(neutrinoerrmncdmlss) / 94.\n",
    "neutrinoerromegancdmcmb = 3.* np.array(neutrinoerrmncdmcmb) / 94.\n",
    "neutrinoerromegancdm = 3. * np.array(neutrinoerrmncdm) / 94."
   ]
  },
  {
   "cell_type": "code",
   "execution_count": null,
   "metadata": {},
   "outputs": [],
   "source": []
  },
  {
   "cell_type": "code",
   "execution_count": null,
   "metadata": {},
   "outputs": [],
   "source": [
    "plt.figure(figsize=(15,7.5))\n",
    "plt.semilogx(neutrinomasses, neutrinoerromegancdm, label=\"CMB+LSS\")\n",
    "plt.title(\"Neutrino Abundance Uncertainty\")\n",
    "plt.xlabel(\"Sum of Neutrino Masses [eV]\")\n",
    "plt.ylabel(r\"$\\sigma_\\omega$\")\n",
    "plt.legend()\n",
    "plt.show()\n",
    "\n",
    "plt.figure(figsize=(15,7.5))\n",
    "plt.semilogx(neutrinomasses, neutrinoerromegancdm, label=\"CMB+LSS\")\n",
    "plt.semilogx(neutrinomasses, neutrinoerromegancdmcmb, label=\"CMB\")\n",
    "plt.title(\"Neutrino Abundance Uncertainty\")\n",
    "plt.xlabel(\"Sum of Neutrino Masses [eV]\")\n",
    "plt.ylabel(r\"$\\sigma_\\omega$\")\n",
    "plt.legend()\n",
    "plt.show()\n",
    "\n",
    "plt.figure(figsize=(15,7.5))\n",
    "plt.semilogx(neutrinomasses, neutrinoerromegancdm, label=\"CMB+LSS\")\n",
    "plt.semilogx(neutrinomasses, neutrinoerromegancdmlss, label=\"LSS\")\n",
    "plt.semilogx(neutrinomasses, neutrinoerromegancdmcmb, label=\"CMB\")\n",
    "plt.title(\"Neutrino Abundance Uncertainty\")\n",
    "plt.xlabel(\"Sum of Neutrino Masses [eV]\")\n",
    "plt.ylabel(r\"$\\sigma_\\omega$\")\n",
    "plt.legend()\n",
    "plt.show()"
   ]
  },
  {
   "cell_type": "code",
   "execution_count": null,
   "metadata": {},
   "outputs": [],
   "source": [
    "plt.figure(figsize=(15,7.5))\n",
    "plt.loglog(3*neutrinomasses, erromegancdmlss, label=\"Relic LSS Error\") #Plot relic LSS errors\n",
    "plt.loglog(3*neutrinomasses, neutrinoerromegancdmlss, label=\"Neutrino LSS Error\")\n",
    "plt.title(\"LSS Abundance Uncertainty\")\n",
    "plt.xlabel(r\"Equivalent $\\Sigma m_\\nu$ [eV]\")\n",
    "plt.ylabel(r\"$\\sigma_\\omega$\")\n",
    "plt.grid(True, which=\"both\")\n",
    "plt.legend()\n",
    "plt.show()"
   ]
  },
  {
   "cell_type": "code",
   "execution_count": null,
   "metadata": {},
   "outputs": [],
   "source": []
  },
  {
   "cell_type": "markdown",
   "metadata": {},
   "source": [
    "# Other Diagnostics"
   ]
  },
  {
   "cell_type": "markdown",
   "metadata": {},
   "source": [
    "### Print power spectra and related values at benchmark k, mu"
   ]
  },
  {
   "cell_type": "code",
   "execution_count": null,
   "metadata": {},
   "outputs": [],
   "source": [
    "neutrinoforecast.print_v_table(k_index=92)\n",
    "neutrinoforecast.print_P_table(k_index=92, mu_index=20)"
   ]
  },
  {
   "cell_type": "code",
   "execution_count": null,
   "metadata": {},
   "outputs": [],
   "source": [
    "relicforecast.print_v_table(k_index=92)\n",
    "relicforecast.print_P_table(k_index=92, mu_index=20)"
   ]
  },
  {
   "cell_type": "markdown",
   "metadata": {},
   "source": [
    "### Compare forecast inferred Pm to CLASS inferred Pm"
   ]
  },
  {
   "cell_type": "code",
   "execution_count": null,
   "metadata": {},
   "outputs": [],
   "source": [
    "#For each z, plot inferred spectrum vs. CLASS data\n",
    "sns.set()\n",
    "sns.set_palette(\"Blues_d\", n_colors=2*len(z_table)+1)\n",
    "plt.figure(figsize=(15, 7.5))\n",
    "for zidx, zval in enumerate(z_table[0:-1:3]): \n",
    "    ps = neutrinoforecast.spectra_mid[zidx]\n",
    "    plt.semilogx(ps.k_table, neutrinoforecast.Pm[zidx], label=(\"z = \" + str(zval)))\n",
    "    plt.semilogx(ps.class_pk['k (h/Mpc)']*fid['h'],\n",
    "             np.array(ps.class_pk['P (Mpc/h)^3'] / np.power(neutrinofid['h'],3.)),\n",
    "             label='CLASS P(k) Data',\n",
    "             marker='x',\n",
    "             linestyle=':')\n",
    "plt.xlabel(r'k [Mpc$^{-1}$]')\n",
    "plt.ylabel(r'$P_m$ [Mpc$^3$]')\n",
    "plt.legend()\n",
    "plt.show()\n",
    "#Also plot difference between the two "
   ]
  },
  {
   "cell_type": "code",
   "execution_count": null,
   "metadata": {},
   "outputs": [],
   "source": [
    "#For each z, plot inferred spectrum vs. CLASS data\n",
    "sns.set()\n",
    "sns.set_palette(\"Blues_d\", n_colors=2*len(z_table)+1)\n",
    "plt.figure(figsize=(15, 7.5))\n",
    "for zidx, zval in enumerate(z_table[0:-1:3]): \n",
    "    ps = relicforecast.spectra_mid[zidx]\n",
    "    plt.semilogx(ps.k_table, relicforecast.Pm[zidx], label=(\"z = \" + str(zval)))\n",
    "    plt.semilogx(ps.class_pk['k (h/Mpc)']*relicfid['h'],\n",
    "             np.array(ps.class_pk['P (Mpc/h)^3'] / np.power(relicfid['h'],3.)),\n",
    "             label='CLASS P(k) Data',\n",
    "             marker='x',\n",
    "             linestyle=':')\n",
    "plt.xlabel(r'k [Mpc$^{-1}$]')\n",
    "plt.ylabel(r'$P_m$ [Mpc$^3$]')\n",
    "plt.legend()\n",
    "plt.show()\n",
    "#Also plot difference between the two "
   ]
  },
  {
   "cell_type": "markdown",
   "metadata": {},
   "source": [
    "### Compare forecast corrections with MCMC corrections (neutrinoforecast only)"
   ]
  },
  {
   "cell_type": "code",
   "execution_count": null,
   "metadata": {
    "scrolled": false
   },
   "outputs": [],
   "source": [
    "test_k_table = np.geomspace(0.000001, 0.19663801, 100)\n",
    "gfacts = np.zeros(len(lightrelic.k_table[4]))\n",
    "ffacts = np.zeros(len(lightrelic.k_table[4]))\n",
    "for kidx, kval in enumerate(test_k_table):\n",
    "    gfacts[kidx] = cf.ggrowth(1.05, kval, 0.70148, 0.02226, 0.11271, 0.06/93.14)\n",
    "    ffacts[kidx] = cf.fgrowth(0.02226, 0.11271, 0.70148, 1.05)\n",
    "    \n",
    "zindex = 4\n",
    "muindex = 0\n",
    "\n",
    "testz = lightrelic.z_steps[zindex]\n",
    "testmu = lightrelic.mu_table[muindex]\n",
    "\n",
    "z_str_val = '105'\n",
    "mu_str_val = '-1'\n",
    "\n",
    "filestr = 'z_' + z_str_val + '_mu_' + mu_str_val\n",
    "\n",
    "#Print P_g \n",
    "print(\"P_galaxy at: \")\n",
    "print(\"z = \",  lightrelic.z_steps[zindex])\n",
    "print(\"mu = \", lightrelic.mu_table[muindex])\n",
    "\n",
    "linda_k_Pm_relicfast_data = np.loadtxt(\"/Users/nicholasdeporzio/Documents/Academic/Research/Projects/cosmicfish/P_cb_\"+filestr+\"_relicfast_Nick_test.dat\", skiprows=1, usecols=0, delimiter=\"\\t\")\n",
    "linda_Pm_relicfast_data = np.loadtxt(\"/Users/nicholasdeporzio/Documents/Academic/Research/Projects/cosmicfish/P_cb_\"+filestr+\"_relicfast_Nick_test.dat\",  skiprows=1, usecols=2, delimiter=\"\\t\")\n",
    "\n",
    "linda_k_Pm_norelicfast_data = np.loadtxt(\"/Users/nicholasdeporzio/Documents/Academic/Research/Projects/cosmicfish/P_cb_\"+filestr+\"_no_relicfast_Nick_test.dat\",  skiprows=1, usecols=0, delimiter=\"\\t\")\n",
    "linda_Pm_norelicfast_data = np.loadtxt(\"/Users/nicholasdeporzio/Documents/Academic/Research/Projects/cosmicfish/P_cb_\"+filestr+\"_no_relicfast_Nick_test.dat\",  skiprows=1, usecols=2, delimiter=\"\\t\")\n",
    "\n",
    "linda_k_Pg_relicfast_data = np.loadtxt(\"/Users/nicholasdeporzio/Documents/Academic/Research/Projects/cosmicfish/P_galaxy_\"+filestr+\"_relicfast_Nick_test.dat\",  skiprows=1, usecols=0, delimiter=\"\\t\")\n",
    "linda_Pg_relicfast_data = np.loadtxt(\"/Users/nicholasdeporzio/Documents/Academic/Research/Projects/cosmicfish/P_galaxy_\"+filestr+\"_relicfast_Nick_test.dat\",  skiprows=1, usecols=2, delimiter=\"\\t\")\n",
    "\n",
    "linda_k_Pg_norelicfast_data = np.loadtxt(\"/Users/nicholasdeporzio/Documents/Academic/Research/Projects/cosmicfish/P_galaxy_\"+filestr+\"_no_relicfast_Nick_test.dat\",  skiprows=1, usecols=0, delimiter=\"\\t\")\n",
    "linda_Pg_norelicfast_data = np.loadtxt(\"/Users/nicholasdeporzio/Documents/Academic/Research/Projects/cosmicfish/P_galaxy_\"+filestr+\"_no_relicfast_Nick_test.dat\",  skiprows=1, usecols=2, delimiter=\"\\t\")\n",
    "\n",
    "linda_k_rsdfog_relicfast_data = np.loadtxt(\"/Users/nicholasdeporzio/Documents/Academic/Research/Projects/cosmicfish/P_cb_\"+filestr+\"_relicfast_Nick_test.dat\", skiprows=1, usecols=0, delimiter=\"\\t\")\n",
    "linda_rsd_relicfast_data = np.loadtxt(\"/Users/nicholasdeporzio/Documents/Academic/Research/Projects/cosmicfish/P_cb_\"+filestr+\"_relicfast_Nick_test.dat\",  skiprows=1, usecols=1, delimiter=\"\\t\")\n",
    "linda_fog_relicfast_data = np.loadtxt(\"/Users/nicholasdeporzio/Documents/Academic/Research/Projects/cosmicfish/P_cb_\"+filestr+\"_relicfast_Nick_test.dat\",  skiprows=1, usecols=3, delimiter=\"\\t\")\n",
    "\n",
    "linda_k_fg_relicfast_data = np.loadtxt(\"/Users/nicholasdeporzio/Documents/Academic/Research/Projects/cosmicfish/f_and_g_\"+filestr+\"_relicfast_Nick_test.dat\",  skiprows=1, usecols=0, delimiter=\"\\t\")\n",
    "linda_f_relicfast_data = np.loadtxt(\"/Users/nicholasdeporzio/Documents/Academic/Research/Projects/cosmicfish/f_and_g_\"+filestr+\"_relicfast_Nick_test.dat\",  skiprows=1, usecols=1, delimiter=\"\\t\")\n",
    "linda_g_relicfast_data = np.loadtxt(\"/Users/nicholasdeporzio/Documents/Academic/Research/Projects/cosmicfish/f_and_g_\"+filestr+\"_relicfast_Nick_test.dat\",  skiprows=1, usecols=2, delimiter=\"\\t\")\n",
    "\n",
    "#Compare Pm plots\n",
    "sns.set()\n",
    "sns.set_palette(\"Blues_d\", n_colors=3)\n",
    "plt.figure(figsize=(15, 7.5))\n",
    "plt.loglog(np.array(lightrelic.k_table[zindex]), lightrelic.Pm[zindex], label=\"Nick/Fisher\")\n",
    "plt.loglog(linda_k_Pm_relicfast_data, linda_Pm_relicfast_data, label=\"Linda/MCMC w/RelicFast\")\n",
    "plt.loglog(linda_k_Pm_norelicfast_data, linda_Pm_norelicfast_data, label=\"Linda/MCMC wo/RelicFast\")\n",
    "plt.xlabel(r'k [Mpc$^{-1}$]')\n",
    "plt.ylabel(r'$P_m$ [Mpc$^3$]')\n",
    "plt.title(r'Pm, z = {0:.2f}, mu = {1:.2f}'.format(testz, testmu))\n",
    "plt.legend()\n",
    "plt.show()\n",
    "\n",
    "#Compare Pg plots\n",
    "sns.set()\n",
    "sns.set_palette(\"Blues_d\", n_colors=3)\n",
    "plt.figure(figsize=(15, 7.5))\n",
    "plt.loglog(np.array(lightrelic.k_table[zindex]), lightrelic.Pg[zindex, :, muindex], label=\"Nick/Fisher\")\n",
    "plt.loglog(linda_k_Pg_relicfast_data, linda_Pg_relicfast_data, label=\"Linda/MCMC w/RelicFast\")\n",
    "plt.loglog(linda_k_Pg_norelicfast_data, linda_Pg_norelicfast_data, label=\"Linda/MCMC wo/RelicFast\")\n",
    "plt.xlabel(r'k [Mpc$^{-1}$]')\n",
    "plt.ylabel(r'$P_g$ [Mpc$^3$]')\n",
    "plt.title(r'Pg, z = {0:.2f}, mu = {1:.2f}'.format(testz, testmu))\n",
    "plt.legend()\n",
    "plt.show()\n",
    "\n",
    "#Also plot difference between the two \n",
    "k_vals = np.array(lightrelic.k_table[zindex])\n",
    "fisher_data_pm = lightrelic.Pm[zindex]\n",
    "fisher_data_pg = lightrelic.Pg[zindex, :, muindex]\n",
    "mcmc_data_pm = np.interp(k_vals, linda_k_Pm_relicfast_data, linda_Pm_relicfast_data)\n",
    "mcmc_data_pg = np.interp(k_vals, linda_k_Pg_relicfast_data, linda_Pg_relicfast_data)\n",
    "\n",
    "sns.set()\n",
    "sns.set_palette(\"Blues_d\", n_colors=3)\n",
    "plt.figure(figsize=(15, 7.5))\n",
    "plt.semilogx(k_vals, (fisher_data_pm/mcmc_data_pm)-1.0, label=\"Pm\")\n",
    "plt.semilogx(k_vals, (fisher_data_pg/mcmc_data_pg)-1.0, label=\"Pg\")\n",
    "plt.title(r'(Fisher/MCMC) - 1, z = {0:.2f}, mu = {1:.2f}'.format(testz, testmu))\n",
    "plt.xlabel(r'k [Mpc$^{-1}$]')\n",
    "plt.ylabel(r'Ratio')\n",
    "plt.legend()\n",
    "plt.show()\n",
    "\n",
    "\n",
    "#Compare RSD Corrections\n",
    "sns.set()\n",
    "sns.set_palette(\"Blues_d\", n_colors=3)\n",
    "plt.figure(figsize=(15, 7.5))\n",
    "plt.semilogx(np.array(lightrelic.k_table[zindex]), lightrelic.RSD[zindex, :, muindex], label=\"Nick/Fisher\")\n",
    "plt.semilogx(linda_k_rsdfog_relicfast_data, linda_rsd_relicfast_data, label=\"Linda/MCMC w/RelicFast\")\n",
    "plt.title(r'RSD Comparison, z = {0:.2f}, mu = {1:.2f}'.format(testz, testmu))\n",
    "plt.xlabel(r'k [Mpc$^{-1}$]')\n",
    "plt.ylabel(r'RSD')\n",
    "plt.legend()\n",
    "plt.show()\n",
    "\n",
    "#Compare FOG corrections\n",
    "sns.set()\n",
    "sns.set_palette(\"Blues_d\", n_colors=3)\n",
    "plt.figure(figsize=(15, 7.5))\n",
    "plt.semilogx(np.array(lightrelic.k_table[zindex]), lightrelic.FOG[zindex, :, muindex], label=\"Nick/Fisher\")\n",
    "plt.semilogx(linda_k_rsdfog_relicfast_data, linda_fog_relicfast_data, label=\"Linda/MCMC w/RelicFast\")\n",
    "plt.title(r'FOG Comparison, z = {0:.2f}, mu = {1:.2f}'.format(testz, testmu))\n",
    "plt.xlabel(r'k [Mpc$^{-1}$]')\n",
    "plt.ylabel(r'FOG')\n",
    "plt.legend()\n",
    "plt.show()\n",
    "\n",
    "#Compare g growth factor\n",
    "sns.set()\n",
    "sns.set_palette(\"Blues_d\", n_colors=2)\n",
    "plt.figure(figsize=(15, 7.5))\n",
    "plt.semilogx(linda_k_fg_relicfast_data, linda_g_relicfast_data, label=\"MCMC\")\n",
    "plt.semilogx(test_k_table, gfacts, label=\"Fisher\")\n",
    "plt.xlabel(r'k [Mpc$^{-1}$]')\n",
    "plt.ylabel(r'g')\n",
    "plt.title(r'g Comparison, z = {0:.2f}, mu = {1:.2f}'.format(testz, testmu))\n",
    "plt.legend()\n",
    "plt.show()\n",
    "\n",
    "#Compare f growth factor\n",
    "sns.set()\n",
    "sns.set_palette(\"Blues_d\", n_colors=2)\n",
    "plt.figure(figsize=(15, 7.5))\n",
    "plt.semilogx(linda_k_fg_relicfast_data, linda_f_relicfast_data, label=\"MCMC\")\n",
    "plt.semilogx(test_k_table, ffacts, label=\"Fisher\")\n",
    "plt.xlabel(r'k [Mpc$^{-1}$]')\n",
    "plt.ylabel(r'f')\n",
    "plt.title(r'f Comparison, z = {0:.2f}, mu = {1:.2f}'.format(testz, testmu))\n",
    "plt.legend()\n",
    "plt.show()"
   ]
  },
  {
   "cell_type": "markdown",
   "metadata": {},
   "source": [
    "# Playground"
   ]
  },
  {
   "cell_type": "markdown",
   "metadata": {},
   "source": [
    "Confirm that transfer functions look the same for equivalent relic/neutrino cosmologies. . ."
   ]
  },
  {
   "cell_type": "code",
   "execution_count": null,
   "metadata": {},
   "outputs": [],
   "source": [
    "zidx=0\n",
    "\n",
    "sns.set()\n",
    "sns.set_palette(\"Blues_d\", n_colors=2)\n",
    "plt.figure(figsize=(15, 7.5))\n",
    "plt.semilogx(np.array(neutrinoforecast.spectra_mid[zidx].k_table), \n",
    "             neutrinoforecast.spectra_mid[zidx].b_interp_table-relicforecast2.spectra_mid[zidx].b_interp_table, \n",
    "             label=\"Neutrino - Relic\")\n",
    "#plt.semilogx(np.array(relicforecast.spectra_mid[zidx].k_table), \n",
    "#             relicforecast.spectra_mid[zidx].b_interp_table, \n",
    "#             label=\"Relic\")\n",
    "plt.title(r'Baryonic Matter Transfer Function, $\\Sigma m_\\nu = 0.06 eV, z=0.65$')\n",
    "plt.xlabel(r'k [Mpc$^{-1}$]')\n",
    "plt.ylabel(r'$\\Delta d_b$')\n",
    "plt.legend()\n",
    "plt.show()\n",
    "\n",
    "sns.set()\n",
    "sns.set_palette(\"Blues_d\", n_colors=2)\n",
    "plt.figure(figsize=(15, 7.5))\n",
    "plt.semilogx(np.array(neutrinoforecast.spectra_mid[zidx].k_table), \n",
    "             neutrinoforecast.spectra_mid[zidx].cdm_interp_table-relicforecast2.spectra_mid[zidx].cdm_interp_table, \n",
    "             label=\"Neutrino - Relic\")\n",
    "#plt.semilogx(np.array(relicforecast.spectra_mid[zidx].k_table), \n",
    "#             relicforecast.spectra_mid[zidx].cdm_interp_table, \n",
    "#             label=\"Relic\")\n",
    "plt.title(r'Cold Dark Matter Transfer Function, $\\Sigma m_\\nu = 0.06 eV, z=0.65$')\n",
    "plt.xlabel(r'k [Mpc$^{-1}$]')\n",
    "plt.ylabel(r'$\\Delta d_{cdm}$')\n",
    "plt.legend()\n",
    "plt.show()"
   ]
  },
  {
   "cell_type": "code",
   "execution_count": null,
   "metadata": {},
   "outputs": [],
   "source": []
  },
  {
   "cell_type": "code",
   "execution_count": null,
   "metadata": {},
   "outputs": [],
   "source": []
  }
 ],
 "metadata": {
  "kernelspec": {
   "display_name": "py36",
   "language": "python",
   "name": "py36"
  },
  "language_info": {
   "codemirror_mode": {
    "name": "ipython",
    "version": 3
   },
   "file_extension": ".py",
   "mimetype": "text/x-python",
   "name": "python",
   "nbconvert_exporter": "python",
   "pygments_lexer": "ipython3",
   "version": "3.6.8"
  }
 },
 "nbformat": 4,
 "nbformat_minor": 2
}
