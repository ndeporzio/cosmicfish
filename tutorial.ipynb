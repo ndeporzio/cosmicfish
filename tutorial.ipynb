{
 "cells": [
  {
   "cell_type": "markdown",
   "metadata": {},
   "source": [
    "# Setup Your Analysis Environment\n",
    "\n",
    "1) Choose a directory to house your project in: \n",
    "```\n",
    ".../<project-directory>\n",
    "```\n",
    "\n",
    "\n",
    "2) Create and activate a fresh Python3 virtual environment (we use Python 3.6.8) there: \n",
    "```\n",
    "$ cd .../<project-directory>\n",
    "$ python -m virtualenv env \n",
    "$ source env/bin/activate\n",
    "```\n",
    "\n",
    "3) Download the `cosmicfish` package from Git: \n",
    "```\n",
    "$ git clone git@github.com:ndeporzio/cosmicfish.git\n",
    "```\n",
    "\n",
    "4) Install the `cosmicfish` package. Note that its dependencies will install automatically.\n",
    "```\n",
    "$ cd cosmicfish\n",
    "$ pip install . \n",
    "```\n",
    "\n",
    "5) Launch Jupyter and open `tutorial.ipynb` notebook using Jupyter browser\n",
    "```\n",
    "$ jupyter notebook\n",
    "```\n",
    "\n",
    "6) Create a data folder where the analysis can store spectrum data. This can be anywhere you'd like - you'll specify the path below. \n",
    "```\n",
    "$ mkdir <project-directory>/data\n",
    "```\n",
    "\n",
    "7) Install and build CLASS (if you don't already have a build). Note the `cosmicfish` package includes a method for downloading and installing CLASS for you:\n",
    "```\n",
    "$ python \n",
    ">>> import cosmicfish\n",
    ">>> cosmicfish.install_class('<project-directory>/class')\n",
    ">>> exit()\n",
    "```"
   ]
  },
  {
   "cell_type": "markdown",
   "metadata": {},
   "source": [
    "# Import & Configure _cosmicfish_"
   ]
  },
  {
   "cell_type": "markdown",
   "metadata": {},
   "source": [
    "Import the analysis package."
   ]
  },
  {
   "cell_type": "code",
   "execution_count": null,
   "metadata": {
    "scrolled": false
   },
   "outputs": [],
   "source": [
    "import cosmicfish as cf "
   ]
  },
  {
   "cell_type": "markdown",
   "metadata": {},
   "source": [
    "Import relevant python packages... "
   ]
  },
  {
   "cell_type": "code",
   "execution_count": null,
   "metadata": {
    "scrolled": false
   },
   "outputs": [],
   "source": [
    "#Import relevant packages\n",
    "import os\n",
    "import numpy as np\n",
    "import pandas as pd\n",
    "import seaborn as sns \n",
    "import matplotlib.pyplot as plt"
   ]
  },
  {
   "cell_type": "markdown",
   "metadata": {},
   "source": [
    "Other setup steps... "
   ]
  },
  {
   "cell_type": "code",
   "execution_count": null,
   "metadata": {
    "scrolled": false
   },
   "outputs": [],
   "source": [
    "#Instruct pyplot to use seaborn \n",
    "sns.set()"
   ]
  },
  {
   "cell_type": "markdown",
   "metadata": {},
   "source": [
    "Specify the paths from the setup of your analysis environment above.  "
   ]
  },
  {
   "cell_type": "code",
   "execution_count": null,
   "metadata": {
    "scrolled": false
   },
   "outputs": [],
   "source": [
    "#Set project, data, CLASS directories \n",
    "projectdir = cf.correct_path(\"~/Desktop/cfworkspace/\")\n",
    "datastore = cf.correct_path(\"~/Desktop/cfworkspace/data.nosync/\")\n",
    "classpath = os.path.join(projectdir, \"class\")"
   ]
  },
  {
   "cell_type": "markdown",
   "metadata": {},
   "source": [
    "Specify the granularity of numerical derivatives."
   ]
  },
  {
   "cell_type": "code",
   "execution_count": null,
   "metadata": {},
   "outputs": [],
   "source": [
    "dstep = 0.008\n",
    "mu_step = 0.05 #For calculating numerical integral wrt mu between -1 and 1 "
   ]
  },
  {
   "cell_type": "markdown",
   "metadata": {},
   "source": [
    "# Specify Fiducial Cosmology"
   ]
  },
  {
   "cell_type": "code",
   "execution_count": null,
   "metadata": {
    "scrolled": false
   },
   "outputs": [],
   "source": [
    "#Setup fiducial cosmology\n",
    "neutrinofid = {\n",
    "        \"A_s\" : 2.2321e-9, \n",
    "        \"n_s\" : 0.96659,\n",
    "        \"omega_b\" : 0.02226,\n",
    "        \"omega_cdm\" : 0.11271,\n",
    "        \"tau_reio\" : 0.059888,\n",
    "        \"h\" : 0.70148,\n",
    "        \"T_cmb\" : 2.726, # Units [K]\n",
    "        \"N_ncdm\" : 3., \n",
    "        #\"T_ncdm\" : 1.5 / 2.726, # Units [K]. Only uncomment when forecasting relics\n",
    "        \"m_ncdm\" : 0.02, # Units [eV]\n",
    "        #\"b1L\" : 0.7,\n",
    "        \"b0\" : 1.0, \n",
    "        \"alphak2\" : 1.0,\n",
    "        \"sigma_fog_0\" : 250000 #Units [m s^-2]\n",
    "        } \n",
    "\n",
    "relicfid = {\n",
    "        \"A_s\" : 2.2321e-9, \n",
    "        \"n_s\" : 0.96659,\n",
    "        \"omega_b\" : 0.02226,\n",
    "        \"omega_cdm\" : 0.11271,\n",
    "        \"tau_reio\" : 0.059888,\n",
    "        \"h\" : 0.70148,\n",
    "        \"T_cmb\" : 2.726, # Units [K]\n",
    "        \"N_ncdm\" : 1., \n",
    "        \"T_ncdm\" : 0.1, # Units [K]\n",
    "        \"m_ncdm\" : 0.02, # Units [eV]\n",
    "        \"b0\" : 1.0, \n",
    "        \"alphak2\" : 1.0,\n",
    "        \"sigma_fog_0\" : 250000 #Units [m s^-2]\n",
    "        }\n",
    "\n",
    "fid = neutrinofid"
   ]
  },
  {
   "cell_type": "markdown",
   "metadata": {},
   "source": [
    "# Specify Experiment Observational Parameters"
   ]
  },
  {
   "cell_type": "code",
   "execution_count": null,
   "metadata": {},
   "outputs": [],
   "source": [
    "#Setup redshift bins, fiducial relica masses, relic temps to sample\n",
    "z_table = np.arange(0.65, 1.85, 0.1)\n",
    "dNdz = np.array([309., 2269., 1923., 2094., 1441., 1353., 1337., 523., 466., 329., 126., 0., 0.])\n",
    "skycover = 14000. # Sky coverage of survey in degrees^2"
   ]
  },
  {
   "cell_type": "markdown",
   "metadata": {},
   "source": [
    "# Demonstrate Convergence "
   ]
  },
  {
   "cell_type": "markdown",
   "metadata": {},
   "source": [
    "Before running the forecast, we want to ensure our cosmological parameters are well converged about the points we are interested in using to calculate Fisher matrices. To do so, we can use the `convergence` class of `cosmicfish`. \n",
    "\n",
    "We pass to `convergence` some fiducial cosmology, and then it will vary the parameters of that fiducial cosmology by step sizes specified by the user and compute the corresponding power spectrum derivatives. \n",
    "\n",
    "All 'varyfactors' are computed relative to the fiducial cosmology. That is:\n",
    "\n",
    "dtheta = varyfactor * theta_fiducial\n",
    "\n",
    "**WARNING: This process takes a considerable amount of time (~5 mins per varyfactor w/o prexisting data). Only run when you need to.**"
   ]
  },
  {
   "cell_type": "code",
   "execution_count": null,
   "metadata": {
    "scrolled": false
   },
   "outputs": [],
   "source": [
    "convergencetest = cf.convergence(\n",
    "    classpath, # Path to CLASS installation\n",
    "    datastore, # Path to directory holding CLASS output data\n",
    "    'neutrino', # 'relic' or 'neutrino' forecasting scheme \n",
    "    fid, # The fiducial cosmology \n",
    "    z_table, # Redshift steps in observation\n",
    "    dNdz, # Redshift noise in observation\n",
    "    fcoverage_deg=14000, # Sky coverage in observation\n",
    "    RSD=True, # Use RSD correction to Pm\n",
    "    FOG=True, # Use FOG correction to Pm\n",
    "    AP=True, # Use AP correction to PM\n",
    "    COV=True, #Use AP Change of Variables correction to PM\n",
    "    varyfactors=[0.001, 0.002, 0.003] # Relative factors used to compute convergence\n",
    "    )\n",
    "    \n",
    "convergencetest.gen_all_plots() # Display convergence plots"
   ]
  },
  {
   "cell_type": "markdown",
   "metadata": {},
   "source": [
    "# Run Fisher Forecast"
   ]
  },
  {
   "cell_type": "code",
   "execution_count": null,
   "metadata": {
    "scrolled": true
   },
   "outputs": [],
   "source": [
    "lightrelic = cf.forecast(\n",
    "    classpath, \n",
    "    datastore, \n",
    "    'neutrino', \n",
    "    fid, \n",
    "    z_table, \n",
    "    dNdz, \n",
    "    fcoverage_deg=skycover, \n",
    "    dstep=0.008,\n",
    "    RSD=True,\n",
    "    FOG=True,\n",
    "    AP=True,\n",
    "    COV=True)\n",
    "\n",
    "lightrelic.gen_pm()\n",
    "lightrelic.gen_fisher(mu_step)"
   ]
  },
  {
   "cell_type": "markdown",
   "metadata": {},
   "source": [
    "# Add CMB Data"
   ]
  },
  {
   "cell_type": "code",
   "execution_count": null,
   "metadata": {},
   "outputs": [],
   "source": [
    "lightrelic.load_cmb_fisher()"
   ]
  },
  {
   "cell_type": "markdown",
   "metadata": {},
   "source": [
    "# Export Fisher Matrices"
   ]
  },
  {
   "cell_type": "code",
   "execution_count": null,
   "metadata": {},
   "outputs": [],
   "source": [
    "lightrelic.export_matrices()"
   ]
  },
  {
   "cell_type": "markdown",
   "metadata": {},
   "source": [
    "# Other Diagnostics"
   ]
  },
  {
   "cell_type": "markdown",
   "metadata": {},
   "source": [
    "### Print power spectra and related values at benchmark k, mu"
   ]
  },
  {
   "cell_type": "code",
   "execution_count": null,
   "metadata": {},
   "outputs": [],
   "source": [
    "lightrelic.print_v_table(k_index=92)\n",
    "lightrelic.print_P_table(k_index=92, mu_index=20)"
   ]
  },
  {
   "cell_type": "markdown",
   "metadata": {},
   "source": [
    "### Compare forecast inferred Pm to CLASS inferred Pm"
   ]
  },
  {
   "cell_type": "code",
   "execution_count": null,
   "metadata": {},
   "outputs": [],
   "source": [
    "#For each z, plot inferred spectrum vs. CLASS data\n",
    "sns.set()\n",
    "sns.set_palette(\"Blues_d\", n_colors=2*len(z_table)+1)\n",
    "plt.figure(figsize=(15, 7.5))\n",
    "for zidx, zval in enumerate(z_table[0:-1:3]): \n",
    "    ps = lightrelic.spectra_mid[zidx]\n",
    "    plt.semilogx(ps.k_table, lightrelic.Pm[zidx], label=(\"z = \" + str(zval)))\n",
    "    plt.semilogx(ps.class_pk['k (h/Mpc)']*fid['h'],\n",
    "             np.array(ps.class_pk['P (Mpc/h)^3'] / np.power(fid['h'],3.)),\n",
    "             label='CLASS P(k) Data',\n",
    "             marker='x',\n",
    "             linestyle=':')\n",
    "plt.xlabel(r'k [Mpc$^{-1}$]')\n",
    "plt.ylabel(r'$P_m$ [Mpc$^3$]')\n",
    "plt.legend()\n",
    "plt.show()\n",
    "#Also plot difference between the two "
   ]
  },
  {
   "cell_type": "markdown",
   "metadata": {},
   "source": [
    "### Compare forecast corrections with MCMC corrections"
   ]
  },
  {
   "cell_type": "code",
   "execution_count": null,
   "metadata": {},
   "outputs": [],
   "source": [
    "test_k_table = np.geomspace(0.000001, 0.19663801, 100)\n",
    "gfacts = np.zeros(len(lightrelic.k_table[4]))\n",
    "ffacts = np.zeros(len(lightrelic.k_table[4]))\n",
    "for kidx, kval in enumerate(test_k_table):\n",
    "    gfacts[kidx] = cf.ggrowth(1.05, kval, 0.70148, 0.02226, 0.11271, 0.06/93.14)\n",
    "    ffacts[kidx] = cf.fgrowth(0.02226, 0.11271, 0.70148, 1.05)"
   ]
  },
  {
   "cell_type": "code",
   "execution_count": null,
   "metadata": {
    "scrolled": false
   },
   "outputs": [],
   "source": [
    "zindex = 4\n",
    "muindex = 0\n",
    "\n",
    "testz = lightrelic.z_steps[zindex]\n",
    "testmu = lightrelic.mu_table[muindex]\n",
    "\n",
    "z_str_val = '105'\n",
    "mu_str_val = '-1'\n",
    "\n",
    "filestr = 'z_' + z_str_val + '_mu_' + mu_str_val\n",
    "\n",
    "#Print P_g \n",
    "print(\"P_galaxy at: \")\n",
    "print(\"z = \",  lightrelic.z_steps[zindex])\n",
    "print(\"mu = \", lightrelic.mu_table[muindex])\n",
    "\n",
    "linda_k_Pm_relicfast_data = np.loadtxt(\"/Users/nicholasdeporzio/Documents/Academic/Research/Projects/cosmicfish/P_cb_\"+filestr+\"_relicfast_Nick_test.dat\", skiprows=1, usecols=0, delimiter=\"\\t\")\n",
    "linda_Pm_relicfast_data = np.loadtxt(\"/Users/nicholasdeporzio/Documents/Academic/Research/Projects/cosmicfish/P_cb_\"+filestr+\"_relicfast_Nick_test.dat\",  skiprows=1, usecols=2, delimiter=\"\\t\")\n",
    "\n",
    "linda_k_Pm_norelicfast_data = np.loadtxt(\"/Users/nicholasdeporzio/Documents/Academic/Research/Projects/cosmicfish/P_cb_\"+filestr+\"_no_relicfast_Nick_test.dat\",  skiprows=1, usecols=0, delimiter=\"\\t\")\n",
    "linda_Pm_norelicfast_data = np.loadtxt(\"/Users/nicholasdeporzio/Documents/Academic/Research/Projects/cosmicfish/P_cb_\"+filestr+\"_no_relicfast_Nick_test.dat\",  skiprows=1, usecols=2, delimiter=\"\\t\")\n",
    "\n",
    "linda_k_Pg_relicfast_data = np.loadtxt(\"/Users/nicholasdeporzio/Documents/Academic/Research/Projects/cosmicfish/P_galaxy_\"+filestr+\"_relicfast_Nick_test.dat\",  skiprows=1, usecols=0, delimiter=\"\\t\")\n",
    "linda_Pg_relicfast_data = np.loadtxt(\"/Users/nicholasdeporzio/Documents/Academic/Research/Projects/cosmicfish/P_galaxy_\"+filestr+\"_relicfast_Nick_test.dat\",  skiprows=1, usecols=2, delimiter=\"\\t\")\n",
    "\n",
    "linda_k_Pg_norelicfast_data = np.loadtxt(\"/Users/nicholasdeporzio/Documents/Academic/Research/Projects/cosmicfish/P_galaxy_\"+filestr+\"_no_relicfast_Nick_test.dat\",  skiprows=1, usecols=0, delimiter=\"\\t\")\n",
    "linda_Pg_norelicfast_data = np.loadtxt(\"/Users/nicholasdeporzio/Documents/Academic/Research/Projects/cosmicfish/P_galaxy_\"+filestr+\"_no_relicfast_Nick_test.dat\",  skiprows=1, usecols=2, delimiter=\"\\t\")\n",
    "\n",
    "linda_k_rsdfog_relicfast_data = np.loadtxt(\"/Users/nicholasdeporzio/Documents/Academic/Research/Projects/cosmicfish/P_cb_\"+filestr+\"_relicfast_Nick_test.dat\", skiprows=1, usecols=0, delimiter=\"\\t\")\n",
    "linda_rsd_relicfast_data = np.loadtxt(\"/Users/nicholasdeporzio/Documents/Academic/Research/Projects/cosmicfish/P_cb_\"+filestr+\"_relicfast_Nick_test.dat\",  skiprows=1, usecols=1, delimiter=\"\\t\")\n",
    "linda_fog_relicfast_data = np.loadtxt(\"/Users/nicholasdeporzio/Documents/Academic/Research/Projects/cosmicfish/P_cb_\"+filestr+\"_relicfast_Nick_test.dat\",  skiprows=1, usecols=3, delimiter=\"\\t\")\n",
    "\n",
    "linda_k_fg_relicfast_data = np.loadtxt(\"/Users/nicholasdeporzio/Documents/Academic/Research/Projects/cosmicfish/f_and_g_\"+filestr+\"_relicfast_Nick_test.dat\",  skiprows=1, usecols=0, delimiter=\"\\t\")\n",
    "linda_f_relicfast_data = np.loadtxt(\"/Users/nicholasdeporzio/Documents/Academic/Research/Projects/cosmicfish/f_and_g_\"+filestr+\"_relicfast_Nick_test.dat\",  skiprows=1, usecols=1, delimiter=\"\\t\")\n",
    "linda_g_relicfast_data = np.loadtxt(\"/Users/nicholasdeporzio/Documents/Academic/Research/Projects/cosmicfish/f_and_g_\"+filestr+\"_relicfast_Nick_test.dat\",  skiprows=1, usecols=2, delimiter=\"\\t\")\n",
    "\n",
    "#Compare Pm plots\n",
    "sns.set()\n",
    "sns.set_palette(\"Blues_d\", n_colors=3)\n",
    "plt.figure(figsize=(15, 7.5))\n",
    "plt.loglog(np.array(lightrelic.k_table[zindex]), lightrelic.Pm[zindex], label=\"Nick/Fisher\")\n",
    "plt.loglog(linda_k_Pm_relicfast_data, linda_Pm_relicfast_data, label=\"Linda/MCMC w/RelicFast\")\n",
    "plt.loglog(linda_k_Pm_norelicfast_data, linda_Pm_norelicfast_data, label=\"Linda/MCMC wo/RelicFast\")\n",
    "plt.xlabel(r'k [Mpc$^{-1}$]')\n",
    "plt.ylabel(r'$P_m$ [Mpc$^3$]')\n",
    "plt.title(r'Pm, z = {0:.2f}, mu = {1:.2f}'.format(testz, testmu))\n",
    "plt.legend()\n",
    "plt.show()\n",
    "\n",
    "#Compare Pg plots\n",
    "sns.set()\n",
    "sns.set_palette(\"Blues_d\", n_colors=3)\n",
    "plt.figure(figsize=(15, 7.5))\n",
    "plt.loglog(np.array(lightrelic.k_table[zindex]), lightrelic.Pg[zindex, :, muindex], label=\"Nick/Fisher\")\n",
    "plt.loglog(linda_k_Pg_relicfast_data, linda_Pg_relicfast_data, label=\"Linda/MCMC w/RelicFast\")\n",
    "plt.loglog(linda_k_Pg_norelicfast_data, linda_Pg_norelicfast_data, label=\"Linda/MCMC wo/RelicFast\")\n",
    "plt.xlabel(r'k [Mpc$^{-1}$]')\n",
    "plt.ylabel(r'$P_g$ [Mpc$^3$]')\n",
    "plt.title(r'Pg, z = {0:.2f}, mu = {1:.2f}'.format(testz, testmu))\n",
    "plt.legend()\n",
    "plt.show()\n",
    "\n",
    "#Also plot difference between the two \n",
    "k_vals = np.array(lightrelic.k_table[zindex])\n",
    "fisher_data_pm = lightrelic.Pm[zindex]\n",
    "fisher_data_pg = lightrelic.Pg[zindex, :, muindex]\n",
    "mcmc_data_pm = np.interp(k_vals, linda_k_Pm_relicfast_data, linda_Pm_relicfast_data)\n",
    "mcmc_data_pg = np.interp(k_vals, linda_k_Pg_relicfast_data, linda_Pg_relicfast_data)\n",
    "\n",
    "sns.set()\n",
    "sns.set_palette(\"Blues_d\", n_colors=3)\n",
    "plt.figure(figsize=(15, 7.5))\n",
    "plt.semilogx(k_vals, (fisher_data_pm/mcmc_data_pm)-1.0, label=\"Pm\")\n",
    "plt.semilogx(k_vals, (fisher_data_pg/mcmc_data_pg)-1.0, label=\"Pg\")\n",
    "plt.title(r'(Fisher/MCMC) - 1, z = {0:.2f}, mu = {1:.2f}'.format(testz, testmu))\n",
    "plt.xlabel(r'k [Mpc$^{-1}$]')\n",
    "plt.ylabel(r'Ratio')\n",
    "plt.legend()\n",
    "plt.show()\n",
    "\n",
    "\n",
    "#Compare RSD Corrections\n",
    "sns.set()\n",
    "sns.set_palette(\"Blues_d\", n_colors=3)\n",
    "plt.figure(figsize=(15, 7.5))\n",
    "plt.semilogx(np.array(lightrelic.k_table[zindex]), lightrelic.RSD[zindex, :, muindex], label=\"Nick/Fisher\")\n",
    "plt.semilogx(linda_k_rsdfog_relicfast_data, linda_rsd_relicfast_data, label=\"Linda/MCMC w/RelicFast\")\n",
    "plt.title(r'RSD Comparison, z = {0:.2f}, mu = {1:.2f}'.format(testz, testmu))\n",
    "plt.xlabel(r'k [Mpc$^{-1}$]')\n",
    "plt.ylabel(r'RSD')\n",
    "plt.legend()\n",
    "plt.show()\n",
    "\n",
    "#Compare FOG corrections\n",
    "sns.set()\n",
    "sns.set_palette(\"Blues_d\", n_colors=3)\n",
    "plt.figure(figsize=(15, 7.5))\n",
    "plt.semilogx(np.array(lightrelic.k_table[zindex]), lightrelic.FOG[zindex, :, muindex], label=\"Nick/Fisher\")\n",
    "plt.semilogx(linda_k_rsdfog_relicfast_data, linda_fog_relicfast_data, label=\"Linda/MCMC w/RelicFast\")\n",
    "plt.title(r'FOG Comparison, z = {0:.2f}, mu = {1:.2f}'.format(testz, testmu))\n",
    "plt.xlabel(r'k [Mpc$^{-1}$]')\n",
    "plt.ylabel(r'FOG')\n",
    "plt.legend()\n",
    "plt.show()\n",
    "\n",
    "#Compare g growth factor\n",
    "sns.set()\n",
    "sns.set_palette(\"Blues_d\", n_colors=2)\n",
    "plt.figure(figsize=(15, 7.5))\n",
    "plt.semilogx(linda_k_fg_relicfast_data, linda_g_relicfast_data, label=\"MCMC\")\n",
    "plt.semilogx(test_k_table, gfacts, label=\"Fisher\")\n",
    "plt.xlabel(r'k [Mpc$^{-1}$]')\n",
    "plt.ylabel(r'g')\n",
    "plt.title(r'g Comparison, z = {0:.2f}, mu = {1:.2f}'.format(testz, testmu))\n",
    "plt.legend()\n",
    "plt.show()\n",
    "\n",
    "#Compare f growth factor\n",
    "sns.set()\n",
    "sns.set_palette(\"Blues_d\", n_colors=2)\n",
    "plt.figure(figsize=(15, 7.5))\n",
    "plt.semilogx(linda_k_fg_relicfast_data, linda_f_relicfast_data, label=\"MCMC\")\n",
    "plt.semilogx(test_k_table, ffacts, label=\"Fisher\")\n",
    "plt.xlabel(r'k [Mpc$^{-1}$]')\n",
    "plt.ylabel(r'f')\n",
    "plt.title(r'f Comparison, z = {0:.2f}, mu = {1:.2f}'.format(testz, testmu))\n",
    "plt.legend()\n",
    "plt.show()"
   ]
  },
  {
   "cell_type": "code",
   "execution_count": null,
   "metadata": {},
   "outputs": [],
   "source": []
  },
  {
   "cell_type": "code",
   "execution_count": null,
   "metadata": {},
   "outputs": [],
   "source": []
  },
  {
   "cell_type": "code",
   "execution_count": null,
   "metadata": {},
   "outputs": [],
   "source": []
  },
  {
   "cell_type": "code",
   "execution_count": null,
   "metadata": {},
   "outputs": [],
   "source": []
  },
  {
   "cell_type": "code",
   "execution_count": null,
   "metadata": {},
   "outputs": [],
   "source": []
  }
 ],
 "metadata": {
  "kernelspec": {
   "display_name": "py36",
   "language": "python",
   "name": "py36"
  },
  "language_info": {
   "codemirror_mode": {
    "name": "ipython",
    "version": 3
   },
   "file_extension": ".py",
   "mimetype": "text/x-python",
   "name": "python",
   "nbconvert_exporter": "python",
   "pygments_lexer": "ipython3",
   "version": "3.6.8"
  }
 },
 "nbformat": 4,
 "nbformat_minor": 2
}
