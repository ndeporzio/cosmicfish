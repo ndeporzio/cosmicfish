{
 "cells": [
  {
   "cell_type": "markdown",
   "metadata": {
    "heading_collapsed": true
   },
   "source": [
    "# Rename Headers"
   ]
  },
  {
   "cell_type": "code",
   "execution_count": null,
   "metadata": {
    "ExecuteTime": {
     "end_time": "2020-05-14T19:33:06.470341Z",
     "start_time": "2020-05-14T19:33:06.017449Z"
    },
    "hidden": true
   },
   "outputs": [],
   "source": [
    "import os\n",
    "import numpy as np\n",
    "import fileinput\n",
    "\n",
    "# Fine Plot\n",
    "#temps = ['0.79', '0.91', '0.94', '1.08']\n",
    "#masses = np.geomspace(0.01, 10., 21) \n",
    "\n",
    "# Grid Plot\n",
    "temps = [f'{t:.2f}' for t in np.linspace(0.79, 1.5, 12)]\n",
    "masses = np.geomspace(0.01, 10., 10)\n",
    "\n",
    "dtype = 'Grid'\n",
    "\n",
    "start_header = 'A_s\\th\\tn_s\\tomega_b\\tomega_cdm\\ttau_reio\\tM_ncdm\\tg_ncdm'\n",
    "end_header = 'A_s\\th\\tn_s\\tomega_b\\tomega_cdm\\ttau_reio\\tm_ncdm\\tN_ncdm'\n",
    "\n",
    "for tidx, tval in enumerate(temps): \n",
    "    directory = ('/Users/nicholasdeporzio/Documents/Academic/Research/Projects/cosmicfish/cosmicfish/priors/'\n",
    "                 + '2relic_Priors/'+dtype+'/Fisher_T' + tval + 'K/')\n",
    "    for filename in os.listdir(directory):\n",
    "        print(filename)\n",
    "        with fileinput.FileInput(directory+filename, inplace=True) as file:\n",
    "            for line in file:\n",
    "                print(line.replace(start_header, end_header), end='')\n"
   ]
  },
  {
   "cell_type": "markdown",
   "metadata": {
    "heading_collapsed": true
   },
   "source": [
    "# Rename Files"
   ]
  },
  {
   "cell_type": "code",
   "execution_count": null,
   "metadata": {
    "ExecuteTime": {
     "end_time": "2020-05-15T03:47:29.018695Z",
     "start_time": "2020-05-15T03:47:28.836692Z"
    },
    "hidden": true
   },
   "outputs": [],
   "source": [
    "import os\n",
    "import numpy as np\n",
    "import fileinput\n",
    "\n",
    "# Fine Plot\n",
    "#temps = ['0.79', '0.91', '0.94', '1.08']\n",
    "#masses = np.geomspace(0.01, 10., 21) \n",
    "\n",
    "# Grid Plot\n",
    "#temps = [f'{t:.2f}' for t in np.linspace(0.79, 1.5, 12)]\n",
    "temps = ['0.98']\n",
    "masses = np.geomspace(0.01, 10., 10)\n",
    "\n",
    "dtype = 'Grid'\n",
    "\n",
    "for tidx, tval in enumerate(temps): \n",
    "    directory = ('/Users/nicholasdeporzio/Documents/Academic/Research/Projects/cosmicfish/cosmicfish/priors/'\n",
    "                 + '2relic_Priors/'+dtype+'/Fisher_T' + tval + 'K/')\n",
    "    for filename in os.listdir(directory):\n",
    "        print(filename, ' ---> ', filename[0:-9]+'T'+tval+'K.txt')\n",
    "        os.rename(directory+filename, directory+filename[0:-9]+'T'+tval+'K.txt')"
   ]
  },
  {
   "cell_type": "code",
   "execution_count": null,
   "metadata": {
    "ExecuteTime": {
     "end_time": "2020-05-14T19:27:13.581501Z",
     "start_time": "2020-05-14T19:27:13.577363Z"
    },
    "hidden": true
   },
   "outputs": [],
   "source": []
  },
  {
   "cell_type": "code",
   "execution_count": null,
   "metadata": {
    "ExecuteTime": {
     "end_time": "2020-05-14T19:27:20.360800Z",
     "start_time": "2020-05-14T19:27:20.357096Z"
    },
    "hidden": true
   },
   "outputs": [],
   "source": []
  },
  {
   "cell_type": "code",
   "execution_count": null,
   "metadata": {
    "hidden": true
   },
   "outputs": [],
   "source": []
  }
 ],
 "metadata": {
  "kernelspec": {
   "display_name": "3.8.0",
   "language": "python",
   "name": "3.8.0"
  },
  "language_info": {
   "codemirror_mode": {
    "name": "ipython",
    "version": 3
   },
   "file_extension": ".py",
   "mimetype": "text/x-python",
   "name": "python",
   "nbconvert_exporter": "python",
   "pygments_lexer": "ipython3",
   "version": "3.8.0"
  }
 },
 "nbformat": 4,
 "nbformat_minor": 4
}
