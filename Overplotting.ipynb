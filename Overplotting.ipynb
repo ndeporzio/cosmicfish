{
 "cells": [
  {
   "cell_type": "code",
   "execution_count": null,
   "metadata": {},
   "outputs": [],
   "source": [
    "# Checklist...\n",
    "#\n",
    "# Make sure units have been converted in fisher matrix to match units in mcmc chains (use 'Fisher_Units_Converter' notebook.)\n",
    "#\n",
    "# Make sure parameters in fisher matrix match order of parameter in MCMC\n",
    "#\n",
    "# Make sure you burn in the right number of points in the MCMC chains before plotting below \n",
    "#\n",
    "# Choose where to plot Fisher contour centers (where you forecasted [correct choice], or max likelihood of MCMCs)\n",
    "#\n",
    "#"
   ]
  },
  {
   "cell_type": "code",
   "execution_count": 1,
   "metadata": {},
   "outputs": [
    {
     "name": "stdout",
     "output_type": "stream",
     "text": [
      "GetDist Version: 1.0.3, Matplotlib version: 3.1.2\n"
     ]
    }
   ],
   "source": [
    "# Show plots inline, and load main getdist plot module and samples class\n",
    "from __future__ import print_function\n",
    "%matplotlib inline\n",
    "%config InlineBackend.figure_format = 'retina'\n",
    "import sys, os\n",
    "sys.path.insert(0,os.path.realpath(os.path.join(os.getcwd(),'..')))\n",
    "from getdist import plots, MCSamples, loadMCSamples\n",
    "from getdist.gaussian_mixtures import GaussianND\n",
    "import getdist\n",
    "# use this *after* importing getdist if you want to use interactive plots\n",
    "# %matplotlib notebook\n",
    "import matplotlib.pyplot as plt\n",
    "import IPython\n",
    "import numpy as np\n",
    "import pandas as pd\n",
    "print('GetDist Version: %s, Matplotlib version: %s'%(getdist.__version__, plt.matplotlib.__version__))\n",
    "# matplotlib 2 may not work very well without usetex on, can uncomment\n",
    "# plt.rcParams['text.usetex']=True"
   ]
  },
  {
   "cell_type": "code",
   "execution_count": null,
   "metadata": {},
   "outputs": [],
   "source": [
    "# First run montepython to determine the burn-in period \n",
    "\n",
    "#yesstep_burnin = \n",
    "#nostep_burnin = "
   ]
  },
  {
   "cell_type": "code",
   "execution_count": 2,
   "metadata": {},
   "outputs": [],
   "source": [
    "#Import MCMC Chains\n",
    "\n",
    "chains_dir = \"/Users/nicholasdeporzio/Desktop/cfworkspace/chains/\"\n",
    "yesstep_dir = chains_dir + \"chains_yes_relicfast/chains_only/2019-12-04_1000000_\"\n",
    "nostep_dir = chains_dir + \"chains_no_relicfast/chains_only/2019-12-04_1000000_\"\n",
    "\n",
    "samples_yesstep = loadMCSamples(yesstep_dir, settings={'ignore_rows':0.4})\n",
    "samples_nostep = loadMCSamples(nostep_dir, settings={'ignore_rows':0.4})\n"
   ]
  },
  {
   "cell_type": "code",
   "execution_count": null,
   "metadata": {},
   "outputs": [],
   "source": [
    "# Triangle plot, no Fisher Contours\n",
    "g = plots.get_subplot_plotter()\n",
    "g.triangle_plot(\n",
    "    [samples_yesstep, samples_nostep], \n",
    "    filled=True,\n",
    "    legend_labels=['MCMC, DESI, Relic/LCDM Steps ON', 'MCMC, DESI, Relic/LCDM Steps OFF'])\n",
    "plt.savefig(\"/Users/nicholasdeporzio/Desktop/only_mcmc.png\")"
   ]
  },
  {
   "cell_type": "code",
   "execution_count": 3,
   "metadata": {},
   "outputs": [],
   "source": [
    "# Add Fisher Contours\n",
    "# Need to adjust Fisher parameter ordering to MCMC parameter ordering\n",
    "# Fisher parameter ordering: omega_b, omega_cdm, n_s, A_s, tau_reio, h, m_0, sigma_fog, b0_bar, alpha_k2\n",
    "# MCMC parameter ordering: omega_b, omega_cdm, n_s, A_s, h, tau_reio, m_0, sigma_fog, b0_bar, alpha_k2\n",
    "\n",
    "fisher_reorder_index = [0, 1, 2, 3, 5, 4, 6, 7, 8, 9]\n",
    "\n",
    "yesstep_covariance_in = np.loadtxt(\"/Users/nicholasdeporzio/Desktop/desi_postshift_RelicStepsOn/inv_fisher.mat\", skiprows=1)\n",
    "nostep_covariance_in = np.loadtxt(\"/Users/nicholasdeporzio/Desktop/desi_preshift_RelicStepsOff_fidsOnMcmcBestfitNoRelicStep/inv_fisher.mat\", skiprows=1)\n",
    "\n",
    "#yesstep_covariance_in = np.loadtxt(\"/Users/nicholasdeporzio/Desktop/euclid/forecast_step_on/inv_fisher.mat\", skiprows=1)\n",
    "#nostep_covariance_in = np.loadtxt(\"/Users/nicholasdeporzio/Desktop/euclid/forecast_step_off/inv_fisher.mat\", skiprows=1)\n",
    "\n",
    "yesstep_covariance_out = np.zeros((10,10))\n",
    "nostep_covariance_out = np.zeros((10,10))\n",
    "\n",
    "for idx1 in range(10): \n",
    "    for idx2 in range(10): \n",
    "        yesstep_covariance_out[idx1, idx2] = yesstep_covariance_in[fisher_reorder_index[idx1], fisher_reorder_index[idx2]]\n",
    "        nostep_covariance_out[idx1, idx2] = nostep_covariance_in[fisher_reorder_index[idx1], fisher_reorder_index[idx2]]"
   ]
  },
  {
   "cell_type": "code",
   "execution_count": 4,
   "metadata": {},
   "outputs": [],
   "source": [
    "# Specify fisher fiducials. Note omega_b in units of 10^2 and A_s in units of 10^-9. \n",
    "#fisher_fiducials = [2.222, 0.1120, 0.965, 2.22, 0.7, 0.06, 0.03, 250, 1.0, 1.0]\n",
    "\n",
    "# DESI best fits\n",
    "#mcmc_yesstep_bestfit = [2.225896, 0.1127521, 0.9659999, 2.234124, 0.7003915, 0.06018715, 0.0365804, 249.5779, 0.9992126, 1.025932]\n",
    "mcmc_nostep_bestfit = [2.226660, 0.1126965, 0.9662029, 2.231027, 0.7008683, 0.05944537, 0.0364634, 249.6839, 1.004659, 0.9794683]\n",
    "forecast_yesstep_shift = [\n",
    "    (2.226660e-00 + 1.092514e-05), \n",
    "    (1.126965e-01 + 2.240456e-05),\n",
    "    (9.662029e-01 - 5.847986e-05),\n",
    "    (2.231027e-00 - 6.483268e-03),\n",
    "    (7.008683e-01 + 7.350068e-04),\n",
    "    (5.944537e-02 - 1.525700e-03),\n",
    "    (0.0364634 - 0.002999569333),\n",
    "    (2.496839e+02 + 9.316495e-02),\n",
    "    (1.004659e+00 - 4.432180e-03),\n",
    "    (9.794683e-01 + 3.124481e-02)\n",
    "    ]\n",
    "\n",
    "# EUCLID best fits\n",
    "#mcmc_yesstep_bestfit = [2.227193, 1.127846e-01, 9.665308e-01, 2.222313, 7.015911e-01, 5.757700e-02, 0.03387923333, 2.498330e+02, 1.000948e+00, 1.002212e+00]\n",
    "#mcmc_nostep_bestfit = [2.224951, 1.125220e-01, 9.676774e-01, 2.260311, 6.986288e-01, 6.664679e-02, 0.04654263333, 2.493397e+02,  1.004890e+00, 9.424425e-01]\n",
    "\n",
    "\n",
    "paramnames = ['omega_b', 'omega_cdm', 'n_s', 'A_s', 'h', 'tau_reio', 'm_0', 'sigma_fog', 'b0bar', 'alpha_k2']\n",
    "yesstep_gauss = GaussianND(forecast_yesstep_shift, yesstep_covariance_out, names=paramnames)\n",
    "nostep_gauss = GaussianND(mcmc_nostep_bestfit, nostep_covariance_out, names=paramnames)"
   ]
  },
  {
   "cell_type": "code",
   "execution_count": null,
   "metadata": {},
   "outputs": [],
   "source": [
    "h = plots.get_subplot_plotter()\n",
    "h.triangle_plot(\n",
    "    [yesstep_gauss, nostep_gauss], \n",
    "    filled=True,\n",
    "    legend_labels=['Fisher, EUCLID, Relic/LCDM Steps ON', 'Fisher, EUCLID, RELIC/LCDM Steps OFF'])\n",
    "plt.savefig(\"/Users/nicholasdeporzio/Desktop/only_fisher.png\")"
   ]
  },
  {
   "cell_type": "code",
   "execution_count": 5,
   "metadata": {},
   "outputs": [],
   "source": [
    "i = plots.get_subplot_plotter()\n",
    "i.triangle_plot(\n",
    "    [samples_yesstep, samples_nostep, yesstep_gauss, nostep_gauss], \n",
    "    #filled=False,\n",
    "    legend_labels=['MCMC, DESI, Relic/LCDM Steps ON', 'MCMC, DESI, Relic/LCDM Steps OFF', 'Fisher, DESI, Relic/LCDM Steps ON', 'Fisher, DESI, Relic/LCDM Steps OFF'],\n",
    "    line_args=[\n",
    "        {'color':'green'},\n",
    "        {'color':'darkblue'},\n",
    "        {'ls':'--', 'lw':2, 'color':'red'},\n",
    "        {'ls':'--', 'lw':2, 'color':'grey'}], \n",
    "    contour_args=[\n",
    "        {'color':'green', 'filled' : True},\n",
    "        {'color':'darkblue', 'filled' : True},\n",
    "        {'ls':'--', 'lw':2, 'color':'red', 'filled' : False},\n",
    "        {'ls':'--', 'lw':2, 'color':'grey', 'filled' : False}],\n",
    ")\n",
    "plt.savefig(\"/Users/nicholasdeporzio/Desktop/mcmc_and_fisher.png\")"
   ]
  },
  {
   "cell_type": "code",
   "execution_count": null,
   "metadata": {},
   "outputs": [],
   "source": []
  },
  {
   "cell_type": "code",
   "execution_count": null,
   "metadata": {},
   "outputs": [],
   "source": []
  },
  {
   "cell_type": "code",
   "execution_count": null,
   "metadata": {},
   "outputs": [],
   "source": []
  },
  {
   "cell_type": "code",
   "execution_count": null,
   "metadata": {},
   "outputs": [],
   "source": []
  },
  {
   "cell_type": "code",
   "execution_count": null,
   "metadata": {},
   "outputs": [],
   "source": []
  },
  {
   "cell_type": "code",
   "execution_count": null,
   "metadata": {},
   "outputs": [],
   "source": []
  },
  {
   "cell_type": "code",
   "execution_count": null,
   "metadata": {},
   "outputs": [],
   "source": []
  },
  {
   "cell_type": "code",
   "execution_count": null,
   "metadata": {},
   "outputs": [],
   "source": [
    "# Show plots inline, and load main getdist plot module and samples class\n",
    "from __future__ import print_function\n",
    "%matplotlib inline\n",
    "%config InlineBackend.figure_format = 'retina'\n",
    "import sys, os\n",
    "sys.path.insert(0,os.path.realpath(os.path.join(os.getcwd(),'..')))\n",
    "from getdist import plots, MCSamples, loadMCSamples\n",
    "from getdist.gaussian_mixtures import GaussianND\n",
    "import getdist\n",
    "# use this *after* importing getdist if you want to use interactive plots\n",
    "# %matplotlib notebook\n",
    "import matplotlib.pyplot as plt\n",
    "import IPython\n",
    "import numpy as np\n",
    "import pandas as pd\n",
    "print('GetDist Version: %s, Matplotlib version: %s'%(getdist.__version__, plt.matplotlib.__version__))\n",
    "# matplotlib 2 may not work very well without usetex on, can uncomment\n",
    "# plt.rcParams['text.usetex']=True\n",
    "\n",
    "paramnames = ['omega_b', 'omega_cdm', 'n_s', 'A_s', 'tau_reio', 'h', 'm_0', 'sigma_fog', 'b0bar', 'alpha_k2', 'delta_L']\n",
    "fiducials = [2.222, 0.1120, 0.965, 2.22, 0.06, 0.7, 0.03, 250, 1.0, 1.0, 0.6]\n",
    "covmat = np.loadtxt(\"/Users/nicholasdeporzio/Desktop/inv_fisher.mat\", skiprows=1)\n",
    "gauss = GaussianND(fiducials, covmat, names=paramnames)\n",
    "\n",
    "g = plots.get_subplot_plotter()\n",
    "g.triangle_plot(\n",
    "    gauss, \n",
    "    filled=True)\n",
    "plt.savefig(\"/Users/nicholasdeporzio/Desktop/delta_L_forecast.png\")"
   ]
  },
  {
   "cell_type": "code",
   "execution_count": null,
   "metadata": {},
   "outputs": [],
   "source": []
  }
 ],
 "metadata": {
  "kernelspec": {
   "display_name": "3.7.4",
   "language": "python",
   "name": "3.7.4"
  },
  "language_info": {
   "codemirror_mode": {
    "name": "ipython",
    "version": 3
   },
   "file_extension": ".py",
   "mimetype": "text/x-python",
   "name": "python",
   "nbconvert_exporter": "python",
   "pygments_lexer": "ipython3",
   "version": "3.7.4"
  }
 },
 "nbformat": 4,
 "nbformat_minor": 2
}
