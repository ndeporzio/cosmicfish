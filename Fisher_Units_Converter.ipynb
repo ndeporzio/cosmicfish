{
 "cells": [
  {
   "cell_type": "code",
   "execution_count": null,
   "metadata": {},
   "outputs": [],
   "source": [
    "import pandas as pd\n",
    "import numpy as np\n",
    "\n",
    "inmat = pd.read_csv(\"/Users/nicholasdeporzio/Desktop/inv_fullfisher.mat\", header=0, sep=\"\\t\").iloc[0:11, 0:11]\n",
    "inmat"
   ]
  },
  {
   "cell_type": "code",
   "execution_count": null,
   "metadata": {},
   "outputs": [],
   "source": [
    "# Convert M --> m\n",
    "fishmat =  np.linalg.inv(np.array(inmat))\n",
    "fishmat[:, 6] *= 3\n",
    "fishmat[6, :] *= 3\n",
    "\n",
    "# Convert units on omega_b\n",
    "fishmat[:, 0] *= 1.0e-2\n",
    "fishmat[0, :] *= 1.0e-2\n",
    "\n",
    "# Convert units on A_s\n",
    "fishmat[:, 3] *= 1.0e-9\n",
    "fishmat[3, :] *= 1.0e-9\n",
    "\n",
    "# Convert units on sigma_fog\n",
    "fishmat[:, 7] *= 1.0e+3\n",
    "fishmat[7, :] *= 1.0e+3\n"
   ]
  },
  {
   "cell_type": "code",
   "execution_count": null,
   "metadata": {},
   "outputs": [],
   "source": []
  },
  {
   "cell_type": "code",
   "execution_count": null,
   "metadata": {},
   "outputs": [],
   "source": [
    "outmat = pd.DataFrame(np.linalg.inv(fishmat))"
   ]
  },
  {
   "cell_type": "code",
   "execution_count": null,
   "metadata": {},
   "outputs": [],
   "source": [
    "#outmat.columns=['# omega_b', 'omega_cdm', 'n_s', 'A_s', 'tau_reio', 'h', 'm_0','sigma_fog', 'b0bar', 'alpha_k2']\n",
    "outmat.columns=['# omega_b', 'omega_cdm', 'n_s', 'A_s', 'tau_reio', 'h', 'm_0','sigma_fog', 'beta_0', 'beta_1', 'alpha_k2']\n",
    "outmat"
   ]
  },
  {
   "cell_type": "code",
   "execution_count": null,
   "metadata": {},
   "outputs": [],
   "source": [
    "outmat.to_csv(\"/Users/nicholasdeporzio/Desktop/inv_fisher.mat\", index=False, sep='\\t')"
   ]
  },
  {
   "cell_type": "code",
   "execution_count": null,
   "metadata": {},
   "outputs": [],
   "source": []
  },
  {
   "cell_type": "code",
   "execution_count": null,
   "metadata": {},
   "outputs": [],
   "source": []
  },
  {
   "cell_type": "code",
   "execution_count": null,
   "metadata": {},
   "outputs": [],
   "source": []
  }
 ],
 "metadata": {
  "kernelspec": {
   "display_name": "3.7.4",
   "language": "python",
   "name": "3.7.4"
  },
  "language_info": {
   "codemirror_mode": {
    "name": "ipython",
    "version": 3
   },
   "file_extension": ".py",
   "mimetype": "text/x-python",
   "name": "python",
   "nbconvert_exporter": "python",
   "pygments_lexer": "ipython3",
   "version": "3.7.4"
  }
 },
 "nbformat": 4,
 "nbformat_minor": 2
}
